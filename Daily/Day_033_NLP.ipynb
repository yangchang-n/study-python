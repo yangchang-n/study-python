{
  "nbformat": 4,
  "nbformat_minor": 0,
  "metadata": {
    "colab": {
      "name": "Day_033_NLP.ipynb",
      "provenance": [],
      "collapsed_sections": [],
      "authorship_tag": "ABX9TyPmwmxv3acDhOLGvnMXSC/s",
      "include_colab_link": true
    },
    "kernelspec": {
      "name": "python3",
      "display_name": "Python 3"
    },
    "language_info": {
      "name": "python"
    }
  },
  "cells": [
    {
      "cell_type": "markdown",
      "metadata": {
        "id": "view-in-github",
        "colab_type": "text"
      },
      "source": [
        "<a href=\"https://colab.research.google.com/github/yangchangnaihoby/python/blob/master/Day_033_NLP.ipynb\" target=\"_parent\"><img src=\"https://colab.research.google.com/assets/colab-badge.svg\" alt=\"Open In Colab\"/></a>"
      ]
    },
    {
      "cell_type": "code",
      "execution_count": null,
      "metadata": {
        "colab": {
          "base_uri": "https://localhost:8080/"
        },
        "id": "MWeGBpiJr79F",
        "outputId": "d29a1f89-7f5a-4414-befc-5602b982309c"
      },
      "outputs": [
        {
          "output_type": "stream",
          "name": "stdout",
          "text": [
            "                 블랙핑크       마마무      레드벨벳      트와이스      오마이걸\n",
            "날짜                                                           \n",
            "2021-03-01   24.65711  12.61377  10.90964  19.82189  18.85628\n",
            "2021-03-02   23.50553   9.10358   8.90510  16.88929  14.46095\n",
            "2021-03-03   21.23097   8.40441   7.93591  16.52450  13.40593\n",
            "2021-03-04   22.93153   8.18446   9.01775  16.36178  13.74032\n",
            "2021-03-05   22.87252   8.13439  11.05985  16.22051  15.47484\n",
            "2021-03-06   25.17032   8.67085   9.96727  20.13304  16.04170\n",
            "2021-03-07   26.23607   9.26810   9.42724  22.80457  15.24775\n",
            "2021-03-08   23.72905   8.10578   8.12188  18.25724  24.88958\n",
            "2021-03-09   24.09026   7.94842   8.65296  18.59699  22.46839\n",
            "2021-03-10   24.46578   8.12903  10.49299  16.99479  17.16288\n",
            "2021-03-11   25.17032   8.07717   9.69726  16.54238  16.82313\n",
            "2021-03-12   39.91559   8.28102   8.19340  16.15256  15.27099\n",
            "2021-03-13   41.80927   8.68336   8.72449  16.40648  15.60896\n",
            "2021-03-14  100.00000   8.60111   8.43123  17.80126  15.09396\n",
            "2021-03-15   55.22057   8.57428   8.19340  24.51048  14.80786\n",
            "2021-03-16   38.05053   7.94306   7.64980  16.44761  13.97636\n",
            "2021-03-17   37.08670   8.23632   7.95379  17.66714  15.67333\n",
            "2021-03-18   34.86222   8.21129   7.73921  17.20758  14.73096\n",
            "2021-03-19   34.97666  10.65393   7.73742  17.12533  15.24238\n",
            "2021-03-20   72.58373  10.78983   8.09505  17.82629  16.81955\n",
            "2021-03-21   70.04094   8.72628   8.27745  17.45078  16.78021\n",
            "2021-03-22   45.19964   8.18983   7.32256  16.71584  15.49630\n",
            "2021-03-23   37.58382   8.20413   7.29932  16.13647  14.26604\n",
            "2021-03-24   35.41476   7.90014   8.58859  18.01047  14.10153\n",
            "2021-03-25   28.88793   7.24210   7.29932  16.28667  15.14403\n",
            "2021-03-26   30.20760  17.68860   7.69450  17.56164  15.12436\n",
            "2021-03-27   36.40183  13.65627   7.85723  18.00153  14.83468\n",
            "2021-03-28   29.50664  12.61556   9.10537  16.98406  13.97099\n",
            "2021-03-29   24.77513   9.77236  10.12821  17.31309  19.72712\n",
            "2021-03-30   22.62575  17.80662   9.26810  17.07526  15.84500\n",
            "2021-03-31   22.80993  60.60654   8.13082  18.29479  13.49355\n"
          ]
        },
        {
          "output_type": "stream",
          "name": "stderr",
          "text": [
            "/usr/local/lib/python3.7/dist-packages/openpyxl/styles/stylesheet.py:226: UserWarning: Workbook contains no default style, apply openpyxl's default\n",
            "  warn(\"Workbook contains no default style, apply openpyxl's default\")\n"
          ]
        }
      ],
      "source": [
        "import pandas as pd\n",
        "\n",
        "fp = pd.read_excel('datalab.xlsx', header = 6)\n",
        "fp.set_index('날짜', inplace = True)\n",
        "fp_2 = fp[['블랙핑크', '마마무', '레드벨벳', '트와이스', '오마이걸']]\n",
        "print(fp_2.head(31))"
      ]
    },
    {
      "cell_type": "code",
      "source": [
        "print(len(fp_2))"
      ],
      "metadata": {
        "colab": {
          "base_uri": "https://localhost:8080/"
        },
        "id": "kPrfMDmWtzcR",
        "outputId": "e70b04fb-e7d5-44f9-8a4d-7bb1cba9c3ce"
      },
      "execution_count": null,
      "outputs": [
        {
          "output_type": "stream",
          "name": "stdout",
          "text": [
            "365\n"
          ]
        }
      ]
    },
    {
      "cell_type": "code",
      "source": [
        "print('블랙핑크 :', fp_2['블랙핑크'].sum())\n",
        "print('마마무 :', fp_2['마마무'].sum())\n",
        "print('트와이스 :', fp_2['트와이스'].sum())\n",
        "print('레드벨벳 :', fp_2['레드벨벳'].sum())\n",
        "print('오마이걸 :', fp_2['오마이걸'].sum())"
      ],
      "metadata": {
        "colab": {
          "base_uri": "https://localhost:8080/"
        },
        "id": "qe1xCaWZsKbL",
        "outputId": "9571b4da-5f2b-412f-aa18-bb95b318c92c"
      },
      "execution_count": null,
      "outputs": [
        {
          "output_type": "stream",
          "name": "stdout",
          "text": [
            "블랙핑크 : 7807.655119999999\n",
            "마마무 : 3745.9756500000003\n",
            "트와이스 : 7057.13033\n",
            "레드벨벳 : 3990.2687400000004\n",
            "오마이걸 : 6727.13554\n"
          ]
        }
      ]
    },
    {
      "cell_type": "code",
      "source": [
        "import pandas as pd\n",
        "\n",
        "df = pd.read_excel('datalab2.xlsx', header = 6)\n",
        "df.set_index('날짜', inplace = True)\n",
        "df_2 = df[['신혼여행 상품', '태교여행 상품', '신혼여행지 추천', '태교여행지 추천']]\n",
        "print(df_2.head(31))"
      ],
      "metadata": {
        "colab": {
          "base_uri": "https://localhost:8080/"
        },
        "id": "S77v1mD99DB2",
        "outputId": "7d0e95f1-09b7-4ca1-d4e2-9e1c764b6f49"
      },
      "execution_count": 17,
      "outputs": [
        {
          "output_type": "stream",
          "name": "stderr",
          "text": [
            "/usr/local/lib/python3.7/dist-packages/openpyxl/styles/stylesheet.py:226: UserWarning: Workbook contains no default style, apply openpyxl's default\n",
            "  warn(\"Workbook contains no default style, apply openpyxl's default\")\n"
          ]
        },
        {
          "output_type": "stream",
          "name": "stdout",
          "text": [
            "            신혼여행 상품  태교여행 상품  신혼여행지 추천  태교여행지 추천\n",
            "날짜                                              \n",
            "2017-05-01  0.00000        0  16.32145  11.59900\n",
            "2017-05-02  0.00000        0  16.98425   9.94200\n",
            "2017-05-03  0.00000        0  16.40430  11.35045\n",
            "2017-05-04  0.00000        0  18.22700   8.61640\n",
            "2017-05-05  0.00000        0  15.65865  13.50455\n",
            "2017-05-06  0.00000        0  16.40430  10.27340\n",
            "2017-05-07  0.00000        0  18.64125  10.93620\n",
            "2017-05-08  0.00000        0  17.48135  10.19055\n",
            "2017-05-09  0.00000        0  16.57000  14.25020\n",
            "2017-05-10  0.00000        0  16.48715  12.75890\n",
            "2017-05-11  0.00000        0  14.66445  13.17315\n",
            "2017-05-12  0.00000        0  16.07290  12.75890\n",
            "2017-05-13  0.00000        0  13.17315  11.18475\n",
            "2017-05-14  0.00000        0  18.80695  13.42170\n",
            "2017-05-15  0.00000        0  17.31565  12.92460\n",
            "2017-05-16  0.00000        0  18.64125  12.26180\n",
            "2017-05-17  0.41425        0  14.58160  12.01325\n",
            "2017-05-18  0.00000        0  14.58160   9.94200\n",
            "2017-05-19  0.00000        0  16.15575  10.52195\n",
            "2017-05-20  0.00000        0  13.33885  11.01905\n",
            "2017-05-21  0.00000        0  18.97265  12.92460\n",
            "2017-05-22  0.00000        0  18.55840  14.41590\n",
            "2017-05-23  0.00000        0  17.64705  12.59320\n",
            "2017-05-24  0.00000        0  18.88980  12.84175\n",
            "2017-05-25  0.00000        0  21.04391  12.17895\n",
            "2017-05-26  0.00000        0  14.49875  11.01905\n",
            "2017-05-27  0.00000        0  17.48135   9.19635\n",
            "2017-05-28  0.00000        0  17.48135  13.09030\n",
            "2017-05-29  0.00000        0  22.61806  13.83595\n",
            "2017-05-30  0.00000        0  20.79536  11.93040\n",
            "2017-05-31  0.00000        0  19.22120  10.77050\n"
          ]
        }
      ]
    },
    {
      "cell_type": "code",
      "source": [
        "print('신혼여행 상품\\t', df_2['신혼여행 상품'].sum())\n",
        "print('태교여행 상품\\t', df_2['태교여행 상품'].sum())\n",
        "print('신혼여행지 추천\\t', df_2['신혼여행지 추천'].sum())\n",
        "print('태교여행지 추천\\t', df_2['태교여행지 추천'].sum())\n",
        "print('신혼여행 추천 / 상품 비율\\t', df_2['신혼여행지 추천'].sum()/df_2['신혼여행 상품'].sum())\n",
        "print('태교여행 추천 / 상품 비율\\t', df_2['태교여행지 추천'].sum()/df_2['태교여행 상품'].sum())"
      ],
      "metadata": {
        "colab": {
          "base_uri": "https://localhost:8080/"
        },
        "id": "KHiSGBUz9fc3",
        "outputId": "e9112dda-1831-4b28-8a05-e0e82bdd878c"
      },
      "execution_count": 19,
      "outputs": [
        {
          "output_type": "stream",
          "name": "stdout",
          "text": [
            "신혼여행 상품\t 286.82669999999996\n",
            "태교여행 상품\t 0\n",
            "신혼여행지 추천\t 32102.975970000003\n",
            "태교여행지 추천\t 13956.5798\n",
            "신혼여행 추천 / 상품 비율\t 111.9246428941239\n",
            "태교여행 추천 / 상품 비율\t inf\n"
          ]
        },
        {
          "output_type": "stream",
          "name": "stderr",
          "text": [
            "/usr/local/lib/python3.7/dist-packages/ipykernel_launcher.py:6: RuntimeWarning: divide by zero encountered in double_scalars\n",
            "  \n"
          ]
        }
      ]
    }
  ]
}