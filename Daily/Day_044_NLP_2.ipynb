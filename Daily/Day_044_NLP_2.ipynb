{
  "nbformat": 4,
  "nbformat_minor": 0,
  "metadata": {
    "colab": {
      "name": "Day_044_NLP_2.ipynb",
      "provenance": [],
      "collapsed_sections": [],
      "authorship_tag": "ABX9TyPilbcEBOI2ieGTkLzbynGK",
      "include_colab_link": true
    },
    "kernelspec": {
      "name": "python3",
      "display_name": "Python 3"
    },
    "language_info": {
      "name": "python"
    }
  },
  "cells": [
    {
      "cell_type": "markdown",
      "metadata": {
        "id": "view-in-github",
        "colab_type": "text"
      },
      "source": [
        "<a href=\"https://colab.research.google.com/github/yangchangnaihoby/AI_7th/blob/master/Day_044_NLP_2.ipynb\" target=\"_parent\"><img src=\"https://colab.research.google.com/assets/colab-badge.svg\" alt=\"Open In Colab\"/></a>"
      ]
    },
    {
      "cell_type": "code",
      "source": [
        "!pip install konlpy\n",
        "\n",
        "import pandas as pd\n",
        "import numpy as np\n",
        "import matplotlib.pyplot as plt\n",
        "import re\n",
        "import urllib.request\n",
        "from konlpy.tag import Okt\n",
        "from tqdm import tqdm\n",
        "from tensorflow.keras.preprocessing.text import Tokenizer\n",
        "from tensorflow.keras.preprocessing.sequence import pad_sequences"
      ],
      "metadata": {
        "colab": {
          "base_uri": "https://localhost:8080/"
        },
        "id": "xUeBZ4Rih0J4",
        "outputId": "abddf58f-d691-4608-f804-f5a95371ffa1"
      },
      "execution_count": 14,
      "outputs": [
        {
          "output_type": "stream",
          "name": "stdout",
          "text": [
            "Looking in indexes: https://pypi.org/simple, https://us-python.pkg.dev/colab-wheels/public/simple/\n",
            "Collecting konlpy\n",
            "  Downloading konlpy-0.6.0-py2.py3-none-any.whl (19.4 MB)\n",
            "\u001b[K     |████████████████████████████████| 19.4 MB 1.4 MB/s \n",
            "\u001b[?25hCollecting JPype1>=0.7.0\n",
            "  Downloading JPype1-1.4.0-cp37-cp37m-manylinux_2_5_x86_64.manylinux1_x86_64.whl (453 kB)\n",
            "\u001b[K     |████████████████████████████████| 453 kB 47.8 MB/s \n",
            "\u001b[?25hRequirement already satisfied: numpy>=1.6 in /usr/local/lib/python3.7/dist-packages (from konlpy) (1.21.6)\n",
            "Requirement already satisfied: lxml>=4.1.0 in /usr/local/lib/python3.7/dist-packages (from konlpy) (4.2.6)\n",
            "Requirement already satisfied: typing-extensions in /usr/local/lib/python3.7/dist-packages (from JPype1>=0.7.0->konlpy) (4.1.1)\n",
            "Installing collected packages: JPype1, konlpy\n",
            "Successfully installed JPype1-1.4.0 konlpy-0.6.0\n"
          ]
        }
      ]
    },
    {
      "cell_type": "code",
      "source": [
        "data_ori = pd.read_csv('ChatbotData.csv')\n",
        "mask = data_ori[data_ori['label'] == 0].index\n",
        "data = data_ori.drop(mask)\n",
        "data.loc[data['label'] == 1, 'label'] = 0\n",
        "data.loc[data['label'] == 2, 'label'] = 1"
      ],
      "metadata": {
        "id": "F_Yy6s1_h1RO"
      },
      "execution_count": 56,
      "outputs": []
    },
    {
      "cell_type": "code",
      "source": [
        "data.head()"
      ],
      "metadata": {
        "colab": {
          "base_uri": "https://localhost:8080/",
          "height": 206
        },
        "id": "BdsEJtkZi4G2",
        "outputId": "29d85fa4-1c6e-431e-e81d-4c9ff5ba5c9e"
      },
      "execution_count": 57,
      "outputs": [
        {
          "output_type": "execute_result",
          "data": {
            "text/plain": [
              "                         Q                          A  label\n",
              "5290     1000일 만난 여자친구와 이별         더 오래 만날 사람 만날 거예요.      0\n",
              "5291       10년 연애. 헤어졌습니다.              더 공허함이 크시겠네요.      0\n",
              "5292  10년 연애사 되돌아보니 다 부질없네           더 좋은 사람 만나실 거예요.      0\n",
              "5293              10년 연예의끝               더 마음이 허하겠어요.      0\n",
              "5294           10년만나다 헤어지네  충분히 슬퍼하고 충분히 아파하다가 이겨내세요.      0"
            ],
            "text/html": [
              "\n",
              "  <div id=\"df-3fa7d0f3-06e0-47bc-a04a-a41d00eb99e9\">\n",
              "    <div class=\"colab-df-container\">\n",
              "      <div>\n",
              "<style scoped>\n",
              "    .dataframe tbody tr th:only-of-type {\n",
              "        vertical-align: middle;\n",
              "    }\n",
              "\n",
              "    .dataframe tbody tr th {\n",
              "        vertical-align: top;\n",
              "    }\n",
              "\n",
              "    .dataframe thead th {\n",
              "        text-align: right;\n",
              "    }\n",
              "</style>\n",
              "<table border=\"1\" class=\"dataframe\">\n",
              "  <thead>\n",
              "    <tr style=\"text-align: right;\">\n",
              "      <th></th>\n",
              "      <th>Q</th>\n",
              "      <th>A</th>\n",
              "      <th>label</th>\n",
              "    </tr>\n",
              "  </thead>\n",
              "  <tbody>\n",
              "    <tr>\n",
              "      <th>5290</th>\n",
              "      <td>1000일 만난 여자친구와 이별</td>\n",
              "      <td>더 오래 만날 사람 만날 거예요.</td>\n",
              "      <td>0</td>\n",
              "    </tr>\n",
              "    <tr>\n",
              "      <th>5291</th>\n",
              "      <td>10년 연애. 헤어졌습니다.</td>\n",
              "      <td>더 공허함이 크시겠네요.</td>\n",
              "      <td>0</td>\n",
              "    </tr>\n",
              "    <tr>\n",
              "      <th>5292</th>\n",
              "      <td>10년 연애사 되돌아보니 다 부질없네</td>\n",
              "      <td>더 좋은 사람 만나실 거예요.</td>\n",
              "      <td>0</td>\n",
              "    </tr>\n",
              "    <tr>\n",
              "      <th>5293</th>\n",
              "      <td>10년 연예의끝</td>\n",
              "      <td>더 마음이 허하겠어요.</td>\n",
              "      <td>0</td>\n",
              "    </tr>\n",
              "    <tr>\n",
              "      <th>5294</th>\n",
              "      <td>10년만나다 헤어지네</td>\n",
              "      <td>충분히 슬퍼하고 충분히 아파하다가 이겨내세요.</td>\n",
              "      <td>0</td>\n",
              "    </tr>\n",
              "  </tbody>\n",
              "</table>\n",
              "</div>\n",
              "      <button class=\"colab-df-convert\" onclick=\"convertToInteractive('df-3fa7d0f3-06e0-47bc-a04a-a41d00eb99e9')\"\n",
              "              title=\"Convert this dataframe to an interactive table.\"\n",
              "              style=\"display:none;\">\n",
              "        \n",
              "  <svg xmlns=\"http://www.w3.org/2000/svg\" height=\"24px\"viewBox=\"0 0 24 24\"\n",
              "       width=\"24px\">\n",
              "    <path d=\"M0 0h24v24H0V0z\" fill=\"none\"/>\n",
              "    <path d=\"M18.56 5.44l.94 2.06.94-2.06 2.06-.94-2.06-.94-.94-2.06-.94 2.06-2.06.94zm-11 1L8.5 8.5l.94-2.06 2.06-.94-2.06-.94L8.5 2.5l-.94 2.06-2.06.94zm10 10l.94 2.06.94-2.06 2.06-.94-2.06-.94-.94-2.06-.94 2.06-2.06.94z\"/><path d=\"M17.41 7.96l-1.37-1.37c-.4-.4-.92-.59-1.43-.59-.52 0-1.04.2-1.43.59L10.3 9.45l-7.72 7.72c-.78.78-.78 2.05 0 2.83L4 21.41c.39.39.9.59 1.41.59.51 0 1.02-.2 1.41-.59l7.78-7.78 2.81-2.81c.8-.78.8-2.07 0-2.86zM5.41 20L4 18.59l7.72-7.72 1.47 1.35L5.41 20z\"/>\n",
              "  </svg>\n",
              "      </button>\n",
              "      \n",
              "  <style>\n",
              "    .colab-df-container {\n",
              "      display:flex;\n",
              "      flex-wrap:wrap;\n",
              "      gap: 12px;\n",
              "    }\n",
              "\n",
              "    .colab-df-convert {\n",
              "      background-color: #E8F0FE;\n",
              "      border: none;\n",
              "      border-radius: 50%;\n",
              "      cursor: pointer;\n",
              "      display: none;\n",
              "      fill: #1967D2;\n",
              "      height: 32px;\n",
              "      padding: 0 0 0 0;\n",
              "      width: 32px;\n",
              "    }\n",
              "\n",
              "    .colab-df-convert:hover {\n",
              "      background-color: #E2EBFA;\n",
              "      box-shadow: 0px 1px 2px rgba(60, 64, 67, 0.3), 0px 1px 3px 1px rgba(60, 64, 67, 0.15);\n",
              "      fill: #174EA6;\n",
              "    }\n",
              "\n",
              "    [theme=dark] .colab-df-convert {\n",
              "      background-color: #3B4455;\n",
              "      fill: #D2E3FC;\n",
              "    }\n",
              "\n",
              "    [theme=dark] .colab-df-convert:hover {\n",
              "      background-color: #434B5C;\n",
              "      box-shadow: 0px 1px 3px 1px rgba(0, 0, 0, 0.15);\n",
              "      filter: drop-shadow(0px 1px 2px rgba(0, 0, 0, 0.3));\n",
              "      fill: #FFFFFF;\n",
              "    }\n",
              "  </style>\n",
              "\n",
              "      <script>\n",
              "        const buttonEl =\n",
              "          document.querySelector('#df-3fa7d0f3-06e0-47bc-a04a-a41d00eb99e9 button.colab-df-convert');\n",
              "        buttonEl.style.display =\n",
              "          google.colab.kernel.accessAllowed ? 'block' : 'none';\n",
              "\n",
              "        async function convertToInteractive(key) {\n",
              "          const element = document.querySelector('#df-3fa7d0f3-06e0-47bc-a04a-a41d00eb99e9');\n",
              "          const dataTable =\n",
              "            await google.colab.kernel.invokeFunction('convertToInteractive',\n",
              "                                                     [key], {});\n",
              "          if (!dataTable) return;\n",
              "\n",
              "          const docLinkHtml = 'Like what you see? Visit the ' +\n",
              "            '<a target=\"_blank\" href=https://colab.research.google.com/notebooks/data_table.ipynb>data table notebook</a>'\n",
              "            + ' to learn more about interactive tables.';\n",
              "          element.innerHTML = '';\n",
              "          dataTable['output_type'] = 'display_data';\n",
              "          await google.colab.output.renderOutput(dataTable, element);\n",
              "          const docLink = document.createElement('div');\n",
              "          docLink.innerHTML = docLinkHtml;\n",
              "          element.appendChild(docLink);\n",
              "        }\n",
              "      </script>\n",
              "    </div>\n",
              "  </div>\n",
              "  "
            ]
          },
          "metadata": {},
          "execution_count": 57
        }
      ]
    },
    {
      "cell_type": "code",
      "source": [
        "data['A'].nunique(), data['label'].nunique()"
      ],
      "metadata": {
        "colab": {
          "base_uri": "https://localhost:8080/"
        },
        "id": "VPxPfnH2i9WG",
        "outputId": "5fbf10cd-ade2-4d54-b9e3-3f4f0794a13a"
      },
      "execution_count": 58,
      "outputs": [
        {
          "output_type": "execute_result",
          "data": {
            "text/plain": [
              "(5557, 2)"
            ]
          },
          "metadata": {},
          "execution_count": 58
        }
      ]
    },
    {
      "cell_type": "code",
      "source": [
        "len(data)"
      ],
      "metadata": {
        "colab": {
          "base_uri": "https://localhost:8080/"
        },
        "id": "nLpdYUlPjSyf",
        "outputId": "9187fed1-ebec-4ca7-e2b7-c1a654ab9211"
      },
      "execution_count": 59,
      "outputs": [
        {
          "output_type": "execute_result",
          "data": {
            "text/plain": [
              "6533"
            ]
          },
          "metadata": {},
          "execution_count": 59
        }
      ]
    },
    {
      "cell_type": "code",
      "source": [
        "data.drop_duplicates(subset = ['A'], inplace = True)"
      ],
      "metadata": {
        "id": "0zXEQj9ijU-s"
      },
      "execution_count": 60,
      "outputs": []
    },
    {
      "cell_type": "code",
      "source": [
        "len(data)"
      ],
      "metadata": {
        "colab": {
          "base_uri": "https://localhost:8080/"
        },
        "id": "vjdLTrFujZut",
        "outputId": "e54c201e-f348-40e1-a3b3-7ae259083212"
      },
      "execution_count": 61,
      "outputs": [
        {
          "output_type": "execute_result",
          "data": {
            "text/plain": [
              "5557"
            ]
          },
          "metadata": {},
          "execution_count": 61
        }
      ]
    },
    {
      "cell_type": "code",
      "source": [
        "data['label'].value_counts().plot(kind = 'bar')"
      ],
      "metadata": {
        "colab": {
          "base_uri": "https://localhost:8080/",
          "height": 281
        },
        "id": "mFe93slujaZV",
        "outputId": "15b7632b-c8f8-42b2-89c8-023d6b475c12"
      },
      "execution_count": 62,
      "outputs": [
        {
          "output_type": "execute_result",
          "data": {
            "text/plain": [
              "<matplotlib.axes._subplots.AxesSubplot at 0x7f669f6fba50>"
            ]
          },
          "metadata": {},
          "execution_count": 62
        },
        {
          "output_type": "display_data",
          "data": {
            "text/plain": [
              "<Figure size 432x288 with 1 Axes>"
            ],
            "image/png": "[encoded data removed]"
          },
          "metadata": {
            "needs_background": "light"
          }
        }
      ]
    },
    {
      "cell_type": "code",
      "source": [
        "print(data.groupby('label').size().reset_index(name = 'count'))"
      ],
      "metadata": {
        "colab": {
          "base_uri": "https://localhost:8080/"
        },
        "id": "Bhho41v_jebV",
        "outputId": "86bff52f-4dc7-498d-f77e-7d36dfba4ab0"
      },
      "execution_count": 63,
      "outputs": [
        {
          "output_type": "stream",
          "name": "stdout",
          "text": [
            "   label  count\n",
            "0      0   3023\n",
            "1      1   2534\n"
          ]
        }
      ]
    },
    {
      "cell_type": "code",
      "source": [
        "print(data.isnull().values.any())"
      ],
      "metadata": {
        "colab": {
          "base_uri": "https://localhost:8080/"
        },
        "id": "UWXypJCFjiwD",
        "outputId": "49888f94-333e-4a36-f564-2d091d70244e"
      },
      "execution_count": 64,
      "outputs": [
        {
          "output_type": "stream",
          "name": "stdout",
          "text": [
            "False\n"
          ]
        }
      ]
    },
    {
      "cell_type": "code",
      "source": [
        "data['A'] = data['A'].str.replace(\"[^ㄱ-ㅎㅏ-ㅣ가-힣 ]\",\"\")\n",
        "data[ : 5]"
      ],
      "metadata": {
        "colab": {
          "base_uri": "https://localhost:8080/",
          "height": 263
        },
        "id": "oqUmh-JWjmHj",
        "outputId": "f4404677-e6e8-49c0-dda0-8952fb595060"
      },
      "execution_count": 65,
      "outputs": [
        {
          "output_type": "stream",
          "name": "stderr",
          "text": [
            "/usr/local/lib/python3.7/dist-packages/ipykernel_launcher.py:1: FutureWarning: The default value of regex will change from True to False in a future version.\n",
            "  \"\"\"Entry point for launching an IPython kernel.\n"
          ]
        },
        {
          "output_type": "execute_result",
          "data": {
            "text/plain": [
              "                         Q                         A  label\n",
              "5290     1000일 만난 여자친구와 이별         더 오래 만날 사람 만날 거예요      0\n",
              "5291       10년 연애. 헤어졌습니다.              더 공허함이 크시겠네요      0\n",
              "5292  10년 연애사 되돌아보니 다 부질없네           더 좋은 사람 만나실 거예요      0\n",
              "5293              10년 연예의끝               더 마음이 허하겠어요      0\n",
              "5294           10년만나다 헤어지네  충분히 슬퍼하고 충분히 아파하다가 이겨내세요      0"
            ],
            "text/html": [
              "\n",
              "  <div id=\"df-cbcf9800-c971-4eab-ab5f-73b5971a9cc9\">\n",
              "    <div class=\"colab-df-container\">\n",
              "      <div>\n",
              "<style scoped>\n",
              "    .dataframe tbody tr th:only-of-type {\n",
              "        vertical-align: middle;\n",
              "    }\n",
              "\n",
              "    .dataframe tbody tr th {\n",
              "        vertical-align: top;\n",
              "    }\n",
              "\n",
              "    .dataframe thead th {\n",
              "        text-align: right;\n",
              "    }\n",
              "</style>\n",
              "<table border=\"1\" class=\"dataframe\">\n",
              "  <thead>\n",
              "    <tr style=\"text-align: right;\">\n",
              "      <th></th>\n",
              "      <th>Q</th>\n",
              "      <th>A</th>\n",
              "      <th>label</th>\n",
              "    </tr>\n",
              "  </thead>\n",
              "  <tbody>\n",
              "    <tr>\n",
              "      <th>5290</th>\n",
              "      <td>1000일 만난 여자친구와 이별</td>\n",
              "      <td>더 오래 만날 사람 만날 거예요</td>\n",
              "      <td>0</td>\n",
              "    </tr>\n",
              "    <tr>\n",
              "      <th>5291</th>\n",
              "      <td>10년 연애. 헤어졌습니다.</td>\n",
              "      <td>더 공허함이 크시겠네요</td>\n",
              "      <td>0</td>\n",
              "    </tr>\n",
              "    <tr>\n",
              "      <th>5292</th>\n",
              "      <td>10년 연애사 되돌아보니 다 부질없네</td>\n",
              "      <td>더 좋은 사람 만나실 거예요</td>\n",
              "      <td>0</td>\n",
              "    </tr>\n",
              "    <tr>\n",
              "      <th>5293</th>\n",
              "      <td>10년 연예의끝</td>\n",
              "      <td>더 마음이 허하겠어요</td>\n",
              "      <td>0</td>\n",
              "    </tr>\n",
              "    <tr>\n",
              "      <th>5294</th>\n",
              "      <td>10년만나다 헤어지네</td>\n",
              "      <td>충분히 슬퍼하고 충분히 아파하다가 이겨내세요</td>\n",
              "      <td>0</td>\n",
              "    </tr>\n",
              "  </tbody>\n",
              "</table>\n",
              "</div>\n",
              "      <button class=\"colab-df-convert\" onclick=\"convertToInteractive('df-cbcf9800-c971-4eab-ab5f-73b5971a9cc9')\"\n",
              "              title=\"Convert this dataframe to an interactive table.\"\n",
              "              style=\"display:none;\">\n",
              "        \n",
              "  <svg xmlns=\"http://www.w3.org/2000/svg\" height=\"24px\"viewBox=\"0 0 24 24\"\n",
              "       width=\"24px\">\n",
              "    <path d=\"M0 0h24v24H0V0z\" fill=\"none\"/>\n",
              "    <path d=\"M18.56 5.44l.94 2.06.94-2.06 2.06-.94-2.06-.94-.94-2.06-.94 2.06-2.06.94zm-11 1L8.5 8.5l.94-2.06 2.06-.94-2.06-.94L8.5 2.5l-.94 2.06-2.06.94zm10 10l.94 2.06.94-2.06 2.06-.94-2.06-.94-.94-2.06-.94 2.06-2.06.94z\"/><path d=\"M17.41 7.96l-1.37-1.37c-.4-.4-.92-.59-1.43-.59-.52 0-1.04.2-1.43.59L10.3 9.45l-7.72 7.72c-.78.78-.78 2.05 0 2.83L4 21.41c.39.39.9.59 1.41.59.51 0 1.02-.2 1.41-.59l7.78-7.78 2.81-2.81c.8-.78.8-2.07 0-2.86zM5.41 20L4 18.59l7.72-7.72 1.47 1.35L5.41 20z\"/>\n",
              "  </svg>\n",
              "      </button>\n",
              "      \n",
              "  <style>\n",
              "    .colab-df-container {\n",
              "      display:flex;\n",
              "      flex-wrap:wrap;\n",
              "      gap: 12px;\n",
              "    }\n",
              "\n",
              "    .colab-df-convert {\n",
              "      background-color: #E8F0FE;\n",
              "      border: none;\n",
              "      border-radius: 50%;\n",
              "      cursor: pointer;\n",
              "      display: none;\n",
              "      fill: #1967D2;\n",
              "      height: 32px;\n",
              "      padding: 0 0 0 0;\n",
              "      width: 32px;\n",
              "    }\n",
              "\n",
              "    .colab-df-convert:hover {\n",
              "      background-color: #E2EBFA;\n",
              "      box-shadow: 0px 1px 2px rgba(60, 64, 67, 0.3), 0px 1px 3px 1px rgba(60, 64, 67, 0.15);\n",
              "      fill: #174EA6;\n",
              "    }\n",
              "\n",
              "    [theme=dark] .colab-df-convert {\n",
              "      background-color: #3B4455;\n",
              "      fill: #D2E3FC;\n",
              "    }\n",
              "\n",
              "    [theme=dark] .colab-df-convert:hover {\n",
              "      background-color: #434B5C;\n",
              "      box-shadow: 0px 1px 3px 1px rgba(0, 0, 0, 0.15);\n",
              "      filter: drop-shadow(0px 1px 2px rgba(0, 0, 0, 0.3));\n",
              "      fill: #FFFFFF;\n",
              "    }\n",
              "  </style>\n",
              "\n",
              "      <script>\n",
              "        const buttonEl =\n",
              "          document.querySelector('#df-cbcf9800-c971-4eab-ab5f-73b5971a9cc9 button.colab-df-convert');\n",
              "        buttonEl.style.display =\n",
              "          google.colab.kernel.accessAllowed ? 'block' : 'none';\n",
              "\n",
              "        async function convertToInteractive(key) {\n",
              "          const element = document.querySelector('#df-cbcf9800-c971-4eab-ab5f-73b5971a9cc9');\n",
              "          const dataTable =\n",
              "            await google.colab.kernel.invokeFunction('convertToInteractive',\n",
              "                                                     [key], {});\n",
              "          if (!dataTable) return;\n",
              "\n",
              "          const docLinkHtml = 'Like what you see? Visit the ' +\n",
              "            '<a target=\"_blank\" href=https://colab.research.google.com/notebooks/data_table.ipynb>data table notebook</a>'\n",
              "            + ' to learn more about interactive tables.';\n",
              "          element.innerHTML = '';\n",
              "          dataTable['output_type'] = 'display_data';\n",
              "          await google.colab.output.renderOutput(dataTable, element);\n",
              "          const docLink = document.createElement('div');\n",
              "          docLink.innerHTML = docLinkHtml;\n",
              "          element.appendChild(docLink);\n",
              "        }\n",
              "      </script>\n",
              "    </div>\n",
              "  </div>\n",
              "  "
            ]
          },
          "metadata": {},
          "execution_count": 65
        }
      ]
    },
    {
      "cell_type": "code",
      "source": [
        "data['A'] = data['A'].str.replace('^ +', \"\")\n",
        "data['A'].replace('', np.nan, inplace = True)\n",
        "print(data.isnull().sum())"
      ],
      "metadata": {
        "colab": {
          "base_uri": "https://localhost:8080/"
        },
        "id": "iUmORitWjy4i",
        "outputId": "b77248e6-5b7a-45fd-f359-f675e3f61266"
      },
      "execution_count": 66,
      "outputs": [
        {
          "output_type": "stream",
          "name": "stdout",
          "text": [
            "Q        0\n",
            "A        0\n",
            "label    0\n",
            "dtype: int64\n"
          ]
        },
        {
          "output_type": "stream",
          "name": "stderr",
          "text": [
            "/usr/local/lib/python3.7/dist-packages/ipykernel_launcher.py:1: FutureWarning: The default value of regex will change from True to False in a future version.\n",
            "  \"\"\"Entry point for launching an IPython kernel.\n"
          ]
        }
      ]
    },
    {
      "cell_type": "code",
      "source": [
        "stopwords = ['의', '가', '이', '은', '들', '는', '좀', '잘', '걍',\n",
        "             '과', '도', '를', '으로', '자', '에', '와', '한', '하다']"
      ],
      "metadata": {
        "id": "9rSGX-Xmj-0X"
      },
      "execution_count": 67,
      "outputs": []
    },
    {
      "cell_type": "code",
      "source": [
        "okt = Okt()\n",
        "okt.morphs('와 이런 것도 영화라고 차라리 뮤직비디오를 만드는 게 나을 뻔', stem = True)"
      ],
      "metadata": {
        "colab": {
          "base_uri": "https://localhost:8080/"
        },
        "id": "kTBImDbMkL5f",
        "outputId": "907c1eeb-9b63-4a8f-8744-51a78b344f10"
      },
      "execution_count": 68,
      "outputs": [
        {
          "output_type": "execute_result",
          "data": {
            "text/plain": [
              "['오다', '이렇다', '것', '도', '영화', '라고', '차라리', '뮤직비디오', '를', '만들다', '게', '나다', '뻔']"
            ]
          },
          "metadata": {},
          "execution_count": 68
        }
      ]
    },
    {
      "cell_type": "code",
      "source": [
        "X_train = []\n",
        "\n",
        "for sentence in tqdm(data['A']) :\n",
        "    tokenized_sentence = okt.morphs(sentence, stem = True)\n",
        "    stopwords_removed_sentence = [word for word in tokenized_sentence if not word in stopwords]\n",
        "    X_train.append(stopwords_removed_sentence)"
      ],
      "metadata": {
        "colab": {
          "base_uri": "https://localhost:8080/"
        },
        "id": "9mUAGDEDkP_-",
        "outputId": "9699d88d-19e7-41b7-f7d6-88ba99e07004"
      },
      "execution_count": 69,
      "outputs": [
        {
          "output_type": "stream",
          "name": "stderr",
          "text": [
            "100%|██████████| 5557/5557 [00:09<00:00, 596.21it/s]\n"
          ]
        }
      ]
    },
    {
      "cell_type": "code",
      "source": [
        "print(X_train[ : 3])"
      ],
      "metadata": {
        "colab": {
          "base_uri": "https://localhost:8080/"
        },
        "id": "RJq8W_9xkgnG",
        "outputId": "90be3038-c416-4572-8862-910d5cdcb5a4"
      },
      "execution_count": 70,
      "outputs": [
        {
          "output_type": "stream",
          "name": "stdout",
          "text": [
            "[['더', '오래', '만날', '사람', '만날', '거', '예요'], ['더', '공허하다', '크다'], ['더', '좋다', '사람', '만나다', '거', '예요']]\n"
          ]
        }
      ]
    },
    {
      "cell_type": "code",
      "source": [
        "tokenizer = Tokenizer()\n",
        "tokenizer.fit_on_texts(X_train)"
      ],
      "metadata": {
        "id": "Brf_p451kptx"
      },
      "execution_count": 71,
      "outputs": []
    },
    {
      "cell_type": "code",
      "source": [
        "print(tokenizer.word_index)"
      ],
      "metadata": {
        "colab": {
          "base_uri": "https://localhost:8080/"
        },
        "id": "A6zD_S3dksqN",
        "outputId": "5973545f-9592-490e-99a3-21375ecf2949"
      },
      "execution_count": 72,
      "outputs": [
        {
          "output_type": "stream",
          "name": "stdout",
          "text": [
            "{'을': 1, '거': 2, '보다': 3, '있다': 4, '예요': 5, '좋다': 6, '요': 7, '사랑': 8, '해보다': 9, '않다': 10, '생각': 11, '마음': 12, '사람': 13, '것': 14, '없다': 15, '수': 16, '같다': 17, '더': 18, '되다': 19, '힘들다': 20, '그렇다': 21, '바라다': 22, '시간': 23, '아니다': 24, '말다': 25, '연락': 26, '말': 27, '게': 28, '이다': 29, '자다': 30, '이별': 31, '많이': 32, '건': 33, '당신': 34, '이에요': 35, '모르다': 36, '자신': 37, '좋아하다': 38, '그': 39, '어떻다': 40, '가보다': 41, '해주다': 42, '일': 43, '때': 44, '안': 45, '수도': 46, '죠': 47, '만나다': 48, '에게': 49, '정리': 50, '필요하다': 51, '많다': 52, '저': 53, '만': 54, '적': 55, '돼다': 56, '못': 57, '하고': 58, '오다': 59, '후회': 60, '중요하다': 61, '괜찮다': 62, '해': 63, '서로': 64, '이제': 65, '잊다': 66, '인': 67, '걸': 68, '힘드다': 69, '에서': 70, '아프다': 71, '다른': 72, '쉬다': 73, '만큼': 74, '나': 75, '물어보다': 76, '시작': 77, '일이': 78, '로': 79, '제': 80, '감정': 81, '싶다': 82, '받다': 83, '먼저': 84, '네': 85, '표현': 86, '기억': 87, '미련': 88, '정말': 89, '기다리다': 90, '행복하다': 91, '지금': 92, '전': 93, '충분하다': 94, '연애': 95, '알다': 96, '헤어지다': 97, '가다': 98, '이네': 99, '대화': 100, '다시': 101, '끝': 102, '이야기': 103, '들다': 104, '분': 105, '알': 106, '되어다': 107, '사귀다': 108, '젠': 109, '믿다': 110, '남다': 111, '너무': 112, '상처': 113, '같이': 114, '혼자': 115, '조금': 116, '크다': 117, '만들다': 118, '그렇게': 119, '직접': 120, '다르다': 121, '함께': 122, '고': 123, '에는': 124, '내': 125, '썸': 126, '신경': 127, '맘': 128, '인가': 129, '고백': 130, '아직': 131, '나다': 132, '받아들이다': 133, '새롭다': 134, '다': 135, '선택': 136, '결정': 137, '라': 138, '기분': 139, '준비': 140, '누구': 141, '짝사랑': 142, '추억': 143, '편하다': 144, '가능하다': 145, '걱정': 146, '지': 147, '친구': 148, '하나': 149, '고민': 150, '먹다': 151, '만날': 152, '항상': 153, '인연': 154, '뿐': 155, '확실하다': 156, '기도': 157, '보내다': 158, '주다': 159, '버리다': 160, '변화': 161, '달라지다': 162, '이해': 163, '겠다': 164, '말고': 165, '결혼': 166, '처럼': 167, '무슨': 168, '보고': 169, '천천히': 170, '드리다': 171, '도움': 172, '언': 173, '상황': 174, '후': 175, '든': 176, '바쁘다': 177, '데이트': 178, '또': 179, '흐르다': 180, '날': 181, '상대방': 182, '간': 183, '하': 184, '방법': 185, '순간': 186, '따르다': 187, '슬프다': 188, '현실': 189, '까지': 190, '쓰다': 191, '찾아보다': 192, '지내다': 193, '그게': 194, '앞': 195, '생기다': 196, '관심': 197, '마': 198, '복잡하다': 199, '이유': 200, '나쁘다': 201, '살다': 202, '노력': 203, '맞다': 204, '줄다': 205, '솔직하다': 206, '진심': 207, '나누다': 208, '상대': 209, '에요': 210, '문제': 211, '인지': 212, '내다': 213, '랑': 214, '놓다': 215, '두다': 216, '늦다': 217, '편이': 218, '이기다': 219, '나이': 220, '차다': 221, '지치다': 222, '덜': 223, '모두': 224, '부담': 225, '계속': 226, '정도': 227, '라면': 228, '마다': 229, '어렵다': 230, '힘내다': 231, '생각나다': 232, '살': 233, '하루': 234, '꼭': 235, '변하다': 236, '중': 237, '면': 238, '꿈': 239, '지나가다': 240, '용기': 241, '원하다': 242, '눈': 243, '확인': 244, '곳': 245, '선물': 246, '모든': 247, '쓰이다': 248, '알아보다': 249, '고생': 250, '속': 251, '술': 252, '확신': 253, '사이': 254, '라도': 255, '궁금하다': 256, '잊혀지다': 257, '라고': 258, '설레다': 259, '관계': 260, '다가가다': 261, '걸다': 262, '때문': 263, '행동': 264, '익숙해지다': 265, '아픔': 266, '안되다': 267, '대한': 268, '과정': 269, '기다': 270, '대로': 271, '실수': 272, '후련하다': 273, '무엇': 274, '모습': 275, '니까': 276, '인생': 277, '차분하다': 278, '찾아오다': 279, '번': 280, '깊다': 281, '남': 282, '힘': 283, '무': 284, '그래도': 285, '견디다': 286, '한테': 287, '나아지다': 288, '언제': 289, '스스로': 290, '보이다': 291, '귀': 292, '마련': 293, '본인': 294, '이니까': 295, '필요': 296, '스럽게': 297, '헤아리다': 298, '느끼다': 299, '호감': 300, '맞추다': 301, '오래': 302, '참다': 303, '예의': 304, '보지': 305, '가장': 306, '오늘': 307, '진짜': 308, '말씀': 309, '둘': 310, '그녀': 311, '흔들리다': 312, '쉽다': 313, '지우다': 314, '위해': 315, '상관': 316, '얼른': 317, '위로': 318, '부터': 319, '답답하다': 320, '걸리다': 321, '살펴보다': 322, '부분': 323, '가슴': 324, '시기': 325, '괴롭다': 326, '극복': 327, '행복': 328, '폭풍': 329, '잡다': 330, '갖다': 331, '대해': 332, '작다': 333, '내일': 334, '멋지다': 335, '나르다': 336, '운명': 337, '존중': 338, '믿음': 339, '듯': 340, '짧다': 341, '만남': 342, '떠나다': 343, '다행': 344, '돌아오다': 345, '뭐': 346, '남자': 347, '이랑': 348, '시키다': 349, '없이': 350, '축하': 351, '달라': 352, '아무': 353, '소중하다': 354, '딱': 355, '차단': 356, '진정하다': 357, '우리': 358, '씩': 359, '인정': 360, '허전하다': 361, '자책': 362, '즐겁다': 363, '연습': 364, '에도': 365, '덤덤하다': 366, '느껴지다': 367, '금방': 368, '서': 369, '의미': 370, '데': 371, '추천': 372, '예쁘다': 373, '처음': 374, '존재': 375, '접다': 376, '영화': 377, '만의': 378, '아무래도': 379, '줄': 380, '이든': 381, '덜하다': 382, '지나다': 383, '나서다': 384, '최선': 385, '어느': 386, '타다': 387, '가지': 388, '머리': 389, '여자': 390, '그것': 391, '자주': 392, '그립다': 393, '답': 394, '이렇다': 395, '따뜻하다': 396, '날다': 397, '가끔': 398, '나가다': 399, '그건': 400, '볼': 401, '응원': 402, '때론': 403, '경우': 404, '관심사': 405, '다가': 406, '여기': 407, '동안': 408, '선': 409, '실감': 410, '끝나다': 411, '기간': 412, '아쉽다': 413, '삭제': 414, '해도': 415, '당황': 416, '매력': 417, '사실': 418, '글': 419, '이지': 420, '싫다': 421, '길다': 422, '배려': 423, '정확하다': 424, '위': 425, '끄다': 426, '언제나': 427, '왜': 428, '이라도': 429, '어느덧다': 430, '잠시': 431, '두렵다': 432, '전환': 433, '챙기다': 434, '자연': 435, '거절': 436, '주변': 437, '부담스럽다': 438, '헷갈리다': 439, '그냥': 440, '서운하다': 441, '지켜보다': 442, '적극': 443, '이면': 444, '이상형': 445, '돌아가다': 446, '안타깝다': 447, '거기': 448, '약': 449, '고치다': 450, '잊어버리다': 451, '기적': 452, '울': 453, '찾다': 454, '잠': 455, '소식': 456, '나오다': 457, '대요': 458, '절대': 459, '아': 460, '이상': 461, '여유': 462, '이라고': 463, '사다': 464, '멈추다': 465, '두': 466, '정신': 467, '마주치다': 468, '마지막': 469, '주말': 470, '노래': 471, '그리다': 472, '순': 473, '느낌': 474, '빠르다': 475, '잔': 476, '곧': 477, '분위기': 478, '야하다': 479, '외롭다': 480, '기대다': 481, '용다': 482, '만이': 483, '스럽지': 484, '써다': 485, '낼': 486, '상관없다': 487, '인데': 488, '이나': 489, '차이다': 490, '살아가다': 491, '풀리다': 492, '반복': 493, '세': 494, '소리': 495, '낫': 496, '거나': 497, '연인': 498, '밖에': 499, '남지': 500, '사소하다': 501, '조금씩': 502, '자연스럽다': 503, '따로': 504, '바로': 505, '아무렇다': 506, '공감': 507, '적다': 508, '별로': 509, '즐기다': 510, '변덕': 511, '안좋다': 512, '찾아가다': 513, '공부': 514, '잘못': 515, '엔': 516, '당연하다': 517, '달다': 518, '이기도': 519, '부럽다': 520, '약속': 521, '갈다': 522, '가볍다': 523, '이겠다': 524, '자체': 525, '두근거리다': 526, '의지': 527, '의사': 528, '이성': 529, '질투': 530, '우선': 531, '여러': 532, '그동안': 533, '버티다': 534, '운동': 535, '여행': 536, '그만큼': 537, '듣다': 538, '부모님': 539, '질': 540, '갑작스럽다': 541, '보단': 542, '빨리': 543, '사과': 544, '어도': 545, '척': 546, '카톡': 547, '사람과': 548, '웃다': 549, '인가요': 550, '몸': 551, '바뀌다': 552, '내려놓다': 553, '완전하다': 554, '벗어나다': 555, '단단하다': 556, '제일': 557, '지도': 558, '덜다': 559, '그대로': 560, '놀다': 561, '아물다': 562, '해결': 563, '미안하다': 564, '긍정': 565, '풀다': 566, '우세': 567, '울다': 568, '타이밍': 569, '해내다': 570, '마음대로': 571, '뜻': 572, '잠깐': 573, '상상': 574, '보통': 575, '어쩔': 576, '다음': 577, '남기다': 578, '생활': 579, '밥': 580, '심경': 581, '붙잡다': 582, '기운': 583, '어디': 584, '돌리다': 585, '성격': 586, '깨': 587, '진정': 588, '수록': 589, '각자': 590, '삶': 591, '자고': 592, '칭찬': 593, '나타나다': 594, '떨리다': 595, '가능성': 596, '귀엽다': 597, '공허하다': 598, '길': 599, '은연': 600, '놀라다': 601, '이어지다': 602, '물리': 603, '없애다': 604, '종교': 605, '열심히': 606, '습관': 607, '흔적': 608, '주무': 609, '일인': 610, '뎌': 611, '일어나다': 612, '가치관': 613, '그때': 614, '채우다': 615, '집중': 616, '포기': 617, '고맙다': 618, '아름답다': 619, '도와주다': 620, '기대하다': 621, '편안하다': 622, '보이지': 623, '웬수': 624, '지키다': 625, '얼마': 626, '옆': 627, '기울이다': 628, '기': 629, '거리': 630, '그런': 631, '가요': 632, '똑같다': 633, '떠오르다': 634, '한잔': 635, '아침': 636, '속상하다': 637, '이루다': 638, '통해': 639, '사정': 640, '회사': 641, '사라지다': 642, '나은': 643, '자존감': 644, '비': 645, '불다': 646, '지는': 647, '건가': 648, '아예': 649, '길이': 650, '빠지다': 651, '얘기': 652, '만해': 653, '일도': 654, '당장': 655, '가늠': 656, '내리다': 657, '얼굴': 658, '달콤하다': 659, '사랑스럽다': 660, '어울리다': 661, '단계': 662, '세상': 663, '일지': 664, '비교': 665, '점': 666, '미리': 667, '취향': 668, '사진': 669, '제대로': 670, '중간': 671, '다양하다': 672, '떨어지다': 673, '집착': 674, '공통': 675, '오해': 676, '당당하다': 677, '정의': 678, '무색': 679, '애석하다': 680, '여': 681, '나나': 682, '환승': 683, '애틋하다': 684, '끝내다': 685, '가사': 686, '비슷하다': 687, '낫다': 688, '하니': 689, '이라는': 690, '부딪히다': 691, '좋아지다': 692, '현재': 693, '억지로': 694, '최고': 695, '피곤하다': 696, '수가': 697, '싱숭생숭하다': 698, '뒤': 699, '기대': 700, '묻다': 701, '무섭다': 702, '털다': 703, '담기다': 704, '하든': 705, '짐': 706, '현상': 707, '가세': 708, '연속': 709, '결심': 710, '조심하다': 711, '성별': 712, '해달라다': 713, '차례': 714, '그만': 715, '간절하다': 716, '담다': 717, '결과': 718, '전하': 719, '재회': 720, '한번': 721, '조급하다': 722, '차라리': 723, '기울다': 724, '다치다': 725, '달': 726, '불안하다': 727, '돌아서다': 728, '자신감': 729, '애매하다': 730, '취미': 731, '속이다': 732, '이라': 733, '다가오다': 734, '정': 735, '고통': 736, '거두다': 737, '안녕': 738, '전화': 739, '당분간': 740, '싫어하다': 741, '곁': 742, '무시': 743, '주지': 744, '깨다': 745, '언젠가': 746, '니': 747, '경험': 748, '아끼다': 749, '태도': 750, '커지다': 751, '부여': 752, '매일': 753, '사람인': 754, '아직도': 755, '자기': 756, '짓다': 757, '방식': 758, '대단하다': 759, '이란': 760, '에게도': 761, '누가': 762, '차이': 763, '핑계': 764, '전부': 765, '엄청': 766, '어색하다': 767, '싸우다': 768, '뭔': 769, '높다': 770, '구': 771, '꾸준하다': 772, '계기': 773, '등': 774, '귀찮다': 775, '남자친구': 776, '개인': 777, '성향': 778, '상태': 779, '인기': 780, '눈치': 781, '밀당': 782, '외모': 783, '쟁취': 784, '기본': 785, '마주': 786, '향': 787, '돈': 788, '보듬다': 789, '중인': 790, '여전하다': 791, '한동안': 792, '마무리': 793, '예': 794, '잡념': 795, '들이다': 796, '비우다': 797, '아련하다': 798, '오랜': 799, '이니': 800, '끊다': 801, '성숙하다': 802, '간직': 803, '심호흡': 804, '숨': 805, '크게': 806, '에게나': 807, '상담': 808, '내세': 809, '미래': 810, '증오': 811, '다니다': 812, '밤': 813, '뭐라다': 814, '늘다': 815, '그리움': 816, '미화': 817, '속박': 818, '무의식': 819, '기한': 820, '끌다': 821, '멀어지다': 822, '이어도': 823, '추다': 824, '보아': 825, '화': 826, '자리': 827, '진지하다': 828, '인사': 829, '이상하다': 830, '비난': 831, '일상': 832, '닿다': 833, '감성': 834, '산책': 835, '눈물': 836, '흘리다': 837, '태연하다': 838, '익숙하다': 839, '돌보다': 840, '가깝다': 841, '바람': 842, '여보세요': 843, '물': 844, '일만': 845, '봄': 846, '따지다': 847, '연락처': 848, '영원하다': 849, '다녀오다': 850, '쌓이다': 851, '성장하다': 852, '건강': 853, '간사하다': 854, '전해지다': 855, '성': 856, '많아지다': 857, '전화하다': 858, '떨치다': 859, '때로는': 860, '계절': 861, '젖다': 862, '치유': 863, '땐': 864, '가만히': 865, '맛있다': 866, '죄': 867, '혹시': 868, '꿀': 869, '발': 870, '문득': 871, '보여주다': 872, '일단': 873, '음악': 874, '면역': 875, '후유증': 876, '단호': 877, '켜다': 878, '놓치다': 879, '최대한': 880, '마시다': 881, '집': 882, '해드리다': 883, '실망하다': 884, '지속': 885, '출발': 886, '들어가다': 887, '이해해': 888, '감추다': 889, '아쉬움': 890, '보다는': 891, '어리다': 892, '거짓말': 893, '드': 894, '갑자기': 895, '반': 896, '감': 897, '착각': 898, '흘러가다': 899, '알콩달콩': 900, '강요': 901, '가족': 902, '자격': 903, '양해': 904, '키': 905, '이르다': 906, '정해지다': 907, '소모': 908, '애교': 909, '스타일': 910, '스럽다': 911, '줄이다': 912, '슬쩍': 913, '방향': 914, '친해지다': 915, '떠보다': 916, '발전': 917, '도전': 918, '고르다': 919, '특별하다': 920, '든든하다': 921, '남편': 922, '로맨틱': 923, '어필': 924, '티': 925, '옷': 926, '유지': 927, '신뢰': 928, '평소': 929, '타': 930, '다정하다': 931, '살짝': 932, '여자친구': 933, '콩깍지': 934, '건지다': 935, '허다': 936, '만난': 937, '쓸다': 938, '주': 939, '제자리': 940, '마침표': 941, '투자': 942, '더욱': 943, '감당': 944, '푹': 945, '찍다': 946, '축복': 947, '거울': 948, '무너지다': 949, '다시다': 950, '깨끗하다': 951, '안해': 952, '동물': 953, '깨달음': 954, '깨닫다': 955, '그대': 956, '불가능하다': 957, '외로움': 958, '피해': 959, '소원': 960, '지워지다': 961, '기회': 962, '끝일': 963, '반대': 964, '정신차리다': 965, '애': 966, '에선': 967, '보이': 968, '이고': 969, '단순하다': 970, '에게는': 971, '장점': 972, '바보': 973, '조건': 974, '바꾸다': 975, '거니': 976, '탓': 977, '그만하다': 978, '결국': 979, '편지': 980, '마음껏': 981, '일로': 982, '뿐이다': 983, '겪다': 984, '달이': 985, '나날': 986, '착잡하다': 987, '인고': 988, '잡기': 989, '허상': 990, '감히': 991, '붙다': 992, '글쎄요': 993, '기억나다': 994, '검색': 995, '지다': 996, '혼란': 997, '잠식': 998, '회복': 999, '적어도': 1000, '오히려': 1001, '오지': 1002, '변명': 1003, '예고': 1004, '예민하다': 1005, '자시다': 1006, '꽃': 1007, '적당하다': 1008, '다독이다': 1009, '너': 1010, '날씨': 1011, '찾기': 1012, '죽다': 1013, '몇': 1014, '나중': 1015, '순수하다': 1016, '유효': 1017, '원망': 1018, '슬픔': 1019, '돌아보다': 1020, '일부': 1021, '새': 1022, '지난': 1023, '충실하다': 1024, '복': 1025, '누군가': 1026, '이뤄지다': 1027, '상하': 1028, '부족하다': 1029, '화장실': 1030, '취해': 1031, '휴식': 1032, '통': 1033, '충격': 1034, '재밌다': 1035, '분도': 1036, '감싸다': 1037, '꾸다': 1038, '첫': 1039, '휴': 1040, '하지만': 1041, '특히': 1042, '자세하다': 1043, '부디': 1044, '자유롭다': 1045, '으로는': 1046, '포인트': 1047, '헛헛': 1048, '이나마': 1049, '스러운': 1050, '잃다': 1051, '빈자리': 1052, '저편': 1053, '굳이': 1054, '뜨다': 1055, '리기': 1056, '놀이': 1057, '감사하다': 1058, '괜': 1059, '판단력': 1060, '흐려지다': 1061, '그렇지만': 1062, '세다': 1063, '현명하다': 1064, '한다는': 1065, '착하다': 1066, '일수록': 1067, '조언': 1068, '텐데': 1069, '심하다': 1070, '신중하다': 1071, '여기다': 1072, '독': 1073, '멀리': 1074, '살아오다': 1075, '염탐': 1076, '가득하다': 1077, '차': 1078, '페북': 1079, '강렬하다': 1080, '소유': 1081, '증상': 1082, '야': 1083, '어서': 1084, '불행': 1085, '차리다': 1086, '자꾸': 1087, '주가': 1088, '점점': 1089, '흑역사': 1090, '부리다': 1091, '자존심': 1092, '보기': 1093, '깔끔하다': 1094, '뛰어넘다': 1095, '허락': 1096, '성공하다': 1097, '정답': 1098, '식다': 1099, '당사자': 1100, '들리다': 1101, '분명하다': 1102, '어장': 1103, '확률': 1104, '표시': 1105, '썸일': 1106, '시선': 1107, '요즘': 1108, '첫사랑': 1109, '게임': 1110, '달달': 1111, '치다': 1112, '부드럽다': 1113, '매너': 1114, '말투': 1115, '리드': 1116, '은근': 1117, '감동': 1118, '속도': 1119, '의심': 1120, '들어서다': 1121, '지만': 1122, '우연': 1123, '심리': 1124, '신청': 1125, '입다': 1126, '전혀': 1127, '서툴다': 1128, '여울': 1129, '영화관': 1130, '맛집': 1131, '읽다': 1132, '구분': 1133, '부탁': 1134, '그러면': 1135, '오르다': 1136, '정성': 1137, '바라보다': 1138, '사': 1139, '질문': 1140, '작아지다': 1141, '호르몬': 1142, '이자': 1143, '반응': 1144, '반영': 1145, '듣기': 1146, '탈': 1147, '입장': 1148, '손편지': 1149, '음식': 1150, '목적': 1151, '카페': 1152, '에서만': 1153, '오': 1154, '트라우마': 1155, '하필': 1156, '계시다': 1157, '절': 1158, '권태기': 1159, '이제야': 1160, '진행': 1161, '민감하다': 1162, '덥다': 1163, '머릿속': 1164, '비례': 1165, '맺다': 1166, '세월': 1167, '하라': 1168, '준': 1169, '간단하다': 1170, '이혼': 1171, '토닥토닥': 1172, '하늘': 1173, '쉬': 1174, '무조건': 1175, '망상': 1176, '법': 1177, '벽': 1178, '과거': 1179, '헛된': 1180, '희망': 1181, '전역': 1182, '화살': 1183, '씁쓸하다': 1184, '에서도': 1185, '이불': 1186, '킥': 1187, '조차': 1188, '불편하다': 1189, '유통': 1190, '수고': 1191, '삶다': 1192, '멋있다': 1193, '재활용': 1194, '나약하다': 1195, '감기': 1196, '낭만': 1197, '옳다': 1198, '넓다': 1199, '그땐': 1200, '벌': 1201, '기념일': 1202, '따다': 1203, '하루하루': 1204, '지세': 1205, '아무리': 1206, '원래': 1207, '휴가': 1208, '올리다': 1209, '너그럽다': 1210, '또한': 1211, '두기': 1212, '옵니다': 1213, '쯤': 1214, '올라가다': 1215, '섭섭하다': 1216, '우울하다': 1217, '돌이': 1218, '표': 1219, '테': 1220, '시원하다': 1221, '컨트롤': 1222, '번복': 1223, '마찬가지': 1224, '정신없이': 1225, '악몽': 1226, '안나': 1227, '얼떨떨하다': 1228, '제발': 1229, '월요일': 1230, '하곤': 1231, '원인': 1232, '그만두다': 1233, '매몰': 1234, '부탁드리다': 1235, '수만': 1236, '오락가락': 1237, '삼가다': 1238, '들려주다': 1239, '드네': 1240, '되돌리다': 1241, '원동력': 1242, '힘껏': 1243, '밀다': 1244, '매번': 1245, '미워하다': 1246, '버릇': 1247, '우린': 1248, '장하나': 1249, '감수성': 1250, '터지다': 1251, '치우다': 1252, '비참하다': 1253, '빌어': 1254, '무언가': 1255, '외부': 1256, '감고': 1257, '가라앉히다': 1258, '분노': 1259, '붙이다': 1260, '닮다': 1261, '추적추적': 1262, '그리고': 1263, '이기': 1264, '다투다': 1265, '귀로': 1266, '저렇다': 1267, '척도': 1268, '무관심': 1269, '잠기다': 1270, '단지': 1271, '발라': 1272, '돋다': 1273, '약해지다': 1274, '는걸': 1275, '번의': 1276, '바르다': 1277, '편린': 1278, '면서': 1279, '휘': 1280, '맨날': 1281, '이야': 1282, '티나': 1283, '예감': 1284, '틀리다': 1285, '고독': 1286, '건강하다': 1287, '별': 1288, '지옥': 1289, '부메랑': 1290, '선연하다': 1291, '바니': 1292, '심장': 1293, '뛰다': 1294, '직감': 1295, '시리다': 1296, '숨다': 1297, '놔두다': 1298, '그저': 1299, '어리석다': 1300, '학교': 1301, '어쩌면': 1302, '어찌': 1303, '예측': 1304, '무뎌': 1305, '아이구': 1306, '해오다': 1307, '어떻': 1308, '자제': 1309, '배우다': 1310, '분과': 1311, '기술': 1312, '닥쳐오다': 1313, '겁니다': 1314, '이렇게': 1315, '버티고': 1316, '반갑다': 1317, '마음가짐': 1318, '타인': 1319, '력': 1320, '쓸쓸하다': 1321, '일찍': 1322, '생기': 1323, '재미': 1324, '쓰레기': 1325, '증거': 1326, '명절': 1327, '이번': 1328, '분명': 1329, '객관': 1330, '흔하다': 1331, '더디다': 1332, '단어': 1333, '성장': 1334, '소': 1335, '이군': 1336, '안부': 1337, '이루': 1338, '매': 1339, '잠수': 1340, '비겁하다': 1341, '잇다': 1342, '거릴': 1343, '혼내다': 1344, '불행하다': 1345, '일주일': 1346, '가나': 1347, '곱씹다': 1348, '익숨함': 1349, '차라': 1350, '안고': 1351, '궁금증': 1352, '남아': 1353, '해봤다': 1354, '손해': 1355, '뜻대로': 1356, '심다': 1357, '씨앗': 1358, '못자다': 1359, '조심': 1360, '스레': 1361, '아마': 1362, '인간': 1363, '실례': 1364, '역할': 1365, '잔인하다': 1366, '난처하다': 1367, '에겐': 1368, '꺼리다': 1369, '강하다': 1370, '여러가지': 1371, '똑똑하다': 1372, '양': 1373, '만들기': 1374, '자괴': 1375, '빠져나오다': 1376, '긴장': 1377, '편': 1378, '직장': 1379, '깊이': 1380, '의중': 1381, '이사': 1382, '우연히': 1383, '프로포즈': 1384, '얻다': 1385, '수십': 1386, '크기': 1387, '커서': 1388, '후회되다': 1389, '실망': 1390, '맡다': 1391, '이미': 1392, '지지': 1393, '자르다': 1394, '통보': 1395, '군': 1396, '생일': 1397, '벌써': 1398, '서도': 1399, '서서히': 1400, '나가요': 1401, '정열': 1402, '사적': 1403, '영역': 1404, '들어오다': 1405, '보': 1406, '움직이다': 1407, '일정': 1408, '싸움': 1409, '팔': 1410, '든지': 1411, '주인공': 1412, '군대': 1413, '참고': 1414, '초기': 1415, '비다': 1416, '짐작': 1417, '선톡': 1418, '전해질': 1419, '고마움': 1420, '찌르다': 1421, '끌리다': 1422, '대수': 1423, '겉모습': 1424, '내면': 1425, '만으로': 1426, '까먹다': 1427, '능력': 1428, '떨다': 1429, '알람': 1430, '합리': 1431, '소비': 1432, '제안': 1433, '꼬이다': 1434, '수많다': 1435, '치': 1436, '막말': 1437, '라는': 1438, '큰일': 1439, '구속': 1440, '대': 1441, '브랜드': 1442, '책': 1443, '호칭': 1444, '풍부하다': 1445, '프라이버시': 1446, '장난': 1447, '환상': 1448, '깨지다': 1449, '서지': 1450, '권리': 1451, '호의': 1452, '갚다': 1453, '공원': 1454, '도서관': 1455, '반하다': 1456, '코스': 1457, '단점': 1458, '오래오래': 1459, '최신': 1460, '차트': 1461, '대보다': 1462, '실행': 1463, '옮기다': 1464, '난': 1465, '자유': 1466, '기르다': 1467, '하트': 1468, '음': 1469, '잘해주다': 1470, '모': 1471, '쏠': 1472, '여부': 1473, '시대': 1474, '불타': 1475, '격식': 1476, '애절하다': 1477, '딱하다': 1478, '아깝다': 1479, '순위': 1480, '일시': 1481, '상': 1482, '막': 1483, '위험하다': 1484, '소개': 1485, '어디서': 1486, '쏟아지다': 1487, '섣부르다': 1488, '판단': 1489, '케이스': 1490, '망설이다': 1491, '벚꽃': 1492, '두려움': 1493, '데리다': 1494, '가도': 1495, '괜히': 1496, '밀': 1497, '당일': 1498, '패턴': 1499, '얼마나': 1500, '피하': 1501, '몰래': 1502, '바디': 1503, '평생': 1504, '사랑받다': 1505, '놀': 1506, '피시방': 1507, '리액션': 1508, '틈틈이': 1509, '쌓다': 1510, '종일': 1511, '이름': 1512, '무난': 1513, '문': 1514, '센스': 1515, '대다': 1516, '아주': 1517, '맛': 1518, '와도': 1519, '높이다': 1520, '의사표시': 1521, '가운데': 1522, '부끄럽다': 1523, '동전': 1524, '양면': 1525, '오랫동안': 1526, '답장': 1527, '정상': 1528, '드러내다': 1529, '철벽': 1530, '대상': 1531, '음료수': 1532, '여지': 1533, '태그': 1534, '장사': 1535, '친구사이': 1536, '인스타': 1537, '방해': 1538, '초대': 1539, '히': 1540, '목도리': 1541, '이라니': 1542, '짝': 1543, '국경': 1544, '가리다': 1545, '역': 1546, '텀': 1547, '기네': 1548, '쉼표': 1549, '버겁다': 1550, '잦다': 1551, '텅': 1552, '비고': 1553, '허무하다': 1554, '무거워': 1555, '가혹하다': 1556, '가면': 1557, '심해': 1558, '문자': 1559, '그러니까': 1560, '우울': 1561, '황당하다': 1562, '아래': 1563, '지르다': 1564, '거래': 1565, '병': 1566, '워워': 1567, '골인': 1568, '성공': 1569, '기원': 1570, '까지가': 1571, '파혼': 1572, '종이': 1573, '끄젹여': 1574, '낳을': 1575, '려고': 1576, '떠나가다': 1577, '헛헛하군': 1578, '팔다': 1579, '큐피드': 1580, '생생하다': 1581, '펴다': 1582, '닫다': 1583, '는가': 1584, '애잔하다': 1585, '떼다': 1586, '툭툭': 1587, '정량': 1588, '발현': 1589, '헛헛할': 1590, '래': 1591, '노': 1592, '진실되다': 1593, '구멍': 1594, '메우다': 1595, '재채기': 1596, '권': 1597, '구질구질하다': 1598, '걸음': 1599, '약하다': 1600, '심': 1601, '계륵': 1602, '놈': 1603, '변치': 1604, '반짝반짝': 1605, '빈': 1606, '일반': 1607, '화하다': 1608, '인공': 1609, '지능': 1610, '요소': 1611, '바람둥이': 1612, '랑은': 1613, '발등': 1614, '멍청하다': 1615, '대신': 1616, '어보': 1617, '봇': 1618, '기쁘다': 1619, '억울하다': 1620, '워': 1621, '옥상': 1622, '춥다': 1623, '내려오다': 1624, '집다': 1625, '하나요': 1626, '들어맞다': 1627, '펑펑': 1628, '숫자': 1629, '화장': 1630, '줄어들다': 1631, '흥미': 1632, '영향': 1633, '빨갛다': 1634, '날일': 1635, '약제': 1636, '추석': 1637, '꿈꿎': 1638, '수면': 1639, '대로가': 1640, '쐬다': 1641, '원망하다': 1642, '재다': 1643, '집안': 1644, '어른': 1645, '온': 1646, '종종': 1647, '만하': 1648, '어스름': 1649, '울적하다': 1650, '차가워지다': 1651, '낮술': 1652, '의아': 1653, '로맨스': 1654, '드릴': 1655, '꿰매다': 1656, '드라이브': 1657, '바': 1658, '바라지': 1659, '한편': 1660, '찬': 1661, '찌질하다': 1662, '다한': 1663, '추': 1664, '스리': 1665, '명언': 1666, '전문가': 1667, '한껏': 1668, '식히다': 1669, '잘리다': 1670, '머리카락': 1671, '아려': 1672, '남겨지다': 1673, '파이팅': 1674, '생각처러': 1675, '지저분하다': 1676, '하나같이': 1677, '내전': 1678, '부르다': 1679, '가져가다': 1680, '가벼워지다': 1681, '무모하다': 1682, '멍하다': 1683, '처럼은': 1684, '해치': 1685, '마을': 1686, '제목': 1687, '불현듯': 1688, '어흥': 1689, '호랑이': 1690, '목록': 1691, '또다른': 1692, '우릴': 1693, '직후': 1694, '살랑살랑': 1695, '나머지': 1696, '새벽': 1697, '먹기': 1698, '나아가다': 1699, '지독하다': 1700, '탄생': 1701, '가득': 1702, '메시지': 1703, '필': 1704, '안보': 1705, '요인': 1706, '혼술': 1707, '뻥': 1708, '뚫다': 1709, '불륜': 1710, '달리다': 1711, '거란': 1712, '노리다': 1713, '빗': 1714, '회원정보': 1715, '주룩주룩': 1716, '가라': 1717, '앉다': 1718, '한가지': 1719, '잔해': 1720, '공유': 1721, '놨다': 1722, '무지갯빛': 1723, '지우': 1724, '가치': 1725, '넣다': 1726, '똥차': 1727, '벤츠': 1728, '펼쳐지다': 1729, '살이': 1730, '데이': 1731, '새사람': 1732, '새장': 1733, '새해': 1734, '벌리다': 1735, '위기': 1736, '생일도': 1737, '아른거리다': 1738, '으로가': 1739, '앞일': 1740, '영원': 1741, '벅차다': 1742, '곱다': 1743, '숙취': 1744, '소제': 1745, '관대하다': 1746, '마법': 1747, '의존': 1748, '비싸다': 1749, '한결': 1750, '탁월하다': 1751, '평가': 1752, '소주': 1753, '헛헛하': 1754, '희미하다': 1755, '토닥이다': 1756, '한없이': 1757, '설치다': 1758, '아스피린': 1759, '진통제': 1760, '사랑니': 1761, '안녕하다': 1762, '건네주다': 1763, '어떡하다': 1764, '수긍': 1765, '예상': 1766, '닦다': 1767, '어째서': 1768, '형편': 1769, '스트레스': 1770, '심난하다': 1771, '목표': 1772, '몹시': 1773, '질리다': 1774, '심란하다': 1775, '물들다': 1776, '터닝': 1777, '여느': 1778, '사무치다': 1779, '안기다': 1780, '사탕': 1781, '적적하다': 1782, '정해진': 1783, '옛': 1784, '무기': 1785, '색': 1786, '인게': 1787, '욕': 1788, '짓': 1789, '애쓰다': 1790, '만큼은': 1791, '갑진': 1792, '망': 1793, '보신': 1794, '의외로': 1795, '냉정하다': 1796, '짜증나다': 1797, '뜨겁다': 1798, '샤워': 1799, '연': 1800, '유난히': 1801, '비밀': 1802, '보장': 1803, '커피': 1804, '너무나': 1805, '끝내기': 1806, '반지': 1807, '상치': 1808, '평상시': 1809, '날짜': 1810, '셨': 1811, '서다': 1812, '털털': 1813, '유증': 1814, '최근': 1815, '업다': 1816, '갈수록': 1817, '져': 1818, '걷다': 1819, '식이': 1820, '밝다': 1821, '신나다': 1822, '헤치다': 1823, '지니다': 1824, '삶속': 1825, '내보내다': 1826, '기류': 1827, '똑같이': 1828, '똥': 1829, '차갑다': 1830, '해나': 1831, '머뭇거리다': 1832, '완벽하다': 1833, '병원': 1834, '서럽다': 1835, '고요함': 1836, '골': 1837, '점차': 1838, '차분해지다': 1839, 'ㅊ': 1840, '자아': 1841, '선명하다': 1842, '헹리': 1843, '붙이': 1844, '들어주다': 1845, '열흘': 1846, '가을': 1847, '발견': 1848, '타성': 1849, '거지같다': 1850, '점심시간': 1851, '일기': 1852, '만으로도': 1853, '절반': 1854, '거짓': 1855, '적응': 1856, '쏘다': 1857, '너무하다': 1858, '대다수': 1859, '반입': 1860, '살다보면': 1861, '상책': 1862, '경이': 1863, '에서부터': 1864, '성취': 1865, '마디네': 1866, '자장가': 1867, '장거리': 1868, '전과': 1869, '반한': 1870, '여유롭다': 1871, '년': 1872, '밤새': 1873, '무작정': 1874, '재결합': 1875, '자연스레': 1876, '추스린': 1877, '탈출': 1878, '구가': 1879, '낮추다': 1880, '옥죄': 1881, '정신과': 1882, '치료': 1883, '반성': 1884, '원상': 1885, '복구': 1886, '쪽': 1887, '살기': 1888, '상이': 1889, '쪼그': 1890, '진': 1891, '간다': 1892, '변덕쟁이': 1893, '롤러코스터': 1894, '타나': 1895, '죄송하다': 1896, '근교': 1897, '여행가': 1898, '바퀴': 1899, '돌다': 1900, '짠하다': 1901, '학원': 1902, '구해': 1903, '흥미롭다': 1904, '천국': 1905, '진실': 1906, '어이': 1907, '연기': 1908, '부질없다': 1909, '함부로': 1910, '거르세': 1911, '이쁘다': 1912, '꼼수': 1913, '근처': 1914, '침묵': 1915, '센터': 1916, '맡기다': 1917, '날인': 1918, '평온': 1919, '결론': 1920, '다른사람': 1921, '대보': 1922, '뜰': 1923, '빛나다': 1924, '맴': 1925, '찢다': 1926, '달리': 1927, '그런데': 1928, '줍다': 1929, '담': 1930, '개선': 1931, '중이': 1932, '시': 1933, '다짐': 1934, '아마도': 1935, '처방약': 1936, '동호회': 1937, '가입': 1938, '개월': 1939, '가라앉다': 1940, '매정하다': 1941, '직시': 1942, '서든': 1943, '지나': 1944, '동료': 1945, '진부하다': 1946, '건네다': 1947, '하아': 1948, '우': 1949, 'ㅠㅠ': 1950, '퐈': 1951, '조그만': 1952, '일어서다': 1953, '양파': 1954, '비정상': 1955, '규정': 1956, '세심': 1957, '엮': 1958, '알기': 1959, '옆구리': 1960, '만큼만': 1961, '베풀다': 1962, '세우다': 1963, '제약': 1964, '여서': 1965, '흐리다': 1966, '살랑대다': 1967, '짜다': 1968, '정선': 1969, '기준': 1970, '면밀하다': 1971, '육체': 1972, '예비신부': 1973, '드디어': 1974, '군요': 1975, '발품': 1976, '어머니': 1977, '퍼센트': 1978, '적령': 1979, '기예': 1980, '스몰': 1981, '웨딩': 1982, '행사': 1983, '경제력': 1984, '욕심': 1985, '쟁이': 1986, '몰다': 1987, '초반': 1988, '성경': 1989, '일요일': 1990, '열정': 1991, '인내심': 1992, '도피': 1993, '더하다': 1994, '나위': 1995, '지갑': 1996, '열리다': 1997, '오후': 1998, '네시': 1999, '세시': 2000, '어린왕자': 2001, '좁다': 2002, '서울': 2003, '왕': 2004, '서방': 2005, '부리면': 2006, '후각': 2007, '방이': 2008, '개': 2009, '타입': 2010, '필요없다': 2011, '고기': 2012, '절절': 2013, '다그치다': 2014, '내지': 2015, '에게만': 2016, '구걸': 2017, '간접': 2018, '밝히다': 2019, '꼼꼼하다': 2020, '대하': 2021, '부딛히다': 2022, '뒷': 2023, '통수': 2024, '직구': 2025, '넘치다': 2026, '동갑': 2027, '수준': 2028, '신기다': 2029, '겁': 2030, '동성애': 2031, '학벌': 2032, '뭘': 2033, '여자도': 2034, '끼리': 2035, '오지랖': 2036, '함': 2037, '맞장구': 2038, '직설': 2039, '권유': 2040, '가지다': 2041, '금연': 2042, '클리': 2043, '닉': 2044, '눈빛': 2045, '식단': 2046, '조절': 2047, '주사': 2048, '원': 2049, '굽히다': 2050, '유도': 2051, '선천': 2052, '보살': 2053, '집안일': 2054, '분담': 2055, '보라': 2056, '격려': 2057, '생리': 2058, '틀다': 2059, '텐데요': 2060, '수다': 2061, '등등': 2062, '피': 2063, '가글': 2064, '사주다': 2065, '전여자친구': 2066, '지적': 2067, '주눅': 2068, '결혼합시다': 2069, '수천': 2070, '이건': 2071, '요구': 2072, '공개': 2073, '성적': 2074, '자기결정권': 2075, '적절하다': 2076, '합의': 2077, '당하다': 2078, '외': 2079, '롭고': 2080, '만지다': 2081, '평행선': 2082, '올인': 2083, '깊숙이': 2084, '진중하다': 2085, '수월하다': 2086, '알리다': 2087, '알아차리다': 2088, '유발': 2089, '치가': 2090, '어머나': 2091, '책임지다': 2092, '쿨': 2093, '방망이': 2094, '때리다': 2095, '둘이서': 2096, '상사병': 2097, '기전': 2098, '쌍': 2099, '홈': 2100, '닥터': 2101, '말로': 2102, '구경': 2103, '학번': 2104, '관찰': 2105, '계획': 2106, '짜오': 2107, '놀이동산': 2108, '바다': 2109, '산': 2110, '축제': 2111, '투어': 2112, '상의': 2113, '정적': 2114, '막차': 2115, '타고': 2116, '풀': 2117, '이던': 2118, '치고': 2119, '동아리': 2120, '가기': 2121, '드라마': 2122, '입어보다': 2123, '흔': 2124, '엄청나다': 2125, '랜선': 2126, '몸짓': 2127, '롱디': 2128, '사계절': 2129, '이지만': 2130, '갖추다': 2131, '남일': 2132, '뿅뿅': 2133, '마저': 2134, '활력소': 2135, '애정': 2136, '결핍': 2137, '명품': 2138, '모이다': 2139, '부': 2140, '탁하다': 2141, '번은': 2142, '이끌다': 2143, '공간': 2144, '체질': 2145, '이라서': 2146, '드물다': 2147, '대부분': 2148, '곤': 2149, '두근두근': 2150, '자식': 2151, '부모': 2152, '노후': 2153, '자금': 2154, '화합': 2155, '내내': 2156, '불타다': 2157, '환': 2158, '장': 2159, '존댓말': 2160, '끝내': 2161, '한창': 2162, '비밀연애': 2163, '스릴': 2164, '로라': 2165, '잡': 2166, '생텍쥐베리': 2167, '별거': 2168, '곳곳': 2169, '끗': 2170, '다정다감하다': 2171, '팍팍': 2172, '어제': 2173, '각': 2174, '갱신': 2175, '약인': 2176, '능동': 2177, '넌': 2178, '프': 2179, '헐크': 2180, '쎄다': 2181, '종족': 2182, '번식': 2183, '작용': 2184, '노밸': 2185, '상당하다': 2186, '먹여주다': 2187, '먹어주다': 2188, '움': 2189, '이루어지다': 2190, '교란': 2191, '화학': 2192, '물질': 2193, '접촉': 2194, '일어나서': 2195, '독차지': 2196, '끈': 2197, '기쁨': 2198, '신호': 2199, '한눈': 2200, '자격지심': 2201, '모자라다': 2202, '동일시': 2203, '경제': 2204, '감각': 2205, '맴도': 2206, '입': 2207, '내뱉다': 2208, '고도': 2209, '땅': 2210, '나빠지다': 2211, '어쩐지': 2212, '생가': 2213, '가랑비': 2214, '한정식': 2215, '상메': 2216, '소용': 2217, '환경': 2218, '깨달': 2219, '실용': 2220, '동의': 2221, '수수하다': 2222, '불순': 2223, '오라': 2224, '취하': 2225, '친근하다': 2226, '친절하다': 2227, '구별': 2228, '디디다': 2229, '설득': 2230, '마인드': 2231, '식상하다': 2232, '약간': 2233, '볶다': 2234, '까지는': 2235, '힘겹다': 2236, '꺼내다': 2237, '피우다': 2238, '이미지': 2239, '바이': 2240, '진전': 2241, '강제': 2242, '당한': 2243, '돕다': 2244, '알바': 2245, '커피숍': 2246, '거지': 2247, '타요': 2248, '안쪽': 2249, '딱이다': 2250, '저장': 2251, '어머': 2252, '영통': 2253, '간섭': 2254, '옷차림': 2255, '점프': 2256, '현': 2257, '타가': 2258, '티내': 2259, '흐지부지': 2260, '장답': 2261, '설명': 2262, '긴장감': 2263, '상영': 2264, '디테일': 2265, '전의': 2266, '극적': 2267, '녹아내리다': 2268, '괘씸하다': 2269, '잡고': 2270, '취소': 2271, '종료': 2272, '촉': 2273, '이왕이면': 2274, '카공': 2275, '서점': 2276, '생명': 2277, '공통점': 2278, '깨끗이': 2279, '반적': 2280, '라서': 2281, '웃음': 2282, '단': 2283, '계지': 2284, '사귈락말락': 2285, '우정': 2286, '다이렉트': 2287, '전이': 2288, '솔로': 2289, '돌직구': 2290, '날리다': 2291, '공포영화': 2292, '액션': 2293, '스킨십': 2294, '빈도': 2295, '저녁': 2296, '듀엣곡': 2297, '톡': 2298, '답변': 2299, '질질': 2300, '어딨다': 2301, '의견': 2302, '워시': 2303, '로션': 2304, '섬유': 2305, '유연제': 2306, '향수': 2307, '사용': 2308, '타일러': 2309, '간혹': 2310, '자만': 2311, '미녀': 2312, '정이': 2313, '듭니': 2314, '피다': 2315, '본전': 2316, '오해해': 2317, '소홀하다': 2318, '직': 2319, '장소': 2320, '심심하다': 2321, '나답': 2322, '안다': 2323, '꼬시': 2324, '둘리': 2325, '깨어나다': 2326, '조': 2327, '대표': 2328, '명': 2329, '비추다': 2330, '훨씬': 2331, '본래': 2332, '느리다': 2333, '난폭하다': 2334, '대쉬': 2335, '쌩': 2336, '얼다': 2337, '진구': 2338, '애초': 2339, '일어나지': 2340, '숨기다': 2341, '통장': 2342, '돌아다니다': 2343, '필름': 2344, '끊기다': 2345, '치매': 2346, '마시기': 2347, '별일': 2348, '금상첨화': 2349, '과식': 2350, '경향': 2351, '삐지다': 2352, '미인': 2353, '잠꾸러기': 2354, '던데': 2355, '핫': 2356, '깔창': 2357, '진도': 2358, '가수': 2359, '말고도': 2360, '화나다': 2361, '양치': 2362, '수용': 2363, '선의': 2364, '격일': 2365, '여행지': 2366, '꿈꾸다': 2367, '세포': 2368, '깨우다': 2369, '보수': 2370, '낭비': 2371, '나야': 2372, '열다': 2373, '부터는': 2374, '살리다': 2375, '태어나다': 2376, '선인': 2377, '연예인': 2378, '특종': 2379, '규칙': 2380, '인식': 2381, '정치': 2382, '빼다': 2383, '효도': 2384, '대리': 2385, '서일': 2386, '계약': 2387, '예식장': 2388, '화려하다': 2389, '김': 2390, '장만': 2391, '디': 2392, '룩': 2393, '늪': 2394, '도합': 2395, '색다르다': 2396, '기만': 2397, '참견': 2398, '아무나': 2399, '더라도': 2400, '띄다': 2401, '정상인': 2402, '반장': 2403, '언니': 2404, '남친': 2405, '꺼지다': 2406, '타오르다': 2407, '편식': 2408, '긴가민가하다': 2409, '잘살다': 2410, '대체': 2411, '깍': 2412, '리지': 2413, '이벤트': 2414, '그름': 2415, '비로소': 2416, '그린': 2417, '라이트': 2418, '통화': 2419, '햇': 2420, '갈리': 2421, '씨익': 2422, '쪽지': 2423, '희생': 2424, '장난스럽다': 2425, '두고두고': 2426, '얇다': 2427, '소개팅': 2428, '나름': 2429, '과도': 2430, '농도': 2431, '굴뚝': 2432, '표정': 2433, '성급하다': 2434, '서글프다': 2435, '면회': 2436, '배정': 2437, '가르다': 2438, '씌었나봐': 2439, '연하': 2440, '순이': 2441, '숨기': 2442, '에게서': 2443, '소름': 2444, '커플': 2445, '프사': 2446, '심정': 2447, '북받치다': 2448, '수학': 2449, '공식': 2450, '무례하다': 2451, '들여다보다': 2452, '뭔가': 2453, '도망가다': 2454, '내딛다': 2455, '책임': 2456, '지기': 2457, '장벽': 2458, '피치': 2459, '씌었네': 2460, '그래서': 2461, '근황': 2462, '가망': 2463, '재미있다': 2464, '동선': 2465, '파악': 2466, '바인': 2467, '장르': 2468, '예매': 2469, '졸업': 2470, '아이쿠': 2471, '도대체': 2472, '꾼': 2473, '오빠': 2474, '동생': 2475, '의치': 2476, '주체': 2477, '초가': 2478, '애달프다': 2479, '잠도': 2480, '복합': 2481, '생소하다': 2482, '이보': 2483, '비비': 2484, '인상': 2485, '비용': 2486, '고충': 2487, '찬성': 2488, '경쟁자': 2489, '패션': 2490, '전세계': 2491, '결실': 2492, '번만': 2493, '라니': 2494, '야근': 2495, '겉': 2496, '화가': 2497, '선일': 2498, '올': 2499, '엉킨': 2500, '가르치다': 2501, '식': 2502, '사치': 2503, '길거리': 2504, '꽃다발': 2505, '예약': 2506, '강가': 2507, '정중하다': 2508, '요청': 2509, '가까워지다': 2510, '굳다': 2511, '반드시': 2512, '높아지다': 2513, '전공': 2514, '그치다': 2515, '덴': 2516, '팔찌': 2517, '양말': 2518, '모자': 2519, '신발': 2520, '대수롭다': 2521, '청첩장': 2522, '곳도': 2523, '축의금': 2524, '건내다': 2525, '키우다': 2526, '취업': 2527, '유머': 2528, '코드': 2529, '바이러스': 2530, '감염': 2531, '이전': 2532, '남녀': 2533, '친하다': 2534, '메세지': 2535, '초면': 2536, '가늘다': 2537, '렌즈': 2538, '벗겨지다': 2539, '다잡다': 2540, '콩': 2541, '각지': 2542, '손잡다': 2543, '김칫국': 2544, '주기도': 2545, '존경': 2546, '과제': 2547, '알아내다': 2548, '제도': 2549, '조심스럽다': 2550, '법적': 2551, '부부': 2552, '꼬셔보세': 2553, '손수건': 2554, '영': 2555, '불빛': 2556, '화끈하다': 2557, '살피다': 2558, '훔치다': 2559}\n"
          ]
        }
      ]
    },
    {
      "cell_type": "code",
      "source": [
        "threshold = 3\n",
        "total_cnt = len(tokenizer.word_index) # 단어의 수\n",
        "rare_cnt = 0 # 등장 빈도수가 threshold보다 작은 단어의 개수를 카운트\n",
        "total_freq = 0 # 훈련 데이터의 전체 단어 빈도수 총 합\n",
        "rare_freq = 0 # 등장 빈도수가 threshold보다 작은 단어의 등장 빈도수의 총 합\n",
        "\n",
        "# 단어와 빈도수의 쌍(pair)을 key와 value로 받는다.\n",
        "for key, value in tokenizer.word_counts.items() :\n",
        "    total_freq = total_freq + value\n",
        "\n",
        "    # 단어의 등장 빈도수가 threshold보다 작으면\n",
        "    if(value < threshold) :\n",
        "        rare_cnt = rare_cnt + 1\n",
        "        rare_freq = rare_freq + value\n",
        "\n",
        "print('단어 집합(vocabulary)의 크기 :', total_cnt)\n",
        "print('등장 빈도가 %s번 이하인 희귀 단어의 수 : %s' % (threshold - 1, rare_cnt))\n",
        "print(\"단어 집합에서 희귀 단어의 비율 :\", (rare_cnt / total_cnt) * 100)\n",
        "print(\"전체 등장 빈도에서 희귀 단어 등장 빈도 비율 :\", (rare_freq / total_freq) * 100)"
      ],
      "metadata": {
        "colab": {
          "base_uri": "https://localhost:8080/"
        },
        "id": "hDsDOZb6kwAi",
        "outputId": "ccd9dfa9-f385-4e92-b3c4-685d148b0c3f"
      },
      "execution_count": 73,
      "outputs": [
        {
          "output_type": "stream",
          "name": "stdout",
          "text": [
            "단어 집합(vocabulary)의 크기 : 2559\n",
            "등장 빈도가 2번 이하인 희귀 단어의 수 : 1403\n",
            "단어 집합에서 희귀 단어의 비율 : 54.826103946854246\n",
            "전체 등장 빈도에서 희귀 단어 등장 빈도 비율 : 6.551383760465031\n"
          ]
        }
      ]
    },
    {
      "cell_type": "code",
      "source": [
        "vocab_size = total_cnt - rare_cnt + 1\n",
        "print('단어 집합의 크기 :', vocab_size)"
      ],
      "metadata": {
        "colab": {
          "base_uri": "https://localhost:8080/"
        },
        "id": "ymBxsrZUlGwu",
        "outputId": "e3e10047-865c-4276-dfc2-dd99496f8016"
      },
      "execution_count": 74,
      "outputs": [
        {
          "output_type": "stream",
          "name": "stdout",
          "text": [
            "단어 집합의 크기 : 1157\n"
          ]
        }
      ]
    },
    {
      "cell_type": "code",
      "source": [
        "tokenizer = Tokenizer(vocab_size) \n",
        "tokenizer.fit_on_texts(X_train)\n",
        "X_train = tokenizer.texts_to_sequences(X_train)"
      ],
      "metadata": {
        "id": "GV6-weAUlP_S"
      },
      "execution_count": 75,
      "outputs": []
    },
    {
      "cell_type": "code",
      "source": [
        "print(X_train[ : 3])"
      ],
      "metadata": {
        "colab": {
          "base_uri": "https://localhost:8080/"
        },
        "id": "fJx8tbZRlTxk",
        "outputId": "6c5539f9-1f5e-4885-bdbc-ab04dd11e2e8"
      },
      "execution_count": 76,
      "outputs": [
        {
          "output_type": "stream",
          "name": "stdout",
          "text": [
            "[[18, 302, 152, 13, 152, 2, 5], [18, 598, 117], [18, 6, 13, 48, 2, 5]]\n"
          ]
        }
      ]
    },
    {
      "cell_type": "code",
      "source": [
        "y_train = np.array(data['label'])"
      ],
      "metadata": {
        "id": "tRkMAOytlVSI"
      },
      "execution_count": 77,
      "outputs": []
    },
    {
      "cell_type": "code",
      "source": [
        "drop_train = [index for index, sentence in enumerate(X_train) if len(sentence) < 1]"
      ],
      "metadata": {
        "id": "v1RW8gyplb8-"
      },
      "execution_count": 78,
      "outputs": []
    },
    {
      "cell_type": "code",
      "source": [
        "X_train = np.delete(X_train, drop_train, axis = 0)\n",
        "y_train = np.delete(y_train, drop_train, axis = 0)\n",
        "print(len(X_train))\n",
        "print(len(y_train))"
      ],
      "metadata": {
        "colab": {
          "base_uri": "https://localhost:8080/"
        },
        "id": "t_aEQoXklfgE",
        "outputId": "77f1b98b-d9f1-47d9-bd05-9233de5d6f29"
      },
      "execution_count": 79,
      "outputs": [
        {
          "output_type": "stream",
          "name": "stdout",
          "text": [
            "5518\n",
            "5518\n"
          ]
        },
        {
          "output_type": "stream",
          "name": "stderr",
          "text": [
            "/usr/local/lib/python3.7/dist-packages/numpy/lib/function_base.py:4454: VisibleDeprecationWarning: Creating an ndarray from ragged nested sequences (which is a list-or-tuple of lists-or-tuples-or ndarrays with different lengths or shapes) is deprecated. If you meant to do this, you must specify 'dtype=object' when creating the ndarray.\n",
            "  arr = asarray(arr)\n"
          ]
        }
      ]
    },
    {
      "cell_type": "code",
      "source": [
        "print('문장의 최대 길이 :', max(len(review) for review in X_train))\n",
        "print('문장의 평균 길이 :', sum(map(len, X_train)) / len(X_train))\n",
        "plt.hist([len(review) for review in X_train], bins = 50)\n",
        "plt.xlabel('length of samples')\n",
        "plt.ylabel('number of samples')\n",
        "plt.show()"
      ],
      "metadata": {
        "colab": {
          "base_uri": "https://localhost:8080/",
          "height": 316
        },
        "id": "51IQAJbRlim4",
        "outputId": "7d78a858-2700-4e30-aaeb-c4597157ef11"
      },
      "execution_count": 80,
      "outputs": [
        {
          "output_type": "stream",
          "name": "stdout",
          "text": [
            "문장의 최대 길이 : 25\n",
            "문장의 평균 길이 : 4.63229430953244\n"
          ]
        },
        {
          "output_type": "display_data",
          "data": {
            "text/plain": [
              "<Figure size 432x288 with 1 Axes>"
            ],
            "image/png": "[encoded data removed]"
          },
          "metadata": {
            "needs_background": "light"
          }
        }
      ]
    },
    {
      "cell_type": "code",
      "source": [
        "def below_threshold_len(max_len, nested_list) :\n",
        "  count = 0\n",
        "  for sentence in nested_list :\n",
        "    if(len(sentence) <= max_len) :\n",
        "        count = count + 1\n",
        "  print('전체 샘플 중 길이가 %s 이하인 샘플의 비율: %s' % (max_len, (count / len(nested_list)) * 100))"
      ],
      "metadata": {
        "id": "XO3hJXtolxa-"
      },
      "execution_count": 81,
      "outputs": []
    },
    {
      "cell_type": "code",
      "source": [
        "max_len = 10\n",
        "below_threshold_len(max_len, X_train)"
      ],
      "metadata": {
        "colab": {
          "base_uri": "https://localhost:8080/"
        },
        "id": "tjnDbKw5mAD3",
        "outputId": "c28612bd-5127-4055-c01b-80763a77f328"
      },
      "execution_count": 82,
      "outputs": [
        {
          "output_type": "stream",
          "name": "stdout",
          "text": [
            "전체 샘플 중 길이가 10 이하인 샘플의 비율: 97.98840159478071\n"
          ]
        }
      ]
    },
    {
      "cell_type": "code",
      "source": [
        "X_train = pad_sequences(X_train, maxlen = max_len)"
      ],
      "metadata": {
        "id": "ENY7I5B7mDdj"
      },
      "execution_count": 83,
      "outputs": []
    },
    {
      "cell_type": "code",
      "source": [
        "from tensorflow.keras.layers import Embedding, Dense, LSTM\n",
        "from tensorflow.keras.models import Sequential\n",
        "from tensorflow.keras.models import load_model\n",
        "from tensorflow.keras.callbacks import EarlyStopping, ModelCheckpoint\n",
        "\n",
        "embedding_dim = 100\n",
        "hidden_units = 128\n",
        "\n",
        "model = Sequential()\n",
        "model.add(Embedding(vocab_size, embedding_dim))\n",
        "model.add(LSTM(hidden_units))\n",
        "model.add(Dense(1, activation = 'sigmoid'))\n",
        "\n",
        "es = EarlyStopping(monitor = 'val_loss', mode = 'min', verbose = 1, patience = 4)\n",
        "mc = ModelCheckpoint('best_model.h5', monitor = 'val_acc', mode = 'max', verbose = 1, save_best_only = True)\n",
        "\n",
        "model.compile(optimizer = 'rmsprop', loss = 'binary_crossentropy', metrics = ['acc'])\n",
        "history = model.fit(X_train, y_train, epochs = 15, callbacks = [es, mc], batch_size = 64, validation_split = 0.2)"
      ],
      "metadata": {
        "colab": {
          "base_uri": "https://localhost:8080/"
        },
        "id": "7ntCdOpXmI1S",
        "outputId": "e46bb74c-9bc5-48d1-f341-88482666f032"
      },
      "execution_count": 84,
      "outputs": [
        {
          "output_type": "stream",
          "name": "stdout",
          "text": [
            "Epoch 1/15\n",
            "69/69 [==============================] - ETA: 0s - loss: 0.5720 - acc: 0.7012\n",
            "Epoch 1: val_acc improved from -inf to 0.39130, saving model to best_model.h5\n",
            "69/69 [==============================] - 7s 64ms/step - loss: 0.5720 - acc: 0.7012 - val_loss: 0.9247 - val_acc: 0.3913\n",
            "Epoch 2/15\n",
            "68/69 [============================>.] - ETA: 0s - loss: 0.4446 - acc: 0.8008\n",
            "Epoch 2: val_acc improved from 0.39130 to 0.55616, saving model to best_model.h5\n",
            "69/69 [==============================] - 2s 30ms/step - loss: 0.4450 - acc: 0.8002 - val_loss: 0.8634 - val_acc: 0.5562\n",
            "Epoch 3/15\n",
            "69/69 [==============================] - ETA: 0s - loss: 0.3901 - acc: 0.8237\n",
            "Epoch 3: val_acc did not improve from 0.55616\n",
            "69/69 [==============================] - 2s 30ms/step - loss: 0.3901 - acc: 0.8237 - val_loss: 1.1956 - val_acc: 0.4484\n",
            "Epoch 4/15\n",
            "69/69 [==============================] - ETA: 0s - loss: 0.3651 - acc: 0.8357\n",
            "Epoch 4: val_acc did not improve from 0.55616\n",
            "69/69 [==============================] - 2s 30ms/step - loss: 0.3651 - acc: 0.8357 - val_loss: 1.0754 - val_acc: 0.5208\n",
            "Epoch 5/15\n",
            "69/69 [==============================] - ETA: 0s - loss: 0.3460 - acc: 0.8459\n",
            "Epoch 5: val_acc did not improve from 0.55616\n",
            "69/69 [==============================] - 2s 30ms/step - loss: 0.3460 - acc: 0.8459 - val_loss: 1.0218 - val_acc: 0.5444\n",
            "Epoch 6/15\n",
            "69/69 [==============================] - ETA: 0s - loss: 0.3349 - acc: 0.8550\n",
            "Epoch 6: val_acc did not improve from 0.55616\n",
            "69/69 [==============================] - 2s 30ms/step - loss: 0.3349 - acc: 0.8550 - val_loss: 1.2359 - val_acc: 0.5063\n",
            "Epoch 6: early stopping\n"
          ]
        }
      ]
    },
    {
      "cell_type": "code",
      "source": [
        "loaded_model = load_model('best_model.h5')"
      ],
      "metadata": {
        "id": "j46Ot1AypAVg"
      },
      "execution_count": 87,
      "outputs": []
    },
    {
      "cell_type": "code",
      "source": [
        "def sentiment_predict(new_sentence) :\n",
        "  new_sentence = re.sub(r'[^ㄱ-ㅎㅏ-ㅣ가-힣 ]', '', new_sentence)\n",
        "  new_sentence = okt.morphs(new_sentence, stem = True) # 토큰화\n",
        "  new_sentence = [word for word in new_sentence if not word in stopwords] # 불용어 제거\n",
        "  encoded = tokenizer.texts_to_sequences([new_sentence]) # 정수 인코딩\n",
        "  pad_new = pad_sequences(encoded, maxlen = max_len) # 패딩\n",
        "  score = float(loaded_model.predict(pad_new)) # 예측\n",
        "  if(score > 0.5) :\n",
        "    print(\"{:.2f}% 확률로 긍정입니다.\\n\".format(score * 100))\n",
        "  else :\n",
        "    print(\"{:.2f}% 확률로 부정입니다.\\n\".format((1 - score) * 100))"
      ],
      "metadata": {
        "id": "parJRy8DmcYx"
      },
      "execution_count": 88,
      "outputs": []
    },
    {
      "cell_type": "code",
      "source": [
        "sentiment_predict('날씨가 참 좋네요!')"
      ],
      "metadata": {
        "colab": {
          "base_uri": "https://localhost:8080/"
        },
        "id": "47UVETNjo2XI",
        "outputId": "d29bb777-a051-497b-ccb1-d762d524c3a9"
      },
      "execution_count": 89,
      "outputs": [
        {
          "output_type": "stream",
          "name": "stdout",
          "text": [
            "51.02% 확률로 긍정입니다.\n",
            "\n"
          ]
        }
      ]
    },
    {
      "cell_type": "code",
      "source": [
        "sentiment_predict('제발 일 좀 하세요')"
      ],
      "metadata": {
        "colab": {
          "base_uri": "https://localhost:8080/"
        },
        "id": "JQMTUjlFo7Ja",
        "outputId": "52c96c88-5cf2-46dd-f8ec-74736818057c"
      },
      "execution_count": 90,
      "outputs": [
        {
          "output_type": "stream",
          "name": "stdout",
          "text": [
            "64.47% 확률로 부정입니다.\n",
            "\n"
          ]
        }
      ]
    },
    {
      "cell_type": "code",
      "source": [
        "sentiment_predict('제발 그만해')"
      ],
      "metadata": {
        "colab": {
          "base_uri": "https://localhost:8080/"
        },
        "id": "Iv2DvlFxpMm_",
        "outputId": "f5c0e06f-c057-4223-ca7f-421c91e17f03"
      },
      "execution_count": 94,
      "outputs": [
        {
          "output_type": "stream",
          "name": "stdout",
          "text": [
            "63.04% 확률로 부정입니다.\n",
            "\n"
          ]
        }
      ]
    },
    {
      "cell_type": "code",
      "source": [
        "sentiment_predict('이러다 다 죽어~~~')"
      ],
      "metadata": {
        "colab": {
          "base_uri": "https://localhost:8080/"
        },
        "id": "5vb9zF_SpQ0O",
        "outputId": "bc6199e4-8ed6-4152-b019-6d71532116c7"
      },
      "execution_count": 95,
      "outputs": [
        {
          "output_type": "stream",
          "name": "stdout",
          "text": [
            "50.60% 확률로 부정입니다.\n",
            "\n"
          ]
        }
      ]
    },
    {
      "cell_type": "code",
      "source": [
        "sentiment_predict('당신은 정말 아름답습니다')"
      ],
      "metadata": {
        "colab": {
          "base_uri": "https://localhost:8080/"
        },
        "id": "DocS8zMwplSH",
        "outputId": "8e10777e-58da-49b8-c674-834a18b3b21d"
      },
      "execution_count": 96,
      "outputs": [
        {
          "output_type": "stream",
          "name": "stdout",
          "text": [
            "61.30% 확률로 부정입니다.\n",
            "\n"
          ]
        }
      ]
    },
    {
      "cell_type": "code",
      "source": [
        "sentiment_predict('당신은 정말 가치가 없군요')"
      ],
      "metadata": {
        "colab": {
          "base_uri": "https://localhost:8080/"
        },
        "id": "BAWt06MMpp20",
        "outputId": "fb257c60-5152-4c94-d80a-9896589428b9"
      },
      "execution_count": 97,
      "outputs": [
        {
          "output_type": "stream",
          "name": "stdout",
          "text": [
            "51.25% 확률로 긍정입니다.\n",
            "\n"
          ]
        }
      ]
    },
    {
      "cell_type": "code",
      "source": [
        "sentiment_predict('헤어지는게 좋을 것 같아요')"
      ],
      "metadata": {
        "colab": {
          "base_uri": "https://localhost:8080/"
        },
        "id": "CH6GNrpvpvKP",
        "outputId": "de49fae6-2681-42a6-cc04-a9642cf6da99"
      },
      "execution_count": 98,
      "outputs": [
        {
          "output_type": "stream",
          "name": "stdout",
          "text": [
            "78.34% 확률로 부정입니다.\n",
            "\n"
          ]
        }
      ]
    },
    {
      "cell_type": "code",
      "source": [
        "sentiment_predict('더 오래 만날 사람 만날 거예요.')"
      ],
      "metadata": {
        "colab": {
          "base_uri": "https://localhost:8080/"
        },
        "id": "m9zfyXFxp_Ny",
        "outputId": "8d5f1fb3-5af1-4cf1-bd29-2e7706165c6c"
      },
      "execution_count": 100,
      "outputs": [
        {
          "output_type": "stream",
          "name": "stdout",
          "text": [
            "55.47% 확률로 부정입니다.\n",
            "\n"
          ]
        }
      ]
    },
    {
      "cell_type": "code",
      "source": [
        "sentiment_predict('헤어지면 안 돼요!!!')"
      ],
      "metadata": {
        "colab": {
          "base_uri": "https://localhost:8080/"
        },
        "id": "LRhOpuTXqLnd",
        "outputId": "7e7b1b13-84e1-43bf-bc8a-448c891d8f70"
      },
      "execution_count": 101,
      "outputs": [
        {
          "output_type": "stream",
          "name": "stdout",
          "text": [
            "89.70% 확률로 부정입니다.\n",
            "\n"
          ]
        }
      ]
    }
  ]
}