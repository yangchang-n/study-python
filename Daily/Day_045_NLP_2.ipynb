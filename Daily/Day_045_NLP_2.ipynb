{
  "nbformat": 4,
  "nbformat_minor": 0,
  "metadata": {
    "colab": {
      "name": "Day_045_NLP_2.ipynb",
      "provenance": [],
      "collapsed_sections": [],
      "authorship_tag": "ABX9TyNWUYXJuRp1HvYgYTTmRWRE",
      "include_colab_link": true
    },
    "kernelspec": {
      "name": "python3",
      "display_name": "Python 3"
    },
    "language_info": {
      "name": "python"
    }
  },
  "cells": [
    {
      "cell_type": "markdown",
      "metadata": {
        "id": "view-in-github",
        "colab_type": "text"
      },
      "source": [
        "<a href=\"https://colab.research.google.com/github/yangchangnaihoby/AI_7th/blob/master/Day_045_NLP_2.ipynb\" target=\"_parent\"><img src=\"https://colab.research.google.com/assets/colab-badge.svg\" alt=\"Open In Colab\"/></a>"
      ]
    },
    {
      "cell_type": "code",
      "execution_count": 1,
      "metadata": {
        "colab": {
          "base_uri": "https://localhost:8080/"
        },
        "id": "AuhkQkljTBIj",
        "outputId": "fcfb9e82-f3a9-489a-b3d1-6e846e661141"
      },
      "outputs": [
        {
          "output_type": "stream",
          "name": "stdout",
          "text": [
            "Looking in indexes: https://pypi.org/simple, https://us-python.pkg.dev/colab-wheels/public/simple/\n",
            "Collecting konlpy\n",
            "  Downloading konlpy-0.6.0-py2.py3-none-any.whl (19.4 MB)\n",
            "\u001b[K     |████████████████████████████████| 19.4 MB 1.3 MB/s \n",
            "\u001b[?25hCollecting JPype1>=0.7.0\n",
            "  Downloading JPype1-1.4.0-cp37-cp37m-manylinux_2_5_x86_64.manylinux1_x86_64.whl (453 kB)\n",
            "\u001b[K     |████████████████████████████████| 453 kB 38.2 MB/s \n",
            "\u001b[?25hRequirement already satisfied: numpy>=1.6 in /usr/local/lib/python3.7/dist-packages (from konlpy) (1.21.6)\n",
            "Requirement already satisfied: lxml>=4.1.0 in /usr/local/lib/python3.7/dist-packages (from konlpy) (4.2.6)\n",
            "Requirement already satisfied: typing-extensions in /usr/local/lib/python3.7/dist-packages (from JPype1>=0.7.0->konlpy) (4.1.1)\n",
            "Installing collected packages: JPype1, konlpy\n",
            "Successfully installed JPype1-1.4.0 konlpy-0.6.0\n"
          ]
        }
      ],
      "source": [
        "!pip install konlpy\n",
        "\n",
        "import pandas as pd\n",
        "import numpy as np\n",
        "import matplotlib.pyplot as plt\n",
        "import re\n",
        "import urllib.request\n",
        "from konlpy.tag import Okt\n",
        "from tqdm import tqdm\n",
        "from tensorflow.keras.preprocessing.text import Tokenizer\n",
        "from tensorflow.keras.preprocessing.sequence import pad_sequences\n",
        "from tensorflow.keras.utils import to_categorical\n",
        "from tensorflow.keras.layers import Embedding, Dense, LSTM\n",
        "from tensorflow.keras.models import Sequential, load_model\n",
        "from tensorflow.keras.callbacks import EarlyStopping, ModelCheckpoint"
      ]
    },
    {
      "cell_type": "code",
      "source": [
        "data = pd.read_csv('ChatbotData.csv')\n",
        "data.loc[data['label'] == 0, 'label'] = -1\n",
        "data.loc[data['label'] == 1, 'label'] = 0\n",
        "data.loc[data['label'] == -1, 'label'] = 1\n",
        "data.head()"
      ],
      "metadata": {
        "colab": {
          "base_uri": "https://localhost:8080/",
          "height": 206
        },
        "id": "YUah1mZ_T0Y8",
        "outputId": "699b6575-5300-4b08-df7c-8d3b87d571f0"
      },
      "execution_count": 39,
      "outputs": [
        {
          "output_type": "execute_result",
          "data": {
            "text/plain": [
              "                 Q            A  label\n",
              "0           12시 땡!   하루가 또 가네요.      1\n",
              "1      1지망 학교 떨어졌어    위로해 드립니다.      1\n",
              "2     3박4일 놀러가고 싶다  여행은 언제나 좋죠.      1\n",
              "3  3박4일 정도 놀러가고 싶다  여행은 언제나 좋죠.      1\n",
              "4          PPL 심하네   눈살이 찌푸려지죠.      1"
            ],
            "text/html": [
              "\n",
              "  <div id=\"df-9384d177-b55f-4d95-b7b7-87de313b195a\">\n",
              "    <div class=\"colab-df-container\">\n",
              "      <div>\n",
              "<style scoped>\n",
              "    .dataframe tbody tr th:only-of-type {\n",
              "        vertical-align: middle;\n",
              "    }\n",
              "\n",
              "    .dataframe tbody tr th {\n",
              "        vertical-align: top;\n",
              "    }\n",
              "\n",
              "    .dataframe thead th {\n",
              "        text-align: right;\n",
              "    }\n",
              "</style>\n",
              "<table border=\"1\" class=\"dataframe\">\n",
              "  <thead>\n",
              "    <tr style=\"text-align: right;\">\n",
              "      <th></th>\n",
              "      <th>Q</th>\n",
              "      <th>A</th>\n",
              "      <th>label</th>\n",
              "    </tr>\n",
              "  </thead>\n",
              "  <tbody>\n",
              "    <tr>\n",
              "      <th>0</th>\n",
              "      <td>12시 땡!</td>\n",
              "      <td>하루가 또 가네요.</td>\n",
              "      <td>1</td>\n",
              "    </tr>\n",
              "    <tr>\n",
              "      <th>1</th>\n",
              "      <td>1지망 학교 떨어졌어</td>\n",
              "      <td>위로해 드립니다.</td>\n",
              "      <td>1</td>\n",
              "    </tr>\n",
              "    <tr>\n",
              "      <th>2</th>\n",
              "      <td>3박4일 놀러가고 싶다</td>\n",
              "      <td>여행은 언제나 좋죠.</td>\n",
              "      <td>1</td>\n",
              "    </tr>\n",
              "    <tr>\n",
              "      <th>3</th>\n",
              "      <td>3박4일 정도 놀러가고 싶다</td>\n",
              "      <td>여행은 언제나 좋죠.</td>\n",
              "      <td>1</td>\n",
              "    </tr>\n",
              "    <tr>\n",
              "      <th>4</th>\n",
              "      <td>PPL 심하네</td>\n",
              "      <td>눈살이 찌푸려지죠.</td>\n",
              "      <td>1</td>\n",
              "    </tr>\n",
              "  </tbody>\n",
              "</table>\n",
              "</div>\n",
              "      <button class=\"colab-df-convert\" onclick=\"convertToInteractive('df-9384d177-b55f-4d95-b7b7-87de313b195a')\"\n",
              "              title=\"Convert this dataframe to an interactive table.\"\n",
              "              style=\"display:none;\">\n",
              "        \n",
              "  <svg xmlns=\"http://www.w3.org/2000/svg\" height=\"24px\"viewBox=\"0 0 24 24\"\n",
              "       width=\"24px\">\n",
              "    <path d=\"M0 0h24v24H0V0z\" fill=\"none\"/>\n",
              "    <path d=\"M18.56 5.44l.94 2.06.94-2.06 2.06-.94-2.06-.94-.94-2.06-.94 2.06-2.06.94zm-11 1L8.5 8.5l.94-2.06 2.06-.94-2.06-.94L8.5 2.5l-.94 2.06-2.06.94zm10 10l.94 2.06.94-2.06 2.06-.94-2.06-.94-.94-2.06-.94 2.06-2.06.94z\"/><path d=\"M17.41 7.96l-1.37-1.37c-.4-.4-.92-.59-1.43-.59-.52 0-1.04.2-1.43.59L10.3 9.45l-7.72 7.72c-.78.78-.78 2.05 0 2.83L4 21.41c.39.39.9.59 1.41.59.51 0 1.02-.2 1.41-.59l7.78-7.78 2.81-2.81c.8-.78.8-2.07 0-2.86zM5.41 20L4 18.59l7.72-7.72 1.47 1.35L5.41 20z\"/>\n",
              "  </svg>\n",
              "      </button>\n",
              "      \n",
              "  <style>\n",
              "    .colab-df-container {\n",
              "      display:flex;\n",
              "      flex-wrap:wrap;\n",
              "      gap: 12px;\n",
              "    }\n",
              "\n",
              "    .colab-df-convert {\n",
              "      background-color: #E8F0FE;\n",
              "      border: none;\n",
              "      border-radius: 50%;\n",
              "      cursor: pointer;\n",
              "      display: none;\n",
              "      fill: #1967D2;\n",
              "      height: 32px;\n",
              "      padding: 0 0 0 0;\n",
              "      width: 32px;\n",
              "    }\n",
              "\n",
              "    .colab-df-convert:hover {\n",
              "      background-color: #E2EBFA;\n",
              "      box-shadow: 0px 1px 2px rgba(60, 64, 67, 0.3), 0px 1px 3px 1px rgba(60, 64, 67, 0.15);\n",
              "      fill: #174EA6;\n",
              "    }\n",
              "\n",
              "    [theme=dark] .colab-df-convert {\n",
              "      background-color: #3B4455;\n",
              "      fill: #D2E3FC;\n",
              "    }\n",
              "\n",
              "    [theme=dark] .colab-df-convert:hover {\n",
              "      background-color: #434B5C;\n",
              "      box-shadow: 0px 1px 3px 1px rgba(0, 0, 0, 0.15);\n",
              "      filter: drop-shadow(0px 1px 2px rgba(0, 0, 0, 0.3));\n",
              "      fill: #FFFFFF;\n",
              "    }\n",
              "  </style>\n",
              "\n",
              "      <script>\n",
              "        const buttonEl =\n",
              "          document.querySelector('#df-9384d177-b55f-4d95-b7b7-87de313b195a button.colab-df-convert');\n",
              "        buttonEl.style.display =\n",
              "          google.colab.kernel.accessAllowed ? 'block' : 'none';\n",
              "\n",
              "        async function convertToInteractive(key) {\n",
              "          const element = document.querySelector('#df-9384d177-b55f-4d95-b7b7-87de313b195a');\n",
              "          const dataTable =\n",
              "            await google.colab.kernel.invokeFunction('convertToInteractive',\n",
              "                                                     [key], {});\n",
              "          if (!dataTable) return;\n",
              "\n",
              "          const docLinkHtml = 'Like what you see? Visit the ' +\n",
              "            '<a target=\"_blank\" href=https://colab.research.google.com/notebooks/data_table.ipynb>data table notebook</a>'\n",
              "            + ' to learn more about interactive tables.';\n",
              "          element.innerHTML = '';\n",
              "          dataTable['output_type'] = 'display_data';\n",
              "          await google.colab.output.renderOutput(dataTable, element);\n",
              "          const docLink = document.createElement('div');\n",
              "          docLink.innerHTML = docLinkHtml;\n",
              "          element.appendChild(docLink);\n",
              "        }\n",
              "      </script>\n",
              "    </div>\n",
              "  </div>\n",
              "  "
            ]
          },
          "metadata": {},
          "execution_count": 39
        }
      ]
    },
    {
      "cell_type": "code",
      "source": [
        "data_0 = data[data['label'] == 0]\n",
        "data_0.head()"
      ],
      "metadata": {
        "colab": {
          "base_uri": "https://localhost:8080/",
          "height": 206
        },
        "id": "YmIocbh0XSHr",
        "outputId": "cb063249-8a3a-47d0-fd80-b4889d422aca"
      },
      "execution_count": 67,
      "outputs": [
        {
          "output_type": "execute_result",
          "data": {
            "text/plain": [
              "                         Q                         A  label\n",
              "5290     1000일 만난 여자친구와 이별         더 오래 만날 사람 만날 거예요      0\n",
              "5291       10년 연애. 헤어졌습니다.              더 공허함이 크시겠네요      0\n",
              "5292  10년 연애사 되돌아보니 다 부질없네           더 좋은 사람 만나실 거예요      0\n",
              "5293              10년 연예의끝               더 마음이 허하겠어요      0\n",
              "5294           10년만나다 헤어지네  충분히 슬퍼하고 충분히 아파하다가 이겨내세요      0"
            ],
            "text/html": [
              "\n",
              "  <div id=\"df-3ab62c71-3f87-4e5b-9c7a-3d53dadfce45\">\n",
              "    <div class=\"colab-df-container\">\n",
              "      <div>\n",
              "<style scoped>\n",
              "    .dataframe tbody tr th:only-of-type {\n",
              "        vertical-align: middle;\n",
              "    }\n",
              "\n",
              "    .dataframe tbody tr th {\n",
              "        vertical-align: top;\n",
              "    }\n",
              "\n",
              "    .dataframe thead th {\n",
              "        text-align: right;\n",
              "    }\n",
              "</style>\n",
              "<table border=\"1\" class=\"dataframe\">\n",
              "  <thead>\n",
              "    <tr style=\"text-align: right;\">\n",
              "      <th></th>\n",
              "      <th>Q</th>\n",
              "      <th>A</th>\n",
              "      <th>label</th>\n",
              "    </tr>\n",
              "  </thead>\n",
              "  <tbody>\n",
              "    <tr>\n",
              "      <th>5290</th>\n",
              "      <td>1000일 만난 여자친구와 이별</td>\n",
              "      <td>더 오래 만날 사람 만날 거예요</td>\n",
              "      <td>0</td>\n",
              "    </tr>\n",
              "    <tr>\n",
              "      <th>5291</th>\n",
              "      <td>10년 연애. 헤어졌습니다.</td>\n",
              "      <td>더 공허함이 크시겠네요</td>\n",
              "      <td>0</td>\n",
              "    </tr>\n",
              "    <tr>\n",
              "      <th>5292</th>\n",
              "      <td>10년 연애사 되돌아보니 다 부질없네</td>\n",
              "      <td>더 좋은 사람 만나실 거예요</td>\n",
              "      <td>0</td>\n",
              "    </tr>\n",
              "    <tr>\n",
              "      <th>5293</th>\n",
              "      <td>10년 연예의끝</td>\n",
              "      <td>더 마음이 허하겠어요</td>\n",
              "      <td>0</td>\n",
              "    </tr>\n",
              "    <tr>\n",
              "      <th>5294</th>\n",
              "      <td>10년만나다 헤어지네</td>\n",
              "      <td>충분히 슬퍼하고 충분히 아파하다가 이겨내세요</td>\n",
              "      <td>0</td>\n",
              "    </tr>\n",
              "  </tbody>\n",
              "</table>\n",
              "</div>\n",
              "      <button class=\"colab-df-convert\" onclick=\"convertToInteractive('df-3ab62c71-3f87-4e5b-9c7a-3d53dadfce45')\"\n",
              "              title=\"Convert this dataframe to an interactive table.\"\n",
              "              style=\"display:none;\">\n",
              "        \n",
              "  <svg xmlns=\"http://www.w3.org/2000/svg\" height=\"24px\"viewBox=\"0 0 24 24\"\n",
              "       width=\"24px\">\n",
              "    <path d=\"M0 0h24v24H0V0z\" fill=\"none\"/>\n",
              "    <path d=\"M18.56 5.44l.94 2.06.94-2.06 2.06-.94-2.06-.94-.94-2.06-.94 2.06-2.06.94zm-11 1L8.5 8.5l.94-2.06 2.06-.94-2.06-.94L8.5 2.5l-.94 2.06-2.06.94zm10 10l.94 2.06.94-2.06 2.06-.94-2.06-.94-.94-2.06-.94 2.06-2.06.94z\"/><path d=\"M17.41 7.96l-1.37-1.37c-.4-.4-.92-.59-1.43-.59-.52 0-1.04.2-1.43.59L10.3 9.45l-7.72 7.72c-.78.78-.78 2.05 0 2.83L4 21.41c.39.39.9.59 1.41.59.51 0 1.02-.2 1.41-.59l7.78-7.78 2.81-2.81c.8-.78.8-2.07 0-2.86zM5.41 20L4 18.59l7.72-7.72 1.47 1.35L5.41 20z\"/>\n",
              "  </svg>\n",
              "      </button>\n",
              "      \n",
              "  <style>\n",
              "    .colab-df-container {\n",
              "      display:flex;\n",
              "      flex-wrap:wrap;\n",
              "      gap: 12px;\n",
              "    }\n",
              "\n",
              "    .colab-df-convert {\n",
              "      background-color: #E8F0FE;\n",
              "      border: none;\n",
              "      border-radius: 50%;\n",
              "      cursor: pointer;\n",
              "      display: none;\n",
              "      fill: #1967D2;\n",
              "      height: 32px;\n",
              "      padding: 0 0 0 0;\n",
              "      width: 32px;\n",
              "    }\n",
              "\n",
              "    .colab-df-convert:hover {\n",
              "      background-color: #E2EBFA;\n",
              "      box-shadow: 0px 1px 2px rgba(60, 64, 67, 0.3), 0px 1px 3px 1px rgba(60, 64, 67, 0.15);\n",
              "      fill: #174EA6;\n",
              "    }\n",
              "\n",
              "    [theme=dark] .colab-df-convert {\n",
              "      background-color: #3B4455;\n",
              "      fill: #D2E3FC;\n",
              "    }\n",
              "\n",
              "    [theme=dark] .colab-df-convert:hover {\n",
              "      background-color: #434B5C;\n",
              "      box-shadow: 0px 1px 3px 1px rgba(0, 0, 0, 0.15);\n",
              "      filter: drop-shadow(0px 1px 2px rgba(0, 0, 0, 0.3));\n",
              "      fill: #FFFFFF;\n",
              "    }\n",
              "  </style>\n",
              "\n",
              "      <script>\n",
              "        const buttonEl =\n",
              "          document.querySelector('#df-3ab62c71-3f87-4e5b-9c7a-3d53dadfce45 button.colab-df-convert');\n",
              "        buttonEl.style.display =\n",
              "          google.colab.kernel.accessAllowed ? 'block' : 'none';\n",
              "\n",
              "        async function convertToInteractive(key) {\n",
              "          const element = document.querySelector('#df-3ab62c71-3f87-4e5b-9c7a-3d53dadfce45');\n",
              "          const dataTable =\n",
              "            await google.colab.kernel.invokeFunction('convertToInteractive',\n",
              "                                                     [key], {});\n",
              "          if (!dataTable) return;\n",
              "\n",
              "          const docLinkHtml = 'Like what you see? Visit the ' +\n",
              "            '<a target=\"_blank\" href=https://colab.research.google.com/notebooks/data_table.ipynb>data table notebook</a>'\n",
              "            + ' to learn more about interactive tables.';\n",
              "          element.innerHTML = '';\n",
              "          dataTable['output_type'] = 'display_data';\n",
              "          await google.colab.output.renderOutput(dataTable, element);\n",
              "          const docLink = document.createElement('div');\n",
              "          docLink.innerHTML = docLinkHtml;\n",
              "          element.appendChild(docLink);\n",
              "        }\n",
              "      </script>\n",
              "    </div>\n",
              "  </div>\n",
              "  "
            ]
          },
          "metadata": {},
          "execution_count": 67
        }
      ]
    },
    {
      "cell_type": "code",
      "source": [
        "data_1 = data[data['label'] == 1]\n",
        "data_1.head()"
      ],
      "metadata": {
        "colab": {
          "base_uri": "https://localhost:8080/",
          "height": 206
        },
        "id": "r3HcoS53Xm-w",
        "outputId": "9e3f9676-e457-404a-b7e9-e62fe69c0026"
      },
      "execution_count": 68,
      "outputs": [
        {
          "output_type": "execute_result",
          "data": {
            "text/plain": [
              "              Q                  A  label\n",
              "0        12시 땡!          하루가 또 가네요      1\n",
              "1   1지망 학교 떨어졌어           위로해 드립니다      1\n",
              "2  3박4일 놀러가고 싶다         여행은 언제나 좋죠      1\n",
              "4       PPL 심하네          눈살이 찌푸려지죠      1\n",
              "5     SD카드 망가졌어  다시 새로 사는 게 마음 편해요      1"
            ],
            "text/html": [
              "\n",
              "  <div id=\"df-45bbce2a-7f89-49f5-974a-d3a85e067b01\">\n",
              "    <div class=\"colab-df-container\">\n",
              "      <div>\n",
              "<style scoped>\n",
              "    .dataframe tbody tr th:only-of-type {\n",
              "        vertical-align: middle;\n",
              "    }\n",
              "\n",
              "    .dataframe tbody tr th {\n",
              "        vertical-align: top;\n",
              "    }\n",
              "\n",
              "    .dataframe thead th {\n",
              "        text-align: right;\n",
              "    }\n",
              "</style>\n",
              "<table border=\"1\" class=\"dataframe\">\n",
              "  <thead>\n",
              "    <tr style=\"text-align: right;\">\n",
              "      <th></th>\n",
              "      <th>Q</th>\n",
              "      <th>A</th>\n",
              "      <th>label</th>\n",
              "    </tr>\n",
              "  </thead>\n",
              "  <tbody>\n",
              "    <tr>\n",
              "      <th>0</th>\n",
              "      <td>12시 땡!</td>\n",
              "      <td>하루가 또 가네요</td>\n",
              "      <td>1</td>\n",
              "    </tr>\n",
              "    <tr>\n",
              "      <th>1</th>\n",
              "      <td>1지망 학교 떨어졌어</td>\n",
              "      <td>위로해 드립니다</td>\n",
              "      <td>1</td>\n",
              "    </tr>\n",
              "    <tr>\n",
              "      <th>2</th>\n",
              "      <td>3박4일 놀러가고 싶다</td>\n",
              "      <td>여행은 언제나 좋죠</td>\n",
              "      <td>1</td>\n",
              "    </tr>\n",
              "    <tr>\n",
              "      <th>4</th>\n",
              "      <td>PPL 심하네</td>\n",
              "      <td>눈살이 찌푸려지죠</td>\n",
              "      <td>1</td>\n",
              "    </tr>\n",
              "    <tr>\n",
              "      <th>5</th>\n",
              "      <td>SD카드 망가졌어</td>\n",
              "      <td>다시 새로 사는 게 마음 편해요</td>\n",
              "      <td>1</td>\n",
              "    </tr>\n",
              "  </tbody>\n",
              "</table>\n",
              "</div>\n",
              "      <button class=\"colab-df-convert\" onclick=\"convertToInteractive('df-45bbce2a-7f89-49f5-974a-d3a85e067b01')\"\n",
              "              title=\"Convert this dataframe to an interactive table.\"\n",
              "              style=\"display:none;\">\n",
              "        \n",
              "  <svg xmlns=\"http://www.w3.org/2000/svg\" height=\"24px\"viewBox=\"0 0 24 24\"\n",
              "       width=\"24px\">\n",
              "    <path d=\"M0 0h24v24H0V0z\" fill=\"none\"/>\n",
              "    <path d=\"M18.56 5.44l.94 2.06.94-2.06 2.06-.94-2.06-.94-.94-2.06-.94 2.06-2.06.94zm-11 1L8.5 8.5l.94-2.06 2.06-.94-2.06-.94L8.5 2.5l-.94 2.06-2.06.94zm10 10l.94 2.06.94-2.06 2.06-.94-2.06-.94-.94-2.06-.94 2.06-2.06.94z\"/><path d=\"M17.41 7.96l-1.37-1.37c-.4-.4-.92-.59-1.43-.59-.52 0-1.04.2-1.43.59L10.3 9.45l-7.72 7.72c-.78.78-.78 2.05 0 2.83L4 21.41c.39.39.9.59 1.41.59.51 0 1.02-.2 1.41-.59l7.78-7.78 2.81-2.81c.8-.78.8-2.07 0-2.86zM5.41 20L4 18.59l7.72-7.72 1.47 1.35L5.41 20z\"/>\n",
              "  </svg>\n",
              "      </button>\n",
              "      \n",
              "  <style>\n",
              "    .colab-df-container {\n",
              "      display:flex;\n",
              "      flex-wrap:wrap;\n",
              "      gap: 12px;\n",
              "    }\n",
              "\n",
              "    .colab-df-convert {\n",
              "      background-color: #E8F0FE;\n",
              "      border: none;\n",
              "      border-radius: 50%;\n",
              "      cursor: pointer;\n",
              "      display: none;\n",
              "      fill: #1967D2;\n",
              "      height: 32px;\n",
              "      padding: 0 0 0 0;\n",
              "      width: 32px;\n",
              "    }\n",
              "\n",
              "    .colab-df-convert:hover {\n",
              "      background-color: #E2EBFA;\n",
              "      box-shadow: 0px 1px 2px rgba(60, 64, 67, 0.3), 0px 1px 3px 1px rgba(60, 64, 67, 0.15);\n",
              "      fill: #174EA6;\n",
              "    }\n",
              "\n",
              "    [theme=dark] .colab-df-convert {\n",
              "      background-color: #3B4455;\n",
              "      fill: #D2E3FC;\n",
              "    }\n",
              "\n",
              "    [theme=dark] .colab-df-convert:hover {\n",
              "      background-color: #434B5C;\n",
              "      box-shadow: 0px 1px 3px 1px rgba(0, 0, 0, 0.15);\n",
              "      filter: drop-shadow(0px 1px 2px rgba(0, 0, 0, 0.3));\n",
              "      fill: #FFFFFF;\n",
              "    }\n",
              "  </style>\n",
              "\n",
              "      <script>\n",
              "        const buttonEl =\n",
              "          document.querySelector('#df-45bbce2a-7f89-49f5-974a-d3a85e067b01 button.colab-df-convert');\n",
              "        buttonEl.style.display =\n",
              "          google.colab.kernel.accessAllowed ? 'block' : 'none';\n",
              "\n",
              "        async function convertToInteractive(key) {\n",
              "          const element = document.querySelector('#df-45bbce2a-7f89-49f5-974a-d3a85e067b01');\n",
              "          const dataTable =\n",
              "            await google.colab.kernel.invokeFunction('convertToInteractive',\n",
              "                                                     [key], {});\n",
              "          if (!dataTable) return;\n",
              "\n",
              "          const docLinkHtml = 'Like what you see? Visit the ' +\n",
              "            '<a target=\"_blank\" href=https://colab.research.google.com/notebooks/data_table.ipynb>data table notebook</a>'\n",
              "            + ' to learn more about interactive tables.';\n",
              "          element.innerHTML = '';\n",
              "          dataTable['output_type'] = 'display_data';\n",
              "          await google.colab.output.renderOutput(dataTable, element);\n",
              "          const docLink = document.createElement('div');\n",
              "          docLink.innerHTML = docLinkHtml;\n",
              "          element.appendChild(docLink);\n",
              "        }\n",
              "      </script>\n",
              "    </div>\n",
              "  </div>\n",
              "  "
            ]
          },
          "metadata": {},
          "execution_count": 68
        }
      ]
    },
    {
      "cell_type": "code",
      "source": [
        "data_2 = data[data['label'] == 2]\n",
        "data_2.head()"
      ],
      "metadata": {
        "colab": {
          "base_uri": "https://localhost:8080/",
          "height": 206
        },
        "id": "_RyJv8FuXqCk",
        "outputId": "9204eabf-b261-4f23-eaa1-4cacec6b7c87"
      },
      "execution_count": 69,
      "outputs": [
        {
          "output_type": "execute_result",
          "data": {
            "text/plain": [
              "                             Q                        A  label\n",
              "8860        짝사랑만큼 고통스러운 건 없겠지.  짝사랑 만큼 감정소모가 큰 건 없을 거예요      2\n",
              "8861       1년 넘게 만났는데 지금도 불타올라         정열적인 사랑을 하고 있나봐요      2\n",
              "8862           1년 동거 중인데 계속 좋아    서로 깊게 알게되면서 더 좋아졌나봅니다      2\n",
              "8864  1년 만났는데도 그 사람에 대해 잘 모르겠어                  더 만나보세요      2\n",
              "8865     1년반 만났는데 결혼하자고 해도 될까?            기다리고 있을지도 몰라요      2"
            ],
            "text/html": [
              "\n",
              "  <div id=\"df-3eba0059-fc6c-4fbe-9f0a-9fe9c44b65ac\">\n",
              "    <div class=\"colab-df-container\">\n",
              "      <div>\n",
              "<style scoped>\n",
              "    .dataframe tbody tr th:only-of-type {\n",
              "        vertical-align: middle;\n",
              "    }\n",
              "\n",
              "    .dataframe tbody tr th {\n",
              "        vertical-align: top;\n",
              "    }\n",
              "\n",
              "    .dataframe thead th {\n",
              "        text-align: right;\n",
              "    }\n",
              "</style>\n",
              "<table border=\"1\" class=\"dataframe\">\n",
              "  <thead>\n",
              "    <tr style=\"text-align: right;\">\n",
              "      <th></th>\n",
              "      <th>Q</th>\n",
              "      <th>A</th>\n",
              "      <th>label</th>\n",
              "    </tr>\n",
              "  </thead>\n",
              "  <tbody>\n",
              "    <tr>\n",
              "      <th>8860</th>\n",
              "      <td>짝사랑만큼 고통스러운 건 없겠지.</td>\n",
              "      <td>짝사랑 만큼 감정소모가 큰 건 없을 거예요</td>\n",
              "      <td>2</td>\n",
              "    </tr>\n",
              "    <tr>\n",
              "      <th>8861</th>\n",
              "      <td>1년 넘게 만났는데 지금도 불타올라</td>\n",
              "      <td>정열적인 사랑을 하고 있나봐요</td>\n",
              "      <td>2</td>\n",
              "    </tr>\n",
              "    <tr>\n",
              "      <th>8862</th>\n",
              "      <td>1년 동거 중인데 계속 좋아</td>\n",
              "      <td>서로 깊게 알게되면서 더 좋아졌나봅니다</td>\n",
              "      <td>2</td>\n",
              "    </tr>\n",
              "    <tr>\n",
              "      <th>8864</th>\n",
              "      <td>1년 만났는데도 그 사람에 대해 잘 모르겠어</td>\n",
              "      <td>더 만나보세요</td>\n",
              "      <td>2</td>\n",
              "    </tr>\n",
              "    <tr>\n",
              "      <th>8865</th>\n",
              "      <td>1년반 만났는데 결혼하자고 해도 될까?</td>\n",
              "      <td>기다리고 있을지도 몰라요</td>\n",
              "      <td>2</td>\n",
              "    </tr>\n",
              "  </tbody>\n",
              "</table>\n",
              "</div>\n",
              "      <button class=\"colab-df-convert\" onclick=\"convertToInteractive('df-3eba0059-fc6c-4fbe-9f0a-9fe9c44b65ac')\"\n",
              "              title=\"Convert this dataframe to an interactive table.\"\n",
              "              style=\"display:none;\">\n",
              "        \n",
              "  <svg xmlns=\"http://www.w3.org/2000/svg\" height=\"24px\"viewBox=\"0 0 24 24\"\n",
              "       width=\"24px\">\n",
              "    <path d=\"M0 0h24v24H0V0z\" fill=\"none\"/>\n",
              "    <path d=\"M18.56 5.44l.94 2.06.94-2.06 2.06-.94-2.06-.94-.94-2.06-.94 2.06-2.06.94zm-11 1L8.5 8.5l.94-2.06 2.06-.94-2.06-.94L8.5 2.5l-.94 2.06-2.06.94zm10 10l.94 2.06.94-2.06 2.06-.94-2.06-.94-.94-2.06-.94 2.06-2.06.94z\"/><path d=\"M17.41 7.96l-1.37-1.37c-.4-.4-.92-.59-1.43-.59-.52 0-1.04.2-1.43.59L10.3 9.45l-7.72 7.72c-.78.78-.78 2.05 0 2.83L4 21.41c.39.39.9.59 1.41.59.51 0 1.02-.2 1.41-.59l7.78-7.78 2.81-2.81c.8-.78.8-2.07 0-2.86zM5.41 20L4 18.59l7.72-7.72 1.47 1.35L5.41 20z\"/>\n",
              "  </svg>\n",
              "      </button>\n",
              "      \n",
              "  <style>\n",
              "    .colab-df-container {\n",
              "      display:flex;\n",
              "      flex-wrap:wrap;\n",
              "      gap: 12px;\n",
              "    }\n",
              "\n",
              "    .colab-df-convert {\n",
              "      background-color: #E8F0FE;\n",
              "      border: none;\n",
              "      border-radius: 50%;\n",
              "      cursor: pointer;\n",
              "      display: none;\n",
              "      fill: #1967D2;\n",
              "      height: 32px;\n",
              "      padding: 0 0 0 0;\n",
              "      width: 32px;\n",
              "    }\n",
              "\n",
              "    .colab-df-convert:hover {\n",
              "      background-color: #E2EBFA;\n",
              "      box-shadow: 0px 1px 2px rgba(60, 64, 67, 0.3), 0px 1px 3px 1px rgba(60, 64, 67, 0.15);\n",
              "      fill: #174EA6;\n",
              "    }\n",
              "\n",
              "    [theme=dark] .colab-df-convert {\n",
              "      background-color: #3B4455;\n",
              "      fill: #D2E3FC;\n",
              "    }\n",
              "\n",
              "    [theme=dark] .colab-df-convert:hover {\n",
              "      background-color: #434B5C;\n",
              "      box-shadow: 0px 1px 3px 1px rgba(0, 0, 0, 0.15);\n",
              "      filter: drop-shadow(0px 1px 2px rgba(0, 0, 0, 0.3));\n",
              "      fill: #FFFFFF;\n",
              "    }\n",
              "  </style>\n",
              "\n",
              "      <script>\n",
              "        const buttonEl =\n",
              "          document.querySelector('#df-3eba0059-fc6c-4fbe-9f0a-9fe9c44b65ac button.colab-df-convert');\n",
              "        buttonEl.style.display =\n",
              "          google.colab.kernel.accessAllowed ? 'block' : 'none';\n",
              "\n",
              "        async function convertToInteractive(key) {\n",
              "          const element = document.querySelector('#df-3eba0059-fc6c-4fbe-9f0a-9fe9c44b65ac');\n",
              "          const dataTable =\n",
              "            await google.colab.kernel.invokeFunction('convertToInteractive',\n",
              "                                                     [key], {});\n",
              "          if (!dataTable) return;\n",
              "\n",
              "          const docLinkHtml = 'Like what you see? Visit the ' +\n",
              "            '<a target=\"_blank\" href=https://colab.research.google.com/notebooks/data_table.ipynb>data table notebook</a>'\n",
              "            + ' to learn more about interactive tables.';\n",
              "          element.innerHTML = '';\n",
              "          dataTable['output_type'] = 'display_data';\n",
              "          await google.colab.output.renderOutput(dataTable, element);\n",
              "          const docLink = document.createElement('div');\n",
              "          docLink.innerHTML = docLinkHtml;\n",
              "          element.appendChild(docLink);\n",
              "        }\n",
              "      </script>\n",
              "    </div>\n",
              "  </div>\n",
              "  "
            ]
          },
          "metadata": {},
          "execution_count": 69
        }
      ]
    },
    {
      "cell_type": "code",
      "source": [
        "data['A'].nunique(), data['label'].nunique()"
      ],
      "metadata": {
        "colab": {
          "base_uri": "https://localhost:8080/"
        },
        "id": "f9Y0bBz6UOby",
        "outputId": "96dccce2-4908-4842-8a59-7570b1b68157"
      },
      "execution_count": 72,
      "outputs": [
        {
          "output_type": "execute_result",
          "data": {
            "text/plain": [
              "(7751, 3)"
            ]
          },
          "metadata": {},
          "execution_count": 72
        }
      ]
    },
    {
      "cell_type": "code",
      "source": [
        "data['Q'].nunique(), data['label'].nunique()"
      ],
      "metadata": {
        "colab": {
          "base_uri": "https://localhost:8080/"
        },
        "id": "-FukzVyPYcy8",
        "outputId": "e85d5cf0-cec2-4346-bd98-4913ab344239"
      },
      "execution_count": 73,
      "outputs": [
        {
          "output_type": "execute_result",
          "data": {
            "text/plain": [
              "(7727, 3)"
            ]
          },
          "metadata": {},
          "execution_count": 73
        }
      ]
    },
    {
      "cell_type": "code",
      "source": [
        "len(data)"
      ],
      "metadata": {
        "colab": {
          "base_uri": "https://localhost:8080/"
        },
        "id": "ztMCio0NUXcI",
        "outputId": "ca2f5445-b8db-4032-d4a4-49d3321c9921"
      },
      "execution_count": 74,
      "outputs": [
        {
          "output_type": "execute_result",
          "data": {
            "text/plain": [
              "7779"
            ]
          },
          "metadata": {},
          "execution_count": 74
        }
      ]
    },
    {
      "cell_type": "code",
      "source": [
        "data.drop_duplicates(subset = ['A'], inplace = True)\n",
        "data.drop_duplicates(subset = ['Q'], inplace = True)"
      ],
      "metadata": {
        "id": "mlPuUgazUZwu"
      },
      "execution_count": 75,
      "outputs": []
    },
    {
      "cell_type": "code",
      "source": [
        "len(data)"
      ],
      "metadata": {
        "colab": {
          "base_uri": "https://localhost:8080/"
        },
        "id": "UE8Kuj2aUbEc",
        "outputId": "7d269805-be54-49a1-de65-f5deb44f6603"
      },
      "execution_count": 76,
      "outputs": [
        {
          "output_type": "execute_result",
          "data": {
            "text/plain": [
              "7700"
            ]
          },
          "metadata": {},
          "execution_count": 76
        }
      ]
    },
    {
      "cell_type": "code",
      "source": [
        "data['label'].value_counts().plot(kind = 'bar')"
      ],
      "metadata": {
        "colab": {
          "base_uri": "https://localhost:8080/",
          "height": 283
        },
        "id": "E04HrR5cUce7",
        "outputId": "813de57c-96e5-44aa-81f8-3c9b2e21eed8"
      },
      "execution_count": 77,
      "outputs": [
        {
          "output_type": "execute_result",
          "data": {
            "text/plain": [
              "<matplotlib.axes._subplots.AxesSubplot at 0x7f5355b40a10>"
            ]
          },
          "metadata": {},
          "execution_count": 77
        },
        {
          "output_type": "display_data",
          "data": {
            "text/plain": [
              "<Figure size 432x288 with 1 Axes>"
            ],
            "image/png": "[encoded data removed]"
          },
          "metadata": {
            "needs_background": "light"
          }
        }
      ]
    },
    {
      "cell_type": "code",
      "source": [
        "print(data.groupby('label').size().reset_index(name = 'count'))"
      ],
      "metadata": {
        "colab": {
          "base_uri": "https://localhost:8080/"
        },
        "id": "HekW52M8UeYP",
        "outputId": "34c392eb-1d48-4b57-a6ac-8f4e337cef80"
      },
      "execution_count": 78,
      "outputs": [
        {
          "output_type": "stream",
          "name": "stdout",
          "text": [
            "   label  count\n",
            "0      0   2877\n",
            "1      1   2364\n",
            "2      2   2459\n"
          ]
        }
      ]
    },
    {
      "cell_type": "code",
      "source": [
        "print(data.isnull().values.any())"
      ],
      "metadata": {
        "colab": {
          "base_uri": "https://localhost:8080/"
        },
        "id": "gxqlpvq7UgYg",
        "outputId": "5fcd2f51-c42d-46d5-d815-1daaffcdb55b"
      },
      "execution_count": 79,
      "outputs": [
        {
          "output_type": "stream",
          "name": "stdout",
          "text": [
            "False\n"
          ]
        }
      ]
    },
    {
      "cell_type": "code",
      "source": [
        "data['A'] = data['A'].str.replace(\"[^ㄱ-ㅎㅏ-ㅣ가-힣 ]\",\"\")\n",
        "data['Q'] = data['Q'].str.replace(\"[^ㄱ-ㅎㅏ-ㅣ가-힣 ]\",\"\")\n",
        "data[ : 5]"
      ],
      "metadata": {
        "colab": {
          "base_uri": "https://localhost:8080/",
          "height": 301
        },
        "id": "nTgtUB3mUh50",
        "outputId": "4782901a-7bee-480c-9fc5-30476013f578"
      },
      "execution_count": 80,
      "outputs": [
        {
          "output_type": "stream",
          "name": "stderr",
          "text": [
            "/usr/local/lib/python3.7/dist-packages/ipykernel_launcher.py:1: FutureWarning: The default value of regex will change from True to False in a future version.\n",
            "  \"\"\"Entry point for launching an IPython kernel.\n",
            "/usr/local/lib/python3.7/dist-packages/ipykernel_launcher.py:2: FutureWarning: The default value of regex will change from True to False in a future version.\n",
            "  \n"
          ]
        },
        {
          "output_type": "execute_result",
          "data": {
            "text/plain": [
              "            Q                  A  label\n",
              "0         시 땡          하루가 또 가네요      1\n",
              "1  지망 학교 떨어졌어           위로해 드립니다      1\n",
              "2  박일 놀러가고 싶다         여행은 언제나 좋죠      1\n",
              "4         심하네          눈살이 찌푸려지죠      1\n",
              "5     카드 망가졌어  다시 새로 사는 게 마음 편해요      1"
            ],
            "text/html": [
              "\n",
              "  <div id=\"df-a0588975-9582-405a-a84e-ca69ec4425b1\">\n",
              "    <div class=\"colab-df-container\">\n",
              "      <div>\n",
              "<style scoped>\n",
              "    .dataframe tbody tr th:only-of-type {\n",
              "        vertical-align: middle;\n",
              "    }\n",
              "\n",
              "    .dataframe tbody tr th {\n",
              "        vertical-align: top;\n",
              "    }\n",
              "\n",
              "    .dataframe thead th {\n",
              "        text-align: right;\n",
              "    }\n",
              "</style>\n",
              "<table border=\"1\" class=\"dataframe\">\n",
              "  <thead>\n",
              "    <tr style=\"text-align: right;\">\n",
              "      <th></th>\n",
              "      <th>Q</th>\n",
              "      <th>A</th>\n",
              "      <th>label</th>\n",
              "    </tr>\n",
              "  </thead>\n",
              "  <tbody>\n",
              "    <tr>\n",
              "      <th>0</th>\n",
              "      <td>시 땡</td>\n",
              "      <td>하루가 또 가네요</td>\n",
              "      <td>1</td>\n",
              "    </tr>\n",
              "    <tr>\n",
              "      <th>1</th>\n",
              "      <td>지망 학교 떨어졌어</td>\n",
              "      <td>위로해 드립니다</td>\n",
              "      <td>1</td>\n",
              "    </tr>\n",
              "    <tr>\n",
              "      <th>2</th>\n",
              "      <td>박일 놀러가고 싶다</td>\n",
              "      <td>여행은 언제나 좋죠</td>\n",
              "      <td>1</td>\n",
              "    </tr>\n",
              "    <tr>\n",
              "      <th>4</th>\n",
              "      <td>심하네</td>\n",
              "      <td>눈살이 찌푸려지죠</td>\n",
              "      <td>1</td>\n",
              "    </tr>\n",
              "    <tr>\n",
              "      <th>5</th>\n",
              "      <td>카드 망가졌어</td>\n",
              "      <td>다시 새로 사는 게 마음 편해요</td>\n",
              "      <td>1</td>\n",
              "    </tr>\n",
              "  </tbody>\n",
              "</table>\n",
              "</div>\n",
              "      <button class=\"colab-df-convert\" onclick=\"convertToInteractive('df-a0588975-9582-405a-a84e-ca69ec4425b1')\"\n",
              "              title=\"Convert this dataframe to an interactive table.\"\n",
              "              style=\"display:none;\">\n",
              "        \n",
              "  <svg xmlns=\"http://www.w3.org/2000/svg\" height=\"24px\"viewBox=\"0 0 24 24\"\n",
              "       width=\"24px\">\n",
              "    <path d=\"M0 0h24v24H0V0z\" fill=\"none\"/>\n",
              "    <path d=\"M18.56 5.44l.94 2.06.94-2.06 2.06-.94-2.06-.94-.94-2.06-.94 2.06-2.06.94zm-11 1L8.5 8.5l.94-2.06 2.06-.94-2.06-.94L8.5 2.5l-.94 2.06-2.06.94zm10 10l.94 2.06.94-2.06 2.06-.94-2.06-.94-.94-2.06-.94 2.06-2.06.94z\"/><path d=\"M17.41 7.96l-1.37-1.37c-.4-.4-.92-.59-1.43-.59-.52 0-1.04.2-1.43.59L10.3 9.45l-7.72 7.72c-.78.78-.78 2.05 0 2.83L4 21.41c.39.39.9.59 1.41.59.51 0 1.02-.2 1.41-.59l7.78-7.78 2.81-2.81c.8-.78.8-2.07 0-2.86zM5.41 20L4 18.59l7.72-7.72 1.47 1.35L5.41 20z\"/>\n",
              "  </svg>\n",
              "      </button>\n",
              "      \n",
              "  <style>\n",
              "    .colab-df-container {\n",
              "      display:flex;\n",
              "      flex-wrap:wrap;\n",
              "      gap: 12px;\n",
              "    }\n",
              "\n",
              "    .colab-df-convert {\n",
              "      background-color: #E8F0FE;\n",
              "      border: none;\n",
              "      border-radius: 50%;\n",
              "      cursor: pointer;\n",
              "      display: none;\n",
              "      fill: #1967D2;\n",
              "      height: 32px;\n",
              "      padding: 0 0 0 0;\n",
              "      width: 32px;\n",
              "    }\n",
              "\n",
              "    .colab-df-convert:hover {\n",
              "      background-color: #E2EBFA;\n",
              "      box-shadow: 0px 1px 2px rgba(60, 64, 67, 0.3), 0px 1px 3px 1px rgba(60, 64, 67, 0.15);\n",
              "      fill: #174EA6;\n",
              "    }\n",
              "\n",
              "    [theme=dark] .colab-df-convert {\n",
              "      background-color: #3B4455;\n",
              "      fill: #D2E3FC;\n",
              "    }\n",
              "\n",
              "    [theme=dark] .colab-df-convert:hover {\n",
              "      background-color: #434B5C;\n",
              "      box-shadow: 0px 1px 3px 1px rgba(0, 0, 0, 0.15);\n",
              "      filter: drop-shadow(0px 1px 2px rgba(0, 0, 0, 0.3));\n",
              "      fill: #FFFFFF;\n",
              "    }\n",
              "  </style>\n",
              "\n",
              "      <script>\n",
              "        const buttonEl =\n",
              "          document.querySelector('#df-a0588975-9582-405a-a84e-ca69ec4425b1 button.colab-df-convert');\n",
              "        buttonEl.style.display =\n",
              "          google.colab.kernel.accessAllowed ? 'block' : 'none';\n",
              "\n",
              "        async function convertToInteractive(key) {\n",
              "          const element = document.querySelector('#df-a0588975-9582-405a-a84e-ca69ec4425b1');\n",
              "          const dataTable =\n",
              "            await google.colab.kernel.invokeFunction('convertToInteractive',\n",
              "                                                     [key], {});\n",
              "          if (!dataTable) return;\n",
              "\n",
              "          const docLinkHtml = 'Like what you see? Visit the ' +\n",
              "            '<a target=\"_blank\" href=https://colab.research.google.com/notebooks/data_table.ipynb>data table notebook</a>'\n",
              "            + ' to learn more about interactive tables.';\n",
              "          element.innerHTML = '';\n",
              "          dataTable['output_type'] = 'display_data';\n",
              "          await google.colab.output.renderOutput(dataTable, element);\n",
              "          const docLink = document.createElement('div');\n",
              "          docLink.innerHTML = docLinkHtml;\n",
              "          element.appendChild(docLink);\n",
              "        }\n",
              "      </script>\n",
              "    </div>\n",
              "  </div>\n",
              "  "
            ]
          },
          "metadata": {},
          "execution_count": 80
        }
      ]
    },
    {
      "cell_type": "code",
      "source": [
        "data['A'] = data['A'].str.replace('^ +', \"\")\n",
        "data['A'].replace('', np.nan, inplace = True)\n",
        "data['Q'] = data['Q'].str.replace('^ +', \"\")\n",
        "data['Q'].replace('', np.nan, inplace = True)\n",
        "print(data.isnull().sum())"
      ],
      "metadata": {
        "colab": {
          "base_uri": "https://localhost:8080/"
        },
        "id": "FPqsU09tUk5L",
        "outputId": "eb477c21-5695-4b0c-d870-f469d5f7a36e"
      },
      "execution_count": 81,
      "outputs": [
        {
          "output_type": "stream",
          "name": "stdout",
          "text": [
            "Q        0\n",
            "A        0\n",
            "label    0\n",
            "dtype: int64\n"
          ]
        },
        {
          "output_type": "stream",
          "name": "stderr",
          "text": [
            "/usr/local/lib/python3.7/dist-packages/ipykernel_launcher.py:1: FutureWarning: The default value of regex will change from True to False in a future version.\n",
            "  \"\"\"Entry point for launching an IPython kernel.\n",
            "/usr/local/lib/python3.7/dist-packages/ipykernel_launcher.py:3: FutureWarning: The default value of regex will change from True to False in a future version.\n",
            "  This is separate from the ipykernel package so we can avoid doing imports until\n"
          ]
        }
      ]
    },
    {
      "cell_type": "code",
      "source": [
        "stopwords = ['의', '가', '이', '은', '들', '는', '좀', '잘', '걍',\n",
        "             '과', '도', '를', '으로', '자', '에', '와', '한', '하다']"
      ],
      "metadata": {
        "id": "nu4tApdZUnPT"
      },
      "execution_count": 82,
      "outputs": []
    },
    {
      "cell_type": "code",
      "source": [
        "okt = Okt()"
      ],
      "metadata": {
        "id": "zl5x2y6WUotj"
      },
      "execution_count": 83,
      "outputs": []
    },
    {
      "cell_type": "code",
      "source": [
        "X_train = []\n",
        "\n",
        "for sentence in tqdm(data['Q']) :\n",
        "    tokenized_sentence = okt.morphs(sentence, stem = True)\n",
        "    stopwords_removed_sentence = [word for word in tokenized_sentence if not word in stopwords]\n",
        "    X_train.append(stopwords_removed_sentence)"
      ],
      "metadata": {
        "colab": {
          "base_uri": "https://localhost:8080/"
        },
        "id": "KUlAWMJsUxnq",
        "outputId": "aff23bc1-14cf-4212-c670-7e424a8385ff"
      },
      "execution_count": 84,
      "outputs": [
        {
          "output_type": "stream",
          "name": "stderr",
          "text": [
            "100%|██████████| 7700/7700 [00:09<00:00, 784.26it/s]\n"
          ]
        }
      ]
    },
    {
      "cell_type": "code",
      "source": [
        "print(X_train[ : 3])"
      ],
      "metadata": {
        "colab": {
          "base_uri": "https://localhost:8080/"
        },
        "id": "EU-Q6WqZVAZT",
        "outputId": "29578df6-6b06-44ec-d7e3-7d911ff2106f"
      },
      "execution_count": 85,
      "outputs": [
        {
          "output_type": "stream",
          "name": "stdout",
          "text": [
            "[['시', '땡'], ['지망', '학교', '떨어지다'], ['박일', '놀다', '가다', '싶다']]\n"
          ]
        }
      ]
    },
    {
      "cell_type": "code",
      "source": [
        "tokenizer = Tokenizer()\n",
        "tokenizer.fit_on_texts(X_train)"
      ],
      "metadata": {
        "id": "u9QfCqXkVL61"
      },
      "execution_count": 86,
      "outputs": []
    },
    {
      "cell_type": "code",
      "source": [
        "print(tokenizer.word_index)"
      ],
      "metadata": {
        "colab": {
          "base_uri": "https://localhost:8080/"
        },
        "id": "U-43f7z3VOxD",
        "outputId": "ff202069-c0b8-4ce0-e386-bae76e23577d"
      },
      "execution_count": 87,
      "outputs": [
        {
          "output_type": "stream",
          "name": "stdout",
          "text": [
            "{'좋아하다': 1, '사람': 2, '있다': 3, '을': 4, '나': 5, '너무': 6, '싶다': 7, '같다': 8, '사랑': 9, '이별': 10, '안': 11, '내': 12, '보다': 13, '되다': 14, '좋다': 15, '헤어지다': 16, '없다': 17, '거': 18, '썸': 19, '한테': 20, '연락': 21, '어떻다': 22, '남자': 23, '돼다': 24, '것': 25, '오다': 26, '남자친구': 27, '못': 28, '짝남': 29, '여자친구': 30, '가다': 31, '만나다': 32, '말': 33, '년': 34, '연애': 35, '오늘': 36, '뭐': 37, '만': 38, '마음': 39, '친구': 40, '자다': 41, '다': 42, '생각': 43, '여자': 44, '하고': 45, '왜': 46, '에서': 47, '인데': 48, '먹다': 49, '이다': 50, '타다': 51, '힘드다': 52, '힘들다': 53, '랑': 54, '모르다': 55, '이제': 56, '알다': 57, '애': 58, '게': 59, '그': 60, '받다': 61, '또': 62, '후': 63, '짝녀': 64, '수': 65, '결혼': 66, '다시': 67, '고': 68, '않다': 69, '이랑': 70, '해': 71, '로': 72, '그녀': 73, '아니다': 74, '들다': 75, '잊다': 76, '짝사랑': 77, '시간': 78, '일': 79, '사귀다': 80, '때': 81, '끄다': 82, '나르다': 83, '더': 84, '해주다': 85, '괜찮다': 86, '많다': 87, '정말': 88, '많이': 89, '중': 90, '에게': 91, '자꾸': 92, '너': 93, '날': 94, '고백': 95, '나다': 96, '아프다': 97, '이야': 98, '달': 99, '인': 100, '선물': 101, '꿈': 102, '째': 103, '방법': 104, '술': 105, '계속': 106, '지': 107, '야': 108, '나오다': 109, '끝': 110, '카톡': 111, '싫다': 112, '주다': 113, '생기다': 114, '썸남': 115, '여친': 116, '진짜': 117, '다른': 118, '네': 119, '전': 120, '해보다': 121, '고민': 122, '보내다': 123, '혼자': 124, '맞다': 125, '걸다': 126, '끝나다': 127, '보고': 128, '적': 129, '어떡하다': 130, '제': 131, '차다': 132, '준비': 133, '아': 134, '그냥': 135, '이렇게': 136, '남친': 137, '애가': 138, '집': 139, '요': 140, '뭘': 141, '같이': 142, '안되다': 143, '결국': 144, '까지': 145, '그렇다': 146, '걸': 147, '기다리다': 148, '알': 149, '인가': 150, '줄': 151, '정리': 152, '살': 153, '인지': 154, '생각나다': 155, '돈': 156, '건가': 157, '개월': 158, '마지막': 159, '때문': 160, '저': 161, '듯': 162, '말다': 163, '해도': 164, '하나': 165, '여자애': 166, '살다': 167, '언제': 168, '머리': 169, '미치다': 170, '데이트': 171, '어제': 172, '건': 173, '관심': 174, '하루': 175, '먼저': 176, '무슨': 177, '아직도': 178, '지금': 179, '젠': 180, '감정': 181, '하': 182, '이렇다': 183, '맘': 184, '면': 185, '버리다': 186, '오래': 187, '남다': 188, '넘다': 189, '떠나다': 190, '이네': 191, '재회': 192, '두': 193, '한지': 194, '기분': 195, '눈': 196, '갑자기': 197, '행복하다': 198, '예쁘다': 199, '난': 200, '우리': 201, '놀다': 202, '놓다': 203, '되어다': 204, '여행': 205, '느낌': 206, '내일': 207, '어디': 208, '첫사랑': 209, '이야기': 210, '사진': 211, '노래': 212, '잠': 213, '쓰다': 214, '반': 215, '라고': 216, '건지다': 217, '죽다': 218, '참다': 219, '공부': 220, '시작': 221, '어렵다': 222, '사다': 223, '이유': 224, '지나다': 225, '만에': 226, '비': 227, '갈다': 228, '사이': 229, '붙잡다': 230, '귀찮다': 231, '내다': 232, '후회': 233, '밥': 234, '아직': 235, '설레다': 236, '기억': 237, '눈물': 238, '무섭다': 239, '남편': 240, '별로': 241, '아침': 242, '마시다': 243, '몇': 244, '변하다': 245, '궁금하다': 246, '답답하다': 247, '앞': 248, '이상하다': 249, '친': 250, '구': 251, '주말': 252, '전여친': 253, '만난': 254, '주': 255, '기다': 256, '법': 257, '날씨': 258, '써다': 259, '싸우다': 260, '뭐라다': 261, '상처': 262, '소개팅': 263, '돌아오다': 264, '의미': 265, '함': 266, '헤어지자': 267, '동거': 268, '가슴': 269, 'ㅠ': 270, '잊혀지다': 271, '미련': 272, '떨어지다': 273, '나가다': 274, '나쁘다': 275, '밤': 276, '그리고': 277, '그만': 278, '전남친': 279, '글': 280, '문자': 281, '포기': 282, '번': 283, '이란': 284, '달이': 285, '서로': 286, 'ㅠㅠ': 287, '지다': 288, '가보다': 289, '이해': 290, '여': 291, '만들다': 292, '생일': 293, '아무': 294, '벌써': 295, '티': 296, '부모님': 297, '폭풍': 298, '모든': 299, '표현': 300, '매일': 301, '데': 302, '떨리다': 303, '없이': 304, '슬프다': 305, '이나': 306, '가능하다': 307, '지내다': 308, '쉬다': 309, '지치다': 310, '뭔': 311, '이르다': 312, '보이다': 313, '처음': 314, '간': 315, '통보': 316, '휴': 317, '신경': 318, '타고': 319, '누구': 320, '맨날': 321, '요즘': 322, '믿다': 323, '나이': 324, '전화': 325, '답': 326, '제일': 327, '만남': 328, '듣다': 329, '잡다': 330, '짧다': 331, '척': 332, '지우다': 333, '니': 334, '얘기': 335, '차단': 336, '걸리다': 337, '간다': 338, '꼭': 339, '가야': 340, '갖다': 341, '문제': 342, '새': 343, '서': 344, '회사': 345, '바꾸다': 346, '남': 347, '운동': 348, '안해': 349, '늦다': 350, '얼굴': 351, '가면': 352, '알바': 353, '가능': 354, '새롭다': 355, '짜증나다': 356, '세상': 357, '싫어하다': 358, '자기': 359, '편지': 360, '첫': 361, '자주': 362, '타': 363, '게임': 364, '걱정': 365, '빨리': 366, '점점': 367, '봄': 368, '엄청': 369, '오빠': 370, '들어오다': 371, '속': 372, '따르다': 373, '인거': 374, '놈': 375, '도와주다': 376, '차': 377, '끊다': 378, '부터': 379, '만날': 380, '야하다': 381, '사': 382, '새벽': 383, '영화': 384, '아픔': 385, '받아들이다': 386, '두렵다': 387, '학교': 388, '비싸다': 389, '가기': 390, '스트레스': 391, '시키다': 392, '니까': 393, '배우다': 394, '까먹다': 395, '부담스럽다': 396, '따다': 397, '번호': 398, '딱': 399, '욕': 400, '필요하다': 401, '겠다': 402, '일이': 403, '일어나다': 404, '보통': 405, '바쁘다': 406, '느끼다': 407, '크다': 408, '다니다': 409, '나서다': 410, '뭔가': 411, '별': 412, '끝내다': 413, '카페': 414, '엄마': 415, '미안하다': 416, '답장': 417, '집착': 418, '정도': 419, '그립다': 420, '우울하다': 421, '연인': 422, '프사': 423, '한번': 424, '일주일': 425, '쯤': 426, '임': 427, '탈': 428, '처럼': 429, '물어보다': 430, '어쩌지': 431, '관계': 432, '옷': 433, '완전': 434, '뒤': 435, '편하다': 436, '몸': 437, '잘못': 438, '약속': 439, '어리다': 440, '볼': 441, '핸드폰': 442, '자고': 443, '원래': 444, '힘': 445, '좋아지다': 446, '아무리': 447, '이라는': 448, '극복': 449, '착각': 450, '바보': 451, '톡': 452, '장거리': 453, '가족': 454, '무시': 455, '개': 456, '거짓말': 457, '챙기다': 458, '시험': 459, '괜히': 460, '입다': 461, '덥다': 462, '귀엽다': 463, '드디어': 464, '달라': 465, '바람': 466, '당하다': 467, '추천': 468, '찾아오다': 469, '얼마': 470, '준': 471, '에도': 472, '커피': 473, '헷갈리다': 474, '조언': 475, '추억': 476, '라는': 477, '문득': 478, '썸녀': 479, '행동': 480, '남사': 481, '걔': 482, '이지': 483, '화': 484, '죽': 485, '곳': 486, '기': 487, '무너지다': 488, '래': 489, '자존감': 490, '담배': 491, '가지': 492, '심해': 493, '찍다': 494, '인사': 495, '감': 496, '잡고': 497, '호감': 498, '맞추다': 499, '환승': 500, '흐르다': 501, '오랜': 502, '대한': 503, '자신': 504, '잠수': 505, '읽다': 506, '친하다': 507, '이상형': 508, '시': 509, '가끔': 510, '망하다': 511, '상황': 512, '폰': 513, '에는': 514, '운명': 515, '드': 516, '치다': 517, '재밌다': 518, '두다': 519, '오르다': 520, '화장': 521, '위로': 522, '노력': 523, '쓰레기': 524, '올리다': 525, '인생': 526, '짝': 527, '비다': 528, '외로워': 529, '어색하다': 530, '책': 531, '말고': 532, '커플': 533, '똑같다': 534, '깨지다': 535, '웃다': 536, '식다': 537, '전화하다': 538, '동안': 539, '죠': 540, '모습': 541, '스럽다': 542, '마주치다': 543, '오': 544, '상대': 545, '영원하다': 546, '확실하다': 547, '키우다': 548, '관리': 549, '얼마나': 550, '이면': 551, '쉬': 552, '물': 553, '길': 554, '늘다': 555, '바': 556, '보이': 557, '종교': 558, '사라지다': 559, '여러': 560, '부럽다': 561, '소개': 562, '안나': 563, '이상': 564, '데리다': 565, '이라도': 566, '동생': 567, '다가오다': 568, '선배': 569, '기간': 570, '차이': 571, '보': 572, '여기': 573, '찾아가다': 574, '거야': 575, '현실': 576, '크리스마스': 577, '인연': 578, '지나가다': 579, '대화': 580, '꾸다': 581, '권태기': 582, '화가': 583, '무': 584, '견디다': 585, '기적': 586, '진심': 587, '제발': 588, '함께': 589, '찾다': 590, '매달리다': 591, '차이다': 592, '앞두다': 593, '조금': 594, '형': 595, '잘해주다': 596, '스킨십': 597, '다가가다': 598, '역시': 599, '생활': 600, '졸리다': 601, '거지': 602, '결혼식': 603, '속이다': 604, '실수': 605, '예민하다': 606, '군대': 607, '그렇게': 608, '기념일': 609, '멀다': 610, '뻔하다': 611, '사고': 612, '맛있다': 613, '장난': 614, '쉽다': 615, '바뀌다': 616, '정신': 617, '월급': 618, '소리': 619, '보여주다': 620, '부족하다': 621, '배': 622, '넌': 623, '쓰이다': 624, '고치다': 625, '줄다': 626, '손': 627, '막히다': 628, '빠지다': 629, '멀어지다': 630, '터지다': 631, '보기': 632, '점': 633, '순간': 634, '질투': 635, '안경': 636, '안녕': 637, '의심': 638, '이쁘다': 639, '그만두다': 640, '인기': 641, '파혼': 642, '눈치': 643, '학원': 644, '직장': 645, '명': 646, '언': 647, '씩': 648, '째다': 649, '싫어지다': 650, '이혼': 651, '울다': 652, '결심': 653, '돌리다': 654, '확인': 655, '누군가': 656, '어장': 657, '선톡': 658, '친해지다': 659, '행복': 660, '막': 661, '고프다': 662, '느리다': 663, '방학': 664, '고맙다': 665, '이라': 666, '과거': 667, '엔': 668, '씹다': 669, '태어나다': 670, '습관': 671, '길다': 672, '상': 673, '졸업': 674, '취직': 675, '냄새': 676, '해봤다': 677, '춥다': 678, '미우다': 679, '사람과': 680, '발표': 681, '냐': 682, '불다': 683, '노래방': 684, '누가': 685, '다가': 686, '이건': 687, '뜨다': 688, '달다': 689, '대학': 690, '자리': 691, '빌리다': 692, '없어지다': 693, '밖에': 694, '싸움': 695, '추다': 696, '짓': 697, '최악': 698, '피곤하다': 699, '목': 700, '차갑다': 701, '불안하다': 702, '인형': 703, '수도': 704, '끊기다': 705, '한잔': 706, '이사': 707, '약': 708, '둘': 709, '화나다': 710, '연예인': 711, '적다': 712, '깨다': 713, '착하다': 714, '클럽': 715, '라': 716, '항상': 717, '확신': 718, '이런': 719, '이성': 720, '뎌': 721, '거의': 722, '그리다': 723, '어쩔': 724, '절': 725, '만큼': 726, '접다': 727, '수가': 728, '반복': 729, '기준': 730, '들이다': 731, '페북': 732, '적극': 733, '청첩장': 734, '가장': 735, '취미': 736, '최고': 737, '공무원': 738, '아깝다': 739, '교양': 740, '교회': 741, '그동안': 742, '그래도': 743, '기대하다': 744, '걷다': 745, '놓치다': 746, '길이': 747, '꽃': 748, '이래': 749, '먹기': 750, '웃기다': 751, '예의': 752, '대': 753, '입': 754, '다르다': 755, '원하다': 756, '종일': 757, '미워하다': 758, '상사': 759, '부르다': 760, '문': 761, '성공하다': 762, '단둘': 763, '어울리다': 764, '덜': 765, '도서관': 766, '드라마': 767, '버티다': 768, '말투': 769, '버스': 770, '잔': 771, '대다': 772, '멋지다': 773, '낫다': 774, '중요하다': 775, '노': 776, '미세먼지': 777, '중이': 778, '만해': 779, '지키다': 780, '빼빼로': 781, '뜻': 782, '선생님': 783, '성격': 784, '기도': 785, '위험하다': 786, '시계': 787, '집중': 788, '출근': 789, '비슷하다': 790, '언니': 791, '작다': 792, '괴롭다': 793, '인정': 794, '애인': 795, '집들이': 796, '하늘': 797, '라도': 798, '이제야': 799, '두번째': 800, '기복': 801, '뿐': 802, '심장': 803, '겨우': 804, '탈퇴': 805, '마다': 806, '그리움': 807, '외롭다': 808, '그런': 809, 'ㅜㅜ': 810, '냉정하다': 811, '경우': 812, 'ㅎㅎ': 813, '떠나가다': 814, '완전하다': 815, '한다는': 816, '어찌': 817, '인걸': 818, '모두': 819, '통화': 820, '유학': 821, '어느': 822, '주변': 823, '부분': 824, '오랫동안': 825, '인가요': 826, '생기': 827, '신혼': 828, '빼다': 829, '켜다': 830, '감기': 831, '쇼핑': 832, '목소리': 833, '불편하다': 834, '개강': 835, '닮다': 836, '다이어트': 837, '지겹다': 838, '결정': 839, '빠르다': 840, '부담': 841, '수업': 842, '재미': 843, '려고': 844, '기다림': 845, '기대': 846, '마르다': 847, '소심하다': 848, '몰래': 849, '중독': 850, '열심히': 851, '야근': 852, '대해': 853, '애기': 854, '만의': 855, '영': 856, '바라다': 857, '어디서': 858, '집안일': 859, '스타일': 860, '느껴지다': 861, '이기다': 862, '일찍': 863, '제대로': 864, '어': 865, '너무하다': 866, '다리': 867, '다음': 868, '왤케': 869, '청소': 870, '못자다': 871, '싸다': 872, '모으다': 873, '보지': 874, '라면': 875, '대로': 876, '막말': 877, '찌다': 878, '다녀오다': 879, '맥주': 880, '깎다': 881, '머릿속': 882, '먼지': 883, '찬': 884, '면접': 885, '명절': 886, '신청': 887, '에서도': 888, '물건': 889, '비밀': 890, '밖': 891, '발렌타인데이': 892, '방': 893, '별거': 894, '복': 895, '불면증': 896, '온': 897, '차별': 898, '쓸다': 899, '들어가다': 900, '조차': 901, '샤워': 902, '소문': 903, '고르다': 904, '아주': 905, '기운': 906, '돌아가다': 907, '어이': 908, '언젠가': 909, '여행가': 910, '상담': 911, '마무리': 912, '우산': 913, '음': 914, '일상': 915, '이름': 916, '이번': 917, '취업': 918, '드리다': 919, '퇴근': 920, '점심시간': 921, '하자': 922, '코': 923, '키': 924, '장소': 925, '편': 926, '어플': 927, '속상하다': 928, '서다': 929, '와의': 930, '널': 931, '흔적': 932, '는걸': 933, '가사': 934, '떠오르다': 935, '솔직하다': 936, '분들': 937, '악몽': 938, '상태': 939, '세': 940, '런가': 941, '내려놓다': 942, '외로움': 943, '찌질하다': 944, '숭숭': 945, '원망': 946, '그만하다': 947, '마주': 948, '불금': 949, '멀리': 950, '며칠': 951, '연휴': 952, '반년': 953, '비참하다': 954, '정': 955, '분': 956, '거절': 957, '불행하다': 958, '정말로': 959, '아름답다': 960, '어느덧다': 961, '오해': 962, '일차': 963, '이틀': 964, '최근': 965, '단': 966, '달라지다': 967, '외국인': 968, '음식': 969, '특징': 970, '공개': 971, '친절하다': 972, '매주': 973, '사랑받다': 974, '표정': 975, '심하다': 976, '끼리': 977, '풀다': 978, '간만': 979, '강아지': 980, '이라니': 981, '옴': 982, '업무': 983, '겁나다': 984, '수록': 985, '내리다': 986, '공시': 987, '내버리다': 988, '택시': 989, '그저': 990, '기대다': 991, '울적하다': 992, '더럽다': 993, '기회': 994, '꽃다발': 995, '허무하다': 996, '놀리다': 997, '당한': 998, '인정받다': 999, '마': 1000, '축구': 1001, '진급': 1002, '나중': 1003, '날다': 1004, '짱': 1005, '휴가': 1006, '다툼': 1007, '회식': 1008, '능력': 1009, '자격': 1010, '인간': 1011, '즐기다': 1012, '땡기다': 1013, '일도': 1014, '다치다': 1015, '늘': 1016, '심다': 1017, '넘어가다': 1018, '대리': 1019, '여드름': 1020, '대체': 1021, '대출': 1022, '주지': 1023, '도대체': 1024, '부리다': 1025, '잡히다': 1026, '동성': 1027, '반지': 1028, '허리': 1029, '통해': 1030, '조심하다': 1031, '나니': 1032, '후련하다': 1033, '선택': 1034, '끌다': 1035, '쳐다보다': 1036, '물어': 1037, '입지': 1038, '수상하다': 1039, '반장': 1040, '발': 1041, '배고프다': 1042, '누나': 1043, '벚꽃': 1044, '붙다': 1045, '이불': 1046, '분위기': 1047, '오는': 1048, '소': 1049, '성형': 1050, '셀카': 1051, '셀프': 1052, '웨딩': 1053, '밉다': 1054, '가도': 1055, '스터디': 1056, '시어머니': 1057, '피하': 1058, '씻다': 1059, '아빠': 1060, '독하다': 1061, 'ㅋㅋ': 1062, '테': 1063, '인상': 1064, '구멍': 1065, '피부': 1066, '옆': 1067, '지하철': 1068, '퇴근길': 1069, '우연히': 1070, '매': 1071, '의욕': 1072, '인턴': 1073, '해결': 1074, '자취': 1075, '저녁': 1076, '조': 1077, '모임': 1078, '쌩얼': 1079, '타이밍': 1080, '연': 1081, '헬스장': 1082, '갑작스럽다': 1083, '달반': 1084, '주가': 1085, '어느새다': 1086, '개월차': 1087, '위해': 1088, '갈수록': 1089, '우울': 1090, '밀려오다': 1091, '가치관': 1092, '재': 1093, '이에요': 1094, '과연': 1095, '앉다': 1096, '그게': 1097, '무작정': 1098, '소식': 1099, '그대': 1100, '중인': 1101, '끈': 1102, '땐': 1103, '혹시': 1104, '심리': 1105, '조건': 1106, '어떤': 1107, '덤덤하다': 1108, '여전하다': 1109, '매번': 1110, '한심하다': 1111, '오늘이': 1112, '주일': 1113, '차라리': 1114, '반대': 1115, '분노': 1116, '과의': 1117, '유효': 1118, '께': 1119, '익숙해지다': 1120, '솔로': 1121, '집앞': 1122, '숨막히다': 1123, '성': 1124, '그대로': 1125, '어젯밤': 1126, '붙이다': 1127, '나아지다': 1128, '우린': 1129, '부여': 1130, '고통': 1131, '꺼내다': 1132, '페메': 1133, '이용': 1134, '자괴': 1135, '관련': 1136, '하루하루': 1137, '인스타': 1138, '누르다': 1139, '떠보다': 1140, '배려': 1141, '피다': 1142, '스럽게': 1143, '옳다': 1144, '여자도': 1145, '서운하다': 1146, '들키다': 1147, '이뤄지다': 1148, '프로포즈': 1149, '모': 1150, '상메': 1151, '줄이다': 1152, '발전': 1153, '씨': 1154, '카드': 1155, '가스': 1156, '첫인상': 1157, '남기다': 1158, '입어보다': 1159, '끼다': 1160, '누굴': 1161, '낳다': 1162, '건강': 1163, '건조하다': 1164, '재미있다': 1165, '겨울': 1166, '학생': 1167, '굽다': 1168, '신다': 1169, '세다': 1170, '나아': 1171, '과식': 1172, '과일': 1173, '농담': 1174, '귀': 1175, '선': 1176, '사람인': 1177, '멋있다': 1178, '낼': 1179, '기숙사': 1180, '당연하다': 1181, '연락처': 1182, '안보': 1183, '얼다': 1184, '말리다': 1185, '동물': 1186, '갈구다': 1187, '노트북': 1188, '사주다': 1189, '뒷담화': 1190, '미팅': 1191, '본인': 1192, '보이스피싱': 1193, '수학여행': 1194, '어른': 1195, '잘생기다': 1196, '왕따': 1197, '멍청하다': 1198, '정신차리다': 1199, '칭찬': 1200, '천재': 1201, '함부로': 1202, '짜증': 1203, '많아지다': 1204, '차리다': 1205, '밟다': 1206, '낚시': 1207, '긁다': 1208, '맞춤법': 1209, '틀리다': 1210, '사업': 1211, '애교': 1212, '프로필': 1213, '아기': 1214, '이라고': 1215, '아이돌': 1216, '배우자': 1217, '외모': 1218, '존중': 1219, '녀': 1220, '억': 1221, '철': 1222, '후배': 1223, '발목': 1224, '성적': 1225, '벌다': 1226, '놀이': 1227, '열다': 1228, '바로': 1229, '무거워': 1230, '눈썹': 1231, '문신': 1232, '변명': 1233, '적응': 1234, '올라오다': 1235, '갚다': 1236, '혼나다': 1237, '나은': 1238, '도시락': 1239, '굴': 1240, '코스': 1241, '돌다': 1242, '끼': 1243, '동호회': 1244, '나가야': 1245, '해외': 1246, '자격증': 1247, '제주도': 1248, '끓이다': 1249, '맛': 1250, '로또': 1251, '당첨': 1252, '피자': 1253, '리폼': 1254, '팩': 1255, '만은': 1256, '복잡하다': 1257, '몸무게': 1258, '말걸': 1259, '자르다': 1260, '감다': 1261, '염색': 1262, '쌓이다': 1263, '팁': 1264, '면허': 1265, '명품': 1266, '향수': 1267, '참견': 1268, '바다': 1269, '흘리다': 1270, '심심하다': 1271, '정류장': 1272, '피해': 1273, '베터리': 1274, '거리': 1275, '불만': 1276, '비밀연애': 1277, '마중': 1278, '정규직': 1279, '양말': 1280, '사과': 1281, '나나': 1282, '산다': 1283, '삼겹살': 1284, '신발': 1285, '감성': 1286, '케이스': 1287, '베다': 1288, '시리다': 1289, '지갑': 1290, '필름': 1291, '스타트업': 1292, '멈추다': 1293, '신뢰': 1294, '없애다': 1295, '치고': 1296, '어디가': 1297, '파다': 1298, '화해': 1299, '아무래도': 1300, '전공': 1301, '아예': 1302, '벗다': 1303, '안주': 1304, '앞머리': 1305, '엉엉': 1306, '엠티': 1307, '때매': 1308, '짜다': 1309, '가리다': 1310, '여름': 1311, '질리': 1312, '결과': 1313, '파도': 1314, '오래되다': 1315, '오토바이': 1316, '체육대회': 1317, '완벽하다': 1318, '외국어': 1319, '용돈': 1320, '울': 1321, '은퇴': 1322, '늙다': 1323, '이라서': 1324, '이직': 1325, '소중하다': 1326, '뽑기': 1327, '일만': 1328, '입냄새': 1329, '자신감': 1330, '잠깐': 1331, '통': 1332, '적금': 1333, '살리다': 1334, '절친': 1335, '쪼금': 1336, '정장': 1337, '빨': 1338, '조카': 1339, '가입': 1340, '발견': 1341, '초대': 1342, '추석': 1343, '축제': 1344, '심해지다': 1345, '가나': 1346, '예전': 1347, '비교': 1348, '커플링': 1349, '택배': 1350, '통장': 1351, '예정': 1352, '꺼지다': 1353, '한강': 1354, '직전': 1355, '허전하다': 1356, '혼술': 1357, '화장품': 1358, '회의': 1359, '부질없다': 1360, '무색': 1361, '월': 1362, '에나': 1363, '년전': 1364, '가까이': 1365, '헤어': 1366, '번의': 1367, '마침표': 1368, '트라우마': 1369, '년반': 1370, '지난': 1371, '멍하다': 1372, '배신': 1373, '사실': 1374, '세월': 1375, '감당': 1376, '질': 1377, '열': 1378, '병': 1379, '겁': 1380, '망상': 1381, '병신': 1382, '바람나다': 1383, '삼': 1384, '곧': 1385, '공허하다': 1386, '분하다': 1387, '괜': 1388, '군인': 1389, '지만': 1390, '넋두리': 1391, '로부터': 1392, '예요': 1393, '파': 1394, '편안하다': 1395, '흔들리다': 1396, '근데': 1397, '깊다': 1398, '깨달음': 1399, '뿐이다': 1400, '력': 1401, '그래서': 1402, '쓴다': 1403, '위': 1404, '이미': 1405, '부탁드리다': 1406, '당신': 1407, '알아보다': 1408, '롱디': 1409, '억지로': 1410, '커지다': 1411, '혼란': 1412, '며': 1413, '안좋다': 1414, '멘탈': 1415, '경험': 1416, '죄': 1417, '남아': 1418, '밑바닥': 1419, '방금': 1420, '알아내다': 1421, '벌': 1422, '간절하다': 1423, '만으로': 1424, '이후': 1425, '살아가다': 1426, '상상': 1427, '생생하다': 1428, '젤': 1429, '주정': 1430, '스스로': 1431, '시도': 1432, '지옥': 1433, '뛰다': 1434, '나타나다': 1435, '왠지': 1436, '허허': 1437, '절대': 1438, '정신병': 1439, '꽤': 1440, '열흘': 1441, '계산': 1442, '전부': 1443, '유부': 1444, '조금씩': 1445, '증오': 1446, '부부': 1447, '순수하다': 1448, '잠들다': 1449, '전여자친구': 1450, '자존심': 1451, '찢어지다': 1452, '쿨하다': 1453, '충격': 1454, '하아': 1455, '살이': 1456, '비정상': 1457, '타나': 1458, '무리': 1459, '일정': 1460, '환심': 1461, '얘': 1462, '현': 1463, '반응': 1464, '서툴다': 1465, '술자리': 1466, '이해해': 1467, '호칭': 1468, '취향': 1469, '내면': 1470, '질리다': 1471, '타도': 1472, '랜선': 1473, '쏠': 1474, '밀당': 1475, '사내': 1476, '표시': 1477, '애프터': 1478, '뭐임': 1479, '갠톡': 1480, '여리다': 1481, '세포': 1482, '정상': 1483, '예랑': 1484, '에선': 1485, '알바생': 1486, '대요': 1487, '자연': 1488, '철벽': 1489, '콩깍지': 1490, '낭비': 1491, '인게': 1492, '가출': 1493, '간식': 1494, '감미롭다': 1495, '당황': 1496, '살찐': 1497, '피': 1498, '룩': 1499, '기름': 1500, '개념': 1501, '개인': 1502, '일해': 1503, '회복하다': 1504, '건너': 1505, '깜깜': 1506, '동료': 1507, '격려': 1508, '하객': 1509, '도전': 1510, '한숨': 1511, '곱다': 1512, '고독': 1513, '고시원': 1514, '고양이': 1515, '동영상': 1516, '고집': 1517, '골프': 1518, '공복': 1519, '필기': 1520, '공휴일': 1521, '애매하다': 1522, '창피해': 1523, '은근': 1524, '귀가': 1525, '그림': 1526, '금수': 1527, '기능': 1528, '기본': 1529, '묘': 1530, '기술': 1531, '기침': 1532, '기프트': 1533, '콘': 1534, '긴장': 1535, '길거리': 1536, '전기': 1537, '다양하다': 1538, '개다': 1539, '이루어지다': 1540, '누락': 1541, '대충': 1542, '백수': 1543, '승진': 1544, '쌍': 1545, '주름살': 1546, '고치': 1547, '대우': 1548, '중국': 1549, '상관': 1550, '호구': 1551, '폭발': 1552, '제자리걸음': 1553, '제자리': 1554, '양제': 1555, '창업': 1556, '감추다': 1557, '풀리다': 1558, '질린다': 1559, '작': 1560, '꽝': 1561, '이벤트': 1562, '봉사활동': 1563, '사수': 1564, '의견': 1565, '의지': 1566, '가시': 1567, '주제': 1568, '초라하다': 1569, '만족': 1570, '소원': 1571, '아파트': 1572, '아자': 1573, '마스': 1574, '이브': 1575, '냉장고': 1576, '안다': 1577, '너덜너덜하다': 1578, '단순하다': 1579, '불공평하다': 1580, '뻔': 1581, '허기지다': 1582, '넘어지다': 1583, '부팅': 1584, '노후': 1585, '공원': 1586, '놀이동산': 1587, '농구': 1588, '용량': 1589, '누우': 1590, '눕다': 1591, '뻑뻑': 1592, '나빠지다': 1593, '재미없다': 1594, '살기': 1595, '늦잠': 1596, '수다': 1597, '때리다': 1598, '치우다': 1599, '시선': 1600, '떨다': 1601, '부다': 1602, '다육': 1603, '단수': 1604, '단체': 1605, '달달': 1606, '달력': 1607, '피고': 1608, '대기업': 1609, '님': 1610, '효도': 1611, '이자': 1612, '낫': 1613, '대학원': 1614, '막차': 1615, '중간': 1616, '잃어버리다': 1617, '동기': 1618, '약점': 1619, '자게': 1620, '드라이브': 1621, '드레스': 1622, '따뜻하다': 1623, '물이': 1624, '딸기': 1625, '땅': 1626, '사면': 1627, '떡볶이': 1628, '떨어뜨리다': 1629, '액정': 1630, '스팸': 1631, '지각': 1632, '똑': 1633, '나날': 1634, '똑똑하다': 1635, '뜻밖': 1636, '갈래': 1637, '리': 1638, '여유': 1639, '무겁다': 1640, '싱숭생숭하다': 1641, '한데': 1642, '꾼': 1643, '만족하다': 1644, '자도': 1645, '맛집': 1646, '맵다': 1647, '닭발': 1648, '소주': 1649, '티나': 1650, '쑤시다': 1651, '머리카락': 1652, '지수': 1653, '면도': 1654, '면도기': 1655, '사지': 1656, '목욕탕': 1657, '밀다': 1658, '목표': 1659, '무료': 1660, '유료': 1661, '무릎': 1662, '무한리필': 1663, '찔리다': 1664, '미용실': 1665, '바지': 1666, '반갑다': 1667, '탈출': 1668, '배달': 1669, '배터리': 1670, '뱃살': 1671, '베란다': 1672, '베': 1673, '프랑': 1674, '보름달': 1675, '틀': 1676, '복전': 1677, '부자': 1678, '부케': 1679, '망': 1680, '비정규직': 1681, '빚': 1682, '빽': 1683, '얻다': 1684, '사랑니': 1685, '사회': 1686, '운동화': 1687, '덮다': 1688, '휴대폰': 1689, '학기': 1690, '필기구': 1691, '새해': 1692, '생리통': 1693, '서류': 1694, '서점': 1695, '서핑': 1696, '출발': 1697, '향': 1698, '보시': 1699, '인테리어': 1700, '지르다': 1701, '손가락': 1702, '손톱': 1703, '썩다': 1704, '수염': 1705, '기르다': 1706, '수영': 1707, '스키': 1708, '스키장': 1709, '스킨': 1710, '투자': 1711, '왜케': 1712, '각': 1713, '시간표': 1714, '거슬리다': 1715, '신혼여행': 1716, '꾸미다': 1717, '실망': 1718, '심심': 1719, '풀': 1720, '비우다': 1721, '쓸데없다': 1722, '아날로그': 1723, '데도': 1724, '우울증': 1725, '아부': 1726, '아이고': 1727, '공': 1728, '신나다': 1729, '총회': 1730, '야식': 1731, '몰려오다': 1732, '맛없다': 1733, '어둠': 1734, '어린이집': 1735, '평가': 1736, '에이': 1737, '여우': 1738, '설명': 1739, '유난히': 1740, '평온하다': 1741, '치맥': 1742, '오디션': 1743, '오지': 1744, '올해': 1745, '와인': 1746, '요리': 1747, '웃': 1748, '우정': 1749, '주택': 1750, '청약': 1751, '위기': 1752, '위층': 1753, '시끄럽다': 1754, '의외로': 1755, '쟁이': 1756, '이력서': 1757, '산': 1758, '일기': 1759, '잠기다': 1760, '일요일': 1761, '임용': 1762, '안이': 1763, '혼내다': 1764, '방안': 1765, '깨': 1766, '조급하다': 1767, '폭': 1768, '자동차': 1769, '달래다': 1770, '직업': 1771, '장학금': 1772, '저주': 1773, '적당하다': 1774, '계약': 1775, '점심': 1776, '뽑다': 1777, '조용하다': 1778, '유지': 1779, '주식': 1780, '중고': 1781, '거래': 1782, '중국어': 1783, '지진': 1784, '운': 1785, '사가다': 1786, '하라': 1787, '오라': 1788, '찜질방': 1789, '오히려': 1790, '팔': 1791, '초콜릿': 1792, '최선': 1793, '볼때': 1794, '축의금': 1795, '출근길': 1796, '출퇴근': 1797, '취뽀': 1798, '치과': 1799, '치매': 1800, '맘대로': 1801, '작아지다': 1802, '대하': 1803, '휘': 1804, '삭제': 1805, '조절': 1806, '컴퓨터': 1807, '플': 1808, '판도라': 1809, '상자': 1810, '패턴': 1811, '편의점': 1812, '피크닉': 1813, '학벌': 1814, '해외여행': 1815, '현금영수증': 1816, '혼수': 1817, '화장실': 1818, '휴학': 1819, '희망이': 1820, '종지부': 1821, '가량': 1822, '도저히': 1823, '어쩌면': 1824, '대도': 1825, '월간': 1826, '부탁': 1827, '이별이야기': 1828, '월동': 1829, '꾹꾹': 1830, '이안': 1831, '급': 1832, '거울': 1833, '라네': 1834, '꿈꾸다': 1835, '적령': 1836, '계절': 1837, '고작': 1838, '인척': 1839, '희망': 1840, '절망': 1841, '연속': 1842, '흔하다': 1843, '한마디': 1844, '잔인하다': 1845, '진행중': 1846, '에게도': 1847, '짐': 1848, '잃다': 1849, '보내오다': 1850, '하고도': 1851, '쪽': 1852, '계시다': 1853, '하지만': 1854, '불쑥': 1855, 'ㅜ': 1856, '꿀': 1857, '심리상담': 1858, '신기하다': 1859, '가능성': 1860, '이리': 1861, '질문': 1862, '욕심': 1863, '잠시': 1864, '억울하다': 1865, '닿다': 1866, '너무나도': 1867, '잡': 1868, '동': 1869, '버릇': 1870, '뺏다': 1871, '직후': 1872, '다시다': 1873, '다음주': 1874, '다정하다': 1875, '담담하다': 1876, '과정': 1877, '도움': 1878, '번째': 1879, '달전': 1880, '번만': 1881, '마음속': 1882, '로맨스': 1883, '움': 1884, '마냥': 1885, '아려': 1886, '작별': 1887, '막장': 1888, '말로': 1889, '추': 1890, '스리': 1891, '축복': 1892, '이고': 1893, '몇번': 1894, '진실': 1895, '니깐': 1896, '훔치다': 1897, '어언': 1898, '믿음': 1899, '용서': 1900, '밤새': 1901, '가득하다': 1902, '버려진': 1903, '지침': 1904, '라니': 1905, '무언가': 1906, '보름': 1907, '더욱': 1908, '고통스럽다': 1909, '오니': 1910, '울컥': 1911, '빌어먹을': 1912, '부작용': 1913, '유증': 1914, '치유': 1915, '상대방': 1916, '따위': 1917, '잘살다': 1918, '신': 1919, '가치': 1920, '축하': 1921, '시원하다': 1922, '수백': 1923, '죄인': 1924, '론': 1925, '숨다': 1926, '예감': 1927, '산책': 1928, '새끼': 1929, '고하': 1930, '일지': 1931, '거니': 1932, '어떻': 1933, '어리석다': 1934, '어이없다': 1935, '어쩌': 1936, '깨어지다': 1937, '도자기': 1938, '런': 1939, '희망고문': 1940, '슬슬': 1941, '머물다': 1942, '에만': 1943, '이루다': 1944, '오늘밤': 1945, '부로': 1946, '데이': 1947, '오락가락': 1948, '편이': 1949, '아무렇다': 1950, '무기': 1951, '가볍다': 1952, '위안': 1953, '음악': 1954, '또한': 1955, '유부녀': 1956, '려': 1957, '덧': 1958, '경과': 1959, '보고서': 1960, '성숙하다': 1961, '별일': 1962, '자유롭다': 1963, '전혀': 1964, '신분': 1965, '매너': 1966, '인후': 1967, '가을': 1968, '숨': 1969, '올': 1970, '오래전': 1971, '말르다': 1972, '말끝': 1973, '겟': 1974, '댓글': 1975, '근처': 1976, '아끼다': 1977, '저만': 1978, '친추': 1979, '메인': 1980, '전남자친구': 1981, '전하': 1982, '정신과': 1983, '이서': 1984, '주체': 1985, '후유증': 1986, '약인': 1987, '수준': 1988, '기네': 1989, '쭉': 1990, '랑은': 1991, '참고': 1992, '평생': 1993, '하소연': 1994, '원망하다': 1995, '한순간': 1996, '한쪽': 1997, '해선': 1998, '추가': 1999, 'ㅋ': 2000, '갈등': 2001, '착': 2002, '흐음': 2003, '흑역사': 2004, '흠': 2005, '불타': 2006, '간접': 2007, '객관': 2008, '게스트하우스': 2009, '날짜': 2010, '심남': 2011, '구속': 2012, '꼬시': 2013, '남자에게': 2014, '상사병': 2015, '심쿵하다': 2016, '꼼꼼하다': 2017, '뒷모습': 2018, '남녀': 2019, '그린': 2020, '라이트': 2021, '하나요': 2022, '무조건': 2023, '높다': 2024, '취급': 2025, '제안': 2026, '비혼': 2027, '외박': 2028, '공감': 2029, '라서': 2030, '무뚝뚝하다': 2031, '속사정': 2032, '브랜드': 2033, '진도': 2034, '보임': 2035, '혼전순결': 2036, '연상': 2037, '요구': 2038, '정이': 2039, '축가': 2040, '존재': 2041, '진지하다': 2042, '알아채다': 2043, '더니': 2044, '보이지': 2045, '잘맞다': 2046, '대학교': 2047, '해달라다': 2048, '계획': 2049, '비용': 2050, '망설이다': 2051, '로맨틱': 2052, '혈액형': 2053, '가재': 2054, '월요일': 2055, '화요일': 2056, '반했어': 2057, '모태솔로': 2058, '끌리다': 2059, '끝일': 2060, '위대하다': 2061, '먹여주다': 2062, '상견례': 2063, '스튜디오': 2064, '촬영': 2065, '쌈': 2066, '저장': 2067, '영통': 2068, '간섭': 2069, '일부러': 2070, '누굴까': 2071, '막상': 2072, '취소': 2073, '미루다': 2074, '플라토닉': 2075, '썸탈때': 2076, '애니': 2077, '어떨': 2078, '용기': 2079, '대쉬': 2080, '삐지다': 2081, '보수': 2082, '여지': 2083, '연애스타일': 2084, '턱': 2085, '땜': 2086, '만이': 2087, '띄다': 2088, '웨딩드레스': 2089, '구분': 2090, '바람둥이': 2091, '단점': 2092, '든': 2093, '쪽팔리다': 2094, '효과': 2095, '화보': 2096, '듯이': 2097, '톡방': 2098, '지켜보다': 2099, '센스': 2100, '고시생': 2101, '이든': 2102, '파토': 2103, '라인': 2104, '취준생': 2105, '벗겨지다': 2106, '혼인신고': 2107, '땡': 2108, '지망': 2109, '박일': 2110, '망가지다': 2111, '맞팔': 2112, '가난하다': 2113, '자의': 2114, '설움': 2115, '가만': 2116, '땀': 2117, '가상': 2118, '화폐': 2119, '쫄딱': 2120, '불': 2121, '서먹하다': 2122, '휴식': 2123, '간장': 2124, '치킨': 2125, '간접흡연': 2126, '쓰레기통': 2127, '엉망': 2128, '진창': 2129, '컨트롤': 2130, '감히': 2131, '강렬하다': 2132, '강원도': 2133, '수영장': 2134, '씨방': 2135, '개학': 2136, '건강검진': 2137, '건강하다': 2138, '건물': 2139, '건방지다': 2140, '건조기': 2141, '걸레질': 2142, '게으르다': 2143, '지나': 2144, '온천': 2145, '견과류': 2146, '물증': 2147, '까봐': 2148, '경쟁': 2149, '치열하다': 2150, '엇갈리다': 2151, '고구마': 2152, '고기': 2153, '고무신': 2154, '거꾸로': 2155, '고의': 2156, '곱창': 2157, '공연': 2158, '공책': 2159, '공황장애': 2160, '소화': 2161, '과외': 2162, '관절염': 2163, '광고': 2164, '괴물': 2165, '교보': 2166, '문고': 2167, '교직이수': 2168, '교통사고': 2169, '구박': 2170, '굿모닝': 2171, '오백원': 2172, '귀농': 2173, '시절': 2174, '그러자': 2175, '면서': 2176, '근사하다': 2177, '근육': 2178, '금값': 2179, '금': 2180, '사빠': 2181, '금연': 2182, '빨렸어': 2183, '떨치다': 2184, '기력': 2185, '기름값': 2186, '지도': 2187, '기부': 2188, '꿀꿀하다': 2189, '전환': 2190, '기차': 2191, '기획사': 2192, '푸다': 2193, '미끄럽다': 2194, '미끄러지다': 2195, '김떡순': 2196, '김치': 2197, '김치볶음밥': 2198, '김치찌개': 2199, '컴백': 2200, '깡': 2201, '꼴': 2202, '사나워지다': 2203, '꽃게탕': 2204, '꽃꽂이': 2205, '꽃놀이': 2206, '꽃바구니': 2207, '바구니': 2208, '꿀잼': 2209, '낌새': 2210, '내장비만': 2211, '비만': 2212, '스마트폰': 2213, '재인': 2214, '개불': 2215, '지롱': 2216, '계': 2217, '쩌': 2218, '짤릴': 2219, '폭식증': 2220, '폰겜': 2221, '냥': 2222, '모자라다': 2223, '비키니': 2224, '약초': 2225, '캐': 2226, '진출': 2227, '커플룩': 2228, '나들이': 2229, '나른하다': 2230, '미소': 2231, '짓다': 2232, '처지다': 2233, '일시': 2234, '상의': 2235, '행운': 2236, '낙엽': 2237, '난방': 2238, '죽이다': 2239, '눅눅하다': 2240, '남동생': 2241, '데려가다': 2242, '훈훈하다': 2243, '실력': 2244, '욕함': 2245, '험하다': 2246, '잔소리': 2247, '돌보다': 2248, '낭만': 2249, '모자라': 2250, '알아주다': 2251, '깐깐하다': 2252, '읽히다': 2253, '상관없다': 2254, '밭길': 2255, '주인공': 2256, '나야': 2257, '덤비다': 2258, '지인': 2259, '험담': 2260, '그르친': 2261, '방심하다': 2262, '비난': 2263, '무능력하다': 2264, '불효': 2265, '쓸모없다': 2266, '희생양': 2267, '내기': 2268, '내년': 2269, '데쉬': 2270, '모의고사': 2271, '소풍': 2272, '클스': 2273, '냉면': 2274, '냉방': 2275, '털다': 2276, '텅': 2277, '최소': 2278, '었': 2279, '문화인': 2280, '대답': 2281, '시베리아': 2282, '삔': 2283, '네일': 2284, '넥타이': 2285, '핀': 2286, '노메이크업': 2287, '백업': 2288, '녹차': 2289, '논문': 2290, '쓰기': 2291, '놀이터': 2292, '진담': 2293, '농촌': 2294, '뇌': 2295, '초과': 2296, '눈꺼풀': 2297, '침침하다': 2298, '뉴': 2299, '뉴스': 2300, '빡빡': 2301, '늦어지다': 2302, '브런치': 2303, '필요없다': 2304, '무감각': 2305, '베풀다': 2306, '학과': 2307, '꼬': 2308, '덜덜': 2309, '챗봇': 2310, '단독주택': 2311, '단발': 2312, '마카롱': 2313, '달콤하다': 2314, '와플': 2315, '답례': 2316, '품': 2317, '답정녀': 2318, '당구': 2319, '당당하다': 2320, '대놓고': 2321, '극혐': 2322, '대만': 2323, '대빵': 2324, '대외': 2325, '활동': 2326, '불가하다': 2327, '대출받다': 2328, '아싸': 2329, '격렬하다': 2330, '학교생활': 2331, '덕수궁': 2332, '돌담': 2333, '덕질': 2334, '반납': 2335, '안햇': 2336, '싸가지': 2337, '사먹다': 2338, '독감': 2339, '독학': 2340, '유세': 2341, '리기': 2342, '버': 2343, '두절': 2344, '투잡': 2345, '거임': 2346, '천원': 2347, '돌잔치': 2348, '동문서답': 2349, '동상': 2350, '대판': 2351, '뒤척': 2352, '뒷': 2353, '통수': 2354, '잡음': 2355, '드라이': 2356, '룸': 2357, '드론': 2358, '등록금': 2359, '휨': 2360, '등산': 2361, '뷔페': 2362, '라이': 2363, '부러지다': 2364, '똥마려': 2365, '띰띰해': 2366, '레고': 2367, '레시피': 2368, '렌터카': 2369, '로그인': 2370, '아이디': 2371, '롱패딩': 2372, '모델링': 2373, '리치': 2374, '치즈': 2375, '마라톤': 2376, '마스크': 2377, '대량': 2378, '구매': 2379, '청춘': 2380, '평화': 2381, '급하다': 2382, '허다': 2383, '헤헤': 2384, '만담': 2385, '만두': 2386, '말문': 2387, '말실수': 2388, '수시로': 2389, '망고': 2390, '빙수': 2391, '칼국수': 2392, '고고': 2393, '매콤': 2394, '다듬다': 2395, '떡': 2396, '띵하다': 2397, '콕콕': 2398, '머리스타일': 2399, '머릿결': 2400, '찰랑거리다': 2401, '하얘지다': 2402, '콜록콜록': 2403, '멍': 2404, '메뉴얼': 2405, '메모리카드': 2406, '메모': 2407, '메이크업': 2408, '도안': 2409, '면세': 2410, '모공': 2411, '하래': 2412, '전화왔어': 2413, '페친': 2414, '지나치다': 2415, '몸매': 2416, '탄탄하다': 2417, '몸살': 2418, '찌뿌둥해': 2419, '투성이': 2420, '앱': 2421, '스쿼트': 2422, '무사': 2423, '안일': 2424, '기원': 2425, '돼지': 2426, '열리다': 2427, '무서움': 2428, '문화센터': 2429, '마시기': 2430, '물리치료': 2431, '이여': 2432, '뒷맛': 2433, '자극': 2434, '분다': 2435, '쐬다': 2436, '정동진': 2437, '치마': 2438, '배정': 2439, '호수': 2440, '발레': 2441, '새다': 2442, '밤새다': 2443, '벌이': 2444, '배부르다': 2445, '꾸룩꾸룩': 2446, '간당간당': 2447, '빵빵': 2448, '멀미': 2449, '생활비': 2450, '요리조리': 2451, '가꾸다': 2452, '충전기': 2453, '베트남어': 2454, '벨': 2455, '울리다': 2456, '변기': 2457, '별것': 2458, '트집': 2459, '별다르다': 2460, '별의별': 2461, '병원': 2462, '보너스': 2463, '보드': 2464, '보드게임': 2465, '보일러': 2466, '보조': 2467, '보증금': 2468, '마련': 2469, '보험': 2470, '보험료': 2471, '설계': 2472, '복근': 2473, '봄날': 2474, '봄방학': 2475, '동물원': 2476, '부드럽다': 2477, '반항': 2478, '모시다': 2479, '부산': 2480, '부업': 2481, '분통': 2482, '블랙데이': 2483, '짜장면': 2484, '블랙박스': 2485, '찍히다': 2486, '블록': 2487, '체인': 2488, '블루투스': 2489, '이어폰': 2490, '젖다': 2491, '오기': 2492, '비밀번호': 2493, '서럽다': 2494, '비타민': 2495, '비트코인': 2496, '날림': 2497, '비행기': 2498, '비행기표': 2499, '빠떼리': 2500, '빨래': 2501, '빵꾸': 2502, '뿌리': 2503, '사다리타기': 2504, '구상': 2505, '사장': 2506, '업로드': 2507, '사투리': 2508, '사표': 2509, '사회생활': 2510, '교복': 2511, '안부': 2512, '베프': 2513, '새치': 2514, '입히다': 2515, '샌드위치': 2516, '샐러드': 2517, '불순': 2518, '생강차': 2519, '가운': 2520, '유용하다': 2521, '리나': 2522, '쫄았어': 2523, '서비스': 2524, '센터': 2525, '서울': 2526, '근교': 2527, '들르다': 2528, '장애': 2529, '선풍기': 2530, '틀다': 2531, '설날': 2532, '섬유': 2533, '유연제': 2534, '날카로워지다': 2535, '성덕': 2536, '성적표': 2537, '견적': 2538, '세금': 2539, '세뱃돈': 2540, '호호': 2541, '세탁소': 2542, '신행': 2543, '보람': 2544, '욕먹다': 2545, '소액': 2546, '결제': 2547, '오름': 2548, '쫙': 2549, '화제': 2550, '가늘다': 2551, '손님': 2552, '손목': 2553, '손발': 2554, '손수건': 2555, '수강신청': 2556, '수건': 2557, '수면': 2558, '수박': 2559, '수분크림': 2560, '듬뿍': 2561, '바르다': 2562, '내내': 2563, '수줍다': 2564, '숙제': 2565, '숙취': 2566, '취해': 2567, '어지럽다': 2568, '스노클링': 2569, '스케일링': 2570, '강습': 2571, '스타벅스': 2572, '스테이크': 2573, '스트레칭': 2574, '지루하다': 2575, '개판': 2576, '움직이다': 2577, '색': 2578, '시골': 2579, '내려가다': 2580, '시급': 2581, '누': 2582, '시트': 2583, '지로': 2584, '식당': 2585, '식비': 2586, '식욕': 2587, '바늘': 2588, '신용카드': 2589, '신입': 2590, '신혼집': 2591, '실내': 2592, '실비': 2593, '실험실': 2594, '심부름': 2595, '싱크대': 2596, '잇몸': 2597, '아쉽다': 2598, '카메라': 2599, '아메리카노': 2600, '뒹굴': 2601, '선천': 2602, '따라가다': 2603, '피우다': 2604, '민망하다': 2605, '아울렛': 2606, '아이': 2607, '아이스크림': 2608, '꼭꼭': 2609, '든든하다': 2610, '조깅': 2611, '일어나서': 2612, '렌즈': 2613, '훈녀': 2614, '빼': 2615, '알뜰폰': 2616, '구함': 2617, '애완동물': 2618, '야경': 2619, '졸음': 2620, '양배추': 2621, '즙': 2622, '양심': 2623, '양초': 2624, '피해자': 2625, '프레임': 2626, '할껄': 2627, '입학식': 2628, '어머': 2629, '다투다': 2630, '복제': 2631, '까맣다': 2632, '달래': 2633, '말씀': 2634, '업데이트': 2635, '지적': 2636, '에어': 2637, '라이어': 2638, '까지가': 2639, '한계': 2640, '태닝할까': 2641, '여유롭다': 2642, '태': 2643, '교환학생': 2644, '역류성': 2645, '식도염': 2646, '연금': 2647, '연봉': 2648, '대비': 2649, '근무시간': 2650, '갱년': 2651, '연일': 2652, '갱신': 2653, '열쇠': 2654, '영어': 2655, '영어학원': 2656, '영화관': 2657, '예능': 2658, '옛': 2659, '처리': 2660, '침대': 2661, '햇볕': 2662, '공기': 2663, '뿌얘': 2664, '꾸준하다': 2665, '힘차다': 2666, '결재': 2667, '잔잔하다': 2668, '오로라': 2669, '콜': 2670, '좌절': 2671, '쓸쓸하다': 2672, '외식': 2673, '외제차': 2674, '외향': 2675, '왼손잡이': 2676, '핫': 2677, '우아하다': 2678, '우연이': 2679, '구두': 2680, '워킹맘': 2681, '원두': 2682, '원피스': 2683, '월세': 2684, '웨딩촬영': 2685, '웹툰': 2686, '위병': 2687, '소음': 2688, '유기견': 2689, '분양': 2690, '육아휴직': 2691, '상실': 2692, '의자': 2693, '저음': 2694, '멍충': 2695, '도망가다': 2696, '저렇다': 2697, '흐지부지': 2698, '휙': 2699, '광탈': 2700, '이마': 2701, '넓다': 2702, '이모티콘': 2703, '민가': 2704, '생': 2705, '구석': 2706, '이삿짐': 2707, '텐데': 2708, '안타': 2709, '서도': 2710, '가물가물': 2711, '직각': 2712, '인강': 2713, '딴': 2714, '인터넷': 2715, '쇼핑몰': 2716, '원서': 2717, '넣다': 2718, '어니': 2719, '날리다': 2720, '모양': 2721, '일본어': 2722, '쌓이네': 2723, '병행': 2724, '일인자': 2725, '일일': 2726, '걷기': 2727, '임신': 2728, '헐다': 2729, '텁텁해': 2730, '입덕': 2731, '자기애': 2732, '미리': 2733, '기어오르다': 2734, '설사': 2735, '꺽': 2736, '업': 2737, '비결': 2738, '자유시간': 2739, '자율': 2740, '주행': 2741, '자장가': 2742, '자장면': 2743, '짬뽕': 2744, '한참': 2745, '잡담': 2746, '장': 2747, '장기': 2748, '자랑': 2749, '장래희망': 2750, '재채기': 2751, '재택근무': 2752, '재테크': 2753, '저금': 2754, '노잼': 2755, '전과': 2756, '전기장판': 2757, '깔다': 2758, '전세': 2759, '세비': 2760, '전학': 2761, '늦': 2762, '절약': 2763, '은행': 2764, '메뉴': 2765, '외출': 2766, '가즈': 2767, '불가': 2768, '정수리': 2769, '침착하다': 2770, '급기': 2771, '제사': 2772, '조교': 2773, '조명': 2774, '이케': 2775, '과제': 2776, '입학': 2777, '졸업식': 2778, '주름': 2779, '헬스': 2780, '대박': 2781, '주차장': 2782, '아들': 2783, '히스테리': 2784, '발령': 2785, '중소기업': 2786, '지기': 2787, '디디다': 2788, '틈': 2789, '직구': 2790, '완전체': 2791, '피맥': 2792, '지저분하다': 2793, '일단': 2794, '쫄면': 2795, '창문': 2796, '글자': 2797, '책장': 2798, '귀지': 2799, '판단': 2800, '청강': 2801, '체육복': 2802, '쳇바퀴': 2803, '다한': 2804, '증인': 2805, '충전': 2806, '길어지다': 2807, '원츄': 2808, '층간소음': 2809, '살인': 2810, '강남': 2811, '온대': 2812, '위축': 2813, '친척': 2814, '값': 2815, '카풀': 2816, '사자': 2817, '볶다': 2818, '컨디션': 2819, '컴터': 2820, '고장': 2821, '케익': 2822, '근': 2823, '질거려': 2824, '세우다': 2825, '간지럽다': 2826, '코골': 2827, '코딩': 2828, '코인': 2829, '코코넛오일': 2830, '코트': 2831, '콧물': 2832, '쿠폰': 2833, '크루즈': 2834, '타로': 2835, '기막히다': 2836, '태몽': 2837, '아저씨': 2838, '텀블러': 2839, '텔레비전': 2840, '잔고': 2841, '통학': 2842, '오냐': 2843, '퇴사': 2844, '팀': 2845, '엄청나다': 2846, '파란': 2847, '파마': 2848, '팔뚝': 2849, '두껍다': 2850, '패키지': 2851, '자유여행': 2852, '팬미팅': 2853, '아르바이트': 2854, '평가원': 2855, '평일': 2856, '먹방': 2857, '라그': 2858, '닳다': 2859, '요금': 2860, '초기': 2861, '프로젝트': 2862, '프리': 2863, '마켓': 2864, '경': 2865, '피곤': 2866, '피어싱': 2867, '들어주다': 2868, '효율': 2869, '하우스': 2870, '하품': 2871, '학식': 2872, '물리다': 2873, '폭력': 2874, '학회': 2875, '한복': 2876, '한약': 2877, '한자': 2878, '뿌리다': 2879, '라나': 2880, '현금': 2881, '호텔': 2882, '로비': 2883, '혼영': 2884, '거도': 2885, '홈쇼핑': 2886, '화이트데이': 2887, '환기': 2888, '황당하다': 2889, '황사': 2890, '었으': 2891, '휴양지': 2892, '휴지': 2893, '희다': 2894, '힌트': 2895, '애사': 2896, '되돌아보다': 2897, '젔': 2898, '여의': 2899, '종착역': 2900, '막바지': 2901, '개월전': 2902, '반의': 2903, '목전': 2904, '엊그제': 2905, '바치다': 2906, '유흥업소': 2907, '방문': 2908, '해어지다': 2909, '예년': 2910, '김동욱': 2911, '가벼워지다': 2912, '한편': 2913, '숨쉬기': 2914, '허락': 2915, '가깝다': 2916, '가짜': 2917, '가혹하다': 2918, '간단하다': 2919, '덕': 2920, '간통': 2921, '더보': 2922, '감각': 2923, '이드': 2924, '덜컹': 2925, '공간': 2926, '해오다': 2927, '비치다': 2928, '걸핏하면': 2929, '추스렸는데': 2930, '골인': 2931, '끝낫': 2932, '일방': 2933, '년후': 2934, '맴돈다': 2935, '공황': 2936, '증': 2937, '얽매이다': 2938, '괘씸하다': 2939, '지지': 2940, '진': 2941, '펑펑': 2942, '덜컥': 2943, '은주': 2944, '구걸': 2945, '애하': 2946, '찾아다니다': 2947, '그나저나': 2948, '웃기': 2949, '주절주절': 2950, '섞다': 2951, '모조리': 2952, '한나': 2953, '졋습니': 2954, '전해': 2955, '듣기': 2956, '빌다': 2957, '노무': 2958, '그땐': 2959, '만약': 2960, '즐겁다': 2961, '너덜너덜': 2962, '왜곡': 2963, '속지': 2964, '깨끗하다': 2965, '정량': 2966, '꿈속': 2967, '왓': 2968, '에서까지': 2969, '에서라도': 2970, '리얼': 2971, '무방비': 2972, '라지': 2973, '지고': 2974, '나그네': 2975, '거치다': 2976, '나라': 2977, '놓이다': 2978, '구질': 2979, '로다': 2980, '듭니': 2981, '나약하다': 2982, '자만': 2983, '심': 2984, '결코': 2985, '네버': 2986, '절대로': 2987, '벌레': 2988, '추워지다': 2989, '겪다': 2990, '빈자리': 2991, '낮': 2992, '그나마': 2993, '지우개': 2994, '발등': 2995, '이지만': 2996, '하고는': 2997, '이기심': 2998, '곁': 2999, '가노': 3000, '가미': 3001, '기쁘다': 3002, '만큼만': 3003, '잡지': 3004, '옥상': 3005, '이듭': 3006, '너무나': 3007, '이글': 3008, '충분하다': 3009, '가슴속': 3010, '전화번호': 3011, '터': 3012, '크리': 3013, '채우다': 3014, '가라': 3015, '날수': 3016, '숨쉬다': 3017, '원점': 3018, '답답증': 3019, '죽겠네': 3020, '답변': 3021, '저만큼': 3022, '본심': 3023, '건데': 3024, '덤덤': 3025, '돌이키다': 3026, '동성동본': 3027, '바닥': 3028, '외다': 3029, '눈물나다': 3030, '따끔하다': 3031, '낮술': 3032, '또다시': 3033, '뜬금': 3034, '뜬금없이': 3035, '뜬눈': 3036, '새우다': 3037, '롤로': 3038, '코스터': 3039, '리턴': 3040, '힘겹다': 3041, '헌신': 3042, '처량하다': 3043, '비우기': 3044, '마음대로': 3045, '꽉': 3046, '초조하다': 3047, '붙이': 3048, '이별편지': 3049, '현관문': 3050, '닫다': 3051, '매몰': 3052, '깨달': 3053, '졋': 3054, '약해지다': 3055, '결별': 3056, '선언': 3057, '치가': 3058, '푸네': 3059, '맘터': 3060, '망각': 3061, '허황': 3062, '된거': 3063, '도해': 3064, '이제일': 3065, '발신': 3066, '제한': 3067, '매듭': 3068, '매정하다': 3069, '캔': 3070, '식히다': 3071, '핑핑': 3072, '가버리다': 3073, '멀쩡하다': 3074, '주자': 3075, '멘붕': 3076, '잠잠하다': 3077, '막막하다': 3078, '명치': 3079, '모처럼': 3080, '하니': 3081, 'ㅎ': 3082, '쌓다': 3083, '진줄': 3084, '무모하다': 3085, '무상': 3086, '무엇': 3087, '하든': 3088, '따라다니다': 3089, '무제': 3090, '눈물샘': 3091, '물질': 3092, '달도': 3093, '한두': 3094, '덩어리': 3095, '모음': 3096, '미안': 3097, '휴련하': 3098, '강제': 3099, '불어': 3100, '피지': 3101, '감수성': 3102, '백만': 3103, '즈음': 3104, '버려지다': 3105, '소름': 3106, '돋다': 3107, '세번': 3108, '베인': 3109, '베이': 3110, '그지같다': 3111, '별똥별': 3112, '이진': 3113, '병장': 3114, '나달': 3115, '사무치다': 3116, '메시지': 3117, '부디': 3118, '사이다': 3119, '부서지다': 3120, '부치다': 3121, '불꽃': 3122, '불륜': 3123, '씁쓸하다': 3124, '가오니': 3125, '비오네': 3126, '막걸리': 3127, 'ㅎㅎㅎ': 3128, '상속': 3129, '만큼의': 3130, '홧병': 3131, '가지가지': 3132, '모순': 3133, '간사하다': 3134, '님들': 3135, '공유': 3136, '야만': 3137, '반대말': 3138, '치료': 3139, '회색': 3140, '빛': 3141, '산이': 3142, '찌': 3143, '살빼다': 3144, '삼십': 3145, '훌러덩': 3146, '펴다': 3147, '미래엔': 3148, '질테': 3149, '맙시': 3150, '앞서서': 3151, '천': 3152, '새사람': 3153, '새장': 3154, '부터는': 3155, '변화': 3156, '원': 3157, '치': 3158, '조각': 3159, '서른': 3160, '초반': 3161, '즘': 3162, '게시': 3163, '안타깝다': 3164, '설마': 3165, '알땐': 3166, '성급하다': 3167, '실패': 3168, '이뻣던': 3169, '소화도': 3170, '응어리': 3171, '수면제': 3172, '다섯': 3173, '순진하다': 3174, '술병': 3175, '왠': 3176, '수지': 3177, '술취해': 3178, '잔해': 3179, '인색하다': 3180, '위통': 3181, '메리크리스마스': 3182, '슬픔': 3183, '슬픔활용법': 3184, '낭비하다': 3185, '되돌리다': 3186, '독': 3187, '시련': 3188, '시원섭섭하다': 3189, '심난하다': 3190, '주저': 3191, '싸구려': 3192, '쏘다': 3193, '안고': 3194, '봐버렷': 3195, '아른거리다': 3196, '아따': 3197, '엿먹일': 3198, '치밀다': 3199, '을해': 3200, '먹히다': 3201, '아오': 3202, '힙듭니': 3203, '감싸다': 3204, '벌떡': 3205, '덜하다': 3206, '지니': 3207, '습': 3208, '캄캄하다': 3209, '야구': 3210, '경기': 3211, '양가': 3212, '부모': 3213, '이보': 3214, '훌쩍': 3215, '마음인걸': 3216, '벌주다': 3217, '톡보': 3218, '온너': 3219, '창가': 3220, '바라보다': 3221, '햇': 3222, '극': 3223, '어째서': 3224, '어째': 3225, '결말': 3226, '벗어나다': 3227, '금일': 3228, '서서히': 3229, '지워지다': 3230, '아물런': 3231, '얼마만큼': 3232, '에궁': 3233, '에혀': 3234, '여러분': 3235, '여섯': 3236, '떠가다': 3237, '쏟다': 3238, '붓다': 3239, '정확하다': 3240, '세운': 3241, '막다': 3242, '핸폰': 3243, '질리나': 3244, '어떠하다': 3245, '모질다': 3246, '가만히': 3247, '충': 3248, '연말': 3249, '연상녀': 3250, '헤어졋': 3251, '관계도': 3252, '년차': 3253, '연차': 3254, '연하': 3255, '에다가': 3256, '풀이': 3257, '간신히': 3258, '사살': 3259, '메일': 3260, '수없이': 3261, '버티고': 3262, '어김없이': 3263, '포장마차': 3264, '버텻구': 3265, '도잠': 3266, '도출': 3267, '근해': 3268, '로써': 3269, '깔끔하다': 3270, '만큼은': 3271, '푹': 3272, '하고프다': 3273, '쏟아내다': 3274, '곡': 3275, '발렌': 3276, '타이': 3277, '주절거리다': 3278, '보렵니': 3279, '오랫': 3280, '온종일': 3281, '그것': 3282, '흔들다': 3283, '블로그': 3284, '의문': 3285, '강하다': 3286, '외': 3287, '롭고': 3288, '쏟아지다': 3289, '조성모': 3290, '퍼붓다': 3291, '왓어': 3292, '용다': 3293, '새해인사': 3294, '애쓰다': 3295, '운세': 3296, '종합': 3297, '울면': 3298, '에놀': 3299, '러': 3300, '해주': 3301, '월욜': 3302, '윤종신': 3303, '으으': 3304, '으': 3305, '이냐': 3306, '응원': 3307, '업다': 3308, '이참': 3309, '변덕': 3310, '하직': 3311, '용납': 3312, '거참': 3313, '이대로': 3314, '글귀': 3315, '해석': 3316, '이만': 3317, '신의': 3318, '달차': 3319, '사유': 3320, '수순': 3321, '씩씩하다': 3322, '일주': 3323, '첫날': 3324, '아쉬움': 3325, '치기': 3326, '주년': 3327, '까지의': 3328, '당시': 3329, '짠하다': 3330, '저그': 3331, '힘내다': 3332, '비겁하다': 3333, '필수': 3334, '실감': 3335, '하고야': 3336, '순': 3337, '사별': 3338, '증후군': 3339, '목숨': 3340, '단계': 3341, '노랗다': 3342, '신가': 3343, '괴롭히다': 3344, '으로는': 3345, '당': 3346, '이용만': 3347, '년도': 3348, '성큼': 3349, '아름다워지다': 3350, '나름': 3351, '때론': 3352, '퍼즐': 3353, '잖다': 3354, '속도': 3355, '잡아가다': 3356, '힘내렵니': 3357, '무뎌': 3358, '주기': 3359, '얄': 3360, '젠정': 3361, '해심': 3362, '밥상': 3363, '익숙하다': 3364, '법도': 3365, '성향': 3366, '인과응보': 3367, '인내': 3368, '일과': 3369, '도착': 3370, '궁': 3371, '일전': 3372, '염탐': 3373, '입원': 3374, '마이': 3375, '입장': 3376, '무덥다': 3377, '겁니다': 3378, '중심': 3379, '두려움': 3380, '자신만만하다': 3381, '엊그젠데': 3382, '작년': 3383, '잠도': 3384, '설치': 3385, '장가': 3386, '장기간': 3387, '장수': 3388, '내야': 3389, '단념하다': 3390, '한다해': 3391, '친구사이': 3392, '걸치다': 3393, '따로': 3394, '부친상': 3395, '띄우다': 3396, '곧장': 3397, '꿧어': 3398, '따라오다': 3399, '불능': 3400, '멍청이': 3401, '마저': 3402, '뭉': 3403, '난감하다': 3404, '뜨겁다': 3405, '밖에는': 3406, '복합': 3407, '엊': 3408, '갈림': 3409, '수단': 3410, '동원': 3411, '차려': 3412, '처방전': 3413, '정은': 3414, '일치': 3415, '에요': 3416, '잠좀': 3417, '인하다': 3418, '젠장': 3419, '참을껄': 3420, '져': 3421, '아물다': 3422, '조바심': 3423, '조울증': 3424, '무뎌졌': 3425, '무한': 3426, '잿빛': 3427, '죄송하다': 3428, '이나고': 3429, '마디': 3430, '에겐': 3431, '지긋지긋하다': 3432, '후벼파다': 3433, '지난주': 3434, '지독하다': 3435, '지루함': 3436, '떠들다': 3437, '여운': 3438, '쩝': 3439, '번하다': 3440, '쫌': 3441, '여부': 3442, '시나': 3443, '매력': 3444, '란': 3445, '악연': 3446, '이니': 3447, '소박하다': 3448, '제자': 3449, '지껄이다': 3450, '뒤집어지다': 3451, '구역질': 3452, '참담하다': 3453, '천사': 3454, '초코렛': 3455, '기울이다': 3456, '침묵': 3457, '카카오': 3458, '계정': 3459, '텅빔': 3460, '통증': 3461, '훅': 3462, '툭하면': 3463, '이러니': 3464, '핑계': 3465, '투덜투덜': 3466, '사흘': 3467, '수십': 3468, '번은': 3469, '진하다': 3470, '괜찬': 3471, '부재': 3472, '크게': 3473, '한없이': 3474, '돌싱': 3475, '행여': 3476, '쥐': 3477, '맴': 3478, '찢다': 3479, '헉': 3480, '어쩌다': 3481, '금기': 3482, '헛웃음': 3483, '보다는': 3484, '미움': 3485, '주인': 3486, '난뒤': 3487, '기전': 3488, '지누': 3489, '행적': 3490, '콘서트': 3491, '영상': 3492, '티비': 3493, '다짐': 3494, '진료': 3495, '예약': 3496, '해바라기': 3497, '몰아치다': 3498, '주차': 3499, '삼일': 3500, '곧년': 3501, '이주': 3502, '타협': 3503, '혜진': 3504, '확정': 3505, '놀': 3506, '이별여행': 3507, 'ㅠㅠㅠ': 3508, '홀로': 3509, '화낼': 3510, '화창하다': 3511, '포근하다': 3512, '햇살': 3513, '감사하다': 3514, '회복': 3515, '후밤': 3516, '후우': 3517, '휘성': 3518, '찾기': 3519, '우': 3520, '흐앙': 3521, '흐잌': 3522, '닷': 3523, '제조': 3524, '완료': 3525, '희생': 3526, '방식': 3527, '힘껏': 3528, '몸부림': 3529, '치면': 3530, '레알': 3531, '사인': 3532, '각자': 3533, '간간히': 3534, '동굴': 3535, '긋다': 3536, '서면': 3537, '거래처': 3538, '직원': 3539, '꼬셔': 3540, '아이템': 3541, '계기': 3542, '상대로': 3543, '대로는': 3544, '결혼식장': 3545, '며느리': 3546, '제로': 3547, '경제력': 3548, '배다': 3549, '공공장소': 3550, '에서의': 3551, '마자': 3552, '공시생': 3553, '과묵': 3554, '타입': 3555, '과함': 3556, '오르락': 3557, '내리락': 3558, '애도': 3559, '눈앞': 3560, '조가': 3561, '근황': 3562, '일화': 3563, '갇히다': 3564, '향기롭다': 3565, '뚱뚱하다': 3566, '보나': 3567, '발인': 3568, '단호': 3569, '윗': 3570, '떼다': 3571, '안함': 3572, '로만': 3573, '엮는': 3574, '엮이': 3575, '철벽치': 3576, '바라지': 3577, '숨기다': 3578, '로서': 3579, '줄어들다': 3580, '에게만': 3581, '이래도': 3582, '목적': 3583, '접근': 3584, '금사': 3585, '소통': 3586, '중요성': 3587, '끊어지다': 3588, '사나': 3589, '일반': 3590, '성관계': 3591, '채': 3592, '영장': 3593, '오지랖': 3594, '의도': 3595, '국밥': 3596, '류': 3597, '비꼬다': 3598, '주의': 3599, '쎄다': 3600, '잊어버리다': 3601, '전역': 3602, '돌이': 3603, '앨범': 3604, '도도하다': 3605, '방구': 3606, '텄는': 3607, '첫키스': 3608, '유머': 3609, '코드': 3610, '학력': 3611, '커플티': 3612, '투': 3613, '살아오다': 3614, '환경': 3615, '불신': 3616, '사이트': 3617, '워커홀릭': 3618, '게이': 3619, '만지다': 3620, '효자': 3621, '만들기': 3622, '온통': 3623, '알리': 3624, '몰다': 3625, '무의식': 3626, '누군지': 3627, '유명하다': 3628, '최대한': 3629, '울렁거리다': 3630, '넘치다': 3631, '에게나': 3632, '잘만': 3633, '대부분': 3634, '학번': 3635, '해달': 3636, '데이트비용': 3637, '정적': 3638, '동네': 3639, '동성애': 3640, '동아리': 3641, '두근두근': 3642, '딩크족': 3643, '띠': 3644, '동갑': 3645, '랩': 3646, '유형': 3647, '키스': 3648, '말수': 3649, '갈수': 3650, '맞춤': 3651, '매년': 3652, '수요일': 3653, '메리': 3654, '블루': 3655, '썸타': 3656, '모닝콜': 3657, '몰두하다': 3658, '미래': 3659, '반려자': 3660, '바람기': 3661, '다다르다': 3662, '박력': 3663, '발라드': 3664, '본능': 3665, '설득': 3666, '자금': 3667, '보태': 3668, '주신': 3669, '부부싸움': 3670, '칼': 3671, '분명': 3672, '주의자': 3673, '트레이닝복': 3674, '환': 3675, '장이': 3676, '존댓말': 3677, '비추다': 3678, '사내연애': 3679, '명언': 3680, '삶다': 3681, '사랑스럽다': 3682, '눈빛': 3683, '초월': 3684, '어차피': 3685, '묘약': 3686, '정의': 3687, '구체': 3688, '대수': 3689, '뭐길': 3690, '싹': 3691, '트': 3692, '맞이': 3693, '차이나': 3694, '미지근하다': 3695, '손해': 3696, '사생활': 3697, '살며시': 3698, '삼각관계': 3699, '다말': 3700, '섹스': 3701, '리스': 3702, '공률': 3703, '높이다': 3704, '소심': 3705, '수수하다': 3706, '썸임': 3707, '스드메': 3708, '스몰': 3709, '승부': 3710, '식상하다': 3711, '부딪히다': 3712, '채다': 3713, '궁금': 3714, '유발': 3715, '식': 3716, '적절하다': 3717, '어가': 3718, '생선': 3719, '바임': 3720, '배낭여행': 3721, '직장인': 3722, '빼앗기다': 3723, '자제': 3724, '시기': 3725, '뽀뽀': 3726, '뚝': 3727, '떄': 3728, '썸끝': 3729, '발렌타인': 3730, '스윗': 3731, '태도': 3732, '남도': 3733, '둔하다': 3734, '취한': 3735, '잠그다': 3736, '하트': 3737, '박': 3738, '일로': 3739, '펜셥': 3740, '궁합': 3741, '촉': 3742, '모텔': 3743, '남인': 3744, '카': 3745, '지킴': 3746, '바인': 3747, '화차': 3748, '유통': 3749, '기한': 3750, '싸늘하다': 3751, '보재': 3752, '썸일': 3753, '돌아서다': 3754, '아낌없이': 3755, '퍼주': 3756, '아마': 3757, '등교': 3758, '버스정류장': 3759, '애매모호하다': 3760, '애정': 3761, '양궁': 3762, '동창회': 3763, '구나': 3764, '명과': 3765, '여사': 3766, '화내': 3767, '리지': 3768, '얇다': 3769, '더치페이': 3770, '돌아다니다': 3771, '리언': 3772, '극적': 3773, '지해': 3774, '대신': 3775, '춤': 3776, '향기': 3777, '피시방': 3778, '팔찌': 3779, '목걸이': 3780, '디': 3781, '퓨저': 3782, '소비': 3783, '깜놀': 3784, '섬세하다': 3785, '김': 3786, '사려': 3787, '여행지': 3788, '연극': 3789, '군': 3790, '감흥': 3791, '고수': 3792, '깨우다': 3793, '초보': 3794, '실패하다': 3795, '담하다': 3796, '자유': 3797, '해몽': 3798, '정치': 3799, '견해': 3800, '마마': 3801, '예식장': 3802, '빈손': 3803, '두근거리다': 3804, '솔로인': 3805, '묻다': 3806, '외국': 3807, '거나': 3808, '리액션': 3809, '티내': 3810, '편식': 3811, '서글프다': 3812, '식사': 3813, '입맛': 3814, '경향': 3815, '자전거': 3816, '지점': 3817, '장난스럽다': 3818, '재수': 3819, '필망': 3820, '살펴보다': 3821, '정성': 3822, '담기다': 3823, '정열': 3824, '안별': 3825, '거부': 3826, '존경': 3827, '귀국': 3828, '다스리다': 3829, '억제': 3830, '차이점': 3831, '소재': 3832, '입대': 3833, '센치하다': 3834, '신하': 3835, '실례': 3836, '북받치다': 3837, '만하': 3838, '여럿': 3839, '진전': 3840, '사연': 3841, '구경': 3842, '영영': 3843, '안내': 3844, '가망': 3845, '중임': 3846, '이끌다': 3847, '액션': 3848, '우상화': 3849, '찌르다': 3850, '심각하다': 3851, '손편지': 3852, '이어지다': 3853, '못내': 3854, '불쌍하다': 3855, '이전': 3856, '비걸': 3857, '금방': 3858, '맺다': 3859, '죽음': 3860, '뛰어넘다': 3861, '즉흥': 3862, '모레': 3863, '출국': 3864, '섞이다': 3865, '탓': 3866, '남일': 3867, '방해': 3868, '패션센스': 3869, '독서': 3870, '노답': 3871, '삐': 3872, '딱하다': 3873, '운동선수': 3874, '사정': 3875, '평이': 3876, '더러워지다': 3877, '잔치': 3878, '태그': 3879, '소모': 3880, '밤늦다': 3881, '실망하다': 3882, '슬쩍': 3883, '남한': 3884, '여서': 3885, '바꿈': 3886, '적대': 3887, '사치': 3888, '다만': 3889, '갈껀': 3890, '가르치다': 3891, '둘리': 3892, '치정': 3893, '중일': 3894, '장점': 3895, '확률': 3896, '잘나다': 3897, '아보': 3898, '곤': 3899, '두서': 3900, '차임': 3901, '까지나': 3902, '언제나': 3903, '끝내': 3904, '낮아지다': 3905, '구별': 3906, '놀래다': 3907, '솔탈함': 3908, '차로': 3909, '템': 3910, '천년': 3911, '반하다': 3912, '반함': 3913, '아련하다': 3914, '출산휴가': 3915, '이로': 3916, '브라': 3917, '커뮤니티': 3918, '씌었나봐': 3919, '어울림': 3920, '팔베개': 3921, '저리다': 3922, '풋풋하다': 3923, '영상편지': 3924, '하우스푸어': 3925, '샘': 3926, '끌': 3927, '학': 3928, '숙소': 3929, '홧김': 3930, '마추': 3931, '흑기사': 3932}\n"
          ]
        }
      ]
    },
    {
      "cell_type": "code",
      "source": [
        "threshold = 2\n",
        "total_cnt = len(tokenizer.word_index) # 단어의 수\n",
        "rare_cnt = 0 # 등장 빈도수가 threshold보다 작은 단어의 개수를 카운트\n",
        "total_freq = 0 # 훈련 데이터의 전체 단어 빈도수 총 합\n",
        "rare_freq = 0 # 등장 빈도수가 threshold보다 작은 단어의 등장 빈도수의 총 합\n",
        "\n",
        "# 단어와 빈도수의 쌍(pair)을 key와 value로 받는다.\n",
        "for key, value in tokenizer.word_counts.items() :\n",
        "    total_freq = total_freq + value\n",
        "\n",
        "    # 단어의 등장 빈도수가 threshold보다 작으면\n",
        "    if(value < threshold) :\n",
        "        rare_cnt = rare_cnt + 1\n",
        "        rare_freq = rare_freq + value\n",
        "\n",
        "print('단어 집합(vocabulary)의 크기 :', total_cnt)\n",
        "print('등장 빈도가 %s번 이하인 희귀 단어의 수 : %s' % (threshold - 1, rare_cnt))\n",
        "print(\"단어 집합에서 희귀 단어의 비율 :\", (rare_cnt / total_cnt) * 100)\n",
        "print(\"전체 등장 빈도에서 희귀 단어 등장 빈도 비율 :\", (rare_freq / total_freq) * 100)"
      ],
      "metadata": {
        "colab": {
          "base_uri": "https://localhost:8080/"
        },
        "id": "RacT8PbtVPtZ",
        "outputId": "0195a953-38e3-4cc6-a19d-60bb558ac233"
      },
      "execution_count": 88,
      "outputs": [
        {
          "output_type": "stream",
          "name": "stdout",
          "text": [
            "단어 집합(vocabulary)의 크기 : 3932\n",
            "등장 빈도가 1번 이하인 희귀 단어의 수 : 1825\n",
            "단어 집합에서 희귀 단어의 비율 : 46.41403865717192\n",
            "전체 등장 빈도에서 희귀 단어 등장 빈도 비율 : 5.382845681925437\n"
          ]
        }
      ]
    },
    {
      "cell_type": "code",
      "source": [
        "vocab_size = total_cnt - rare_cnt + 1\n",
        "print('단어 집합의 크기 :', vocab_size)"
      ],
      "metadata": {
        "colab": {
          "base_uri": "https://localhost:8080/"
        },
        "id": "Hkt6Ia3IVS7U",
        "outputId": "ad9592e6-ddc7-47ba-9ce5-e9f872a1eeee"
      },
      "execution_count": 89,
      "outputs": [
        {
          "output_type": "stream",
          "name": "stdout",
          "text": [
            "단어 집합의 크기 : 2108\n"
          ]
        }
      ]
    },
    {
      "cell_type": "code",
      "source": [
        "tokenizer = Tokenizer(vocab_size) \n",
        "tokenizer.fit_on_texts(X_train)\n",
        "X_train = tokenizer.texts_to_sequences(X_train)"
      ],
      "metadata": {
        "id": "rPCIHwXnVbUZ"
      },
      "execution_count": 90,
      "outputs": []
    },
    {
      "cell_type": "code",
      "source": [
        "print(X_train[ : 3])"
      ],
      "metadata": {
        "colab": {
          "base_uri": "https://localhost:8080/"
        },
        "id": "OEFB_i6AVfmq",
        "outputId": "375d8cb3-8bf0-4212-b37b-ae342d97e70d"
      },
      "execution_count": 91,
      "outputs": [
        {
          "output_type": "stream",
          "name": "stdout",
          "text": [
            "[[509], [388, 273], [202, 31, 7]]\n"
          ]
        }
      ]
    },
    {
      "cell_type": "code",
      "source": [
        "y_train = np.array(data['label'])\n",
        "print(y_train.shape)"
      ],
      "metadata": {
        "colab": {
          "base_uri": "https://localhost:8080/"
        },
        "id": "01Dq5Ig7VgbR",
        "outputId": "ec932cdf-fac8-46c7-ef27-2bbf2596aa23"
      },
      "execution_count": 110,
      "outputs": [
        {
          "output_type": "stream",
          "name": "stdout",
          "text": [
            "(7700,)\n"
          ]
        }
      ]
    },
    {
      "cell_type": "code",
      "source": [
        "drop_train = [index for index, sentence in enumerate(X_train) if len(sentence) < 1]"
      ],
      "metadata": {
        "id": "LXyelE0QVuKr"
      },
      "execution_count": 93,
      "outputs": []
    },
    {
      "cell_type": "code",
      "source": [
        "X_train = np.delete(X_train, drop_train, axis = 0)\n",
        "y_train = np.delete(y_train, drop_train, axis = 0)\n",
        "print(len(X_train))\n",
        "print(len(y_train))"
      ],
      "metadata": {
        "colab": {
          "base_uri": "https://localhost:8080/"
        },
        "id": "kRemZ140VitZ",
        "outputId": "4fe073d0-b2e8-4533-a1ef-39885c155f75"
      },
      "execution_count": 94,
      "outputs": [
        {
          "output_type": "stream",
          "name": "stdout",
          "text": [
            "7651\n",
            "7651\n"
          ]
        },
        {
          "output_type": "stream",
          "name": "stderr",
          "text": [
            "/usr/local/lib/python3.7/dist-packages/numpy/lib/function_base.py:4454: VisibleDeprecationWarning: Creating an ndarray from ragged nested sequences (which is a list-or-tuple of lists-or-tuples-or ndarrays with different lengths or shapes) is deprecated. If you meant to do this, you must specify 'dtype=object' when creating the ndarray.\n",
            "  arr = asarray(arr)\n"
          ]
        }
      ]
    },
    {
      "cell_type": "code",
      "source": [
        "print('문장의 최대 길이 :', max(len(text) for text in X_train))\n",
        "print('문장의 평균 길이 :', sum(map(len, X_train)) / len(X_train))\n",
        "plt.hist([len(text) for text in X_train], bins = 20)\n",
        "plt.xlabel('length of samples')\n",
        "plt.ylabel('number of samples')\n",
        "plt.show()"
      ],
      "metadata": {
        "colab": {
          "base_uri": "https://localhost:8080/",
          "height": 316
        },
        "id": "aDLe-3ArVlFe",
        "outputId": "78b513aa-da75-454a-efff-0bd26360270b"
      },
      "execution_count": 97,
      "outputs": [
        {
          "output_type": "stream",
          "name": "stdout",
          "text": [
            "문장의 최대 길이 : 16\n",
            "문장의 평균 길이 : 4.192785256829173\n"
          ]
        },
        {
          "output_type": "display_data",
          "data": {
            "text/plain": [
              "<Figure size 432x288 with 1 Axes>"
            ],
            "image/png": "[encoded data removed]"
          },
          "metadata": {
            "needs_background": "light"
          }
        }
      ]
    },
    {
      "cell_type": "code",
      "source": [
        "def below_threshold_len(max_len, nested_list) :\n",
        "  count = 0\n",
        "  for sentence in nested_list :\n",
        "    if(len(sentence) <= max_len) :\n",
        "        count = count + 1\n",
        "  print('전체 샘플 중 길이가 %s 이하인 샘플의 비율: %s' % (max_len, (count / len(nested_list)) * 100))"
      ],
      "metadata": {
        "id": "BfpwkvVpV4M2"
      },
      "execution_count": 98,
      "outputs": []
    },
    {
      "cell_type": "code",
      "source": [
        "max_len = 9\n",
        "below_threshold_len(max_len, X_train)"
      ],
      "metadata": {
        "colab": {
          "base_uri": "https://localhost:8080/"
        },
        "id": "QyyychdlV72f",
        "outputId": "6f9299c3-0c15-4509-d9af-01e367ca6ae0"
      },
      "execution_count": 101,
      "outputs": [
        {
          "output_type": "stream",
          "name": "stdout",
          "text": [
            "전체 샘플 중 길이가 9 이하인 샘플의 비율: 98.35315645013723\n"
          ]
        }
      ]
    },
    {
      "cell_type": "code",
      "source": [
        "X_train = pad_sequences(X_train, maxlen = max_len)"
      ],
      "metadata": {
        "id": "KsfG0bw2V9b8"
      },
      "execution_count": 102,
      "outputs": []
    },
    {
      "cell_type": "code",
      "source": [
        "print(X_train)"
      ],
      "metadata": {
        "colab": {
          "base_uri": "https://localhost:8080/"
        },
        "id": "TTXkpB0nWCCs",
        "outputId": "23bd1a55-a39c-45a4-97be-48e416e0199f"
      },
      "execution_count": 103,
      "outputs": [
        {
          "output_type": "stream",
          "name": "stdout",
          "text": [
            "[[   0    0    0 ...    0    0  509]\n",
            " [   0    0    0 ...    0  388  273]\n",
            " [   0    0    0 ...  202   31    7]\n",
            " ...\n",
            " [   0    0    0 ...   25  643 2035]\n",
            " [   0    0    0 ...    0   85   29]\n",
            " [  52   35   15 ...  177  571   50]]\n"
          ]
        }
      ]
    },
    {
      "cell_type": "code",
      "source": [
        "embedding_dim = 32\n",
        "hidden_units = 128\n",
        "\n",
        "model = Sequential()\n",
        "model.add(Embedding(vocab_size, embedding_dim))\n",
        "model.add(LSTM(hidden_units))\n",
        "model.add(Dense(3, activation = 'softmax'))\n",
        "\n",
        "es = EarlyStopping(monitor = 'val_loss', mode = 'min', verbose = 1, patience = 5)\n",
        "mc = ModelCheckpoint('best_model.h5', monitor = 'val_acc', mode = 'max', verbose = 1, save_best_only = True)\n",
        "\n",
        "model.compile(loss = 'categorical_crossentropy', optimizer = 'adam', metrics = ['accuracy'])\n",
        "history = model.fit(X_train, y_train, epochs = 100, callbacks = [es, mc], batch_size = 64, validation_split = 0.2, verbose = 2)"
      ],
      "metadata": {
        "colab": {
          "base_uri": "https://localhost:8080/",
          "height": 1000
        },
        "id": "Lv0ypMM1WX8k",
        "outputId": "52a46124-84ae-490f-adda-3c5d10588697"
      },
      "execution_count": 106,
      "outputs": [
        {
          "output_type": "stream",
          "name": "stdout",
          "text": [
            "Epoch 1/100\n"
          ]
        },
        {
          "output_type": "error",
          "ename": "ValueError",
          "evalue": "ignored",
          "traceback": [
            "\u001b[0;31m---------------------------------------------------------------------------\u001b[0m",
            "\u001b[0;31mValueError\u001b[0m                                Traceback (most recent call last)",
            "\u001b[0;32m<ipython-input-106-cd361ed0cf4a>\u001b[0m in \u001b[0;36m<module>\u001b[0;34m()\u001b[0m\n\u001b[1;32m     11\u001b[0m \u001b[0;34m\u001b[0m\u001b[0m\n\u001b[1;32m     12\u001b[0m \u001b[0mmodel\u001b[0m\u001b[0;34m.\u001b[0m\u001b[0mcompile\u001b[0m\u001b[0;34m(\u001b[0m\u001b[0mloss\u001b[0m \u001b[0;34m=\u001b[0m \u001b[0;34m'categorical_crossentropy'\u001b[0m\u001b[0;34m,\u001b[0m \u001b[0moptimizer\u001b[0m \u001b[0;34m=\u001b[0m \u001b[0;34m'adam'\u001b[0m\u001b[0;34m,\u001b[0m \u001b[0mmetrics\u001b[0m \u001b[0;34m=\u001b[0m \u001b[0;34m[\u001b[0m\u001b[0;34m'accuracy'\u001b[0m\u001b[0;34m]\u001b[0m\u001b[0;34m)\u001b[0m\u001b[0;34m\u001b[0m\u001b[0;34m\u001b[0m\u001b[0m\n\u001b[0;32m---> 13\u001b[0;31m \u001b[0mhistory\u001b[0m \u001b[0;34m=\u001b[0m \u001b[0mmodel\u001b[0m\u001b[0;34m.\u001b[0m\u001b[0mfit\u001b[0m\u001b[0;34m(\u001b[0m\u001b[0mX_train\u001b[0m\u001b[0;34m,\u001b[0m \u001b[0my_train\u001b[0m\u001b[0;34m,\u001b[0m \u001b[0mepochs\u001b[0m \u001b[0;34m=\u001b[0m \u001b[0;36m100\u001b[0m\u001b[0;34m,\u001b[0m \u001b[0mcallbacks\u001b[0m \u001b[0;34m=\u001b[0m \u001b[0;34m[\u001b[0m\u001b[0mes\u001b[0m\u001b[0;34m,\u001b[0m \u001b[0mmc\u001b[0m\u001b[0;34m]\u001b[0m\u001b[0;34m,\u001b[0m \u001b[0mbatch_size\u001b[0m \u001b[0;34m=\u001b[0m \u001b[0;36m64\u001b[0m\u001b[0;34m,\u001b[0m \u001b[0mvalidation_split\u001b[0m \u001b[0;34m=\u001b[0m \u001b[0;36m0.2\u001b[0m\u001b[0;34m,\u001b[0m \u001b[0mverbose\u001b[0m \u001b[0;34m=\u001b[0m \u001b[0;36m2\u001b[0m\u001b[0;34m)\u001b[0m\u001b[0;34m\u001b[0m\u001b[0;34m\u001b[0m\u001b[0m\n\u001b[0m",
            "\u001b[0;32m/usr/local/lib/python3.7/dist-packages/keras/utils/traceback_utils.py\u001b[0m in \u001b[0;36merror_handler\u001b[0;34m(*args, **kwargs)\u001b[0m\n\u001b[1;32m     65\u001b[0m     \u001b[0;32mexcept\u001b[0m \u001b[0mException\u001b[0m \u001b[0;32mas\u001b[0m \u001b[0me\u001b[0m\u001b[0;34m:\u001b[0m  \u001b[0;31m# pylint: disable=broad-except\u001b[0m\u001b[0;34m\u001b[0m\u001b[0;34m\u001b[0m\u001b[0m\n\u001b[1;32m     66\u001b[0m       \u001b[0mfiltered_tb\u001b[0m \u001b[0;34m=\u001b[0m \u001b[0m_process_traceback_frames\u001b[0m\u001b[0;34m(\u001b[0m\u001b[0me\u001b[0m\u001b[0;34m.\u001b[0m\u001b[0m__traceback__\u001b[0m\u001b[0;34m)\u001b[0m\u001b[0;34m\u001b[0m\u001b[0;34m\u001b[0m\u001b[0m\n\u001b[0;32m---> 67\u001b[0;31m       \u001b[0;32mraise\u001b[0m \u001b[0me\u001b[0m\u001b[0;34m.\u001b[0m\u001b[0mwith_traceback\u001b[0m\u001b[0;34m(\u001b[0m\u001b[0mfiltered_tb\u001b[0m\u001b[0;34m)\u001b[0m \u001b[0;32mfrom\u001b[0m \u001b[0;32mNone\u001b[0m\u001b[0;34m\u001b[0m\u001b[0;34m\u001b[0m\u001b[0m\n\u001b[0m\u001b[1;32m     68\u001b[0m     \u001b[0;32mfinally\u001b[0m\u001b[0;34m:\u001b[0m\u001b[0;34m\u001b[0m\u001b[0;34m\u001b[0m\u001b[0m\n\u001b[1;32m     69\u001b[0m       \u001b[0;32mdel\u001b[0m \u001b[0mfiltered_tb\u001b[0m\u001b[0;34m\u001b[0m\u001b[0;34m\u001b[0m\u001b[0m\n",
            "\u001b[0;32m/usr/local/lib/python3.7/dist-packages/tensorflow/python/framework/func_graph.py\u001b[0m in \u001b[0;36mautograph_handler\u001b[0;34m(*args, **kwargs)\u001b[0m\n\u001b[1;32m   1145\u001b[0m           \u001b[0;32mexcept\u001b[0m \u001b[0mException\u001b[0m \u001b[0;32mas\u001b[0m \u001b[0me\u001b[0m\u001b[0;34m:\u001b[0m  \u001b[0;31m# pylint:disable=broad-except\u001b[0m\u001b[0;34m\u001b[0m\u001b[0;34m\u001b[0m\u001b[0m\n\u001b[1;32m   1146\u001b[0m             \u001b[0;32mif\u001b[0m \u001b[0mhasattr\u001b[0m\u001b[0;34m(\u001b[0m\u001b[0me\u001b[0m\u001b[0;34m,\u001b[0m \u001b[0;34m\"ag_error_metadata\"\u001b[0m\u001b[0;34m)\u001b[0m\u001b[0;34m:\u001b[0m\u001b[0;34m\u001b[0m\u001b[0;34m\u001b[0m\u001b[0m\n\u001b[0;32m-> 1147\u001b[0;31m               \u001b[0;32mraise\u001b[0m \u001b[0me\u001b[0m\u001b[0;34m.\u001b[0m\u001b[0mag_error_metadata\u001b[0m\u001b[0;34m.\u001b[0m\u001b[0mto_exception\u001b[0m\u001b[0;34m(\u001b[0m\u001b[0me\u001b[0m\u001b[0;34m)\u001b[0m\u001b[0;34m\u001b[0m\u001b[0;34m\u001b[0m\u001b[0m\n\u001b[0m\u001b[1;32m   1148\u001b[0m             \u001b[0;32melse\u001b[0m\u001b[0;34m:\u001b[0m\u001b[0;34m\u001b[0m\u001b[0;34m\u001b[0m\u001b[0m\n\u001b[1;32m   1149\u001b[0m               \u001b[0;32mraise\u001b[0m\u001b[0;34m\u001b[0m\u001b[0;34m\u001b[0m\u001b[0m\n",
            "\u001b[0;31mValueError\u001b[0m: in user code:\n\n    File \"/usr/local/lib/python3.7/dist-packages/keras/engine/training.py\", line 1021, in train_function  *\n        return step_function(self, iterator)\n    File \"/usr/local/lib/python3.7/dist-packages/keras/engine/training.py\", line 1010, in step_function  **\n        outputs = model.distribute_strategy.run(run_step, args=(data,))\n    File \"/usr/local/lib/python3.7/dist-packages/keras/engine/training.py\", line 1000, in run_step  **\n        outputs = model.train_step(data)\n    File \"/usr/local/lib/python3.7/dist-packages/keras/engine/training.py\", line 860, in train_step\n        loss = self.compute_loss(x, y, y_pred, sample_weight)\n    File \"/usr/local/lib/python3.7/dist-packages/keras/engine/training.py\", line 919, in compute_loss\n        y, y_pred, sample_weight, regularization_losses=self.losses)\n    File \"/usr/local/lib/python3.7/dist-packages/keras/engine/compile_utils.py\", line 201, in __call__\n        loss_value = loss_obj(y_t, y_p, sample_weight=sw)\n    File \"/usr/local/lib/python3.7/dist-packages/keras/losses.py\", line 141, in __call__\n        losses = call_fn(y_true, y_pred)\n    File \"/usr/local/lib/python3.7/dist-packages/keras/losses.py\", line 245, in call  **\n        return ag_fn(y_true, y_pred, **self._fn_kwargs)\n    File \"/usr/local/lib/python3.7/dist-packages/keras/losses.py\", line 1790, in categorical_crossentropy\n        y_true, y_pred, from_logits=from_logits, axis=axis)\n    File \"/usr/local/lib/python3.7/dist-packages/keras/backend.py\", line 5083, in categorical_crossentropy\n        target.shape.assert_is_compatible_with(output.shape)\n\n    ValueError: Shapes (None, 1) and (None, 3) are incompatible\n"
          ]
        }
      ]
    }
  ]
}