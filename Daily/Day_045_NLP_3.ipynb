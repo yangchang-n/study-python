{
  "nbformat": 4,
  "nbformat_minor": 0,
  "metadata": {
    "colab": {
      "name": "Day_045_NLP_3.ipynb",
      "provenance": [],
      "collapsed_sections": [],
      "authorship_tag": "ABX9TyPykPYTGajDnOqKXSeeKFud",
      "include_colab_link": true
    },
    "kernelspec": {
      "name": "python3",
      "display_name": "Python 3"
    },
    "language_info": {
      "name": "python"
    }
  },
  "cells": [
    {
      "cell_type": "markdown",
      "metadata": {
        "id": "view-in-github",
        "colab_type": "text"
      },
      "source": [
        "<a href=\"https://colab.research.google.com/github/yangchangnaihoby/AI_7th/blob/master/Day_045_NLP_3.ipynb\" target=\"_parent\"><img src=\"https://colab.research.google.com/assets/colab-badge.svg\" alt=\"Open In Colab\"/></a>"
      ]
    },
    {
      "cell_type": "code",
      "source": [
        "!pip install konlpy\n",
        "\n",
        "import pandas as pd\n",
        "import numpy as np\n",
        "import matplotlib.pyplot as plt\n",
        "import re\n",
        "import urllib.request\n",
        "from konlpy.tag import Okt\n",
        "from tqdm import tqdm\n",
        "from tensorflow.keras.preprocessing.text import Tokenizer\n",
        "from tensorflow.keras.preprocessing.sequence import pad_sequences"
      ],
      "metadata": {
        "colab": {
          "base_uri": "https://localhost:8080/"
        },
        "id": "xUeBZ4Rih0J4",
        "outputId": "13b55fbe-bada-4028-d322-c7ce1dd3b7bf"
      },
      "execution_count": 1,
      "outputs": [
        {
          "output_type": "stream",
          "name": "stdout",
          "text": [
            "Looking in indexes: https://pypi.org/simple, https://us-python.pkg.dev/colab-wheels/public/simple/\n",
            "Collecting konlpy\n",
            "  Downloading konlpy-0.6.0-py2.py3-none-any.whl (19.4 MB)\n",
            "\u001b[K     |████████████████████████████████| 19.4 MB 5.4 MB/s \n",
            "\u001b[?25hRequirement already satisfied: lxml>=4.1.0 in /usr/local/lib/python3.7/dist-packages (from konlpy) (4.2.6)\n",
            "Collecting JPype1>=0.7.0\n",
            "  Downloading JPype1-1.4.0-cp37-cp37m-manylinux_2_5_x86_64.manylinux1_x86_64.whl (453 kB)\n",
            "\u001b[K     |████████████████████████████████| 453 kB 71.9 MB/s \n",
            "\u001b[?25hRequirement already satisfied: numpy>=1.6 in /usr/local/lib/python3.7/dist-packages (from konlpy) (1.21.6)\n",
            "Requirement already satisfied: typing-extensions in /usr/local/lib/python3.7/dist-packages (from JPype1>=0.7.0->konlpy) (4.1.1)\n",
            "Installing collected packages: JPype1, konlpy\n",
            "Successfully installed JPype1-1.4.0 konlpy-0.6.0\n"
          ]
        }
      ]
    },
    {
      "cell_type": "code",
      "source": [
        "data_ori = pd.read_csv('ChatbotData.csv')\n",
        "mask = data_ori[data_ori['label'] == 0].index\n",
        "data = data_ori.drop(mask)\n",
        "data.loc[data['label'] == 1, 'label'] = 0\n",
        "data.loc[data['label'] == 2, 'label'] = 1"
      ],
      "metadata": {
        "id": "F_Yy6s1_h1RO"
      },
      "execution_count": 3,
      "outputs": []
    },
    {
      "cell_type": "code",
      "source": [
        "data.head()"
      ],
      "metadata": {
        "colab": {
          "base_uri": "https://localhost:8080/",
          "height": 206
        },
        "id": "BdsEJtkZi4G2",
        "outputId": "be4fce42-dd12-46a5-c208-2526abf7cddc"
      },
      "execution_count": 4,
      "outputs": [
        {
          "output_type": "execute_result",
          "data": {
            "text/plain": [
              "                         Q                          A  label\n",
              "5290     1000일 만난 여자친구와 이별         더 오래 만날 사람 만날 거예요.      0\n",
              "5291       10년 연애. 헤어졌습니다.              더 공허함이 크시겠네요.      0\n",
              "5292  10년 연애사 되돌아보니 다 부질없네           더 좋은 사람 만나실 거예요.      0\n",
              "5293              10년 연예의끝               더 마음이 허하겠어요.      0\n",
              "5294           10년만나다 헤어지네  충분히 슬퍼하고 충분히 아파하다가 이겨내세요.      0"
            ],
            "text/html": [
              "\n",
              "  <div id=\"df-ffd8eddf-35a6-4f7f-a359-72e14a4a7580\">\n",
              "    <div class=\"colab-df-container\">\n",
              "      <div>\n",
              "<style scoped>\n",
              "    .dataframe tbody tr th:only-of-type {\n",
              "        vertical-align: middle;\n",
              "    }\n",
              "\n",
              "    .dataframe tbody tr th {\n",
              "        vertical-align: top;\n",
              "    }\n",
              "\n",
              "    .dataframe thead th {\n",
              "        text-align: right;\n",
              "    }\n",
              "</style>\n",
              "<table border=\"1\" class=\"dataframe\">\n",
              "  <thead>\n",
              "    <tr style=\"text-align: right;\">\n",
              "      <th></th>\n",
              "      <th>Q</th>\n",
              "      <th>A</th>\n",
              "      <th>label</th>\n",
              "    </tr>\n",
              "  </thead>\n",
              "  <tbody>\n",
              "    <tr>\n",
              "      <th>5290</th>\n",
              "      <td>1000일 만난 여자친구와 이별</td>\n",
              "      <td>더 오래 만날 사람 만날 거예요.</td>\n",
              "      <td>0</td>\n",
              "    </tr>\n",
              "    <tr>\n",
              "      <th>5291</th>\n",
              "      <td>10년 연애. 헤어졌습니다.</td>\n",
              "      <td>더 공허함이 크시겠네요.</td>\n",
              "      <td>0</td>\n",
              "    </tr>\n",
              "    <tr>\n",
              "      <th>5292</th>\n",
              "      <td>10년 연애사 되돌아보니 다 부질없네</td>\n",
              "      <td>더 좋은 사람 만나실 거예요.</td>\n",
              "      <td>0</td>\n",
              "    </tr>\n",
              "    <tr>\n",
              "      <th>5293</th>\n",
              "      <td>10년 연예의끝</td>\n",
              "      <td>더 마음이 허하겠어요.</td>\n",
              "      <td>0</td>\n",
              "    </tr>\n",
              "    <tr>\n",
              "      <th>5294</th>\n",
              "      <td>10년만나다 헤어지네</td>\n",
              "      <td>충분히 슬퍼하고 충분히 아파하다가 이겨내세요.</td>\n",
              "      <td>0</td>\n",
              "    </tr>\n",
              "  </tbody>\n",
              "</table>\n",
              "</div>\n",
              "      <button class=\"colab-df-convert\" onclick=\"convertToInteractive('df-ffd8eddf-35a6-4f7f-a359-72e14a4a7580')\"\n",
              "              title=\"Convert this dataframe to an interactive table.\"\n",
              "              style=\"display:none;\">\n",
              "        \n",
              "  <svg xmlns=\"http://www.w3.org/2000/svg\" height=\"24px\"viewBox=\"0 0 24 24\"\n",
              "       width=\"24px\">\n",
              "    <path d=\"M0 0h24v24H0V0z\" fill=\"none\"/>\n",
              "    <path d=\"M18.56 5.44l.94 2.06.94-2.06 2.06-.94-2.06-.94-.94-2.06-.94 2.06-2.06.94zm-11 1L8.5 8.5l.94-2.06 2.06-.94-2.06-.94L8.5 2.5l-.94 2.06-2.06.94zm10 10l.94 2.06.94-2.06 2.06-.94-2.06-.94-.94-2.06-.94 2.06-2.06.94z\"/><path d=\"M17.41 7.96l-1.37-1.37c-.4-.4-.92-.59-1.43-.59-.52 0-1.04.2-1.43.59L10.3 9.45l-7.72 7.72c-.78.78-.78 2.05 0 2.83L4 21.41c.39.39.9.59 1.41.59.51 0 1.02-.2 1.41-.59l7.78-7.78 2.81-2.81c.8-.78.8-2.07 0-2.86zM5.41 20L4 18.59l7.72-7.72 1.47 1.35L5.41 20z\"/>\n",
              "  </svg>\n",
              "      </button>\n",
              "      \n",
              "  <style>\n",
              "    .colab-df-container {\n",
              "      display:flex;\n",
              "      flex-wrap:wrap;\n",
              "      gap: 12px;\n",
              "    }\n",
              "\n",
              "    .colab-df-convert {\n",
              "      background-color: #E8F0FE;\n",
              "      border: none;\n",
              "      border-radius: 50%;\n",
              "      cursor: pointer;\n",
              "      display: none;\n",
              "      fill: #1967D2;\n",
              "      height: 32px;\n",
              "      padding: 0 0 0 0;\n",
              "      width: 32px;\n",
              "    }\n",
              "\n",
              "    .colab-df-convert:hover {\n",
              "      background-color: #E2EBFA;\n",
              "      box-shadow: 0px 1px 2px rgba(60, 64, 67, 0.3), 0px 1px 3px 1px rgba(60, 64, 67, 0.15);\n",
              "      fill: #174EA6;\n",
              "    }\n",
              "\n",
              "    [theme=dark] .colab-df-convert {\n",
              "      background-color: #3B4455;\n",
              "      fill: #D2E3FC;\n",
              "    }\n",
              "\n",
              "    [theme=dark] .colab-df-convert:hover {\n",
              "      background-color: #434B5C;\n",
              "      box-shadow: 0px 1px 3px 1px rgba(0, 0, 0, 0.15);\n",
              "      filter: drop-shadow(0px 1px 2px rgba(0, 0, 0, 0.3));\n",
              "      fill: #FFFFFF;\n",
              "    }\n",
              "  </style>\n",
              "\n",
              "      <script>\n",
              "        const buttonEl =\n",
              "          document.querySelector('#df-ffd8eddf-35a6-4f7f-a359-72e14a4a7580 button.colab-df-convert');\n",
              "        buttonEl.style.display =\n",
              "          google.colab.kernel.accessAllowed ? 'block' : 'none';\n",
              "\n",
              "        async function convertToInteractive(key) {\n",
              "          const element = document.querySelector('#df-ffd8eddf-35a6-4f7f-a359-72e14a4a7580');\n",
              "          const dataTable =\n",
              "            await google.colab.kernel.invokeFunction('convertToInteractive',\n",
              "                                                     [key], {});\n",
              "          if (!dataTable) return;\n",
              "\n",
              "          const docLinkHtml = 'Like what you see? Visit the ' +\n",
              "            '<a target=\"_blank\" href=https://colab.research.google.com/notebooks/data_table.ipynb>data table notebook</a>'\n",
              "            + ' to learn more about interactive tables.';\n",
              "          element.innerHTML = '';\n",
              "          dataTable['output_type'] = 'display_data';\n",
              "          await google.colab.output.renderOutput(dataTable, element);\n",
              "          const docLink = document.createElement('div');\n",
              "          docLink.innerHTML = docLinkHtml;\n",
              "          element.appendChild(docLink);\n",
              "        }\n",
              "      </script>\n",
              "    </div>\n",
              "  </div>\n",
              "  "
            ]
          },
          "metadata": {},
          "execution_count": 4
        }
      ]
    },
    {
      "cell_type": "code",
      "source": [
        "data_0 = data[data['label'] == 0]\n",
        "print(data_0.head(30))"
      ],
      "metadata": {
        "colab": {
          "base_uri": "https://localhost:8080/"
        },
        "id": "kOlaFwhxf9rs",
        "outputId": "8ee2fdd9-4774-4ac7-a6db-3f18627f654c"
      },
      "execution_count": 76,
      "outputs": [
        {
          "output_type": "stream",
          "name": "stdout",
          "text": [
            "                        Q                                A  label\n",
            "5290        일 만난 여자친구와 이별               더 오래 만날 사람 만날 거예요.      0\n",
            "5291          년 연애 헤어졌습니다                    더 공허함이 크시겠네요.      0\n",
            "5292   년 연애사 되돌아보니 다 부질없네                 더 좋은 사람 만나실 거예요.      0\n",
            "5293               년 연예의끝                     더 마음이 허하겠어요.      0\n",
            "5294            년만나다 헤어지네        충분히 슬퍼하고 충분히 아파하다가 이겨내세요.      0\n",
            "5295   년이라는 시간이 참 무색하다 싶네          함께 걸은 길을 혼자 돌아가고 계시겠네요.      0\n",
            "5296  월의 마지막밤  더 보고싶네 그사람           이별은 보고 싶은 마음을 참는 과정이죠.      0\n",
            "5297          년된 여자친구랑 이별        충분히 슬퍼하고 충분히 아파하다가 이겨내세요.      0\n",
            "5298           년의 기나긴 이야기                     좋은 연애였길 바라요.      0\n",
            "5299                  년안녕                       시간이 무색하네요.      0\n",
            "5300            년만에 쓰는 편지                        천천히 써보세요.      0\n",
            "5301        년 개월 의 연애 종지부                또 다른 사랑이 찾아올 거예요.      0\n",
            "5302                  년 반  만난 시간 만큼 힘들 겠지만 잘 이겨낼 수 있을 거예요.      0\n",
            "5303         년개월의 종지부를 찍네        충분히 슬퍼하고 충분히 아파하다가 이겨내세요.      0\n",
            "5304           년동거 끝에 헤어짐                     현실과 마주하셨나봐요.      0\n",
            "5305      년만에 꿈에나와서 설레게하네                    은연 중에 생각했나봐요.      0\n",
            "5306        년만에 다시헤어지게 됐네                     헤어짐은 항상 힘들죠.      0\n",
            "5307          년만의 연애가 끝났네  만난 시간 만큼 힘들 겠지만 잘 이겨낼 수 있을 거예요.      0\n",
            "5308  년을 넘게 만났는데 어떻게 이럽니까                      시간이 무색해지네요.      0\n",
            "5309             년이 되어갑니다       시간이 흐른 거 같은데 아직 많이 아프신가봐요.      0\n",
            "5310         년이 아무것도 아니였나                아무것도 아닌 건 아닐 거예요.      0\n",
            "5311              년이 지났어도                      잊지 못하고 있나요.      0\n",
            "5312               년전 그 날                        생각이 더 나죠.      0\n",
            "5313  년전 헤어진 남자한테서 연락이 왔어             헤어지면 연락 하지도 받지도 마세요.      0\n",
            "5314         년 개월 이렇게 끝나네                   인연이 여기까지였나봅니다.      0\n",
            "5315    년 가까이 여친하구 헤어졌습니다                           안타깝네요.      0\n",
            "5316             년 가량의 연애    안 좋은 기억보다 좋은 기억이 더 많았으면 좋겠네요.      0\n",
            "5317          년 다되가는 연애 끝                    인연이 거기까지였나봐요.      0\n",
            "5318       년 만에 연락 그후입니다                      다시 연락을 했나봐요.      0\n",
            "5319         년 사귀고 헤어졌습니다    짧지는 않은 시간 동안의 연애였는데 마음이 아프네요.      0\n"
          ]
        }
      ]
    },
    {
      "cell_type": "code",
      "source": [
        "data_1 = data[data['label'] == 1]\n",
        "data_1.head()"
      ],
      "metadata": {
        "colab": {
          "base_uri": "https://localhost:8080/",
          "height": 206
        },
        "id": "qaqgU5KggEyQ",
        "outputId": "eb0e1f97-0b72-4fa6-ba85-c35753acf16f"
      },
      "execution_count": 47,
      "outputs": [
        {
          "output_type": "execute_result",
          "data": {
            "text/plain": [
              "                            Q                         A  label\n",
              "8860        짝사랑만큼 고통스러운 건 없겠지  짝사랑 만큼 감정소모가 큰 건 없을 거예요.      1\n",
              "8861       년 넘게 만났는데 지금도 불타올라         정열적인 사랑을 하고 있나봐요.      1\n",
              "8862           년 동거 중인데 계속 좋아    서로 깊게 알게되면서 더 좋아졌나봅니다.      1\n",
              "8863              년 동거하고 결혼했어                    축하합니다!      1\n",
              "8864  년 만났는데도 그 사람에 대해 잘 모르겠어                  더 만나보세요.      1"
            ],
            "text/html": [
              "\n",
              "  <div id=\"df-572bada5-cb67-477f-93ba-c19ab31cb704\">\n",
              "    <div class=\"colab-df-container\">\n",
              "      <div>\n",
              "<style scoped>\n",
              "    .dataframe tbody tr th:only-of-type {\n",
              "        vertical-align: middle;\n",
              "    }\n",
              "\n",
              "    .dataframe tbody tr th {\n",
              "        vertical-align: top;\n",
              "    }\n",
              "\n",
              "    .dataframe thead th {\n",
              "        text-align: right;\n",
              "    }\n",
              "</style>\n",
              "<table border=\"1\" class=\"dataframe\">\n",
              "  <thead>\n",
              "    <tr style=\"text-align: right;\">\n",
              "      <th></th>\n",
              "      <th>Q</th>\n",
              "      <th>A</th>\n",
              "      <th>label</th>\n",
              "    </tr>\n",
              "  </thead>\n",
              "  <tbody>\n",
              "    <tr>\n",
              "      <th>8860</th>\n",
              "      <td>짝사랑만큼 고통스러운 건 없겠지</td>\n",
              "      <td>짝사랑 만큼 감정소모가 큰 건 없을 거예요.</td>\n",
              "      <td>1</td>\n",
              "    </tr>\n",
              "    <tr>\n",
              "      <th>8861</th>\n",
              "      <td>년 넘게 만났는데 지금도 불타올라</td>\n",
              "      <td>정열적인 사랑을 하고 있나봐요.</td>\n",
              "      <td>1</td>\n",
              "    </tr>\n",
              "    <tr>\n",
              "      <th>8862</th>\n",
              "      <td>년 동거 중인데 계속 좋아</td>\n",
              "      <td>서로 깊게 알게되면서 더 좋아졌나봅니다.</td>\n",
              "      <td>1</td>\n",
              "    </tr>\n",
              "    <tr>\n",
              "      <th>8863</th>\n",
              "      <td>년 동거하고 결혼했어</td>\n",
              "      <td>축하합니다!</td>\n",
              "      <td>1</td>\n",
              "    </tr>\n",
              "    <tr>\n",
              "      <th>8864</th>\n",
              "      <td>년 만났는데도 그 사람에 대해 잘 모르겠어</td>\n",
              "      <td>더 만나보세요.</td>\n",
              "      <td>1</td>\n",
              "    </tr>\n",
              "  </tbody>\n",
              "</table>\n",
              "</div>\n",
              "      <button class=\"colab-df-convert\" onclick=\"convertToInteractive('df-572bada5-cb67-477f-93ba-c19ab31cb704')\"\n",
              "              title=\"Convert this dataframe to an interactive table.\"\n",
              "              style=\"display:none;\">\n",
              "        \n",
              "  <svg xmlns=\"http://www.w3.org/2000/svg\" height=\"24px\"viewBox=\"0 0 24 24\"\n",
              "       width=\"24px\">\n",
              "    <path d=\"M0 0h24v24H0V0z\" fill=\"none\"/>\n",
              "    <path d=\"M18.56 5.44l.94 2.06.94-2.06 2.06-.94-2.06-.94-.94-2.06-.94 2.06-2.06.94zm-11 1L8.5 8.5l.94-2.06 2.06-.94-2.06-.94L8.5 2.5l-.94 2.06-2.06.94zm10 10l.94 2.06.94-2.06 2.06-.94-2.06-.94-.94-2.06-.94 2.06-2.06.94z\"/><path d=\"M17.41 7.96l-1.37-1.37c-.4-.4-.92-.59-1.43-.59-.52 0-1.04.2-1.43.59L10.3 9.45l-7.72 7.72c-.78.78-.78 2.05 0 2.83L4 21.41c.39.39.9.59 1.41.59.51 0 1.02-.2 1.41-.59l7.78-7.78 2.81-2.81c.8-.78.8-2.07 0-2.86zM5.41 20L4 18.59l7.72-7.72 1.47 1.35L5.41 20z\"/>\n",
              "  </svg>\n",
              "      </button>\n",
              "      \n",
              "  <style>\n",
              "    .colab-df-container {\n",
              "      display:flex;\n",
              "      flex-wrap:wrap;\n",
              "      gap: 12px;\n",
              "    }\n",
              "\n",
              "    .colab-df-convert {\n",
              "      background-color: #E8F0FE;\n",
              "      border: none;\n",
              "      border-radius: 50%;\n",
              "      cursor: pointer;\n",
              "      display: none;\n",
              "      fill: #1967D2;\n",
              "      height: 32px;\n",
              "      padding: 0 0 0 0;\n",
              "      width: 32px;\n",
              "    }\n",
              "\n",
              "    .colab-df-convert:hover {\n",
              "      background-color: #E2EBFA;\n",
              "      box-shadow: 0px 1px 2px rgba(60, 64, 67, 0.3), 0px 1px 3px 1px rgba(60, 64, 67, 0.15);\n",
              "      fill: #174EA6;\n",
              "    }\n",
              "\n",
              "    [theme=dark] .colab-df-convert {\n",
              "      background-color: #3B4455;\n",
              "      fill: #D2E3FC;\n",
              "    }\n",
              "\n",
              "    [theme=dark] .colab-df-convert:hover {\n",
              "      background-color: #434B5C;\n",
              "      box-shadow: 0px 1px 3px 1px rgba(0, 0, 0, 0.15);\n",
              "      filter: drop-shadow(0px 1px 2px rgba(0, 0, 0, 0.3));\n",
              "      fill: #FFFFFF;\n",
              "    }\n",
              "  </style>\n",
              "\n",
              "      <script>\n",
              "        const buttonEl =\n",
              "          document.querySelector('#df-572bada5-cb67-477f-93ba-c19ab31cb704 button.colab-df-convert');\n",
              "        buttonEl.style.display =\n",
              "          google.colab.kernel.accessAllowed ? 'block' : 'none';\n",
              "\n",
              "        async function convertToInteractive(key) {\n",
              "          const element = document.querySelector('#df-572bada5-cb67-477f-93ba-c19ab31cb704');\n",
              "          const dataTable =\n",
              "            await google.colab.kernel.invokeFunction('convertToInteractive',\n",
              "                                                     [key], {});\n",
              "          if (!dataTable) return;\n",
              "\n",
              "          const docLinkHtml = 'Like what you see? Visit the ' +\n",
              "            '<a target=\"_blank\" href=https://colab.research.google.com/notebooks/data_table.ipynb>data table notebook</a>'\n",
              "            + ' to learn more about interactive tables.';\n",
              "          element.innerHTML = '';\n",
              "          dataTable['output_type'] = 'display_data';\n",
              "          await google.colab.output.renderOutput(dataTable, element);\n",
              "          const docLink = document.createElement('div');\n",
              "          docLink.innerHTML = docLinkHtml;\n",
              "          element.appendChild(docLink);\n",
              "        }\n",
              "      </script>\n",
              "    </div>\n",
              "  </div>\n",
              "  "
            ]
          },
          "metadata": {},
          "execution_count": 47
        }
      ]
    },
    {
      "cell_type": "code",
      "source": [
        "data['Q'].nunique(), data['label'].nunique()"
      ],
      "metadata": {
        "colab": {
          "base_uri": "https://localhost:8080/"
        },
        "id": "VPxPfnH2i9WG",
        "outputId": "be1d379f-e288-4818-b705-194570f2d368"
      },
      "execution_count": 5,
      "outputs": [
        {
          "output_type": "execute_result",
          "data": {
            "text/plain": [
              "(6478, 2)"
            ]
          },
          "metadata": {},
          "execution_count": 5
        }
      ]
    },
    {
      "cell_type": "code",
      "source": [
        "len(data)"
      ],
      "metadata": {
        "colab": {
          "base_uri": "https://localhost:8080/"
        },
        "id": "nLpdYUlPjSyf",
        "outputId": "591c1065-8d6f-4e5c-d211-a5dfa242327f"
      },
      "execution_count": 6,
      "outputs": [
        {
          "output_type": "execute_result",
          "data": {
            "text/plain": [
              "6533"
            ]
          },
          "metadata": {},
          "execution_count": 6
        }
      ]
    },
    {
      "cell_type": "code",
      "source": [
        "data.drop_duplicates(subset = ['Q'], inplace = True)"
      ],
      "metadata": {
        "id": "0zXEQj9ijU-s"
      },
      "execution_count": 7,
      "outputs": []
    },
    {
      "cell_type": "code",
      "source": [
        "len(data)"
      ],
      "metadata": {
        "colab": {
          "base_uri": "https://localhost:8080/"
        },
        "id": "vjdLTrFujZut",
        "outputId": "87dd8f1f-ea73-4413-de42-9caa20ebfa9d"
      },
      "execution_count": 8,
      "outputs": [
        {
          "output_type": "execute_result",
          "data": {
            "text/plain": [
              "6478"
            ]
          },
          "metadata": {},
          "execution_count": 8
        }
      ]
    },
    {
      "cell_type": "code",
      "source": [
        "data['label'].value_counts().plot(kind = 'bar')"
      ],
      "metadata": {
        "colab": {
          "base_uri": "https://localhost:8080/",
          "height": 281
        },
        "id": "mFe93slujaZV",
        "outputId": "cf21a438-228a-4664-a4da-6cefcebdea88"
      },
      "execution_count": 9,
      "outputs": [
        {
          "output_type": "execute_result",
          "data": {
            "text/plain": [
              "<matplotlib.axes._subplots.AxesSubplot at 0x7f8b920e7a50>"
            ]
          },
          "metadata": {},
          "execution_count": 9
        },
        {
          "output_type": "display_data",
          "data": {
            "text/plain": [
              "<Figure size 432x288 with 1 Axes>"
            ],
            "image/png": "[encoded data removed]"
          },
          "metadata": {
            "needs_background": "light"
          }
        }
      ]
    },
    {
      "cell_type": "code",
      "source": [
        "print(data.groupby('label').size().reset_index(name = 'count'))"
      ],
      "metadata": {
        "colab": {
          "base_uri": "https://localhost:8080/"
        },
        "id": "Bhho41v_jebV",
        "outputId": "c48e24f4-4d5c-44f2-b785-ec4da394f8a9"
      },
      "execution_count": 10,
      "outputs": [
        {
          "output_type": "stream",
          "name": "stdout",
          "text": [
            "   label  count\n",
            "0      0   3557\n",
            "1      1   2921\n"
          ]
        }
      ]
    },
    {
      "cell_type": "code",
      "source": [
        "print(data.isnull().values.any())"
      ],
      "metadata": {
        "colab": {
          "base_uri": "https://localhost:8080/"
        },
        "id": "UWXypJCFjiwD",
        "outputId": "68bf003d-3cc9-4308-d1a4-573e1de2a874"
      },
      "execution_count": 11,
      "outputs": [
        {
          "output_type": "stream",
          "name": "stdout",
          "text": [
            "False\n"
          ]
        }
      ]
    },
    {
      "cell_type": "code",
      "source": [
        "data['Q'] = data['Q'].str.replace(\"[^ㄱ-ㅎㅏ-ㅣ가-힣 ]\",\"\")\n",
        "data[ : 5]"
      ],
      "metadata": {
        "colab": {
          "base_uri": "https://localhost:8080/",
          "height": 243
        },
        "id": "oqUmh-JWjmHj",
        "outputId": "84948086-f071-44c9-cd09-570b57b10c1b"
      },
      "execution_count": 12,
      "outputs": [
        {
          "output_type": "stream",
          "name": "stderr",
          "text": [
            "/usr/local/lib/python3.7/dist-packages/ipykernel_launcher.py:1: FutureWarning: The default value of regex will change from True to False in a future version.\n",
            "  \"\"\"Entry point for launching an IPython kernel.\n"
          ]
        },
        {
          "output_type": "execute_result",
          "data": {
            "text/plain": [
              "                       Q                          A  label\n",
              "5290       일 만난 여자친구와 이별         더 오래 만날 사람 만날 거예요.      0\n",
              "5291         년 연애 헤어졌습니다              더 공허함이 크시겠네요.      0\n",
              "5292  년 연애사 되돌아보니 다 부질없네           더 좋은 사람 만나실 거예요.      0\n",
              "5293              년 연예의끝               더 마음이 허하겠어요.      0\n",
              "5294           년만나다 헤어지네  충분히 슬퍼하고 충분히 아파하다가 이겨내세요.      0"
            ],
            "text/html": [
              "\n",
              "  <div id=\"df-8c718747-3017-49fe-b7ca-38155eb77ae7\">\n",
              "    <div class=\"colab-df-container\">\n",
              "      <div>\n",
              "<style scoped>\n",
              "    .dataframe tbody tr th:only-of-type {\n",
              "        vertical-align: middle;\n",
              "    }\n",
              "\n",
              "    .dataframe tbody tr th {\n",
              "        vertical-align: top;\n",
              "    }\n",
              "\n",
              "    .dataframe thead th {\n",
              "        text-align: right;\n",
              "    }\n",
              "</style>\n",
              "<table border=\"1\" class=\"dataframe\">\n",
              "  <thead>\n",
              "    <tr style=\"text-align: right;\">\n",
              "      <th></th>\n",
              "      <th>Q</th>\n",
              "      <th>A</th>\n",
              "      <th>label</th>\n",
              "    </tr>\n",
              "  </thead>\n",
              "  <tbody>\n",
              "    <tr>\n",
              "      <th>5290</th>\n",
              "      <td>일 만난 여자친구와 이별</td>\n",
              "      <td>더 오래 만날 사람 만날 거예요.</td>\n",
              "      <td>0</td>\n",
              "    </tr>\n",
              "    <tr>\n",
              "      <th>5291</th>\n",
              "      <td>년 연애 헤어졌습니다</td>\n",
              "      <td>더 공허함이 크시겠네요.</td>\n",
              "      <td>0</td>\n",
              "    </tr>\n",
              "    <tr>\n",
              "      <th>5292</th>\n",
              "      <td>년 연애사 되돌아보니 다 부질없네</td>\n",
              "      <td>더 좋은 사람 만나실 거예요.</td>\n",
              "      <td>0</td>\n",
              "    </tr>\n",
              "    <tr>\n",
              "      <th>5293</th>\n",
              "      <td>년 연예의끝</td>\n",
              "      <td>더 마음이 허하겠어요.</td>\n",
              "      <td>0</td>\n",
              "    </tr>\n",
              "    <tr>\n",
              "      <th>5294</th>\n",
              "      <td>년만나다 헤어지네</td>\n",
              "      <td>충분히 슬퍼하고 충분히 아파하다가 이겨내세요.</td>\n",
              "      <td>0</td>\n",
              "    </tr>\n",
              "  </tbody>\n",
              "</table>\n",
              "</div>\n",
              "      <button class=\"colab-df-convert\" onclick=\"convertToInteractive('df-8c718747-3017-49fe-b7ca-38155eb77ae7')\"\n",
              "              title=\"Convert this dataframe to an interactive table.\"\n",
              "              style=\"display:none;\">\n",
              "        \n",
              "  <svg xmlns=\"http://www.w3.org/2000/svg\" height=\"24px\"viewBox=\"0 0 24 24\"\n",
              "       width=\"24px\">\n",
              "    <path d=\"M0 0h24v24H0V0z\" fill=\"none\"/>\n",
              "    <path d=\"M18.56 5.44l.94 2.06.94-2.06 2.06-.94-2.06-.94-.94-2.06-.94 2.06-2.06.94zm-11 1L8.5 8.5l.94-2.06 2.06-.94-2.06-.94L8.5 2.5l-.94 2.06-2.06.94zm10 10l.94 2.06.94-2.06 2.06-.94-2.06-.94-.94-2.06-.94 2.06-2.06.94z\"/><path d=\"M17.41 7.96l-1.37-1.37c-.4-.4-.92-.59-1.43-.59-.52 0-1.04.2-1.43.59L10.3 9.45l-7.72 7.72c-.78.78-.78 2.05 0 2.83L4 21.41c.39.39.9.59 1.41.59.51 0 1.02-.2 1.41-.59l7.78-7.78 2.81-2.81c.8-.78.8-2.07 0-2.86zM5.41 20L4 18.59l7.72-7.72 1.47 1.35L5.41 20z\"/>\n",
              "  </svg>\n",
              "      </button>\n",
              "      \n",
              "  <style>\n",
              "    .colab-df-container {\n",
              "      display:flex;\n",
              "      flex-wrap:wrap;\n",
              "      gap: 12px;\n",
              "    }\n",
              "\n",
              "    .colab-df-convert {\n",
              "      background-color: #E8F0FE;\n",
              "      border: none;\n",
              "      border-radius: 50%;\n",
              "      cursor: pointer;\n",
              "      display: none;\n",
              "      fill: #1967D2;\n",
              "      height: 32px;\n",
              "      padding: 0 0 0 0;\n",
              "      width: 32px;\n",
              "    }\n",
              "\n",
              "    .colab-df-convert:hover {\n",
              "      background-color: #E2EBFA;\n",
              "      box-shadow: 0px 1px 2px rgba(60, 64, 67, 0.3), 0px 1px 3px 1px rgba(60, 64, 67, 0.15);\n",
              "      fill: #174EA6;\n",
              "    }\n",
              "\n",
              "    [theme=dark] .colab-df-convert {\n",
              "      background-color: #3B4455;\n",
              "      fill: #D2E3FC;\n",
              "    }\n",
              "\n",
              "    [theme=dark] .colab-df-convert:hover {\n",
              "      background-color: #434B5C;\n",
              "      box-shadow: 0px 1px 3px 1px rgba(0, 0, 0, 0.15);\n",
              "      filter: drop-shadow(0px 1px 2px rgba(0, 0, 0, 0.3));\n",
              "      fill: #FFFFFF;\n",
              "    }\n",
              "  </style>\n",
              "\n",
              "      <script>\n",
              "        const buttonEl =\n",
              "          document.querySelector('#df-8c718747-3017-49fe-b7ca-38155eb77ae7 button.colab-df-convert');\n",
              "        buttonEl.style.display =\n",
              "          google.colab.kernel.accessAllowed ? 'block' : 'none';\n",
              "\n",
              "        async function convertToInteractive(key) {\n",
              "          const element = document.querySelector('#df-8c718747-3017-49fe-b7ca-38155eb77ae7');\n",
              "          const dataTable =\n",
              "            await google.colab.kernel.invokeFunction('convertToInteractive',\n",
              "                                                     [key], {});\n",
              "          if (!dataTable) return;\n",
              "\n",
              "          const docLinkHtml = 'Like what you see? Visit the ' +\n",
              "            '<a target=\"_blank\" href=https://colab.research.google.com/notebooks/data_table.ipynb>data table notebook</a>'\n",
              "            + ' to learn more about interactive tables.';\n",
              "          element.innerHTML = '';\n",
              "          dataTable['output_type'] = 'display_data';\n",
              "          await google.colab.output.renderOutput(dataTable, element);\n",
              "          const docLink = document.createElement('div');\n",
              "          docLink.innerHTML = docLinkHtml;\n",
              "          element.appendChild(docLink);\n",
              "        }\n",
              "      </script>\n",
              "    </div>\n",
              "  </div>\n",
              "  "
            ]
          },
          "metadata": {},
          "execution_count": 12
        }
      ]
    },
    {
      "cell_type": "code",
      "source": [
        "data['Q'] = data['Q'].str.replace('^ +', \"\")\n",
        "data['Q'].replace('', np.nan, inplace = True)\n",
        "print(data.isnull().sum())"
      ],
      "metadata": {
        "colab": {
          "base_uri": "https://localhost:8080/"
        },
        "id": "iUmORitWjy4i",
        "outputId": "33ab8278-f748-4ae3-df0b-01ce64a2e39b"
      },
      "execution_count": 13,
      "outputs": [
        {
          "output_type": "stream",
          "name": "stdout",
          "text": [
            "Q        0\n",
            "A        0\n",
            "label    0\n",
            "dtype: int64\n"
          ]
        },
        {
          "output_type": "stream",
          "name": "stderr",
          "text": [
            "/usr/local/lib/python3.7/dist-packages/ipykernel_launcher.py:1: FutureWarning: The default value of regex will change from True to False in a future version.\n",
            "  \"\"\"Entry point for launching an IPython kernel.\n"
          ]
        }
      ]
    },
    {
      "cell_type": "code",
      "source": [
        "stopwords = ['의', '가', '이', '은', '들', '는', '좀', '잘', '걍',\n",
        "             '과', '도', '를', '으로', '자', '에', '와', '한', '하다']"
      ],
      "metadata": {
        "id": "9rSGX-Xmj-0X"
      },
      "execution_count": 14,
      "outputs": []
    },
    {
      "cell_type": "code",
      "source": [
        "okt = Okt()\n",
        "okt.morphs('와 이런 것도 영화라고 차라리 뮤직비디오를 만드는 게 나을 뻔', stem = True)"
      ],
      "metadata": {
        "colab": {
          "base_uri": "https://localhost:8080/"
        },
        "id": "kTBImDbMkL5f",
        "outputId": "f25aaf4f-3c62-4e94-a9c9-76d574dbb149"
      },
      "execution_count": 15,
      "outputs": [
        {
          "output_type": "execute_result",
          "data": {
            "text/plain": [
              "['오다', '이렇다', '것', '도', '영화', '라고', '차라리', '뮤직비디오', '를', '만들다', '게', '나다', '뻔']"
            ]
          },
          "metadata": {},
          "execution_count": 15
        }
      ]
    },
    {
      "cell_type": "code",
      "source": [
        "X_train = []\n",
        "\n",
        "for sentence in tqdm(data['Q']) :\n",
        "    tokenized_sentence = okt.morphs(sentence, stem = True)\n",
        "    stopwords_removed_sentence = [word for word in tokenized_sentence if not word in stopwords]\n",
        "    X_train.append(stopwords_removed_sentence)"
      ],
      "metadata": {
        "colab": {
          "base_uri": "https://localhost:8080/"
        },
        "id": "9mUAGDEDkP_-",
        "outputId": "8a61f057-c5fc-4e9d-fc18-4fcf46560cb8"
      },
      "execution_count": 16,
      "outputs": [
        {
          "output_type": "stream",
          "name": "stderr",
          "text": [
            "100%|██████████| 6478/6478 [00:07<00:00, 881.99it/s] \n"
          ]
        }
      ]
    },
    {
      "cell_type": "code",
      "source": [
        "print(X_train[ : 3])"
      ],
      "metadata": {
        "colab": {
          "base_uri": "https://localhost:8080/"
        },
        "id": "RJq8W_9xkgnG",
        "outputId": "87df4c5c-a155-41cb-db51-3e59354240ba"
      },
      "execution_count": 17,
      "outputs": [
        {
          "output_type": "stream",
          "name": "stdout",
          "text": [
            "[['일', '만난', '여자친구', '이별'], ['년', '연애', '헤어지다'], ['년', '연', '애사', '되돌아보다', '다', '부질없다']]\n"
          ]
        }
      ]
    },
    {
      "cell_type": "code",
      "source": [
        "tokenizer = Tokenizer()\n",
        "tokenizer.fit_on_texts(X_train)"
      ],
      "metadata": {
        "id": "Brf_p451kptx"
      },
      "execution_count": 18,
      "outputs": []
    },
    {
      "cell_type": "code",
      "source": [
        "print(tokenizer.word_index)"
      ],
      "metadata": {
        "colab": {
          "base_uri": "https://localhost:8080/"
        },
        "id": "A6zD_S3dksqN",
        "outputId": "71fe2a49-58b1-4bef-d487-53085071c101"
      },
      "execution_count": 19,
      "outputs": [
        {
          "output_type": "stream",
          "name": "stdout",
          "text": [
            "{'좋아하다': 1, '사람': 2, '을': 3, '있다': 4, '이별': 5, '헤어지다': 6, '사랑': 7, '너무': 8, '같다': 9, '나': 10, '썸': 11, '내': 12, '되다': 13, '보다': 14, '연락': 15, '한테': 16, '싶다': 17, '남자': 18, '안': 19, '좋다': 20, '없다': 21, '여자친구': 22, '어떻다': 23, '짝남': 24, '년': 25, '연애': 26, '거': 27, '돼다': 28, '여자': 29, '만나다': 30, '남자친구': 31, '것': 32, '오다': 33, '마음': 34, '못': 35, '오늘': 36, '짝녀': 37, '생각': 38, '이다': 39, '인데': 40, '힘드다': 41, '타다': 42, '이제': 43, '만': 44, '그': 45, '말': 46, '하고': 47, '후': 48, '에서': 49, '랑': 50, '힘들다': 51, '알다': 52, '다시': 53, '짝사랑': 54, '잊다': 55, '않다': 56, '달': 57, '그녀': 58, '결혼': 59, '정말': 60, '이랑': 61, '친구': 62, '자다': 63, '수': 64, '애': 65, '다': 66, '뭐': 67, '왜': 68, '가다': 69, '째': 70, '일': 71, '사귀다': 72, '끄다': 73, '모르다': 74, '때': 75, '아니다': 76, '해': 77, '고백': 78, '더': 79, '해주다': 80, '괜찮다': 81, '로': 82, '날': 83, '에게': 84, '받다': 85, '게': 86, '여친': 87, '나르다': 88, '시간': 89, '중': 90, '고': 91, '또': 92, '썸남': 93, '끝': 94, '꿈': 95, '자꾸': 96, '들다': 97, '아프다': 98, '방법': 99, '이야': 100, '네': 101, '인': 102, '생기다': 103, '카톡': 104, '진짜': 105, '혼자': 106, '술': 107, '전': 108, '너': 109, '차다': 110, '맞다': 111, '제': 112, '먹다': 113, '고민': 114, '야': 115, '보내다': 116, '개월': 117, '지': 118, '많이': 119, '계속': 120, '적': 121, '나오다': 122, '안되다': 123, '요': 124, '여자애': 125, '다른': 126, '나다': 127, '결국': 128, '많다': 129, '걸다': 130, '해보다': 131, '남친': 132, '애가': 133, '생각나다': 134, '어떡하다': 135, '싫다': 136, '까지': 137, '정리': 138, '보고': 139, '끝나다': 140, '주다': 141, '인지': 142, '마지막': 143, '준비': 144, '건가': 145, '젠': 146, '선물': 147, '인가': 148, '재회': 149, '저': 150, '알': 151, '어제': 152, '걸': 153, '하': 154, '같이': 155, '그냥': 156, '관심': 157, '미치다': 158, '줄': 159, '이렇게': 160, '이네': 161, '그렇다': 162, '하루': 163, '아직도': 164, '먼저': 165, '지금': 166, '한지': 167, '아': 168, '무슨': 169, '뭘': 170, '넘다': 171, '두': 172, '언제': 173, '이렇다': 174, '되어다': 175, '버리다': 176, '맘': 177, '감정': 178, '해도': 179, '우리': 180, '떠나다': 181, '집': 182, '죽다': 183, '이야기': 184, '만에': 185, '주': 186, '기다리다': 187, '남다': 188, '가슴': 189, '면': 190, '반': 191, '지나다': 192, '행복하다': 193, '때문': 194, '듯': 195, '답답하다': 196, '데이트': 197, '첫사랑': 198, '갑자기': 199, '오래': 200, '친': 201, '난': 202, '건': 203, '놓다': 204, '건지다': 205, '아직': 206, '만난': 207, '설레다': 208, '말다': 209, '눈물': 210, '붙잡다': 211, '눈': 212, '쓰다': 213, '동거': 214, '달이': 215, '여': 216, '이유': 217, '참다': 218, '간': 219, '이란': 220, '살': 221, '전여친': 222, '노래': 223, '생일': 224, '잊혀지다': 225, '상처': 226, '변하다': 227, '이해': 228, '하나': 229, '의미': 230, 'ㅠ': 231, '궁금하다': 232, '라고': 233, '포기': 234, '사진': 235, '구': 236, '느낌': 237, '몇': 238, '앞': 239, '사이': 240, '살다': 241, '환승': 242, '돌아오다': 243, '슬프다': 244, '폭풍': 245, '별로': 246, '기분': 247, '표현': 248, '휴': 249, '그리고': 250, '시작': 251, '통보': 252, '니': 253, '헤어지자': 254, '내다': 255, '후회': 256, '잠': 257, '글': 258, '주말': 259, '미련': 260, '서로': 261, '썸녀': 262, '모든': 263, '싸우다': 264, '지내다': 265, '차단': 266, '지우다': 267, '지치다': 268, '기억': 269, 'ㅠㅠ': 270, '프사': 271, '머리': 272, '함': 273, '소개팅': 274, '톡': 275, '밤': 276, '만남': 277, '문자': 278, '끝내다': 279, '힘': 280, '매일': 281, '어디': 282, '기다': 283, '전남친': 284, '첫': 285, '얘기': 286, '여행': 287, '번': 288, '한번': 289, '써다': 290, '사': 291, '딱': 292, '쯤': 293, '벌써': 294, '스킨십': 295, '정도': 296, '새롭다': 297, '조언': 298, '문제': 299, '아픔': 300, '남편': 301, '무섭다': 302, '내일': 303, '부터': 304, '자주': 305, '아침': 306, '세상': 307, '예쁘다': 308, '타': 309, '타고': 310, '티': 311, '탈': 312, '이라는': 313, '나쁘다': 314, '두렵다': 315, '우울하다': 316, '법': 317, '뭐라다': 318, '일주일': 319, '짜증나다': 320, '마시다': 321, '오빠': 322, '가능하다': 323, '가능': 324, '임': 325, '싫어하다': 326, '편지': 327, '연인': 328, '짧다': 329, '나서다': 330, '속': 331, '놈': 332, '답': 333, '잡다': 334, '그립다': 335, '이르다': 336, '바보': 337, '받아들이다': 338, '집착': 339, '듣다': 340, '읽다': 341, '야하다': 342, '떨어지다': 343, '영화': 344, '자기': 345, '이상형': 346, '답장': 347, '아무': 348, '장거리': 349, '오랜': 350, '당하다': 351, '극복': 352, '추억': 353, '자신': 354, '욕': 355, '없이': 356, '전화': 357, '인거': 358, '카페': 359, '그만': 360, '늦다': 361, '새벽': 362, '보이다': 363, '라는': 364, '편하다': 365, '지다': 366, '마주치다': 367, '보통': 368, '쉬다': 369, '회사': 370, '조금': 371, '부담스럽다': 372, '안해': 373, '찍다': 374, '흐르다': 375, '찾아오다': 376, '가보다': 377, '기': 378, '이나': 379, '척': 380, '느끼다': 381, '진심': 382, '대한': 383, '꼭': 384, '믿다': 385, '겠다': 386, '만날': 387, '달라': 388, '착각': 389, '나이': 390, '이상하다': 391, '제일': 392, '미안하다': 393, '처음': 394, '드디어': 395, '서': 396, '부모님': 397, '비': 398, '니까': 399, '신경': 400, '갈다': 401, '행동': 402, '요즘': 403, '좋아지다': 404, '남사': 405, '째다': 406, '끊다': 407, '크다': 408, '관계': 409, '감': 410, '처럼': 411, '견디다': 412, '현실': 413, '놀다': 414, '원래': 415, '어렵다': 416, '스럽다': 417, '잠수': 418, '점점': 419, '문득': 420, '뭔': 421, '챙기다': 422, '아무리': 423, '따르다': 424, '호감': 425, '잘해주다': 426, '약속': 427, '곳': 428, '권태기': 429, '인연': 430, '화가': 431, '준': 432, '무': 433, '무너지다': 434, '일이': 435, '치다': 436, '이혼': 437, '기적': 438, '갖다': 439, '데': 440, '이라': 441, '별': 442, '바람': 443, '만들다': 444, '완전하다': 445, '떨리다': 446, '상황': 447, '오': 448, '헷갈리다': 449, '밥': 450, '위로': 451, '얼마': 452, '에도': 453, '물어보다': 454, '친하다': 455, '인기': 456, '동안': 457, '돈': 458, '뒤': 459, '이런': 460, '죠': 461, '드': 462, '올리다': 463, '모습': 464, '거의': 465, '번호': 466, '앞두다': 467, '보이': 468, '운동': 469, '잡고': 470, '거야': 471, '날씨': 472, '남': 473, '인사': 474, '찾다': 475, '누구': 476, '다가오다': 477, '봄': 478, '자고': 479, '얼굴': 480, '차이다': 481, '볼': 482, '깨지다': 483, '상대': 484, '영원하다': 485, '나가다': 486, '맨날': 487, '어장': 488, '학교': 489, '선배': 490, '커플': 491, '형': 492, '차이': 493, '어쩌지': 494, '선톡': 495, '데리다': 496, '친해지다': 497, '안녕': 498, '개': 499, '지나가다': 500, '종교': 501, '싫어지다': 502, '상담': 503, '확실하다': 504, '공부': 505, '울다': 506, '가끔': 507, '이라도': 508, '제발': 509, '함께': 510, '경우': 511, '바': 512, '이상': 513, '잘못': 514, '이지': 515, '매달리다': 516, '외로워': 517, '누군가': 518, '그만하다': 519, '접다': 520, '식다': 521, '몸': 522, '돌리다': 523, '래': 524, '바쁘다': 525, '웃다': 526, '엄청': 527, '장난': 528, '맞추다': 529, '자존감': 530, '눈치': 531, '다가가다': 532, '짝': 533, '청첩장': 534, '끊기다': 535, '널': 536, '일차': 537, '대화': 538, '뎌': 539, '걔': 540, '완전': 541, '찾아가다': 542, '씩': 543, '괴롭다': 544, '순간': 545, '전화하다': 546, '넌': 547, '터지다': 548, '꾸다': 549, '역시': 550, '비다': 551, '결심': 552, '보기': 553, '씹다': 554, 'ㅎㅎ': 555, '들어오다': 556, '필요하다': 557, '반복': 558, '사라지다': 559, '사다': 560, '어찌': 561, '한잔': 562, '이건': 563, '인걸': 564, '확인': 565, '이쁘다': 566, '심해': 567, '여러': 568, '걸리다': 569, '사람과': 570, '추천': 571, '페북': 572, '착하다': 573, '게임': 574, '크리스마스': 575, '쓰이다': 576, '클럽': 577, '부분': 578, '입다': 579, '걱정': 580, '고맙다': 581, '이제야': 582, '확신': 583, '위해': 584, '이성': 585, '멀다': 586, '뿐': 587, '라': 588, '거짓말': 589, '파혼': 590, '과거': 591, '그리다': 592, '괜히': 593, '군대': 594, '다니다': 595, '어쩔': 596, '분들': 597, '깨다': 598, '절': 599, '명': 600, 'ㅜㅜ': 601, '만큼': 602, '도와주다': 603, '세': 604, '에는': 605, '최악': 606, '얼마나': 607, '연휴': 608, '여기': 609, '떠나가다': 610, '수가': 611, '보': 612, '멀어지다': 613, '해봤다': 614, '정': 615, '뜨다': 616, '기준': 617, '새': 618, '노력': 619, '언': 620, '성격': 621, '약': 622, '정말로': 623, '쓰레기': 624, '어느덧다': 625, '결혼식': 626, '무시': 627, '가면': 628, '오해': 629, '유학': 630, '들이다': 631, '차': 632, '하루하루': 633, '주변': 634, '알바': 635, '단': 636, '다르다': 637, '달다': 638, '옷': 639, '어색하다': 640, '귀찮다': 641, '적극': 642, '어리다': 643, '오랫동안': 644, '소개': 645, '질투': 646, '귀엽다': 647, '인가요': 648, '월': 649, '서다': 650, '와의': 651, '늘다': 652, '기간': 653, '두다': 654, '두번째': 655, '는걸': 656, '가족': 657, '기복': 658, '심장': 659, '오르다': 660, '겨우': 661, '뭔가': 662, '바뀌다': 663, '화나다': 664, '소식': 665, '탈퇴': 666, '마다': 667, '그리움': 668, '외롭다': 669, '그런': 670, '기념일': 671, '말고': 672, '죽': 673, '아깝다': 674, '심리': 675, '가지': 676, '께': 677, '라도': 678, '내려놓다': 679, '냉정하다': 680, '인생': 681, '덤덤하다': 682, '한심하다': 683, '보여주다': 684, '외로움': 685, '원망': 686, '둘': 687, '간다': 688, '불안하다': 689, '미우다': 690, '길': 691, '길다': 692, '담배': 693, '빨리': 694, '비슷하다': 695, '오늘이': 696, '비참하다': 697, '한다는': 698, '항상': 699, '시': 700, '적다': 701, '이기다': 702, '아름답다': 703, '그만두다': 704, '원하다': 705, '관리': 706, '어젯밤': 707, '모두': 708, '통화': 709, '부여': 710, '어느': 711, '스럽게': 712, '작다': 713, '다가': 714, '최근': 715, '달라지다': 716, '빠지다': 717, '쉽다': 718, '외국인': 719, '음식': 720, '시키다': 721, '말투': 722, '키': 723, '취향': 724, '서운하다': 725, '매주': 726, '생기': 727, '운명': 728, '신혼': 729, '동생': 730, '예의': 731, '만의': 732, '주가': 733, '여전하다': 734, '싸움': 735, '드리다': 736, '엔': 737, '애인': 738, '흔적': 739, '가사': 740, '쳐다보다': 741, '가장': 742, '떠오르다': 743, '솔직하다': 744, '우울': 745, '일어나다': 746, '핸드폰': 747, '바꾸다': 748, '바람나다': 749, '화': 750, '곧': 751, '공허하다': 752, '군인': 753, '닮다': 754, '그대': 755, '그래도': 756, '속이다': 757, '잠들다': 758, '악몽': 759, '상태': 760, '너무하다': 761, '돌아가다': 762, '지키다': 763, '땐': 764, '혹시': 765, '걷다': 766, '추다': 767, '런가': 768, '뜻': 769, '이름': 770, '예민하다': 771, '부리다': 772, '들어주다': 773, '찌질하다': 774, '짓': 775, '숭숭': 776, '덜': 777, '마주': 778, '따다': 779, '차갑다': 780, '불금': 781, '밖에': 782, '찬': 783, '따로': 784, '멀리': 785, '며칠': 786, '몰래': 787, '문': 788, '일상': 789, '반년': 790, '주일': 791, '분': 792, '거절': 793, '솔로': 794, '불행하다': 795, '집앞': 796, '숨막히다': 797, '성': 798, '조금씩': 799, '직장': 800, '버티다': 801, '들어가다': 802, '의심': 803, '대다': 804, '수도': 805, '인정': 806, '점': 807, '이용': 808, '느껴지다': 809, '유부': 810, '이틀': 811, '부족하다': 812, '자괴': 813, '자연': 814, '하자': 815, '지겹다': 816, '종일': 817, '대해': 818, '느리다': 819, '배려': 820, '특징': 821, '단둘': 822, '스타일': 823, '공개': 824, '친절하다': 825, '노': 826, '프로포즈': 827, '사랑받다': 828, '뭐임': 829, '졸업': 830, '세포': 831, '연예인': 832, '학원': 833, '표정': 834, '연': 835, '종지부': 836, '갑작스럽다': 837, '달반': 838, '마침표': 839, '트라우마': 840, '지난': 841, '어느새다': 842, '마무리': 843, '개월차': 844, '배신': 845, '갈수록': 846, '밀려오다': 847, '다녀오다': 848, '열': 849, '고치다': 850, '병신': 851, '가치관': 852, '삼': 853, '재': 854, '적령': 855, '이에요': 856, '과연': 857, '불쑥': 858, '앉다': 859, '습관': 860, '그게': 861, '무작정': 862, '못자다': 863, '헬스장': 864, '예요': 865, '그동안': 866, '그렇게': 867, '아주': 868, '중인': 869, '근데': 870, '기다림': 871, '기운': 872, '깨달음': 873, '끈': 874, '뿐이다': 875, '켜다': 876, '자리': 877, '물건': 878, '조건': 879, '별거': 880, '이면': 881, '어떤': 882, '잘살다': 883, '찢어지다': 884, '바라다': 885, '이미': 886, '부탁드리다': 887, '실수': 888, '손': 889, '똑같다': 890, '쿨하다': 891, '이고': 892, '매번': 893, '쓸다': 894, '먹기': 895, '목소리': 896, '고프다': 897, '방금': 898, '속상하다': 899, '차라리': 900, '기도': 901, '반대': 902, '분노': 903, '과의': 904, '동물': 905, '유효': 906, '익숙해지다': 907, '잡히다': 908, '대': 909, '조차': 910, '이래': 911, '후련하다': 912, '넘어가다': 913, '순수하다': 914, '지옥': 915, '그대로': 916, '뛰다': 917, '얘': 918, '붙이다': 919, '언젠가': 920, '나아지다': 921, '온': 922, '려고': 923, '에만': 924, '한숨': 925, '우린': 926, '왠지': 927, '우연히': 928, '웃기다': 929, '줄다': 930, '흠': 931, '음': 932, '유부녀': 933, '절대': 934, '이번': 935, '고통': 936, '다음': 937, '해결': 938, '책': 939, '꺼내다': 940, '페메': 941, '소문': 942, '붙다': 943, '관련': 944, '프로필': 945, '낼': 946, '정신': 947, '중이': 948, '기대다': 949, '화이트데이': 950, '장소': 951, '강아지': 952, '인스타': 953, '누르다': 954, '어울리다': 955, '떠보다': 956, '빠르다': 957, '까먹다': 958, '서툴다': 959, '편': 960, '소심하다': 961, '피다': 962, '옳다': 963, '잘생기다': 964, '여자도': 965, '성적': 966, '부담': 967, '들키다': 968, '이뤄지다': 969, '질리다': 970, '누가': 971, '끼다': 972, '로맨틱': 973, '정류장': 974, '모': 975, '빼빼로': 976, '상메': 977, '어플': 978, '애프터': 979, '스터디': 980, '줄이다': 981, '발전': 982, '갠톡': 983, '씨': 984, '정상': 985, '띄다': 986, '알바생': 987, '철벽': 988, '듯이': 989, '부질없다': 990, '무색': 991, '에나': 992, '년전': 993, '가까이': 994, '헤어': 995, '번의': 996, '도저히': 997, '년반': 998, '월간': 999, '부탁': 1000, '멍하다': 1001, '허무하다': 1002, '사실': 1003, '세월': 1004, '구멍': 1005, '막': 1006, '감당': 1007, '이안': 1008, '질': 1009, '급': 1010, '이드': 1011, '어이': 1012, '병': 1013, '겁': 1014, '망상': 1015, '계절': 1016, '분하다': 1017, '울컥': 1018, '괜': 1019, '마': 1020, '지만': 1021, '넋두리': 1022, '잔인하다': 1023, '로부터': 1024, '짐': 1025, '없어지다': 1026, '행복': 1027, '파': 1028, '기대하다': 1029, '멈추다': 1030, '만은': 1031, '편안하다': 1032, '흔들리다': 1033, '계시다': 1034, '깊다': 1035, '늘': 1036, 'ㅜ': 1037, '에서도': 1038, '꿀': 1039, '끌다': 1040, '보이지': 1041, '신기하다': 1042, '가능성': 1043, '이리': 1044, '그저': 1045, '력': 1046, '발렌타인데이': 1047, '살리다': 1048, '그래서': 1049, '쓴다': 1050, '위': 1051, '공감': 1052, '냐': 1053, '독하다': 1054, '추석': 1055, '당신': 1056, '대체': 1057, '머릿속': 1058, '도대체': 1059, '불면증': 1060, '드라마': 1061, '알아보다': 1062, '롱디': 1063, '억지로': 1064, '꽉': 1065, '커지다': 1066, '쫌': 1067, '내버리다': 1068, '혼란': 1069, '며': 1070, '안좋다': 1071, '매': 1072, '멘탈': 1073, '저녁': 1074, '귀': 1075, '명절': 1076, '경험': 1077, '죄': 1078, '어언': 1079, '남아': 1080, '밉다': 1081, '밑바닥': 1082, '라서': 1083, '알아내다': 1084, '벌': 1085, '간절하다': 1086, '보지': 1087, '힘내다': 1088, '부럽다': 1089, '고통스럽다': 1090, '혼술': 1091, '만으로': 1092, '이후': 1093, '살아가다': 1094, '상대방': 1095, '상상': 1096, '주지': 1097, '복': 1098, '안나': 1099, '생생하다': 1100, '샤워': 1101, '젤': 1102, '날다': 1103, '주정': 1104, '스스로': 1105, '위험하다': 1106, '스트레스': 1107, '시도': 1108, '신청': 1109, '한순간': 1110, '어이없다': 1111, 'ㅋㅋ': 1112, '흘리다': 1113, '나타나다': 1114, '잠깐': 1115, '화장': 1116, '왤케': 1117, '연락처': 1118, '나니': 1119, '예전': 1120, '언니': 1121, '출근': 1122, '아무렇다': 1123, '정이': 1124, '통해': 1125, '허허': 1126, '여행가': 1127, '거지': 1128, '허전하다': 1129, '성숙하다': 1130, '정신병': 1131, '배우다': 1132, '코': 1133, '전혀': 1134, '꽤': 1135, '매너': 1136, '열흘': 1137, '계산': 1138, '전부': 1139, '점심시간': 1140, '증오': 1141, '부부': 1142, '상': 1143, '물': 1144, '저만': 1145, '전여자친구': 1146, '심해지다': 1147, '자존심': 1148, '이라고': 1149, '랑은': 1150, '수준': 1151, '착': 1152, '충격': 1153, '퇴근길': 1154, '평생': 1155, '하아': 1156, '짜다': 1157, '갈등': 1158, '살이': 1159, '비정상': 1160, '타나': 1161, '끼리': 1162, '무리': 1163, '일정': 1164, '날짜': 1165, '공시생': 1166, '교양': 1167, '심남': 1168, '각': 1169, '교회': 1170, '구속': 1171, '즐기다': 1172, '수록': 1173, '환심': 1174, '끼': 1175, '남자에게': 1176, '놀리다': 1177, '자격': 1178, '심쿵하다': 1179, '집중': 1180, '현': 1181, '반응': 1182, '그린': 1183, '라이트': 1184, '능력': 1185, '자취': 1186, '누나': 1187, '마중': 1188, '비혼': 1189, '찌다': 1190, '술자리': 1191, '시어머니': 1192, '이해해': 1193, '진도': 1194, '호칭': 1195, '불다': 1196, '요구': 1197, '의견': 1198, '내면': 1199, '놓치다': 1200, '톡방': 1201, '타도': 1202, '동성': 1203, '랜선': 1204, '중요하다': 1205, '가재': 1206, '쏠': 1207, '모임': 1208, '밀당': 1209, '끝일': 1210, '사내': 1211, '애매하다': 1212, '표시': 1213, '용기': 1214, '성공하다': 1215, '시험': 1216, '쌩얼': 1217, '벚꽃': 1218, '옴': 1219, '썸일': 1220, '아기': 1221, '여리다': 1222, '패턴': 1223, '예랑': 1224, '에선': 1225, '대요': 1226, '피하': 1227, '콩깍지': 1228, '혼인신고': 1229, '가량': 1230, '여의': 1231, '제자리걸음': 1232, '어쩌면': 1233, '대도': 1234, '일만': 1235, '이별이야기': 1236, '월동': 1237, '꾹꾹': 1238, '죽음': 1239, '조절': 1240, '하늘': 1241, '공간': 1242, '거울': 1243, '겁나다': 1244, '겨울': 1245, '라네': 1246, '꿈꾸다': 1247, '일방': 1248, '살기': 1249, '직전': 1250, '고작': 1251, '증': 1252, '올라오다': 1253, '저리다': 1254, '지고': 1255, '지지': 1256, '인척': 1257, '희망': 1258, '절망': 1259, '가도': 1260, '노답': 1261, '그나저나': 1262, '연속': 1263, '산다': 1264, '흔하다': 1265, '한마디': 1266, '진행중': 1267, '에게도': 1268, '잃다': 1269, '듣기': 1270, '보내오다': 1271, '하고도': 1272, '말걸': 1273, '쪽': 1274, '하지만': 1275, '마르다': 1276, '더럽다': 1277, '기회': 1278, '가나': 1279, '심리상담': 1280, '대로': 1281, '남기다': 1282, '질문': 1283, '궁금': 1284, '낮술': 1285, '이지만': 1286, '없애다': 1287, '욕심': 1288, '잠시': 1289, '멍청하다': 1290, '햇': 1291, '억울하다': 1292, '오히려': 1293, '닿다': 1294, '너무나도': 1295, '향기': 1296, '잡': 1297, '동': 1298, '심다': 1299, '버릇': 1300, '뺏다': 1301, '와도': 1302, '단호': 1303, '직후': 1304, '다시다': 1305, '다음주': 1306, '다정하다': 1307, '담담하다': 1308, '과정': 1309, '도움': 1310, '번째': 1311, '달전': 1312, '치고': 1313, '번만': 1314, '마음속': 1315, '또다시': 1316, '뜨겁다': 1317, '거나': 1318, '로맨스': 1319, '움': 1320, '마냥': 1321, '처량하다': 1322, '아려': 1323, '복잡하다': 1324, '작별': 1325, '막장': 1326, '말로': 1327, '추': 1328, '스리': 1329, '축복': 1330, '된거': 1331, '회의': 1332, '매정하다': 1333, '머': 1334, '면접': 1335, '몇번': 1336, '진실': 1337, '니깐': 1338, '훔치다': 1339, '신뢰': 1340, '잠기다': 1341, '미워하다': 1342, '믿음': 1343, '용서': 1344, '밤새': 1345, '오는': 1346, '엉엉': 1347, '가득하다': 1348, '버려진': 1349, '지침': 1350, '라니': 1351, '무언가': 1352, '보름': 1353, '이라서': 1354, '더욱': 1355, '부디': 1356, '부르다': 1357, '씁쓸하다': 1358, '오니': 1359, 'ㅎㅎㅎ': 1360, '빌어먹을': 1361, '뻔하다': 1362, '사과': 1363, '억': 1364, '간사하다': 1365, '부작용': 1366, '유증': 1367, '치유': 1368, '따위': 1369, '신': 1370, '출발': 1371, '새해': 1372, '가치': 1373, '축하': 1374, '감다': 1375, '웨딩': 1376, '소중하다': 1377, '시원하다': 1378, '수백': 1379, '순진하다': 1380, '죄인': 1381, '론': 1382, '숨다': 1383, '예감': 1384, '되돌리다': 1385, '시계': 1386, '산책': 1387, '신혼여행': 1388, '심각하다': 1389, '심난하다': 1390, '새끼': 1391, '아련하다': 1392, '적응': 1393, '많아지다': 1394, '고하': 1395, '양다리': 1396, '주차': 1397, '가야': 1398, '이보': 1399, '일지': 1400, '어디서': 1401, '거니': 1402, '어떻': 1403, '어리석다': 1404, '어쩌': 1405, '깨어지다': 1406, '도자기': 1407, '런': 1408, '지워지다': 1409, '울': 1410, '돌다': 1411, '막다': 1412, '희망고문': 1413, '연하': 1414, '통': 1415, '슬슬': 1416, '버티고': 1417, '머물다': 1418, '잔': 1419, '예정': 1420, '쉬': 1421, '이루다': 1422, '오늘밤': 1423, '부로': 1424, '데이': 1425, '최고': 1426, '오락가락': 1427, '편이': 1428, '옆': 1429, '무기': 1430, '용다': 1431, '가볍다': 1432, '여유': 1433, '우': 1434, '우정': 1435, '운': 1436, '청소': 1437, '위안': 1438, '으': 1439, '음악': 1440, '또한': 1441, '려': 1442, '두려움': 1443, '덧': 1444, '밟다': 1445, '경과': 1446, '보고서': 1447, '별일': 1448, '자유롭다': 1449, '다이어트': 1450, '신분': 1451, '오래되다': 1452, '인후': 1453, '심하다': 1454, '취미': 1455, '세다': 1456, '가을': 1457, '숨': 1458, '이라니': 1459, '올': 1460, '속도': 1461, '헤이진': 1462, '오래전': 1463, '말르다': 1464, '말끝': 1465, '겟': 1466, '라면': 1467, '익숙하다': 1468, '인간': 1469, '일전': 1470, '댓글': 1471, '근처': 1472, '다짐': 1473, '어': 1474, '아끼다': 1475, '낳다': 1476, '장수': 1477, '내야': 1478, '친추': 1479, '메인': 1480, '똑똑하다': 1481, '전남자친구': 1482, '가입': 1483, '나은': 1484, '전하': 1485, '정신과': 1486, '정신차리다': 1487, '풀다': 1488, '쪼금': 1489, '이서': 1490, '저리': 1491, '주저리주저리': 1492, '주체': 1493, '후유증': 1494, '진정': 1495, '약인': 1496, '기네': 1497, '낫': 1498, '쭉': 1499, '참고': 1500, '마자': 1501, '차임': 1502, '카카오': 1503, '커플링': 1504, '태어나다': 1505, '웃음': 1506, '폰': 1507, '하소연': 1508, '원망하다': 1509, '한쪽': 1510, '해선': 1511, '떨어뜨리다': 1512, '돌싱': 1513, '녀': 1514, '안다': 1515, '추가': 1516, 'ㅋ': 1517, '사탕': 1518, '이주': 1519, '당한': 1520, '커피': 1521, '환경': 1522, '흐음': 1523, '흑역사': 1524, '조': 1525, '불타': 1526, '간접': 1527, '선': 1528, '객관': 1529, '거리': 1530, '게스트하우스': 1531, '생활': 1532, '타이밍': 1533, '분위기': 1534, '스킨': 1535, '공시': 1536, '발견': 1537, '가기': 1538, '조가': 1539, '꼬시': 1540, '상사병': 1541, '떼다': 1542, '꼼꼼하다': 1543, '보재': 1544, '소원': 1545, '뒷모습': 1546, '목적': 1547, '질리': 1548, '발': 1549, '남녀': 1550, '본인': 1551, '채': 1552, '하나요': 1553, '무조건': 1554, '높다': 1555, '취급': 1556, '조급하다': 1557, '통장': 1558, '제안': 1559, '무한리필': 1560, '수상하다': 1561, '주의': 1562, '외박': 1563, '막말': 1564, '아이돌': 1565, '집안일': 1566, '무뚝뚝하다': 1567, '속사정': 1568, '브랜드': 1569, '방구': 1570, '첫키스': 1571, '입냄새': 1572, '비교': 1573, '보임': 1574, '혼전순결': 1575, '만해': 1576, '연상': 1577, '사이트': 1578, '축가': 1579, '만족하다': 1580, '만들기': 1581, '존재': 1582, '진지하다': 1583, '알아채다': 1584, '나아': 1585, '더니': 1586, '당연하다': 1587, '절제': 1588, '잘맞다': 1589, '대출': 1590, '대학교': 1591, '해달라다': 1592, '해달': 1593, '계획': 1594, '비용': 1595, '도서관': 1596, '망설이다': 1597, '입어보다': 1598, '재밌다': 1599, '혈액형': 1600, '키스': 1601, '정장': 1602, '수요일': 1603, '월요일': 1604, '화요일': 1605, '반했어': 1606, '모태솔로': 1607, '미팅': 1608, '배우자': 1609, '끌리다': 1610, '베다': 1611, '비밀': 1612, '외모': 1613, '비밀연애': 1614, '꾼': 1615, '위대하다': 1616, '먹여주다': 1617, '손해': 1618, '존중': 1619, '상견례': 1620, '줌': 1621, '섹스': 1622, '리스': 1623, '바로': 1624, '썸임': 1625, '스튜디오': 1626, '촬영': 1627, '채다': 1628, '쌈': 1629, '저장': 1630, '영통': 1631, '간섭': 1632, '일부러': 1633, '누굴까': 1634, '직장인': 1635, '학생': 1636, '제대로': 1637, '막상': 1638, '꽃': 1639, '뽀뽀': 1640, '어디가': 1641, '탈출': 1642, '초콜릿': 1643, '태도': 1644, '취소': 1645, '미루다': 1646, '여사': 1647, '오디션': 1648, '춥다': 1649, '입지': 1650, '애매모호하다': 1651, '플라토닉': 1652, '노래방': 1653, '썸탈때': 1654, '씻다': 1655, '안경': 1656, '애기': 1657, '애니': 1658, '어떨': 1659, '엠티': 1660, '대쉬': 1661, '애교': 1662, '삐지다': 1663, '취업': 1664, '보수': 1665, '여지': 1666, '연애스타일': 1667, '턱': 1668, '멋지다': 1669, '땜': 1670, '만이': 1671, '반장': 1672, '웨딩드레스': 1673, '가리다': 1674, '구분': 1675, '테': 1676, '바람둥이': 1677, '단점': 1678, '든': 1679, '쪽팔리다': 1680, '효과': 1681, '영': 1682, '화보': 1683, '인상': 1684, '끝내': 1685, '출국': 1686, '지켜보다': 1687, '센스': 1688, '고시생': 1689, '굴': 1690, '이든': 1691, '파토': 1692, '초대': 1693, '라인': 1694, '덥다': 1695, '실망하다': 1696, '이사': 1697, '반하다': 1698, '고르다': 1699, '취준생': 1700, '커뮤니티': 1701, '벗겨지다': 1702, '회식': 1703, '애사': 1704, '되돌아보다': 1705, '단거리': 1706, '젔': 1707, '종착역': 1708, '주전': 1709, '막바지': 1710, '개월전': 1711, '반의': 1712, '목전': 1713, '엊그제': 1714, '바치다': 1715, '일간': 1716, '제보': 1717, '내주다': 1718, '유흥업소': 1719, '방문': 1720, '해어지다': 1721, '예년': 1722, '김동욱': 1723, '가벼워지다': 1724, '한편': 1725, '만을': 1726, '숨쉬기': 1727, '허락': 1728, '가깝다': 1729, '가짜': 1730, '가혹하다': 1731, '간단하다': 1732, '간만': 1733, '덕': 1734, '간통': 1735, '더보': 1736, '감각': 1737, '덜컹': 1738, '차가워지다': 1739, '해오다': 1740, '개다': 1741, '비치다': 1742, '거지같다': 1743, '걸핏하면': 1744, '추스렸는데': 1745, '골인': 1746, '사고': 1747, '끝낫': 1748, '유료': 1749, '년후': 1750, '맴돈다': 1751, '체질': 1752, '공황': 1753, '발목': 1754, '얽매이다': 1755, '괘씸하다': 1756, '효': 1757, '진': 1758, '펑펑': 1759, '덜컥': 1760, '어른': 1761, '은주': 1762, '구걸': 1763, '애하': 1764, '찾아다니다': 1765, '웃기': 1766, '주절주절': 1767, '섞다': 1768, '모조리': 1769, '한나': 1770, '졋습니': 1771, '전해': 1772, '빌다': 1773, '노무': 1774, '그땐': 1775, '풀리다': 1776, '만약': 1777, '대전': 1778, '즐겁다': 1779, '너덜너덜': 1780, '묘': 1781, '기숙사': 1782, '왜곡': 1783, '속지': 1784, '기절': 1785, '피곤하다': 1786, '여정': 1787, '깨끗하다': 1788, '정량': 1789, '꿈속': 1790, '안보': 1791, '왓': 1792, '에서까지': 1793, '에서라도': 1794, '리얼': 1795, '무방비': 1796, '고리': 1797, '라지': 1798, '터널': 1799, '말리다': 1800, '나그네': 1801, '거치다': 1802, '열심히': 1803, '단순하다': 1804, '나라': 1805, '선택': 1806, '놓이다': 1807, '구질': 1808, '로다': 1809, '듭니': 1810, '나약하다': 1811, '약점': 1812, '자만': 1813, '심': 1814, '결코': 1815, '네버': 1816, '절대로': 1817, '벌레': 1818, '시선': 1819, '추워지다': 1820, '차서': 1821, '꾸리': 1822, '남동생': 1823, '겪다': 1824, '빈자리': 1825, '낭만': 1826, '이라고는': 1827, '낮': 1828, '그나마': 1829, '지우개': 1830, '발등': 1831, '하고는': 1832, '이기심': 1833, '하라': 1834, '곁': 1835, '고집': 1836, '건너': 1837, '가노': 1838, '가미': 1839, '건드리다': 1840, '기쁘다': 1841, '만큼만': 1842, '직하다': 1843, '잡지': 1844, '나날': 1845, '옥상': 1846, '이듭': 1847, '너무나': 1848, '이글': 1849, '달래다': 1850, '충분하다': 1851, '가슴속': 1852, '전화번호': 1853, '터': 1854, '눈썹': 1855, '문신': 1856, '뉴스': 1857, '지루하다': 1858, '크리': 1859, '마스': 1860, '채우다': 1861, '가라': 1862, '날수': 1863, '숨쉬다': 1864, '원점': 1865, '답답증': 1866, '죽겠네': 1867, '답변': 1868, '저만큼': 1869, '본심': 1870, '건데': 1871, '덤덤': 1872, '돌이키다': 1873, '동성동본': 1874, '바닥': 1875, '외다': 1876, '눈물나다': 1877, '따끔하다': 1878, '혼내다': 1879, '따뜻하다': 1880, '떡볶이': 1881, '저물다': 1882, '뜬금': 1883, '뜬금없이': 1884, '뜬눈': 1885, '새우다': 1886, '롤로': 1887, '코스터': 1888, '리턴': 1889, '힘겹다': 1890, '헌신': 1891, '비우기': 1892, '마음대로': 1893, '막히다': 1894, '너덜너덜하다': 1895, '무거워': 1896, '초조하다': 1897, '도전': 1898, '붙이': 1899, '이별편지': 1900, '현관문': 1901, '닫다': 1902, '매몰': 1903, '깨달': 1904, '졋': 1905, '약해지다': 1906, '결별': 1907, '선언': 1908, '치가': 1909, '푸네': 1910, '맘터': 1911, '망각': 1912, '허황': 1913, '도해': 1914, '이제일': 1915, '발신': 1916, '제한': 1917, '매듭': 1918, '설명': 1919, '맥주': 1920, '캔': 1921, '물다': 1922, '식히다': 1923, '핑핑': 1924, '로는': 1925, '이구나': 1926, '가버리다': 1927, '멀쩡하다': 1928, '멋있다': 1929, '주자': 1930, '멘붕': 1931, '잠잠하다': 1932, '면도': 1933, '막막하다': 1934, '명치': 1935, '멋대로': 1936, '모처럼': 1937, '하니': 1938, '무겁다': 1939, 'ㅎ': 1940, '쌓다': 1941, '진줄': 1942, '무료': 1943, '무모하다': 1944, '무상': 1945, '무엇': 1946, '하든': 1947, '따라다니다': 1948, '무제': 1949, '달력': 1950, '눈물샘': 1951, '물질': 1952, '달도': 1953, '한두': 1954, '덩어리': 1955, '모음': 1956, '미안': 1957, '휴련하': 1958, '강제': 1959, '전화왓': 1960, '불어': 1961, '피지': 1962, '반갑다': 1963, '감수성': 1964, '방안': 1965, '백만': 1966, '즈음': 1967, '버려지다': 1968, '소름': 1969, '돋다': 1970, '세번': 1971, '베인': 1972, '베이': 1973, '변명': 1974, '그지같다': 1975, '별똥별': 1976, '이진': 1977, '병장': 1978, '나달': 1979, '사무치다': 1980, '메시지': 1981, '사이다': 1982, '부서지다': 1983, '부치다': 1984, '불꽃': 1985, '축제': 1986, '불륜': 1987, '불토': 1988, '달리': 1989, '가오니': 1990, '비극': 1991, '비밀번호': 1992, '비오네': 1993, '우산': 1994, '막걸리': 1995, '상속': 1996, '만큼의': 1997, '홧병': 1998, '가지가지': 1999, '모순': 2000, '님들': 2001, '공유': 2002, '야만': 2003, '반대말': 2004, '치료': 2005, '회색': 2006, '빛': 2007, '사무실': 2008, '사업': 2009, '사진첩': 2010, '산': 2011, '산이': 2012, '무심코': 2013, '튀어': 2014, '찌': 2015, '살빼다': 2016, '다리': 2017, '삼십': 2018, '훌러덩': 2019, '상념': 2020, '펴다': 2021, '미래엔': 2022, '질테': 2023, '맙시': 2024, '앞서서': 2025, '천': 2026, '새사람': 2027, '새장': 2028, '부터는': 2029, '변화': 2030, '생리통': 2031, '배': 2032, '원': 2033, '치': 2034, '조각': 2035, '서른': 2036, '초반': 2037, '즘': 2038, '게시': 2039, '안타깝다': 2040, '설마': 2041, '알땐': 2042, '성급하다': 2043, '실패': 2044, '이뻣던': 2045, '셀프': 2046, '유행': 2047, '소화도': 2048, '응어리': 2049, '소리': 2050, '손가락': 2051, '수면제': 2052, '다섯': 2053, '화해': 2054, '너무도': 2055, '은애': 2056, '빌리다': 2057, '짓거리': 2058, '술병': 2059, '보약': 2060, '왠': 2061, '수지': 2062, '술취해': 2063, '잔해': 2064, '인색하다': 2065, '스타트업': 2066, '위통': 2067, '메리크리스마스': 2068, '이브': 2069, '슬픔': 2070, '슬픔활용법': 2071, '낭비하다': 2072, '독': 2073, '시련': 2074, '시원섭섭하다': 2075, '신나다': 2076, '심란하다': 2077, '심심': 2078, '심심하다': 2079, '주저': 2080, '싱숭생숭': 2081, '싸구려': 2082, '쏘다': 2083, '안고': 2084, '봐버렷': 2085, '고치': 2086, '아른거리다': 2087, '목': 2088, '아따': 2089, '엿먹일': 2090, '치밀다': 2091, '아무래도': 2092, '붙들다': 2093, '을해': 2094, '먹히다': 2095, '일도': 2096, '아오': 2097, '아이디': 2098, '힙듭니': 2099, '감싸다': 2100, '벌떡': 2101, '덜하다': 2102, '지니': 2103, '싱숭생숭하다': 2104, '안녕하다': 2105, '습': 2106, '캄캄하다': 2107, '키우다': 2108, '야구': 2109, '경기': 2110, '양가': 2111, '부모': 2112, '훌쩍': 2113, '마음인걸': 2114, '벌주다': 2115, '알아주다': 2116, '톡보': 2117, '온너': 2118, '창가': 2119, '바라보다': 2120, '극': 2121, '판도라': 2122, '상자': 2123, '열다': 2124, '어째서': 2125, '어째': 2126, '결말': 2127, '덮다': 2128, '벗어나다': 2129, '금일': 2130, '서서히': 2131, '아물런': 2132, '얼마만큼': 2133, '엄마': 2134, '아빠': 2135, '업무': 2136, '에궁': 2137, '라이': 2138, '에이': 2139, '에혀': 2140, '메다': 2141, '여러분': 2142, '여섯': 2143, '떠가다': 2144, '피고': 2145, '쏟다': 2146, '붓다': 2147, '때매': 2148, '정확하다': 2149, '세운': 2150, '목표': 2151, '여쭈다': 2152, '핸폰': 2153, '질리나': 2154, '다툼': 2155, '어떠하다': 2156, '모질다': 2157, '가만히': 2158, '충': 2159, '연말': 2160, '연상녀': 2161, '헤어졋': 2162, '관계도': 2163, '망': 2164, '년차': 2165, '기술': 2166, '연차': 2167, '눕다': 2168, '에다가': 2169, '풀이': 2170, '간신히': 2171, '사살': 2172, '메일': 2173, '유난히': 2174, '방': 2175, '수없이': 2176, '어김없이': 2177, '포장마차': 2178, '버텻구': 2179, '하염없이': 2180, '도잠': 2181, '도출': 2182, '근해': 2183, '로써': 2184, '깔끔하다': 2185, '만큼은': 2186, '푹': 2187, '하고프다': 2188, '쏟아내다': 2189, '내리다': 2190, '곡': 2191, '발렌': 2192, '타이': 2193, '주절거리다': 2194, '보렵니': 2195, '일기': 2196, '오랫': 2197, '오싹하다': 2198, '온라인': 2199, '온종일': 2200, '얻다': 2201, '완벽하다': 2202, '그것': 2203, '삭제': 2204, '실망': 2205, '흔들다': 2206, '블로그': 2207, '의문': 2208, '강하다': 2209, '외': 2210, '롭고': 2211, '쏟아지다': 2212, '조성모': 2213, '인게': 2214, '퍼붓다': 2215, '왓어': 2216, '새해인사': 2217, '애쓰다': 2218, '길거리': 2219, '아이': 2220, '우울증': 2221, '운세': 2222, '종합': 2223, '울면': 2224, '울적하다': 2225, '에놀': 2226, '러': 2227, '해주': 2228, '월욜': 2229, '격려': 2230, '윤종신': 2231, '으으': 2232, '이냐': 2233, '응원': 2234, '의외로': 2235, '의욕': 2236, '업다': 2237, '이참': 2238, '변덕': 2239, '하직': 2240, '뻔': 2241, '용납': 2242, '거참': 2243, '이대로': 2244, '글귀': 2245, '해석': 2246, '이만': 2247, '신의': 2248, '일요일': 2249, '달차': 2250, '개월후': 2251, '사유': 2252, '장통': 2253, '수순': 2254, '씩씩하다': 2255, '신중하다': 2256, '일주': 2257, '중독': 2258, '첫날': 2259, '아쉬움': 2260, '치기': 2261, '주년': 2262, '까지의': 2263, '당시': 2264, '짠하다': 2265, '저그': 2266, '보시': 2267, '비겁하다': 2268, '필수': 2269, '다기': 2270, '실감': 2271, '하고야': 2272, '순': 2273, '기능': 2274, '벋다': 2275, '다양하다': 2276, '사별': 2277, '이신': 2278, '회원': 2279, '증후군': 2280, '목숨': 2281, '월지': 2282, '오개': 2283, '주반': 2284, '시점': 2285, '단계': 2286, '노랗다': 2287, '신가': 2288, '괴롭히다': 2289, '으로는': 2290, '당': 2291, '이용만': 2292, '년도': 2293, '성큼': 2294, '아름다워지다': 2295, '나름': 2296, '꺼지다': 2297, '렵': 2298, '때론': 2299, '퍼즐': 2300, '잖다': 2301, '잡아가다': 2302, '힘내렵니': 2303, '무뎌': 2304, '자극': 2305, '스케줄': 2306, '주기': 2307, '얄': 2308, '젠정': 2309, '해심': 2310, '밥상': 2311, '대하': 2312, '법도': 2313, '한데': 2314, '성향': 2315, '인과응보': 2316, '인내': 2317, '일과': 2318, '도착': 2319, '궁': 2320, '까지만': 2321, '염탐': 2322, '입원': 2323, '마이': 2324, '입장': 2325, '무덥다': 2326, '겁니다': 2327, '중심': 2328, '기어오르다': 2329, '졸다': 2330, '자신만만하다': 2331, '엊그젠데': 2332, '작년': 2333, '잠도': 2334, '수탄': 2335, '설치': 2336, '장가': 2337, '장기간': 2338, '풀': 2339, '단념하다': 2340, '한다해': 2341, '친구사이': 2342, '걸치다': 2343, '개인': 2344, '희망이': 2345, '저주': 2346, '부친상': 2347, '띄우다': 2348, '곧장': 2349, '꿧어': 2350, '따라오다': 2351, '불능': 2352, '멍청이': 2353, '마저': 2354, '뭉': 2355, '난감하다': 2356, '밖에는': 2357, '복합': 2358, '엊': 2359, '갈림': 2360, '수단': 2361, '동원': 2362, '차려': 2363, '처방전': 2364, '정은': 2365, '일치': 2366, '에요': 2367, '무집': 2368, '나빠지다': 2369, '잠좀': 2370, '자게': 2371, '제자리': 2372, '인하다': 2373, '젠장': 2374, '참을껄': 2375, '져': 2376, '아물다': 2377, '조만간': 2378, '조바심': 2379, '조울증': 2380, '무뎌졌': 2381, '무한': 2382, '잿빛': 2383, '죄송하다': 2384, '푸념': 2385, '주차장': 2386, '심정': 2387, '청': 2388, '이나고': 2389, '안주': 2390, '히스테리': 2391, '중국어': 2392, '마디': 2393, '에겐': 2394, '다행': 2395, '지긋지긋하다': 2396, '후벼파다': 2397, '지난주': 2398, '지독하다': 2399, '지루함': 2400, '지하철': 2401, '어의': 2402, '질린다': 2403, '질질': 2404, '떠들다': 2405, '짜증': 2406, '여운': 2407, '짱': 2408, '쩝': 2409, '번하다': 2410, '여부': 2411, '시나': 2412, '매력': 2413, '란': 2414, '악연': 2415, '이니': 2416, '소박하다': 2417, '쓸쓸하다': 2418, '아이러니': 2419, '제자': 2420, '지껄이다': 2421, '낫다': 2422, '뒤집어지다': 2423, '구역질': 2424, '참견': 2425, '쟁이': 2426, '참담하다': 2427, '천사': 2428, '이자': 2429, '초코렛': 2430, '최저임금': 2431, '출근시간': 2432, '기울이다': 2433, '침묵': 2434, '계정': 2435, '대화명': 2436, '틀': 2437, '비공개': 2438, '보고오다': 2439, '컴터': 2440, '맛': 2441, '가까워지다': 2442, '택시': 2443, '비싸다': 2444, '텅빔': 2445, '통증': 2446, '훅': 2447, '퇴근': 2448, '툭하면': 2449, '위기': 2450, '평범하다': 2451, '함부로': 2452, '평온하다': 2453, '이러니': 2454, '핑계': 2455, '투덜투덜': 2456, '사흘': 2457, '수십': 2458, '하이고': 2459, '하진': 2460, '하하': 2461, '번은': 2462, '한강': 2463, '소주': 2464, '달동': 2465, '대답': 2466, '진하다': 2467, '괜찬': 2468, '부재': 2469, '크게': 2470, '한없이': 2471, '쌓이다': 2472, '해외': 2473, '고장': 2474, '행여': 2475, '쥐': 2476, '햐': 2477, '지네': 2478, '맴': 2479, '찢다': 2480, '헉': 2481, '어쩌다': 2482, '금기': 2483, '헛웃음': 2484, '보다는': 2485, '미움': 2486, '필': 2487, '주인': 2488, '휘청거리다': 2489, '난뒤': 2490, '달뒤': 2491, '딴사람': 2492, '기전': 2493, '지누': 2494, '행적': 2495, '콘서트': 2496, '영상': 2497, '티비': 2498, '진료': 2499, '예약': 2500, '해바라기': 2501, '인스타그램': 2502, '부정': 2503, '가이거': 2504, '무지': 2505, '몰아치다': 2506, '삼일': 2507, '곧년': 2508, '중간': 2509, '타협': 2510, '벽': 2511, '일텐데': 2512, '혜진': 2513, '확정': 2514, '딴': 2515, '놀': 2516, '이별여행': 2517, '그런대로': 2518, 'ㅠㅠㅠ': 2519, '홀로': 2520, '화낼': 2521, '화장실': 2522, '화창하다': 2523, '포근하다': 2524, '햇살': 2525, '감사하다': 2526, '년놈': 2527, '대단하다': 2528, '황당하다': 2529, '재미': 2530, '회복': 2531, '불편하다': 2532, '후기': 2533, '후밤': 2534, '후우': 2535, '몰려오다': 2536, '최선': 2537, '휘성': 2538, '감기': 2539, '찾기': 2540, '휴대폰': 2541, '플': 2542, '흐앙': 2543, '흐잌': 2544, '닷': 2545, '제조': 2546, '완료': 2547, '희생': 2548, '방식': 2549, '힘껏': 2550, '몸부림': 2551, '치면': 2552, '될런': 2553, '레알': 2554, '사인': 2555, '각자': 2556, '간간히': 2557, '동굴': 2558, '긋다': 2559, '서면': 2560, '거래처': 2561, '직원': 2562, '꼬셔': 2563, '아이템': 2564, '지르다': 2565, '계기': 2566, '상대로': 2567, '대로는': 2568, '결혼식장': 2569, '며느리': 2570, '제로': 2571, '경제력': 2572, '의지': 2573, '배다': 2574, '공공장소': 2575, '에서의': 2576, '공휴일': 2577, '과묵': 2578, '타입': 2579, '과함': 2580, '오르락': 2581, '내리락': 2582, '애도': 2583, '눈앞': 2584, '근황': 2585, '일화': 2586, '갇히다': 2587, '향기롭다': 2588, '뚱뚱하다': 2589, '보나': 2590, '발인': 2591, '윗': 2592, '자체': 2593, '안함': 2594, '백안': 2595, '로만': 2596, '엮는': 2597, '엮이': 2598, '동기': 2599, '철벽치': 2600, '바라지': 2601, '숨기다': 2602, '로서': 2603, '사람인': 2604, '줄어들다': 2605, '에게만': 2606, '나이트': 2607, '이래도': 2608, '접근': 2609, '금사': 2610, '학벌': 2611, '소통': 2612, '중요성': 2613, '깨': 2614, '끊어지다': 2615, '사나': 2616, '일반': 2617, '성관계': 2618, '영장': 2619, '오지랖': 2620, '의도': 2621, '국밥': 2622, '류': 2623, '비꼬다': 2624, '외아들': 2625, '홀': 2626, '쎄다': 2627, '잊어버리다': 2628, '전역': 2629, '돌이': 2630, '충고': 2631, '앨범': 2632, '도도하다': 2633, '텄는': 2634, '유머': 2635, '코드': 2636, '틀리다': 2637, '맞춤법': 2638, '거슬리다': 2639, '학력': 2640, '커플티': 2641, '투': 2642, '살아오다': 2643, '불신': 2644, '워커홀릭': 2645, '게이': 2646, '만지다': 2647, '츤데레': 2648, '효자': 2649, '온통': 2650, '맘대로': 2651, '알리': 2652, '후배': 2653, '몰다': 2654, '누굴': 2655, '무의식': 2656, '창피해': 2657, '누군지': 2658, '유명하다': 2659, '아예': 2660, '최대한': 2661, '불만': 2662, '개강': 2663, '총회': 2664, '울렁거리다': 2665, '넘치다': 2666, '에게나': 2667, '잘만': 2668, '대부분': 2669, '집사': 2670, '학번': 2671, '데이트비용': 2672, '정적': 2673, '동네': 2674, '동성애': 2675, '동아리': 2676, '동시': 2677, '두근두근': 2678, '뒷담화': 2679, '드레스': 2680, '딩크족': 2681, '띠': 2682, '동갑': 2683, '갈래': 2684, '랩': 2685, '알리다': 2686, '밀다': 2687, '유형': 2688, '말수': 2689, '맛있다': 2690, '갈수': 2691, '맞춤': 2692, '매년': 2693, '메리': 2694, '블루': 2695, '명품': 2696, '썸타': 2697, '모닝콜': 2698, '몰두하다': 2699, '미래': 2700, '반려자': 2701, '바람기': 2702, '다다르다': 2703, '박력': 2704, '발라드': 2705, '밝다': 2706, '본능': 2707, '설득': 2708, '자금': 2709, '보태': 2710, '주신': 2711, '부부싸움': 2712, '칼': 2713, '분명': 2714, '주의자': 2715, '빼빼로데이': 2716, '뽑다': 2717, '인형': 2718, '트레이닝복': 2719, '환': 2720, '장이': 2721, '존댓말': 2722, '비추다': 2723, '조심하다': 2724, '사내연애': 2725, '명언': 2726, '삶다': 2727, '사랑스럽다': 2728, '눈빛': 2729, '케이스': 2730, '초월': 2731, '결과': 2732, '어차피': 2733, '묘약': 2734, '정의': 2735, '구체': 2736, '대수': 2737, '뭐길': 2738, '싹': 2739, '트': 2740, '맞이': 2741, '차이나': 2742, '자르다': 2743, '미지근하다': 2744, '나나': 2745, '거래': 2746, '사생활': 2747, '살며시': 2748, '삼각관계': 2749, '사로자다': 2750, '다말': 2751, '쓸데없다': 2752, '감미롭다': 2753, '공률': 2754, '높이다': 2755, '앱': 2756, '소심': 2757, '수수하다': 2758, '오라': 2759, '술집': 2760, '헌팅': 2761, '스드메': 2762, '계약': 2763, '스몰': 2764, '빨르다': 2765, '승부': 2766, '목욕탕': 2767, '식상하다': 2768, '부딪히다': 2769, '유발': 2770, '식': 2771, '적절하다': 2772, '중요': 2773, '어가': 2774, '생선': 2775, '바임': 2776, '향수': 2777, '셀카': 2778, '배낭여행': 2779, '빼앗기다': 2780, '자제': 2781, '시기': 2782, '늙다': 2783, '뚝': 2784, '떄': 2785, '썸끝': 2786, '치마': 2787, '바지': 2788, '발렌타인': 2789, '스윗': 2790, '남도': 2791, '무관심하다': 2792, '둔하다': 2793, '취한': 2794, '잠그다': 2795, '하트': 2796, '박': 2797, '일로': 2798, '펜셥': 2799, '궁합': 2800, '꽁': 2801, '냥': 2802, '촉': 2803, '놀이': 2804, '모텔': 2805, '남인': 2806, '카': 2807, '공': 2808, '지킴': 2809, '바인': 2810, '화차': 2811, '유통': 2812, '기한': 2813, '싸늘하다': 2814, '팁': 2815, '돌아서다': 2816, '냄새': 2817, '아낌없이': 2818, '퍼주': 2819, '호구': 2820, '아내': 2821, '아마': 2822, '등교': 2823, '버스정류장': 2824, '일찍': 2825, '애정': 2826, '약간': 2827, '티나': 2828, '양궁': 2829, '수작': 2830, '벗다': 2831, '동창회': 2832, '구나': 2833, '명과': 2834, '나가야': 2835, '쌩': 2836, '얼다': 2837, '여신': 2838, '오지': 2839, '랍': 2840, '화내': 2841, '리지': 2842, '귀가': 2843, '얇다': 2844, '더치페이': 2845, '돌아다니다': 2846, '리언': 2847, '소': 2848, '극적': 2849, '척해': 2850, '필름': 2851, '지해': 2852, '대신': 2853, '춤': 2854, '피시방': 2855, '팔찌': 2856, '목걸이': 2857, '화장품': 2858, '디': 2859, '퓨저': 2860, '소비': 2861, '깜놀': 2862, '섬세하다': 2863, '김': 2864, '사려': 2865, '여행지': 2866, '연극': 2867, '군': 2868, '감흥': 2869, '고수': 2870, '깨우다': 2871, '기본': 2872, '초보': 2873, '낭비': 2874, '다운': 2875, '실패하다': 2876, '담하다': 2877, '적당하다': 2878, '자유': 2879, '해몽': 2880, '정치': 2881, '견해': 2882, '볼때': 2883, '대리': 2884, '효도': 2885, '마마': 2886, '예식장': 2887, '빈손': 2888, '백일': 2889, '서점': 2890, '입': 2891, '꾸미다': 2892, '두근거리다': 2893, '솔로인': 2894, '묻다': 2895, '외국': 2896, '개념': 2897, '리액션': 2898, '모으다': 2899, '티내': 2900, '웃': 2901, '노잼': 2902, '작아지다': 2903, '편식': 2904, '남겨지다': 2905, '이루어지다': 2906, '서글프다': 2907, '이벤트': 2908, '애란': 2909, '알고싶다': 2910, '식사': 2911, '입맛': 2912, '인칭': 2913, '경향': 2914, '칭찬': 2915, '자신감': 2916, '자전거': 2917, '자장가': 2918, '지점': 2919, '장난스럽다': 2920, '재수': 2921, '필망': 2922, '살펴보다': 2923, '텐데': 2924, '귀염둥': 2925, '정성': 2926, '담기다': 2927, '정열': 2928, '안별': 2929, '거부': 2930, '조용하다': 2931, '존경': 2932, '귀국': 2933, '태': 2934, '다스리다': 2935, '억제': 2936, '차이점': 2937, '소재': 2938, '입대': 2939, '감추다': 2940, '길이': 2941, '센치하다': 2942, '신하': 2943, '이중': 2944, '실례': 2945, '직업': 2946, '북받치다': 2947, '비우다': 2948, '만하': 2949, '요리': 2950, '여럿': 2951, '진전': 2952, '사연': 2953, '구경': 2954, '영영': 2955, '안내': 2956, '가망': 2957, '중임': 2958, '피': 2959, '피해': 2960, '이끌다': 2961, '액션': 2962, '우상화': 2963, '차리다': 2964, '선펨': 2965, '찌르다': 2966, '손편지': 2967, '이어지다': 2968, '못내': 2969, '불쌍하다': 2970, '이전': 2971, '비걸': 2972, '금방': 2973, '맺다': 2974, '첫인상': 2975, '살아나다': 2976, '뛰어넘다': 2977, '즉흥': 2978, '진실되다': 2979, '모레': 2980, '섞이다': 2981, '집들이': 2982, '사가다': 2983, '탓': 2984, '남일': 2985, '등장': 2986, '가요': 2987, '공무원': 2988, '방해': 2989, '패션센스': 2990, '독서': 2991, '삐': 2992, '딱하다': 2993, '운동선수': 2994, '다치다': 2995, '사정': 2996, '평이': 2997, '더러워지다': 2998, '잔치': 2999, '눈길': 3000, '태그': 3001, '소모': 3002, '밤늦다': 3003, '야근': 3004, '나중': 3005, '은근': 3006, '슬쩍': 3007, '남한': 3008, '여서': 3009, '자음': 3010, '절친': 3011, '바꿈': 3012, '적대': 3013, '사치': 3014, '짝녀일': 3015, '절임': 3016, '다만': 3017, '옷좀': 3018, '드라이브': 3019, '갈껀': 3020, '가르치다': 3021, '물어': 3022, '휘': 3023, '둘리': 3024, '치정': 3025, '중일': 3026, '장점': 3027, '확률': 3028, '리': 3029, '잘나다': 3030, '작': 3031, '아보': 3032, '곤': 3033, '두서': 3034, '초라하다': 3035, '까지나': 3036, '언제나': 3037, '고독': 3038, '낮아지다': 3039, '구별': 3040, '놀래다': 3041, '솔탈함': 3042, '차로': 3043, '템': 3044, '천년': 3045, '반함': 3046, '최소': 3047, '출산휴가': 3048, '이직': 3049, '이로': 3050, '사회': 3051, '브라': 3052, '카리스마': 3053, '그러면': 3054, '칼답': 3055, '씌었나봐': 3056, '찾아보다': 3057, '어울림': 3058, '팀': 3059, '장님': 3060, '팔베개': 3061, '팔': 3062, '풋풋하다': 3063, '영상편지': 3064, '나야': 3065, '하우스푸어': 3066, '샘': 3067, '끌': 3068, '학': 3069, '선생님': 3070, '폭': 3071, '그림': 3072, '해외여행': 3073, '숙소': 3074, '유지': 3075, '상관': 3076, '데도': 3077, '홧김': 3078, '마추': 3079, '흑기사': 3080}\n"
          ]
        }
      ]
    },
    {
      "cell_type": "code",
      "source": [
        "threshold = 2\n",
        "total_cnt = len(tokenizer.word_index) # 단어의 수\n",
        "rare_cnt = 0 # 등장 빈도수가 threshold보다 작은 단어의 개수를 카운트\n",
        "total_freq = 0 # 훈련 데이터의 전체 단어 빈도수 총 합\n",
        "rare_freq = 0 # 등장 빈도수가 threshold보다 작은 단어의 등장 빈도수의 총 합\n",
        "\n",
        "# 단어와 빈도수의 쌍(pair)을 key와 value로 받는다.\n",
        "for key, value in tokenizer.word_counts.items() :\n",
        "    total_freq = total_freq + value\n",
        "\n",
        "    # 단어의 등장 빈도수가 threshold보다 작으면\n",
        "    if(value < threshold) :\n",
        "        rare_cnt = rare_cnt + 1\n",
        "        rare_freq = rare_freq + value\n",
        "\n",
        "print('단어 집합(vocabulary)의 크기 :', total_cnt)\n",
        "print('등장 빈도가 %s번 이하인 희귀 단어의 수 : %s' % (threshold - 1, rare_cnt))\n",
        "print(\"단어 집합에서 희귀 단어의 비율 :\", (rare_cnt / total_cnt) * 100)\n",
        "print(\"전체 등장 빈도에서 희귀 단어 등장 빈도 비율 :\", (rare_freq / total_freq) * 100)"
      ],
      "metadata": {
        "colab": {
          "base_uri": "https://localhost:8080/"
        },
        "id": "hDsDOZb6kwAi",
        "outputId": "5940a4c5-dc04-4e7e-f5aa-2b8babed1d29"
      },
      "execution_count": 21,
      "outputs": [
        {
          "output_type": "stream",
          "name": "stdout",
          "text": [
            "단어 집합(vocabulary)의 크기 : 3080\n",
            "등장 빈도가 1번 이하인 희귀 단어의 수 : 1377\n",
            "단어 집합에서 희귀 단어의 비율 : 44.70779220779221\n",
            "전체 등장 빈도에서 희귀 단어 등장 빈도 비율 : 4.551614715895944\n"
          ]
        }
      ]
    },
    {
      "cell_type": "code",
      "source": [
        "vocab_size = total_cnt - rare_cnt + 1\n",
        "print('단어 집합의 크기 :', vocab_size)"
      ],
      "metadata": {
        "colab": {
          "base_uri": "https://localhost:8080/"
        },
        "id": "ymBxsrZUlGwu",
        "outputId": "1a5daeec-ca7b-44a3-eac8-5873b097e962"
      },
      "execution_count": 22,
      "outputs": [
        {
          "output_type": "stream",
          "name": "stdout",
          "text": [
            "단어 집합의 크기 : 1704\n"
          ]
        }
      ]
    },
    {
      "cell_type": "code",
      "source": [
        "tokenizer = Tokenizer(vocab_size) \n",
        "tokenizer.fit_on_texts(X_train)\n",
        "X_train = tokenizer.texts_to_sequences(X_train)"
      ],
      "metadata": {
        "id": "GV6-weAUlP_S"
      },
      "execution_count": 23,
      "outputs": []
    },
    {
      "cell_type": "code",
      "source": [
        "print(X_train[ : 3])"
      ],
      "metadata": {
        "colab": {
          "base_uri": "https://localhost:8080/"
        },
        "id": "fJx8tbZRlTxk",
        "outputId": "1999fc39-0b78-4a44-aed8-5e540ce2d346"
      },
      "execution_count": 24,
      "outputs": [
        {
          "output_type": "stream",
          "name": "stdout",
          "text": [
            "[[71, 207, 22, 5], [25, 26, 6], [25, 835, 66, 990]]\n"
          ]
        }
      ]
    },
    {
      "cell_type": "code",
      "source": [
        "y_train = np.array(data['label'])"
      ],
      "metadata": {
        "id": "tRkMAOytlVSI"
      },
      "execution_count": 25,
      "outputs": []
    },
    {
      "cell_type": "code",
      "source": [
        "drop_train = [index for index, sentence in enumerate(X_train) if len(sentence) < 1]"
      ],
      "metadata": {
        "id": "v1RW8gyplb8-"
      },
      "execution_count": 26,
      "outputs": []
    },
    {
      "cell_type": "code",
      "source": [
        "X_train = np.delete(X_train, drop_train, axis = 0)\n",
        "y_train = np.delete(y_train, drop_train, axis = 0)\n",
        "print(len(X_train))\n",
        "print(len(y_train))"
      ],
      "metadata": {
        "colab": {
          "base_uri": "https://localhost:8080/"
        },
        "id": "t_aEQoXklfgE",
        "outputId": "567d3708-62d8-496c-e888-c88ec1af28f5"
      },
      "execution_count": 27,
      "outputs": [
        {
          "output_type": "stream",
          "name": "stdout",
          "text": [
            "6441\n",
            "6441\n"
          ]
        },
        {
          "output_type": "stream",
          "name": "stderr",
          "text": [
            "/usr/local/lib/python3.7/dist-packages/numpy/lib/function_base.py:4454: VisibleDeprecationWarning: Creating an ndarray from ragged nested sequences (which is a list-or-tuple of lists-or-tuples-or ndarrays with different lengths or shapes) is deprecated. If you meant to do this, you must specify 'dtype=object' when creating the ndarray.\n",
            "  arr = asarray(arr)\n"
          ]
        }
      ]
    },
    {
      "cell_type": "code",
      "source": [
        "print('문장의 최대 길이 :', max(len(review) for review in X_train))\n",
        "print('문장의 평균 길이 :', sum(map(len, X_train)) / len(X_train))\n",
        "plt.hist([len(review) for review in X_train], bins = 50)\n",
        "plt.xlabel('length of samples')\n",
        "plt.ylabel('number of samples')\n",
        "plt.show()"
      ],
      "metadata": {
        "colab": {
          "base_uri": "https://localhost:8080/",
          "height": 316
        },
        "id": "51IQAJbRlim4",
        "outputId": "48910469-6ec8-4185-8c1c-c344b7676b10"
      },
      "execution_count": 28,
      "outputs": [
        {
          "output_type": "stream",
          "name": "stdout",
          "text": [
            "문장의 최대 길이 : 17\n",
            "문장의 평균 길이 : 4.48315478962894\n"
          ]
        },
        {
          "output_type": "display_data",
          "data": {
            "text/plain": [
              "<Figure size 432x288 with 1 Axes>"
            ],
            "image/png": "[encoded data removed]"
          },
          "metadata": {
            "needs_background": "light"
          }
        }
      ]
    },
    {
      "cell_type": "code",
      "source": [
        "def below_threshold_len(max_len, nested_list) :\n",
        "  count = 0\n",
        "  for sentence in nested_list :\n",
        "    if(len(sentence) <= max_len) :\n",
        "        count = count + 1\n",
        "  print('전체 샘플 중 길이가 %s 이하인 샘플의 비율: %s' % (max_len, (count / len(nested_list)) * 100))"
      ],
      "metadata": {
        "id": "XO3hJXtolxa-"
      },
      "execution_count": 29,
      "outputs": []
    },
    {
      "cell_type": "code",
      "source": [
        "max_len = 10\n",
        "below_threshold_len(max_len, X_train)"
      ],
      "metadata": {
        "colab": {
          "base_uri": "https://localhost:8080/"
        },
        "id": "tjnDbKw5mAD3",
        "outputId": "ee90a895-4dd4-49e5-cb79-42983bb2278c"
      },
      "execution_count": 30,
      "outputs": [
        {
          "output_type": "stream",
          "name": "stdout",
          "text": [
            "전체 샘플 중 길이가 10 이하인 샘플의 비율: 98.85111007607514\n"
          ]
        }
      ]
    },
    {
      "cell_type": "code",
      "source": [
        "X_train = pad_sequences(X_train, maxlen = max_len)"
      ],
      "metadata": {
        "id": "ENY7I5B7mDdj"
      },
      "execution_count": 31,
      "outputs": []
    },
    {
      "cell_type": "code",
      "source": [
        "from tensorflow.keras.layers import Embedding, Dense, LSTM\n",
        "from tensorflow.keras.models import Sequential\n",
        "from tensorflow.keras.models import load_model\n",
        "from tensorflow.keras.callbacks import EarlyStopping, ModelCheckpoint\n",
        "\n",
        "embedding_dim = 100\n",
        "hidden_units = 128\n",
        "\n",
        "model = Sequential()\n",
        "model.add(Embedding(vocab_size, embedding_dim))\n",
        "model.add(LSTM(hidden_units))\n",
        "model.add(Dense(1, activation = 'sigmoid'))\n",
        "\n",
        "es = EarlyStopping(monitor = 'val_loss', mode = 'min', verbose = 1, patience = 5)\n",
        "mc = ModelCheckpoint('best_model.h5', monitor = 'val_acc', mode = 'max', verbose = 1, save_best_only = True)\n",
        "\n",
        "model.compile(optimizer = 'rmsprop', loss = 'binary_crossentropy', metrics = ['acc'])\n",
        "history = model.fit(X_train, y_train, epochs = 100, callbacks = [es, mc], batch_size = 64, validation_split = 0.2)"
      ],
      "metadata": {
        "colab": {
          "base_uri": "https://localhost:8080/"
        },
        "id": "7ntCdOpXmI1S",
        "outputId": "3572690e-f546-48b1-98d3-0b9fbbe4e5b4"
      },
      "execution_count": 48,
      "outputs": [
        {
          "output_type": "stream",
          "name": "stdout",
          "text": [
            "Epoch 1/100\n",
            "80/81 [============================>.] - ETA: 0s - loss: 0.4299 - acc: 0.7980\n",
            "Epoch 1: val_acc improved from -inf to 0.68270, saving model to best_model.h5\n",
            "81/81 [==============================] - 6s 41ms/step - loss: 0.4281 - acc: 0.7993 - val_loss: 0.9194 - val_acc: 0.6827\n",
            "Epoch 2/100\n",
            "79/81 [============================>.] - ETA: 0s - loss: 0.2242 - acc: 0.9126\n",
            "Epoch 2: val_acc improved from 0.68270 to 0.70753, saving model to best_model.h5\n",
            "81/81 [==============================] - 2s 27ms/step - loss: 0.2235 - acc: 0.9127 - val_loss: 0.9211 - val_acc: 0.7075\n",
            "Epoch 3/100\n",
            "80/81 [============================>.] - ETA: 0s - loss: 0.1804 - acc: 0.9301\n",
            "Epoch 3: val_acc improved from 0.70753 to 0.76416, saving model to best_model.h5\n",
            "81/81 [==============================] - 3s 35ms/step - loss: 0.1799 - acc: 0.9301 - val_loss: 0.6752 - val_acc: 0.7642\n",
            "Epoch 4/100\n",
            "81/81 [==============================] - ETA: 0s - loss: 0.1626 - acc: 0.9377\n",
            "Epoch 4: val_acc improved from 0.76416 to 0.78355, saving model to best_model.h5\n",
            "81/81 [==============================] - 2s 27ms/step - loss: 0.1626 - acc: 0.9377 - val_loss: 0.5862 - val_acc: 0.7836\n",
            "Epoch 5/100\n",
            "81/81 [==============================] - ETA: 0s - loss: 0.1498 - acc: 0.9404\n",
            "Epoch 5: val_acc improved from 0.78355 to 0.81536, saving model to best_model.h5\n",
            "81/81 [==============================] - 2s 26ms/step - loss: 0.1498 - acc: 0.9404 - val_loss: 0.4793 - val_acc: 0.8154\n",
            "Epoch 6/100\n",
            "79/81 [============================>.] - ETA: 0s - loss: 0.1384 - acc: 0.9480\n",
            "Epoch 6: val_acc improved from 0.81536 to 0.81614, saving model to best_model.h5\n",
            "81/81 [==============================] - 2s 27ms/step - loss: 0.1379 - acc: 0.9486 - val_loss: 0.5323 - val_acc: 0.8161\n",
            "Epoch 7/100\n",
            "80/81 [============================>.] - ETA: 0s - loss: 0.1288 - acc: 0.9486\n",
            "Epoch 7: val_acc improved from 0.81614 to 0.82002, saving model to best_model.h5\n",
            "81/81 [==============================] - 2s 26ms/step - loss: 0.1287 - acc: 0.9486 - val_loss: 0.5051 - val_acc: 0.8200\n",
            "Epoch 8/100\n",
            "80/81 [============================>.] - ETA: 0s - loss: 0.1207 - acc: 0.9529\n",
            "Epoch 8: val_acc did not improve from 0.82002\n",
            "81/81 [==============================] - 2s 27ms/step - loss: 0.1204 - acc: 0.9528 - val_loss: 1.9034 - val_acc: 0.6268\n",
            "Epoch 9/100\n",
            "79/81 [============================>.] - ETA: 0s - loss: 0.1115 - acc: 0.9559\n",
            "Epoch 9: val_acc did not improve from 0.82002\n",
            "81/81 [==============================] - 2s 26ms/step - loss: 0.1140 - acc: 0.9550 - val_loss: 0.5156 - val_acc: 0.8130\n",
            "Epoch 10/100\n",
            "80/81 [============================>.] - ETA: 0s - loss: 0.1080 - acc: 0.9592\n",
            "Epoch 10: val_acc did not improve from 0.82002\n",
            "81/81 [==============================] - 2s 26ms/step - loss: 0.1087 - acc: 0.9587 - val_loss: 0.5726 - val_acc: 0.7983\n",
            "Epoch 10: early stopping\n"
          ]
        }
      ]
    },
    {
      "cell_type": "code",
      "source": [
        "loaded_model = load_model('best_model.h5')"
      ],
      "metadata": {
        "id": "j46Ot1AypAVg"
      },
      "execution_count": 49,
      "outputs": []
    },
    {
      "cell_type": "code",
      "source": [
        "def sentiment_predict(new_sentence) :\n",
        "  new_sentence = re.sub(r'[^ㄱ-ㅎㅏ-ㅣ가-힣 ]', '', new_sentence)\n",
        "  new_sentence = okt.morphs(new_sentence, stem = True)\n",
        "  new_sentence = [word for word in new_sentence if not word in stopwords]\n",
        "  encoded = tokenizer.texts_to_sequences([new_sentence])\n",
        "  pad_new = pad_sequences(encoded, maxlen = max_len)\n",
        "  score = float(loaded_model.predict(pad_new))\n",
        "  if(score > 0.2) :\n",
        "    print(\"{:.2f}% 확률로 긍정입니다.\\n\".format((score - 0.2) * 62.5 + 50))\n",
        "  else :\n",
        "    print(\"{:.2f}% 확률로 부정입니다.\\n\".format((0.2 - score) * 250 + 50))"
      ],
      "metadata": {
        "id": "parJRy8DmcYx"
      },
      "execution_count": 68,
      "outputs": []
    },
    {
      "cell_type": "code",
      "source": [
        "while True :\n",
        "  a = input()\n",
        "  if a == '.' :\n",
        "    break\n",
        "  sentiment_predict(a)"
      ],
      "metadata": {
        "colab": {
          "base_uri": "https://localhost:8080/"
        },
        "id": "tWU9VEghgzKz",
        "outputId": "feb447df-670b-4cff-b446-fd23b18cba6b"
      },
      "execution_count": 74,
      "outputs": [
        {
          "name": "stdout",
          "output_type": "stream",
          "text": [
            "사랑해\n",
            "91.74% 확률로 긍정입니다.\n",
            "\n",
            "좋아해\n",
            "96.79% 확률로 긍정입니다.\n",
            "\n",
            "너는 멋진 사람이야\n",
            "97.45% 확률로 긍정입니다.\n",
            "\n",
            "10년 연애했는데 헤어짐;;\n",
            "89.79% 확률로 부정입니다.\n",
            "\n",
            "그 사람이랑 결혼 성공함!\n",
            "99.82% 확률로 긍정입니다.\n",
            "\n",
            "좋다\n",
            "62.36% 확률로 긍정입니다.\n",
            "\n",
            "싫다\n",
            "53.83% 확률로 부정입니다.\n",
            "\n",
            "좋다가 싫다가 좋다가 싫다가;;\n",
            "59.33% 확률로 긍정입니다.\n",
            "\n",
            ".\n"
          ]
        }
      ]
    },
    {
      "cell_type": "code",
      "source": [
        "while True :\n",
        "  a = input()\n",
        "  if a == '.' :\n",
        "    break\n",
        "  sentiment_predict(a)"
      ],
      "metadata": {
        "colab": {
          "base_uri": "https://localhost:8080/"
        },
        "id": "2QC3gGoD_XF3",
        "outputId": "da231b49-fb33-4a65-a240-198220e2ba6a"
      },
      "execution_count": 80,
      "outputs": [
        {
          "name": "stdout",
          "output_type": "stream",
          "text": [
            "좋다\n",
            "62.36% 확률로 긍정입니다.\n",
            "\n",
            "좋다좋다\n",
            "72.02% 확률로 긍정입니다.\n",
            "\n",
            "좋다좋다좋다\n",
            "79.39% 확률로 긍정입니다.\n",
            "\n",
            "싫다\n",
            "53.83% 확률로 부정입니다.\n",
            "\n",
            "싫다싫다\n",
            "66.36% 확률로 부정입니다.\n",
            "\n",
            "정말 싫다\n",
            "94.36% 확률로 부정입니다.\n",
            "\n",
            ".\n"
          ]
        }
      ]
    }
  ]
}