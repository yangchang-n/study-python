{
  "cells": [
    {
      "cell_type": "markdown",
      "metadata": {
        "id": "view-in-github",
        "colab_type": "text"
      },
      "source": [
        "<a href=\"https://colab.research.google.com/github/yangchangnaihoby/AI_7th/blob/master/Day_054_CV.ipynb\" target=\"_parent\"><img src=\"https://colab.research.google.com/assets/colab-badge.svg\" alt=\"Open In Colab\"/></a>"
      ]
    },
    {
      "cell_type": "code",
      "execution_count": null,
      "id": "9191fb9e",
      "metadata": {
        "id": "9191fb9e"
      },
      "outputs": [],
      "source": [
        "import cv2\n",
        "import sys\n",
        "import numpy as np\n",
        "\n",
        "img = cv2.imread('fig/puppy.bmp', cv2.IMREAD_COLOR)\n",
        "\n",
        "if img is None :\n",
        "    print('Image load failed')\n",
        "\n",
        "else :\n",
        "    img_resize = cv2.resize(img, (800, 600), interpolation = cv2.INTER_LINEAR)\n",
        "    cv2.imwrite('image_resize2.png', img_resize)\n",
        "    cv2.namedWindow('image', cv2.WINDOW_NORMAL)\n",
        "    cv2.imshow('image', img)\n",
        "    cv2.imshow('image_2', img_resize)\n",
        "    while True :\n",
        "        if cv2.waitKey() == 27 :\n",
        "            break\n",
        "    cv2.destroyAllWindows()"
      ]
    },
    {
      "cell_type": "code",
      "execution_count": null,
      "id": "7f0ffe28",
      "metadata": {
        "id": "7f0ffe28"
      },
      "outputs": [],
      "source": [
        "import cv2\n",
        "import sys\n",
        "import numpy as np\n",
        "import os\n",
        "\n",
        "img_list_os = os.listdir('fig/images/')\n",
        "img_files = []\n",
        "\n",
        "for i in img_list_os :\n",
        "    img_path = 'fig/images/' + i\n",
        "    img_files.append(img_path)\n",
        "\n",
        "cv2.namedWindow('scene', cv2.WINDOW_NORMAL)\n",
        "cv2.setWindowProperty('scene', cv2.WND_PROP_FULLSCREEN, cv2.WINDOW_FULLSCREEN)\n",
        "\n",
        "idx = 0\n",
        "\n",
        "while True :\n",
        "    img = cv2.imread(img_files[idx], cv2.IMREAD_COLOR)\n",
        "    cv2.imshow('scene', img)\n",
        "    if cv2.waitKey(3000) == 27 :\n",
        "        break\n",
        "    idx += 1\n",
        "    if idx >= len(img_files) :\n",
        "        idx = 0    \n",
        "    \n",
        "cv2.destroyAllWindows()"
      ]
    }
  ],
  "metadata": {
    "kernelspec": {
      "display_name": "Python 3 (ipykernel)",
      "language": "python",
      "name": "python3"
    },
    "language_info": {
      "codemirror_mode": {
        "name": "ipython",
        "version": 3
      },
      "file_extension": ".py",
      "mimetype": "text/x-python",
      "name": "python",
      "nbconvert_exporter": "python",
      "pygments_lexer": "ipython3",
      "version": "3.9.12"
    },
    "colab": {
      "name": "Day_054_CV.ipynb",
      "provenance": [],
      "include_colab_link": true
    }
  },
  "nbformat": 4,
  "nbformat_minor": 5
}