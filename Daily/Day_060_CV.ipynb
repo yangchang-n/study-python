{
  "cells": [
    {
      "cell_type": "markdown",
      "metadata": {
        "id": "view-in-github",
        "colab_type": "text"
      },
      "source": [
        "<a href=\"https://colab.research.google.com/github/yangchangnaihoby/AI_7th/blob/master/Day_060_CV.ipynb\" target=\"_parent\"><img src=\"https://colab.research.google.com/assets/colab-badge.svg\" alt=\"Open In Colab\"/></a>"
      ]
    },
    {
      "cell_type": "code",
      "execution_count": null,
      "id": "c2971b56",
      "metadata": {
        "id": "c2971b56"
      },
      "outputs": [],
      "source": [
        "import cv2\n",
        "import numpy as np\n",
        "import sys\n",
        "import matplotlib.pyplot as plt"
      ]
    },
    {
      "cell_type": "code",
      "execution_count": null,
      "id": "88630aae",
      "metadata": {
        "id": "88630aae"
      },
      "outputs": [],
      "source": [
        "cap = cv2.VideoCapture(0)\n",
        "\n",
        "w = int(cap.get(cv2.CAP_PROP_FRAME_WIDTH))\n",
        "h = int(cap.get(cv2.CAP_PROP_FRAME_HEIGHT))\n",
        "fps = int(cap.get(cv2.CAP_PROP_FPS) * 0.8)\n",
        "fourcc = cv2.VideoWriter_fourcc(*'DIVX')\n",
        "\n",
        "out = cv2.VideoWriter('review.out', fourcc, fps, (w, h))\n",
        "\n",
        "while True :\n",
        "    \n",
        "    ret, frame = cap.read()\n",
        "    \n",
        "    if not ret :\n",
        "        print('Go Home')\n",
        "        break\n",
        "        \n",
        "    edge = cv2.Canny(frame, 50, 150)\n",
        "    \n",
        "    out.write(frame)\n",
        "    cv2.imshow('frame', frame)\n",
        "    cv2.imshow('edge', edge)\n",
        "    \n",
        "    if cv2.waitKey(30) == 27 :\n",
        "        break\n",
        "        \n",
        "out.release()\n",
        "cap.release()\n",
        "cv2.destroyAllWindows()"
      ]
    },
    {
      "cell_type": "code",
      "execution_count": null,
      "id": "611e3fa5",
      "metadata": {
        "id": "611e3fa5"
      },
      "outputs": [],
      "source": [
        "def call_mouse(event, x, y, flags, params) :\n",
        "    global oldx, oldy\n",
        "    \n",
        "    if event == cv2.EVENT_LBUTTONDOWN :\n",
        "        oldx, oldy = x, y\n",
        "        \n",
        "    elif event == cv2.EVENT_MOUSEMOVE :\n",
        "        if flags == cv2.EVENT_FLAG_LBUTTON :\n",
        "            cv2.line(img, (oldx, oldy), (x, y), (255, 0, 0), 4, cv2.LINE_AA)\n",
        "            cv2.imshow('image', img)\n",
        "            oldx, oldy = x, y\n",
        "\n",
        "img = np.ones((600, 1200, 3), np.uint8) * 255\n",
        "\n",
        "cv2.imshow('image', img)\n",
        "cv2.setMouseCallback('image', call_mouse, img)\n",
        "\n",
        "cv2.waitKey()\n",
        "cv2.destroyAllWindows()"
      ]
    },
    {
      "cell_type": "code",
      "execution_count": null,
      "id": "9be2788b",
      "metadata": {
        "id": "9be2788b"
      },
      "outputs": [],
      "source": [
        "def call_trackbar(pos) :\n",
        "    global img\n",
        "    img_glass = img * pos\n",
        "    cv2.imshow('image', img_glass)\n",
        "\n",
        "img_alpha = cv2.imread('fig/imgbin_sunglasses_1.png', cv2.IMREAD_UNCHANGED)\n",
        "img = img_alpha[ : , : , -1]\n",
        "img[img > 0] = 1\n",
        "\n",
        "cv2.namedWindow('image')\n",
        "cv2.createTrackbar('level', 'image', 0, 255, call_trackbar)\n",
        "cv2.imshow('image', img)\n",
        "\n",
        "cv2.waitKey()\n",
        "cv2.destroyAllWindows()"
      ]
    }
  ],
  "metadata": {
    "kernelspec": {
      "display_name": "Python 3 (ipykernel)",
      "language": "python",
      "name": "python3"
    },
    "language_info": {
      "codemirror_mode": {
        "name": "ipython",
        "version": 3
      },
      "file_extension": ".py",
      "mimetype": "text/x-python",
      "name": "python",
      "nbconvert_exporter": "python",
      "pygments_lexer": "ipython3",
      "version": "3.9.12"
    },
    "colab": {
      "name": "Day_060_CV.ipynb",
      "provenance": [],
      "include_colab_link": true
    }
  },
  "nbformat": 4,
  "nbformat_minor": 5
}