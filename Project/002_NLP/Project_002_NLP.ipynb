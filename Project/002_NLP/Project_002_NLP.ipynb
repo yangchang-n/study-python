{
  "nbformat": 4,
  "nbformat_minor": 0,
  "metadata": {
    "colab": {
      "name": "Project_002_NLP.ipynb",
      "provenance": [],
      "collapsed_sections": [],
      "authorship_tag": "ABX9TyMA2bE2M7DTeBfj4f6CR+tD",
      "include_colab_link": true
    },
    "kernelspec": {
      "name": "python3",
      "display_name": "Python 3"
    },
    "language_info": {
      "name": "python"
    },
    "gpuClass": "standard",
    "accelerator": "GPU"
  },
  "cells": [
    {
      "cell_type": "markdown",
      "metadata": {
        "id": "view-in-github",
        "colab_type": "text"
      },
      "source": [
        "<a href=\"https://colab.research.google.com/github/yangchangnaihoby/AI_7th/blob/master/Project_002_NLP.ipynb\" target=\"_parent\"><img src=\"https://colab.research.google.com/assets/colab-badge.svg\" alt=\"Open In Colab\"/></a>"
      ]
    },
    {
      "cell_type": "code",
      "source": [
        "import numpy as np\n",
        "import matplotlib.pyplot as plt\n",
        "import tensorflow as tf"
      ],
      "metadata": {
        "id": "hd4-igOb9cOw"
      },
      "execution_count": 1,
      "outputs": []
    },
    {
      "cell_type": "code",
      "source": [
        "class PositionalEncoding(tf.keras.layers.Layer) :\n",
        "  def __init__(self, position, d_model) :\n",
        "    super(PositionalEncoding, self).__init__()\n",
        "    self.pos_encoding = self.positional_encoding(position, d_model)\n",
        "\n",
        "  def get_angles(self, position, i, d_model) :\n",
        "    angles = 1 / tf.pow(10000, (2 * (i // 2)) / tf.cast(d_model, tf.float32))\n",
        "    return position * angles\n",
        "\n",
        "  def positional_encoding(self, position, d_model) :\n",
        "    angle_rads = self.get_angles(\n",
        "        position = tf.range(position, dtype = tf.float32)[ : , tf.newaxis],\n",
        "        i = tf.range(d_model, dtype = tf.float32)[tf.newaxis, : ],\n",
        "        d_model = d_model)\n",
        "\n",
        "    # 배열의 짝수 인덱스(2i)에는 사인 함수 적용\n",
        "    sines = tf.math.sin(angle_rads[ : , 0 : : 2])\n",
        "\n",
        "    # 배열의 홀수 인덱스(2i+1)에는 코사인 함수 적용\n",
        "    cosines = tf.math.cos(angle_rads[ : , 1 : : 2])\n",
        "\n",
        "    angle_rads = np.zeros(angle_rads.shape)\n",
        "    angle_rads[ : , 0 : : 2] = sines\n",
        "    angle_rads[ : , 1 : : 2] = cosines\n",
        "    pos_encoding = tf.constant(angle_rads)\n",
        "    pos_encoding = pos_encoding[tf.newaxis, ...]\n",
        "\n",
        "    print(pos_encoding.shape)\n",
        "    return tf.cast(pos_encoding, tf.float32)\n",
        "\n",
        "  def call(self, inputs) :\n",
        "    return inputs + self.pos_encoding[ : , : tf.shape(inputs)[1], : ]"
      ],
      "metadata": {
        "id": "ToHuCL2I9dFr"
      },
      "execution_count": 2,
      "outputs": []
    },
    {
      "cell_type": "code",
      "source": [
        "# 문장의 길이 50, 임베딩 벡터의 차원 128\n",
        "sample_pos_encoding = PositionalEncoding(50, 128)\n",
        "\n",
        "plt.pcolormesh(sample_pos_encoding.pos_encoding.numpy()[0], cmap = 'RdBu')\n",
        "plt.xlabel('Depth')\n",
        "plt.xlim((0, 128))\n",
        "plt.ylabel('Position')\n",
        "plt.colorbar()\n",
        "plt.show()"
      ],
      "metadata": {
        "colab": {
          "base_uri": "https://localhost:8080/",
          "height": 302
        },
        "id": "jfGtqIUo-GFe",
        "outputId": "453f1585-1fdb-4cb9-e50a-f102729b6f90"
      },
      "execution_count": 3,
      "outputs": [
        {
          "output_type": "stream",
          "name": "stdout",
          "text": [
            "(1, 50, 128)\n"
          ]
        },
        {
          "output_type": "display_data",
          "data": {
            "text/plain": [
              "<Figure size 432x288 with 2 Axes>"
            ],
            "image/png": "[encoded data removed]"
          },
          "metadata": {
            "needs_background": "light"
          }
        }
      ]
    },
    {
      "cell_type": "code",
      "source": [
        "def scaled_dot_product_attention(query, key, value, mask) :\n",
        "  # query 크기 : (batch_size, num_heads, query의 문장 길이, d_model / num_heads)\n",
        "  # key 크기 : (batch_size, num_heads, key의 문장 길이, d_model / num_heads)\n",
        "  # value 크기 : (batch_size, num_heads, value의 문장 길이, d_model / num_heads)\n",
        "  # padding_mask : (batch_size, 1, 1, key의 문장 길이)\n",
        "\n",
        "  # Q와 K의 곱. 어텐션 스코어 행렬.\n",
        "  matmul_qk = tf.matmul(query, key, transpose_b = True)\n",
        "\n",
        "  # 스케일링\n",
        "  # dk의 루트값으로 나눠준다.\n",
        "  depth = tf.cast(tf.shape(key)[-1], tf.float32)\n",
        "  logits = matmul_qk / tf.math.sqrt(depth)\n",
        "\n",
        "  # 마스킹. 어텐션 스코어 행렬의 마스킹 할 위치에 매우 작은 음수값을 넣는다.\n",
        "  # 매우 작은 값이므로 소프트맥스 함수를 지나면 행렬의 해당 위치의 값은 0이 된다.\n",
        "  if mask is not None :\n",
        "    logits += (mask * -1e9)\n",
        "\n",
        "  # 소프트맥스 함수는 마지막 차원인 key의 문장 길이 방향으로 수행된다.\n",
        "  # attention weight : (batch_size, num_heads, query의 문장 길이, key의 문장 길이)\n",
        "  attention_weights = tf.nn.softmax(logits, axis = -1)\n",
        "\n",
        "  # output : (batch_size, num_heads, query의 문장 길이, d_model/num_heads)\n",
        "  output = tf.matmul(attention_weights, value)\n",
        "\n",
        "  return output, attention_weights"
      ],
      "metadata": {
        "id": "TIc40iaC-L9X"
      },
      "execution_count": 4,
      "outputs": []
    },
    {
      "cell_type": "code",
      "source": [
        "# 임의의 Query, Key, Value인 Q, K, V 행렬 생성\n",
        "np.set_printoptions(suppress = True)\n",
        "temp_k = tf.constant([[10, 0, 0],\n",
        "                      [0, 10, 0],\n",
        "                      [0, 0, 10],\n",
        "                      [0, 0, 10]], dtype = tf.float32)  # (4, 3)\n",
        "\n",
        "temp_v = tf.constant([[   1, 0],\n",
        "                      [  10, 0],\n",
        "                      [ 100, 5],\n",
        "                      [1000, 6]], dtype = tf.float32)  # (4, 2)\n",
        "temp_q = tf.constant([[0, 10, 0]], dtype = tf.float32)  # (1, 3)"
      ],
      "metadata": {
        "id": "TlUqemTL_4dc"
      },
      "execution_count": 5,
      "outputs": []
    },
    {
      "cell_type": "code",
      "source": [
        "# 함수 실행\n",
        "temp_out, temp_attn = scaled_dot_product_attention(temp_q, temp_k, temp_v, None)\n",
        "print(temp_attn) # 어텐션 분포(어텐션 가중치의 나열)\n",
        "print(temp_out) # 어텐션 값"
      ],
      "metadata": {
        "colab": {
          "base_uri": "https://localhost:8080/"
        },
        "id": "zZZ6ptOEAEta",
        "outputId": "49c49579-f037-4989-a728-ebd5b20e696e"
      },
      "execution_count": 6,
      "outputs": [
        {
          "output_type": "stream",
          "name": "stdout",
          "text": [
            "tf.Tensor([[0. 1. 0. 0.]], shape=(1, 4), dtype=float32)\n",
            "tf.Tensor([[10.  0.]], shape=(1, 2), dtype=float32)\n"
          ]
        }
      ]
    },
    {
      "cell_type": "code",
      "source": [
        "temp_q = tf.constant([[0, 0, 10]], dtype = tf.float32)\n",
        "temp_out, temp_attn = scaled_dot_product_attention(temp_q, temp_k, temp_v, None)\n",
        "print(temp_attn) # 어텐션 분포(어텐션 가중치의 나열)\n",
        "print(temp_out) # 어텐션 값"
      ],
      "metadata": {
        "colab": {
          "base_uri": "https://localhost:8080/"
        },
        "id": "51f8zPv3AIOn",
        "outputId": "75707f98-f792-4346-e21b-6599b0d1d8a4"
      },
      "execution_count": 7,
      "outputs": [
        {
          "output_type": "stream",
          "name": "stdout",
          "text": [
            "tf.Tensor([[0.  0.  0.5 0.5]], shape=(1, 4), dtype=float32)\n",
            "tf.Tensor([[550.    5.5]], shape=(1, 2), dtype=float32)\n"
          ]
        }
      ]
    },
    {
      "cell_type": "code",
      "source": [
        "temp_q = tf.constant([[0, 0, 10], [0, 10, 0], [10, 10, 0]], dtype = tf.float32)  # (3, 3)\n",
        "temp_out, temp_attn = scaled_dot_product_attention(temp_q, temp_k, temp_v, None)\n",
        "print(temp_attn) # 어텐션 분포(어텐션 가중치의 나열)\n",
        "print(temp_out) # 어텐션 값"
      ],
      "metadata": {
        "colab": {
          "base_uri": "https://localhost:8080/"
        },
        "id": "JdOnOY0HAMq7",
        "outputId": "eb36c979-6a45-4c0c-b42f-f49eb5508591"
      },
      "execution_count": 8,
      "outputs": [
        {
          "output_type": "stream",
          "name": "stdout",
          "text": [
            "tf.Tensor(\n",
            "[[0.  0.  0.5 0.5]\n",
            " [0.  1.  0.  0. ]\n",
            " [0.5 0.5 0.  0. ]], shape=(3, 4), dtype=float32)\n",
            "tf.Tensor(\n",
            "[[550.    5.5]\n",
            " [ 10.    0. ]\n",
            " [  5.5   0. ]], shape=(3, 2), dtype=float32)\n"
          ]
        }
      ]
    },
    {
      "cell_type": "code",
      "source": [
        "class MultiHeadAttention(tf.keras.layers.Layer) :\n",
        "\n",
        "  def __init__(self, d_model, num_heads, name = \"multi_head_attention\") :\n",
        "    super(MultiHeadAttention, self).__init__(name = name)\n",
        "    self.num_heads = num_heads\n",
        "    self.d_model = d_model\n",
        "\n",
        "    assert d_model % self.num_heads == 0\n",
        "\n",
        "    # d_model을 num_heads로 나눈 값.\n",
        "    # 논문 기준 : 64\n",
        "    self.depth = d_model // self.num_heads\n",
        "\n",
        "    # WQ, WK, WV에 해당하는 밀집층 정의\n",
        "    self.query_dense = tf.keras.layers.Dense(units = d_model)\n",
        "    self.key_dense = tf.keras.layers.Dense(units = d_model)\n",
        "    self.value_dense = tf.keras.layers.Dense(units = d_model)\n",
        "\n",
        "    # WO에 해당하는 밀집층 정의\n",
        "    self.dense = tf.keras.layers.Dense(units = d_model)\n",
        "\n",
        "  # num_heads 개수만큼 q, k, v를 split하는 함수\n",
        "  def split_heads(self, inputs, batch_size) :\n",
        "    inputs = tf.reshape(inputs, shape = (batch_size, -1, self.num_heads, self.depth))\n",
        "    return tf.transpose(inputs, perm = [0, 2, 1, 3])\n",
        "\n",
        "  def call(self, inputs) :\n",
        "    query, key, value, mask = inputs['query'], inputs['key'], inputs['value'], inputs['mask']\n",
        "    batch_size = tf.shape(query)[0]\n",
        "\n",
        "    # 1. WQ, WK, WV에 해당하는 밀집층 지나기\n",
        "    # q : (batch_size, query의 문장 길이, d_model)\n",
        "    # k : (batch_size, key의 문장 길이, d_model)\n",
        "    # v : (batch_size, value의 문장 길이, d_model)\n",
        "    # 참고) 인코더(k, v)-디코더(q) 어텐션에서는 query 길이와 key, value의 길이는 다를 수 있다.\n",
        "    query = self.query_dense(query)\n",
        "    key = self.key_dense(key)\n",
        "    value = self.value_dense(value)\n",
        "\n",
        "    # 2. 헤드 나누기\n",
        "    # q : (batch_size, num_heads, query의 문장 길이, d_model / num_heads)\n",
        "    # k : (batch_size, num_heads, key의 문장 길이, d_model / num_heads)\n",
        "    # v : (batch_size, num_heads, value의 문장 길이, d_model / num_heads)\n",
        "    query = self.split_heads(query, batch_size)\n",
        "    key = self.split_heads(key, batch_size)\n",
        "    value = self.split_heads(value, batch_size)\n",
        "\n",
        "    # 3. 스케일드 닷 프로덕트 어텐션. 앞서 구현한 함수 사용.\n",
        "    # (batch_size, num_heads, query의 문장 길이, d_model / num_heads)\n",
        "    scaled_attention, _ = scaled_dot_product_attention(query, key, value, mask)\n",
        "    # (batch_size, query의 문장 길이, num_heads, d_model / num_heads)\n",
        "    scaled_attention = tf.transpose(scaled_attention, perm = [0, 2, 1, 3])\n",
        "\n",
        "    # 4. 헤드 연결(concatenate)하기\n",
        "    # (batch_size, query의 문장 길이, d_model)\n",
        "    concat_attention = tf.reshape(scaled_attention, (batch_size, -1, self.d_model))\n",
        "\n",
        "    # 5. WO에 해당하는 밀집층 지나기\n",
        "    # (batch_size, query의 문장 길이, d_model)\n",
        "    outputs = self.dense(concat_attention)\n",
        "\n",
        "    return outputs"
      ],
      "metadata": {
        "id": "aeyOnG0YAaL9"
      },
      "execution_count": 9,
      "outputs": []
    },
    {
      "cell_type": "code",
      "source": [
        "def create_padding_mask(x) :\n",
        "  mask = tf.cast(tf.math.equal(x, 0), tf.float32)\n",
        "  # (batch_size, 1, 1, key의 문장 길이)\n",
        "  return mask[ : , tf.newaxis, tf.newaxis, : ]"
      ],
      "metadata": {
        "id": "0Yo2d8iRBBFB"
      },
      "execution_count": 10,
      "outputs": []
    },
    {
      "cell_type": "code",
      "source": [
        "print(create_padding_mask(tf.constant([[1, 21, 777, 0, 0]])))"
      ],
      "metadata": {
        "colab": {
          "base_uri": "https://localhost:8080/"
        },
        "id": "LjahUeatBOlZ",
        "outputId": "167b19a3-bf78-4594-cf0a-5b1df09371be"
      },
      "execution_count": 11,
      "outputs": [
        {
          "output_type": "stream",
          "name": "stdout",
          "text": [
            "tf.Tensor([[[[0. 0. 0. 1. 1.]]]], shape=(1, 1, 1, 5), dtype=float32)\n"
          ]
        }
      ]
    },
    {
      "cell_type": "code",
      "source": [
        "def encoder_layer(dff, d_model, num_heads, dropout, name = \"encoder_layer\") :\n",
        "  inputs = tf.keras.Input(shape = (None, d_model), name = \"inputs\")\n",
        "\n",
        "  # 인코더는 패딩 마스크 사용\n",
        "  padding_mask = tf.keras.Input(shape = (1, 1, None), name = \"padding_mask\")\n",
        "\n",
        "  # 멀티-헤드 어텐션 (첫번째 서브층 / 셀프 어텐션)\n",
        "  attention = MultiHeadAttention(\n",
        "      d_model, num_heads, name = \"attention\")({\n",
        "          'query' : inputs, 'key' : inputs, 'value' : inputs, # Q = K = V\n",
        "          'mask' : padding_mask # 패딩 마스크 사용\n",
        "      })\n",
        "\n",
        "  # 드롭아웃 + 잔차 연결과 층 정규화\n",
        "  attention = tf.keras.layers.Dropout(rate = dropout)(attention)\n",
        "  attention = tf.keras.layers.LayerNormalization(epsilon = 1e-6)(inputs + attention)\n",
        "\n",
        "  # 포지션 와이즈 피드 포워드 신경망 (두번째 서브층)\n",
        "  outputs = tf.keras.layers.Dense(units = dff, activation = 'relu')(attention)\n",
        "  outputs = tf.keras.layers.Dense(units = d_model)(outputs)\n",
        "\n",
        "  # 드롭아웃 + 잔차 연결과 층 정규화\n",
        "  outputs = tf.keras.layers.Dropout(rate = dropout)(outputs)\n",
        "  outputs = tf.keras.layers.LayerNormalization(epsilon = 1e-6)(attention + outputs)\n",
        "\n",
        "  return tf.keras.Model(inputs = [inputs, padding_mask], outputs = outputs, name = name)"
      ],
      "metadata": {
        "id": "Xx5GfQpJBeqa"
      },
      "execution_count": 12,
      "outputs": []
    },
    {
      "cell_type": "code",
      "source": [
        "def encoder(vocab_size, num_layers, dff, d_model, num_heads, dropout, name = \"encoder\") :\n",
        "  inputs = tf.keras.Input(shape = (None, ), name = \"inputs\")\n",
        "\n",
        "  # 인코더는 패딩 마스크 사용\n",
        "  padding_mask = tf.keras.Input(shape = (1, 1, None), name = \"padding_mask\")\n",
        "\n",
        "  # 포지셔널 인코딩 + 드롭아웃\n",
        "  embeddings = tf.keras.layers.Embedding(vocab_size, d_model)(inputs)\n",
        "  embeddings *= tf.math.sqrt(tf.cast(d_model, tf.float32))\n",
        "  embeddings = PositionalEncoding(vocab_size, d_model)(embeddings)\n",
        "  outputs = tf.keras.layers.Dropout(rate = dropout)(embeddings)\n",
        "\n",
        "  # 인코더를 num_layers개 쌓기\n",
        "  for i in range(num_layers) :\n",
        "    outputs = encoder_layer(dff = dff, d_model = d_model, num_heads = num_heads,\n",
        "        dropout = dropout, name = \"encoder_layer_{}\".format(i),\n",
        "    )([outputs, padding_mask])\n",
        "\n",
        "  return tf.keras.Model(inputs = [inputs, padding_mask], outputs = outputs, name = name)"
      ],
      "metadata": {
        "id": "fuSajEjkB4NG"
      },
      "execution_count": 13,
      "outputs": []
    },
    {
      "cell_type": "code",
      "source": [
        "# 디코더의 첫번째 서브층(sublayer)에서 미래 토큰을 Mask하는 함수\n",
        "def create_look_ahead_mask(x) :\n",
        "  seq_len = tf.shape(x)[1]\n",
        "  look_ahead_mask = 1 - tf.linalg.band_part(tf.ones((seq_len, seq_len)), -1, 0)\n",
        "  padding_mask = create_padding_mask(x) # 패딩 마스크도 포함\n",
        "  return tf.maximum(look_ahead_mask, padding_mask)"
      ],
      "metadata": {
        "id": "PGQG1mXBCLxX"
      },
      "execution_count": 14,
      "outputs": []
    },
    {
      "cell_type": "code",
      "source": [
        "print(create_look_ahead_mask(tf.constant([[1, 2, 0, 4, 5]])))"
      ],
      "metadata": {
        "colab": {
          "base_uri": "https://localhost:8080/"
        },
        "id": "UidVhVemCSL2",
        "outputId": "75e4a3b8-2655-4f4c-8249-3d81d9d35d9e"
      },
      "execution_count": 15,
      "outputs": [
        {
          "output_type": "stream",
          "name": "stdout",
          "text": [
            "tf.Tensor(\n",
            "[[[[0. 1. 1. 1. 1.]\n",
            "   [0. 0. 1. 1. 1.]\n",
            "   [0. 0. 1. 1. 1.]\n",
            "   [0. 0. 1. 0. 1.]\n",
            "   [0. 0. 1. 0. 0.]]]], shape=(1, 1, 5, 5), dtype=float32)\n"
          ]
        }
      ]
    },
    {
      "cell_type": "code",
      "source": [
        "def decoder_layer(dff, d_model, num_heads, dropout, name = \"decoder_layer\") :\n",
        "  inputs = tf.keras.Input(shape = (None, d_model), name = \"inputs\")\n",
        "  enc_outputs = tf.keras.Input(shape = (None, d_model), name = \"encoder_outputs\")\n",
        "\n",
        "  # 룩어헤드 마스크(첫번째 서브층)\n",
        "  look_ahead_mask = tf.keras.Input(shape = (1, None, None), name = \"look_ahead_mask\")\n",
        "\n",
        "  # 패딩 마스크(두번째 서브층)\n",
        "  padding_mask = tf.keras.Input(shape = (1, 1, None), name = 'padding_mask')\n",
        "\n",
        "  # 멀티-헤드 어텐션 (첫번째 서브층 / 마스크드 셀프 어텐션)\n",
        "  attention1 = MultiHeadAttention(\n",
        "      d_model, num_heads, name = \"attention_1\")(inputs = {\n",
        "          'query' : inputs, 'key' : inputs, 'value' : inputs, # Q = K = V\n",
        "          'mask' : look_ahead_mask # 룩어헤드 마스크\n",
        "      })\n",
        "\n",
        "  # 잔차 연결과 층 정규화\n",
        "  attention1 = tf.keras.layers.LayerNormalization(epsilon = 1e-6)(attention1 + inputs)\n",
        "\n",
        "  # 멀티-헤드 어텐션 (두번째 서브층 / 디코더-인코더 어텐션)\n",
        "  attention2 = MultiHeadAttention(\n",
        "      d_model, num_heads, name = \"attention_2\")(inputs = {\n",
        "          'query' : attention1, 'key' : enc_outputs, 'value' : enc_outputs, # Q != K = V\n",
        "          'mask' : padding_mask # 패딩 마스크\n",
        "      })\n",
        "\n",
        "  # 드롭아웃 + 잔차 연결과 층 정규화\n",
        "  attention2 = tf.keras.layers.Dropout(rate = dropout)(attention2)\n",
        "  attention2 = tf.keras.layers.LayerNormalization(epsilon = 1e-6)(attention2 + attention1)\n",
        "\n",
        "  # 포지션 와이즈 피드 포워드 신경망 (세번째 서브층)\n",
        "  outputs = tf.keras.layers.Dense(units = dff, activation = 'relu')(attention2)\n",
        "  outputs = tf.keras.layers.Dense(units = d_model)(outputs)\n",
        "\n",
        "  # 드롭아웃 + 잔차 연결과 층 정규화\n",
        "  outputs = tf.keras.layers.Dropout(rate = dropout)(outputs)\n",
        "  outputs = tf.keras.layers.LayerNormalization(epsilon = 1e-6)(outputs + attention2)\n",
        "\n",
        "  return tf.keras.Model(\n",
        "      inputs = [inputs, enc_outputs, look_ahead_mask, padding_mask],\n",
        "      outputs = outputs,\n",
        "      name = name)"
      ],
      "metadata": {
        "id": "iW51WyZHCTh-"
      },
      "execution_count": 16,
      "outputs": []
    },
    {
      "cell_type": "code",
      "source": [
        "def decoder(vocab_size, num_layers, dff, d_model, num_heads, dropout, name = 'decoder') :\n",
        "  inputs = tf.keras.Input(shape = (None, ), name = 'inputs')\n",
        "  enc_outputs = tf.keras.Input(shape = (None, d_model), name = 'encoder_outputs')\n",
        "\n",
        "  # 디코더는 룩어헤드 마스크(첫번째 서브층)와 패딩 마스크(두번째 서브층) 둘 다 사용.\n",
        "  look_ahead_mask = tf.keras.Input(shape = (1, None, None), name = 'look_ahead_mask')\n",
        "  padding_mask = tf.keras.Input(shape = (1, 1, None), name = 'padding_mask')\n",
        "\n",
        "  # 포지셔널 인코딩 + 드롭아웃\n",
        "  embeddings = tf.keras.layers.Embedding(vocab_size, d_model)(inputs)\n",
        "  embeddings *= tf.math.sqrt(tf.cast(d_model, tf.float32))\n",
        "  embeddings = PositionalEncoding(vocab_size, d_model)(embeddings)\n",
        "  outputs = tf.keras.layers.Dropout(rate = dropout)(embeddings)\n",
        "\n",
        "  # 디코더를 num_layers개 쌓기\n",
        "  for i in range(num_layers):\n",
        "    outputs = decoder_layer(dff = dff, d_model = d_model, num_heads = num_heads,\n",
        "        dropout = dropout, name = 'decoder_layer_{}'.format(i),\n",
        "    )(inputs = [outputs, enc_outputs, look_ahead_mask, padding_mask])\n",
        "\n",
        "  return tf.keras.Model(\n",
        "      inputs = [inputs, enc_outputs, look_ahead_mask, padding_mask],\n",
        "      outputs = outputs,\n",
        "      name = name)"
      ],
      "metadata": {
        "id": "Kr6QvCdiCyLc"
      },
      "execution_count": 17,
      "outputs": []
    },
    {
      "cell_type": "code",
      "source": [
        "def transformer(vocab_size, num_layers, dff, d_model, num_heads, dropout, name = \"transformer\") :\n",
        "\n",
        "  # 인코더의 입력\n",
        "  inputs = tf.keras.Input(shape = (None, ), name = \"inputs\")\n",
        "\n",
        "  # 디코더의 입력\n",
        "  dec_inputs = tf.keras.Input(shape = (None, ), name = \"dec_inputs\")\n",
        "\n",
        "  # 인코더의 패딩 마스크\n",
        "  enc_padding_mask = tf.keras.layers.Lambda(\n",
        "      create_padding_mask, output_shape = (1, 1, None),\n",
        "      name = 'enc_padding_mask')(inputs)\n",
        "\n",
        "  # 디코더의 룩어헤드 마스크(첫번째 서브층)\n",
        "  look_ahead_mask = tf.keras.layers.Lambda(\n",
        "      create_look_ahead_mask, output_shape = (1, None, None),\n",
        "      name = 'look_ahead_mask')(dec_inputs)\n",
        "\n",
        "  # 디코더의 패딩 마스크(두번째 서브층)\n",
        "  dec_padding_mask = tf.keras.layers.Lambda(\n",
        "      create_padding_mask, output_shape = (1, 1, None),\n",
        "      name = 'dec_padding_mask')(inputs)\n",
        "\n",
        "  # 인코더의 출력은 enc_outputs. 디코더로 전달된다.\n",
        "  enc_outputs = encoder(vocab_size = vocab_size, num_layers = num_layers, dff = dff,\n",
        "      d_model = d_model, num_heads = num_heads, dropout = dropout,\n",
        "  )(inputs = [inputs, enc_padding_mask]) # 인코더의 입력은 입력 문장과 패딩 마스크\n",
        "\n",
        "  # 디코더의 출력은 dec_outputs. 출력층으로 전달된다.\n",
        "  dec_outputs = decoder(vocab_size = vocab_size, num_layers = num_layers, dff = dff,\n",
        "      d_model = d_model, num_heads = num_heads, dropout = dropout,\n",
        "  )(inputs = [dec_inputs, enc_outputs, look_ahead_mask, dec_padding_mask])\n",
        "\n",
        "  # 다음 단어 예측을 위한 출력층\n",
        "  outputs = tf.keras.layers.Dense(units = vocab_size, name = \"outputs\")(dec_outputs)\n",
        "\n",
        "  return tf.keras.Model(inputs = [inputs, dec_inputs], outputs = outputs, name = name)"
      ],
      "metadata": {
        "id": "NqLPKtkSDKVH"
      },
      "execution_count": 18,
      "outputs": []
    },
    {
      "cell_type": "code",
      "source": [
        "small_transformer = transformer(\n",
        "    vocab_size = 9000,\n",
        "    num_layers = 4,\n",
        "    dff = 512,\n",
        "    d_model = 128,\n",
        "    num_heads = 4,\n",
        "    dropout = 0.3,\n",
        "    name = \"small_transformer\")\n",
        "\n",
        "tf.keras.utils.plot_model(small_transformer, to_file = 'small_transformer.png', show_shapes = True)"
      ],
      "metadata": {
        "colab": {
          "base_uri": "https://localhost:8080/",
          "height": 249
        },
        "id": "9IqUOa6mDpAk",
        "outputId": "8f95bdf4-cfbc-47d7-e76b-8b07d135e418"
      },
      "execution_count": 19,
      "outputs": [
        {
          "output_type": "stream",
          "name": "stdout",
          "text": [
            "(1, 9000, 128)\n",
            "(1, 9000, 128)\n"
          ]
        },
        {
          "output_type": "execute_result",
          "data": {
            "text/plain": [
              "<IPython.core.display.Image object>"
            ],
            "image/png": "[encoded data removed]"
          },
          "metadata": {},
          "execution_count": 19
        }
      ]
    },
    {
      "cell_type": "code",
      "source": [
        "def loss_function(y_true, y_pred) :\n",
        "  y_true = tf.reshape(y_true, shape = (-1, MAX_LENGTH - 1))\n",
        "\n",
        "  loss = tf.keras.losses.SparseCategoricalCrossentropy(\n",
        "      from_logits = True, reduction = 'none')(y_true, y_pred)\n",
        "\n",
        "  mask = tf.cast(tf.not_equal(y_true, 0), tf.float32)\n",
        "  loss = tf.multiply(loss, mask)\n",
        "\n",
        "  return tf.reduce_mean(loss)"
      ],
      "metadata": {
        "id": "SauJgYfNDzqh"
      },
      "execution_count": 20,
      "outputs": []
    },
    {
      "cell_type": "code",
      "source": [
        "class CustomSchedule(tf.keras.optimizers.schedules.LearningRateSchedule) :\n",
        "\n",
        "  def __init__(self, d_model, warmup_steps = 4000) :\n",
        "    super(CustomSchedule, self).__init__()\n",
        "    self.d_model = d_model\n",
        "    self.d_model = tf.cast(self.d_model, tf.float32)\n",
        "    self.warmup_steps = warmup_steps\n",
        "\n",
        "  def __call__(self, step) :\n",
        "    arg1 = tf.math.rsqrt(step)\n",
        "    arg2 = step * (self.warmup_steps ** -1.5)\n",
        "\n",
        "    return tf.math.rsqrt(self.d_model) * tf.math.minimum(arg1, arg2)"
      ],
      "metadata": {
        "id": "nWwWMXq0D9-n"
      },
      "execution_count": 21,
      "outputs": []
    },
    {
      "cell_type": "code",
      "source": [
        "sample_learning_rate = CustomSchedule(d_model = 128)\n",
        "\n",
        "plt.plot(sample_learning_rate(tf.range(200000, dtype = tf.float32)))\n",
        "plt.ylabel(\"Learning Rate\")\n",
        "plt.xlabel(\"Train Step\")\n",
        "plt.show()"
      ],
      "metadata": {
        "colab": {
          "base_uri": "https://localhost:8080/",
          "height": 279
        },
        "id": "VZY_XCMtEFrr",
        "outputId": "dd9b70e7-dfb3-4c96-e609-1215042790c5"
      },
      "execution_count": 22,
      "outputs": [
        {
          "output_type": "display_data",
          "data": {
            "text/plain": [
              "<Figure size 432x288 with 1 Axes>"
            ],
            "image/png": "[encoded data removed]"
          },
          "metadata": {
            "needs_background": "light"
          }
        }
      ]
    },
    {
      "cell_type": "code",
      "source": [
        "import pandas as pd\n",
        "import numpy as np\n",
        "import matplotlib.pyplot as plt\n",
        "import re\n",
        "import urllib.request\n",
        "import time\n",
        "import tensorflow_datasets as tfds\n",
        "import tensorflow as tf"
      ],
      "metadata": {
        "id": "48_9GNRXEMDx"
      },
      "execution_count": 1,
      "outputs": []
    },
    {
      "cell_type": "code",
      "source": [
        "train_data = pd.read_csv('ChatbotData.csv')\n",
        "train_data.head()"
      ],
      "metadata": {
        "colab": {
          "base_uri": "https://localhost:8080/",
          "height": 206
        },
        "id": "sPiQAzbEEQl2",
        "outputId": "3435c8b7-5409-437f-a3ae-2317c0a0cd73"
      },
      "execution_count": 24,
      "outputs": [
        {
          "output_type": "execute_result",
          "data": {
            "text/plain": [
              "                 Q            A  label\n",
              "0           12시 땡!   하루가 또 가네요.      0\n",
              "1      1지망 학교 떨어졌어    위로해 드립니다.      0\n",
              "2     3박4일 놀러가고 싶다  여행은 언제나 좋죠.      0\n",
              "3  3박4일 정도 놀러가고 싶다  여행은 언제나 좋죠.      0\n",
              "4          PPL 심하네   눈살이 찌푸려지죠.      0"
            ],
            "text/html": [
              "\n",
              "  <div id=\"df-50eca5c2-3d15-4812-a4a1-ff6665f71084\">\n",
              "    <div class=\"colab-df-container\">\n",
              "      <div>\n",
              "<style scoped>\n",
              "    .dataframe tbody tr th:only-of-type {\n",
              "        vertical-align: middle;\n",
              "    }\n",
              "\n",
              "    .dataframe tbody tr th {\n",
              "        vertical-align: top;\n",
              "    }\n",
              "\n",
              "    .dataframe thead th {\n",
              "        text-align: right;\n",
              "    }\n",
              "</style>\n",
              "<table border=\"1\" class=\"dataframe\">\n",
              "  <thead>\n",
              "    <tr style=\"text-align: right;\">\n",
              "      <th></th>\n",
              "      <th>Q</th>\n",
              "      <th>A</th>\n",
              "      <th>label</th>\n",
              "    </tr>\n",
              "  </thead>\n",
              "  <tbody>\n",
              "    <tr>\n",
              "      <th>0</th>\n",
              "      <td>12시 땡!</td>\n",
              "      <td>하루가 또 가네요.</td>\n",
              "      <td>0</td>\n",
              "    </tr>\n",
              "    <tr>\n",
              "      <th>1</th>\n",
              "      <td>1지망 학교 떨어졌어</td>\n",
              "      <td>위로해 드립니다.</td>\n",
              "      <td>0</td>\n",
              "    </tr>\n",
              "    <tr>\n",
              "      <th>2</th>\n",
              "      <td>3박4일 놀러가고 싶다</td>\n",
              "      <td>여행은 언제나 좋죠.</td>\n",
              "      <td>0</td>\n",
              "    </tr>\n",
              "    <tr>\n",
              "      <th>3</th>\n",
              "      <td>3박4일 정도 놀러가고 싶다</td>\n",
              "      <td>여행은 언제나 좋죠.</td>\n",
              "      <td>0</td>\n",
              "    </tr>\n",
              "    <tr>\n",
              "      <th>4</th>\n",
              "      <td>PPL 심하네</td>\n",
              "      <td>눈살이 찌푸려지죠.</td>\n",
              "      <td>0</td>\n",
              "    </tr>\n",
              "  </tbody>\n",
              "</table>\n",
              "</div>\n",
              "      <button class=\"colab-df-convert\" onclick=\"convertToInteractive('df-50eca5c2-3d15-4812-a4a1-ff6665f71084')\"\n",
              "              title=\"Convert this dataframe to an interactive table.\"\n",
              "              style=\"display:none;\">\n",
              "        \n",
              "  <svg xmlns=\"http://www.w3.org/2000/svg\" height=\"24px\"viewBox=\"0 0 24 24\"\n",
              "       width=\"24px\">\n",
              "    <path d=\"M0 0h24v24H0V0z\" fill=\"none\"/>\n",
              "    <path d=\"M18.56 5.44l.94 2.06.94-2.06 2.06-.94-2.06-.94-.94-2.06-.94 2.06-2.06.94zm-11 1L8.5 8.5l.94-2.06 2.06-.94-2.06-.94L8.5 2.5l-.94 2.06-2.06.94zm10 10l.94 2.06.94-2.06 2.06-.94-2.06-.94-.94-2.06-.94 2.06-2.06.94z\"/><path d=\"M17.41 7.96l-1.37-1.37c-.4-.4-.92-.59-1.43-.59-.52 0-1.04.2-1.43.59L10.3 9.45l-7.72 7.72c-.78.78-.78 2.05 0 2.83L4 21.41c.39.39.9.59 1.41.59.51 0 1.02-.2 1.41-.59l7.78-7.78 2.81-2.81c.8-.78.8-2.07 0-2.86zM5.41 20L4 18.59l7.72-7.72 1.47 1.35L5.41 20z\"/>\n",
              "  </svg>\n",
              "      </button>\n",
              "      \n",
              "  <style>\n",
              "    .colab-df-container {\n",
              "      display:flex;\n",
              "      flex-wrap:wrap;\n",
              "      gap: 12px;\n",
              "    }\n",
              "\n",
              "    .colab-df-convert {\n",
              "      background-color: #E8F0FE;\n",
              "      border: none;\n",
              "      border-radius: 50%;\n",
              "      cursor: pointer;\n",
              "      display: none;\n",
              "      fill: #1967D2;\n",
              "      height: 32px;\n",
              "      padding: 0 0 0 0;\n",
              "      width: 32px;\n",
              "    }\n",
              "\n",
              "    .colab-df-convert:hover {\n",
              "      background-color: #E2EBFA;\n",
              "      box-shadow: 0px 1px 2px rgba(60, 64, 67, 0.3), 0px 1px 3px 1px rgba(60, 64, 67, 0.15);\n",
              "      fill: #174EA6;\n",
              "    }\n",
              "\n",
              "    [theme=dark] .colab-df-convert {\n",
              "      background-color: #3B4455;\n",
              "      fill: #D2E3FC;\n",
              "    }\n",
              "\n",
              "    [theme=dark] .colab-df-convert:hover {\n",
              "      background-color: #434B5C;\n",
              "      box-shadow: 0px 1px 3px 1px rgba(0, 0, 0, 0.15);\n",
              "      filter: drop-shadow(0px 1px 2px rgba(0, 0, 0, 0.3));\n",
              "      fill: #FFFFFF;\n",
              "    }\n",
              "  </style>\n",
              "\n",
              "      <script>\n",
              "        const buttonEl =\n",
              "          document.querySelector('#df-50eca5c2-3d15-4812-a4a1-ff6665f71084 button.colab-df-convert');\n",
              "        buttonEl.style.display =\n",
              "          google.colab.kernel.accessAllowed ? 'block' : 'none';\n",
              "\n",
              "        async function convertToInteractive(key) {\n",
              "          const element = document.querySelector('#df-50eca5c2-3d15-4812-a4a1-ff6665f71084');\n",
              "          const dataTable =\n",
              "            await google.colab.kernel.invokeFunction('convertToInteractive',\n",
              "                                                     [key], {});\n",
              "          if (!dataTable) return;\n",
              "\n",
              "          const docLinkHtml = 'Like what you see? Visit the ' +\n",
              "            '<a target=\"_blank\" href=https://colab.research.google.com/notebooks/data_table.ipynb>data table notebook</a>'\n",
              "            + ' to learn more about interactive tables.';\n",
              "          element.innerHTML = '';\n",
              "          dataTable['output_type'] = 'display_data';\n",
              "          await google.colab.output.renderOutput(dataTable, element);\n",
              "          const docLink = document.createElement('div');\n",
              "          docLink.innerHTML = docLinkHtml;\n",
              "          element.appendChild(docLink);\n",
              "        }\n",
              "      </script>\n",
              "    </div>\n",
              "  </div>\n",
              "  "
            ]
          },
          "metadata": {},
          "execution_count": 24
        }
      ]
    },
    {
      "cell_type": "code",
      "source": [
        "print('챗봇 샘플의 개수 :', len(train_data))"
      ],
      "metadata": {
        "colab": {
          "base_uri": "https://localhost:8080/"
        },
        "id": "KYnFthxUEdMD",
        "outputId": "8b775d8d-262a-4a6a-c850-3f4c3e8e2b4b"
      },
      "execution_count": 25,
      "outputs": [
        {
          "output_type": "stream",
          "name": "stdout",
          "text": [
            "챗봇 샘플의 개수 : 11823\n"
          ]
        }
      ]
    },
    {
      "cell_type": "code",
      "source": [
        "questions = []\n",
        "for sentence in train_data['Q'] :\n",
        "    sentence = re.sub(r\"([?.!,])\", r\" \\1 \", sentence)\n",
        "    sentence = sentence.strip()\n",
        "    questions.append(sentence)"
      ],
      "metadata": {
        "id": "cO52NZYzEjrF"
      },
      "execution_count": 26,
      "outputs": []
    },
    {
      "cell_type": "code",
      "source": [
        "answers = []\n",
        "for sentence in train_data['A'] :\n",
        "    sentence = re.sub(r\"([?.!,])\", r\" \\1 \", sentence)\n",
        "    sentence = sentence.strip()\n",
        "    answers.append(sentence)"
      ],
      "metadata": {
        "id": "4xv5GrmiEyZZ"
      },
      "execution_count": 27,
      "outputs": []
    },
    {
      "cell_type": "code",
      "source": [
        "print(questions[:5])\n",
        "print(answers[:5])"
      ],
      "metadata": {
        "colab": {
          "base_uri": "https://localhost:8080/"
        },
        "id": "s7y7gy8iE1Th",
        "outputId": "a4231abf-dec5-4064-815e-604656f1a4e5"
      },
      "execution_count": 28,
      "outputs": [
        {
          "output_type": "stream",
          "name": "stdout",
          "text": [
            "['12시 땡 !', '1지망 학교 떨어졌어', '3박4일 놀러가고 싶다', '3박4일 정도 놀러가고 싶다', 'PPL 심하네']\n",
            "['하루가 또 가네요 .', '위로해 드립니다 .', '여행은 언제나 좋죠 .', '여행은 언제나 좋죠 .', '눈살이 찌푸려지죠 .']\n"
          ]
        }
      ]
    },
    {
      "cell_type": "code",
      "source": [
        "tokenizer = tfds.deprecated.text.SubwordTextEncoder.build_from_corpus(\n",
        "    questions + answers, target_vocab_size = 2 ** 13)"
      ],
      "metadata": {
        "id": "LmVrf3CeE3KO",
        "colab": {
          "base_uri": "https://localhost:8080/",
          "height": 195
        },
        "outputId": "cad07829-20b2-4329-aa07-dde09720ece4"
      },
      "execution_count": 2,
      "outputs": [
        {
          "output_type": "error",
          "ename": "NameError",
          "evalue": "ignored",
          "traceback": [
            "\u001b[0;31m---------------------------------------------------------------------------\u001b[0m",
            "\u001b[0;31mNameError\u001b[0m                                 Traceback (most recent call last)",
            "\u001b[0;32m<ipython-input-2-37c707fd01e6>\u001b[0m in \u001b[0;36m<module>\u001b[0;34m()\u001b[0m\n\u001b[1;32m      1\u001b[0m tokenizer = tfds.deprecated.text.SubwordTextEncoder.build_from_corpus(\n\u001b[0;32m----> 2\u001b[0;31m     questions + answers, target_vocab_size = 2 ** 13)\n\u001b[0m",
            "\u001b[0;31mNameError\u001b[0m: name 'questions' is not defined"
          ]
        }
      ]
    },
    {
      "cell_type": "code",
      "source": [
        "START_TOKEN, END_TOKEN = [tokenizer.vocab_size], [tokenizer.vocab_size + 1]\n",
        "VOCAB_SIZE = tokenizer.vocab_size + 2"
      ],
      "metadata": {
        "id": "oMn3RAJxFDWt"
      },
      "execution_count": null,
      "outputs": []
    },
    {
      "cell_type": "code",
      "source": [
        "print('시작 토큰 번호 :', START_TOKEN)\n",
        "print('종료 토큰 번호 :', END_TOKEN)\n",
        "print('단어 집합의 크기 :', VOCAB_SIZE)"
      ],
      "metadata": {
        "colab": {
          "base_uri": "https://localhost:8080/"
        },
        "id": "PrlTsVdUFPHt",
        "outputId": "125fdee7-dfab-4f1d-c993-a5093fb7b7b9"
      },
      "execution_count": 31,
      "outputs": [
        {
          "output_type": "stream",
          "name": "stdout",
          "text": [
            "시작 토큰 번호 : [8178]\n",
            "종료 토큰 번호 : [8179]\n",
            "단어 집합의 크기 : 8180\n"
          ]
        }
      ]
    },
    {
      "cell_type": "code",
      "source": [
        "print('임의의 질문 샘플을 정수 인코딩 : {}'.format(tokenizer.encode(questions[1000])))"
      ],
      "metadata": {
        "colab": {
          "base_uri": "https://localhost:8080/"
        },
        "id": "VhgWRCtaFS36",
        "outputId": "d6e96568-bbd0-4997-cafc-bf62d8964829"
      },
      "execution_count": 32,
      "outputs": [
        {
          "output_type": "stream",
          "name": "stdout",
          "text": [
            "임의의 질문 샘플을 정수 인코딩 : [2122, 85, 8, 445, 156, 2305, 47]\n"
          ]
        }
      ]
    },
    {
      "cell_type": "code",
      "source": [
        "sample_string = questions[1000]\n",
        "\n",
        "tokenized_string = tokenizer.encode(sample_string)\n",
        "print ('정수 인코딩 후의 문장 : {}'.format(tokenized_string))\n",
        "\n",
        "original_string = tokenizer.decode(tokenized_string)\n",
        "print ('기존 문장 : {}'.format(original_string))"
      ],
      "metadata": {
        "colab": {
          "base_uri": "https://localhost:8080/"
        },
        "id": "MFlVWPDdFWOZ",
        "outputId": "9783c21d-006e-41e7-f972-18ed7d47aebe"
      },
      "execution_count": 33,
      "outputs": [
        {
          "output_type": "stream",
          "name": "stdout",
          "text": [
            "정수 인코딩 후의 문장 : [2122, 85, 8, 445, 156, 2305, 47]\n",
            "기존 문장 : 노래방 걸 거 같은데 뭐 부르지\n"
          ]
        }
      ]
    },
    {
      "cell_type": "code",
      "source": [
        "for ts in tokenized_string :\n",
        "  print ('{} ----> {}'.format(ts, tokenizer.decode([ts])))"
      ],
      "metadata": {
        "colab": {
          "base_uri": "https://localhost:8080/"
        },
        "id": "btdUA56TFjgV",
        "outputId": "8a233d14-d8e1-4a4f-c808-3f7fe053bbca"
      },
      "execution_count": 34,
      "outputs": [
        {
          "output_type": "stream",
          "name": "stdout",
          "text": [
            "2122 ----> 노래방 \n",
            "85 ----> 걸 \n",
            "8 ----> 거 \n",
            "445 ----> 같은데 \n",
            "156 ----> 뭐 \n",
            "2305 ----> 부르\n",
            "47 ----> 지\n"
          ]
        }
      ]
    },
    {
      "cell_type": "code",
      "source": [
        "MAX_LENGTH = 40\n",
        "\n",
        "def tokenize_and_filter(inputs, outputs) :\n",
        "\n",
        "  tokenized_inputs, tokenized_outputs = [], []\n",
        "\n",
        "  for (sentence1, sentence2) in zip(inputs, outputs) :\n",
        "\n",
        "    sentence1 = START_TOKEN + tokenizer.encode(sentence1) + END_TOKEN\n",
        "    sentence2 = START_TOKEN + tokenizer.encode(sentence2) + END_TOKEN\n",
        "\n",
        "    tokenized_inputs.append(sentence1)\n",
        "    tokenized_outputs.append(sentence2)\n",
        "\n",
        "  tokenized_inputs = tf.keras.preprocessing.sequence.pad_sequences(\n",
        "      tokenized_inputs, maxlen = MAX_LENGTH, padding = 'post')\n",
        "  tokenized_outputs = tf.keras.preprocessing.sequence.pad_sequences(\n",
        "      tokenized_outputs, maxlen = MAX_LENGTH, padding = 'post')\n",
        "\n",
        "  return tokenized_inputs, tokenized_outputs"
      ],
      "metadata": {
        "id": "vcIcJYdgFth1"
      },
      "execution_count": 9,
      "outputs": []
    },
    {
      "cell_type": "code",
      "source": [
        "questions, answers = tokenize_and_filter(questions, answers)"
      ],
      "metadata": {
        "id": "39dAmskZF3Zt"
      },
      "execution_count": 36,
      "outputs": []
    },
    {
      "cell_type": "code",
      "source": [
        "print('질문 데이터의 크기(shape) :', questions.shape)\n",
        "print('답변 데이터의 크기(shape) :', answers.shape)"
      ],
      "metadata": {
        "colab": {
          "base_uri": "https://localhost:8080/"
        },
        "id": "cm1BaQtlF5nd",
        "outputId": "502627d8-de40-4c9c-85ca-4e12d41024ea"
      },
      "execution_count": 37,
      "outputs": [
        {
          "output_type": "stream",
          "name": "stdout",
          "text": [
            "질문 데이터의 크기(shape) : (11823, 40)\n",
            "답변 데이터의 크기(shape) : (11823, 40)\n"
          ]
        }
      ]
    },
    {
      "cell_type": "code",
      "source": [
        "print(questions[0])\n",
        "print(answers[0])"
      ],
      "metadata": {
        "colab": {
          "base_uri": "https://localhost:8080/"
        },
        "id": "cXOoHVn8F7bw",
        "outputId": "be7c10fd-0a1f-42d9-f30e-cf16622c3dc7"
      },
      "execution_count": 38,
      "outputs": [
        {
          "output_type": "stream",
          "name": "stdout",
          "text": [
            "[8178 7915 4207 3060   41 8179    0    0    0    0    0    0    0    0\n",
            "    0    0    0    0    0    0    0    0    0    0    0    0    0    0\n",
            "    0    0    0    0    0    0    0    0    0    0    0    0]\n",
            "[8178 3844   74 7894    1 8179    0    0    0    0    0    0    0    0\n",
            "    0    0    0    0    0    0    0    0    0    0    0    0    0    0\n",
            "    0    0    0    0    0    0    0    0    0    0    0    0]\n"
          ]
        }
      ]
    },
    {
      "cell_type": "code",
      "source": [
        "BATCH_SIZE = 64\n",
        "BUFFER_SIZE = 20000\n",
        "\n",
        "dataset = tf.data.Dataset.from_tensor_slices((\n",
        "    {\n",
        "        'inputs' : questions,\n",
        "        'dec_inputs' : answers[ : , : -1]\n",
        "    },\n",
        "    {\n",
        "        'outputs' : answers[ : , 1 : ]\n",
        "    },\n",
        "))\n",
        "\n",
        "dataset = dataset.cache()\n",
        "dataset = dataset.shuffle(BUFFER_SIZE)\n",
        "dataset = dataset.batch(BATCH_SIZE)\n",
        "dataset = dataset.prefetch(tf.data.experimental.AUTOTUNE)"
      ],
      "metadata": {
        "id": "wxPY6VnbF8pf"
      },
      "execution_count": 39,
      "outputs": []
    },
    {
      "cell_type": "code",
      "source": [
        "print(answers[0])\n",
        "print(answers[ : 1][ : , : -1])\n",
        "print(answers[ : 1][ : , 1 : ])"
      ],
      "metadata": {
        "colab": {
          "base_uri": "https://localhost:8080/"
        },
        "id": "DU1ztj_qGHqv",
        "outputId": "72530e7e-1de2-4801-d6d7-c1104918834c"
      },
      "execution_count": 40,
      "outputs": [
        {
          "output_type": "stream",
          "name": "stdout",
          "text": [
            "[8178 3844   74 7894    1 8179    0    0    0    0    0    0    0    0\n",
            "    0    0    0    0    0    0    0    0    0    0    0    0    0    0\n",
            "    0    0    0    0    0    0    0    0    0    0    0    0]\n",
            "[[8178 3844   74 7894    1 8179    0    0    0    0    0    0    0    0\n",
            "     0    0    0    0    0    0    0    0    0    0    0    0    0    0\n",
            "     0    0    0    0    0    0    0    0    0    0    0]]\n",
            "[[3844   74 7894    1 8179    0    0    0    0    0    0    0    0    0\n",
            "     0    0    0    0    0    0    0    0    0    0    0    0    0    0\n",
            "     0    0    0    0    0    0    0    0    0    0    0]]\n"
          ]
        }
      ]
    },
    {
      "cell_type": "code",
      "source": [
        "tf.keras.backend.clear_session()\n",
        "\n",
        "# 하이퍼파라미터\n",
        "D_MODEL = 256\n",
        "NUM_LAYERS = 6\n",
        "NUM_HEADS = 8\n",
        "DFF = 512\n",
        "DROPOUT = 0.1\n",
        "\n",
        "model = transformer(\n",
        "    vocab_size = VOCAB_SIZE,\n",
        "    num_layers = NUM_LAYERS,\n",
        "    dff = DFF,\n",
        "    d_model = D_MODEL,\n",
        "    num_heads = NUM_HEADS,\n",
        "    dropout = DROPOUT)"
      ],
      "metadata": {
        "colab": {
          "base_uri": "https://localhost:8080/"
        },
        "id": "B3tlk5nwGNGt",
        "outputId": "394b8aa1-cb1e-4d61-d43b-571a56083cfb"
      },
      "execution_count": 41,
      "outputs": [
        {
          "output_type": "stream",
          "name": "stdout",
          "text": [
            "(1, 8180, 256)\n",
            "(1, 8180, 256)\n"
          ]
        }
      ]
    },
    {
      "cell_type": "code",
      "source": [
        "learning_rate = CustomSchedule(D_MODEL)\n",
        "\n",
        "optimizer = tf.keras.optimizers.Adam(learning_rate, beta_1 = 0.9, beta_2 = 0.98, epsilon = 1e-9)\n",
        "\n",
        "def accuracy(y_true, y_pred) :\n",
        "  y_true = tf.reshape(y_true, shape = (-1, MAX_LENGTH - 1))\n",
        "  return tf.keras.metrics.sparse_categorical_accuracy(y_true, y_pred)\n",
        "\n",
        "model.compile(optimizer = optimizer, loss = loss_function, metrics = [accuracy])"
      ],
      "metadata": {
        "id": "dVNe5QayGXTC"
      },
      "execution_count": 42,
      "outputs": []
    },
    {
      "cell_type": "code",
      "source": [
        "from tensorflow.keras.callbacks import EarlyStopping\n",
        "\n",
        "es = EarlyStopping(monitor = 'accuracy', mode = 'max', verbose = 1, patience = 10)"
      ],
      "metadata": {
        "id": "PgDZYaQXUkF8"
      },
      "execution_count": 43,
      "outputs": []
    },
    {
      "cell_type": "code",
      "source": [
        "EPOCHS = 200\n",
        "model.fit(dataset, callbacks = es, epochs = EPOCHS)"
      ],
      "metadata": {
        "colab": {
          "base_uri": "https://localhost:8080/"
        },
        "id": "rgaw5KsgGp11",
        "outputId": "8882b0fe-b34e-4470-d16d-f81b77ad6691"
      },
      "execution_count": 44,
      "outputs": [
        {
          "output_type": "stream",
          "name": "stdout",
          "text": [
            "Epoch 1/200\n",
            "185/185 [==============================] - 41s 122ms/step - loss: 1.4347 - accuracy: 0.0220\n",
            "Epoch 2/200\n",
            "185/185 [==============================] - 23s 123ms/step - loss: 1.1820 - accuracy: 0.0451\n",
            "Epoch 3/200\n",
            "185/185 [==============================] - 24s 129ms/step - loss: 1.0177 - accuracy: 0.0500\n",
            "Epoch 4/200\n",
            "185/185 [==============================] - 23s 123ms/step - loss: 0.9526 - accuracy: 0.0517\n",
            "Epoch 5/200\n",
            "185/185 [==============================] - 23s 126ms/step - loss: 0.9179 - accuracy: 0.0535\n",
            "Epoch 6/200\n",
            "185/185 [==============================] - 23s 123ms/step - loss: 0.8871 - accuracy: 0.0552\n",
            "Epoch 7/200\n",
            "185/185 [==============================] - 23s 123ms/step - loss: 0.8535 - accuracy: 0.0572\n",
            "Epoch 8/200\n",
            "185/185 [==============================] - 23s 124ms/step - loss: 0.8176 - accuracy: 0.0594\n",
            "Epoch 9/200\n",
            "185/185 [==============================] - 23s 125ms/step - loss: 0.7778 - accuracy: 0.0621\n",
            "Epoch 10/200\n",
            "185/185 [==============================] - 23s 124ms/step - loss: 0.7346 - accuracy: 0.0650\n",
            "Epoch 11/200\n",
            "185/185 [==============================] - 23s 126ms/step - loss: 0.6873 - accuracy: 0.0688\n",
            "Epoch 12/200\n",
            "185/185 [==============================] - 23s 124ms/step - loss: 0.6375 - accuracy: 0.0737\n",
            "Epoch 13/200\n",
            "185/185 [==============================] - 23s 124ms/step - loss: 0.5861 - accuracy: 0.0792\n",
            "Epoch 14/200\n",
            "185/185 [==============================] - 23s 124ms/step - loss: 0.5361 - accuracy: 0.0849\n",
            "Epoch 15/200\n",
            "185/185 [==============================] - 23s 124ms/step - loss: 0.4878 - accuracy: 0.0910\n",
            "Epoch 16/200\n",
            "185/185 [==============================] - 23s 125ms/step - loss: 0.4444 - accuracy: 0.0967\n",
            "Epoch 17/200\n",
            "185/185 [==============================] - 23s 124ms/step - loss: 0.4066 - accuracy: 0.1018\n",
            "Epoch 18/200\n",
            "185/185 [==============================] - 23s 126ms/step - loss: 0.3745 - accuracy: 0.1061\n",
            "Epoch 19/200\n",
            "185/185 [==============================] - 23s 124ms/step - loss: 0.3469 - accuracy: 0.1098\n",
            "Epoch 20/200\n",
            "185/185 [==============================] - 23s 124ms/step - loss: 0.3269 - accuracy: 0.1127\n",
            "Epoch 21/200\n",
            "185/185 [==============================] - 23s 124ms/step - loss: 0.3119 - accuracy: 0.1150\n",
            "Epoch 22/200\n",
            "185/185 [==============================] - 23s 124ms/step - loss: 0.2991 - accuracy: 0.1170\n",
            "Epoch 23/200\n",
            "185/185 [==============================] - 23s 124ms/step - loss: 0.2838 - accuracy: 0.1197\n",
            "Epoch 24/200\n",
            "185/185 [==============================] - 23s 125ms/step - loss: 0.2678 - accuracy: 0.1226\n",
            "Epoch 25/200\n",
            "185/185 [==============================] - 23s 124ms/step - loss: 0.2569 - accuracy: 0.1245\n",
            "Epoch 26/200\n",
            "185/185 [==============================] - 23s 124ms/step - loss: 0.2461 - accuracy: 0.1263\n",
            "Epoch 27/200\n",
            "185/185 [==============================] - 23s 124ms/step - loss: 0.2342 - accuracy: 0.1283\n",
            "Epoch 28/200\n",
            "185/185 [==============================] - 23s 125ms/step - loss: 0.2268 - accuracy: 0.1294\n",
            "Epoch 29/200\n",
            "185/185 [==============================] - 23s 124ms/step - loss: 0.2188 - accuracy: 0.1311\n",
            "Epoch 30/200\n",
            "185/185 [==============================] - 23s 126ms/step - loss: 0.2133 - accuracy: 0.1318\n",
            "Epoch 31/200\n",
            "185/185 [==============================] - 23s 124ms/step - loss: 0.2065 - accuracy: 0.1329\n",
            "Epoch 32/200\n",
            "185/185 [==============================] - 23s 124ms/step - loss: 0.2018 - accuracy: 0.1334\n",
            "Epoch 33/200\n",
            "185/185 [==============================] - 23s 124ms/step - loss: 0.1963 - accuracy: 0.1343\n",
            "Epoch 34/200\n",
            "185/185 [==============================] - 23s 124ms/step - loss: 0.1918 - accuracy: 0.1352\n",
            "Epoch 35/200\n",
            "185/185 [==============================] - 23s 124ms/step - loss: 0.1861 - accuracy: 0.1361\n",
            "Epoch 36/200\n",
            "185/185 [==============================] - 23s 124ms/step - loss: 0.1824 - accuracy: 0.1367\n",
            "Epoch 37/200\n",
            "185/185 [==============================] - 23s 126ms/step - loss: 0.1768 - accuracy: 0.1373\n",
            "Epoch 38/200\n",
            "185/185 [==============================] - 23s 124ms/step - loss: 0.1732 - accuracy: 0.1379\n",
            "Epoch 39/200\n",
            "185/185 [==============================] - 23s 124ms/step - loss: 0.1699 - accuracy: 0.1385\n",
            "Epoch 40/200\n",
            "185/185 [==============================] - 23s 124ms/step - loss: 0.1660 - accuracy: 0.1389\n",
            "Epoch 41/200\n",
            "185/185 [==============================] - 23s 123ms/step - loss: 0.1617 - accuracy: 0.1394\n",
            "Epoch 42/200\n",
            "185/185 [==============================] - 23s 124ms/step - loss: 0.1586 - accuracy: 0.1400\n",
            "Epoch 43/200\n",
            "185/185 [==============================] - 23s 123ms/step - loss: 0.1558 - accuracy: 0.1404\n",
            "Epoch 44/200\n",
            "185/185 [==============================] - 23s 123ms/step - loss: 0.1535 - accuracy: 0.1405\n",
            "Epoch 45/200\n",
            "185/185 [==============================] - 23s 124ms/step - loss: 0.1509 - accuracy: 0.1410\n",
            "Epoch 46/200\n",
            "185/185 [==============================] - 23s 124ms/step - loss: 0.1468 - accuracy: 0.1415\n",
            "Epoch 47/200\n",
            "185/185 [==============================] - 23s 124ms/step - loss: 0.1450 - accuracy: 0.1420\n",
            "Epoch 48/200\n",
            "185/185 [==============================] - 23s 123ms/step - loss: 0.1424 - accuracy: 0.1424\n",
            "Epoch 49/200\n",
            "185/185 [==============================] - 23s 125ms/step - loss: 0.1390 - accuracy: 0.1430\n",
            "Epoch 50/200\n",
            "185/185 [==============================] - 23s 124ms/step - loss: 0.1364 - accuracy: 0.1434\n",
            "Epoch 51/200\n",
            "185/185 [==============================] - 23s 124ms/step - loss: 0.1348 - accuracy: 0.1438\n",
            "Epoch 52/200\n",
            "185/185 [==============================] - 23s 123ms/step - loss: 0.1321 - accuracy: 0.1440\n",
            "Epoch 53/200\n",
            "185/185 [==============================] - 23s 124ms/step - loss: 0.1309 - accuracy: 0.1442\n",
            "Epoch 54/200\n",
            "185/185 [==============================] - 23s 124ms/step - loss: 0.1283 - accuracy: 0.1446\n",
            "Epoch 55/200\n",
            "185/185 [==============================] - 23s 126ms/step - loss: 0.1272 - accuracy: 0.1447\n",
            "Epoch 56/200\n",
            "185/185 [==============================] - 23s 124ms/step - loss: 0.1245 - accuracy: 0.1451\n",
            "Epoch 57/200\n",
            "185/185 [==============================] - 23s 123ms/step - loss: 0.1226 - accuracy: 0.1454\n",
            "Epoch 58/200\n",
            "185/185 [==============================] - 22s 121ms/step - loss: 0.1212 - accuracy: 0.1458\n",
            "Epoch 59/200\n",
            "185/185 [==============================] - 22s 121ms/step - loss: 0.1191 - accuracy: 0.1461\n",
            "Epoch 60/200\n",
            "185/185 [==============================] - 23s 122ms/step - loss: 0.1174 - accuracy: 0.1464\n",
            "Epoch 61/200\n",
            "185/185 [==============================] - 23s 125ms/step - loss: 0.1159 - accuracy: 0.1468\n",
            "Epoch 62/200\n",
            "185/185 [==============================] - 23s 125ms/step - loss: 0.1139 - accuracy: 0.1469\n",
            "Epoch 63/200\n",
            "185/185 [==============================] - 24s 128ms/step - loss: 0.1129 - accuracy: 0.1473\n",
            "Epoch 64/200\n",
            "185/185 [==============================] - 23s 122ms/step - loss: 0.1111 - accuracy: 0.1474\n",
            "Epoch 65/200\n",
            "185/185 [==============================] - 23s 126ms/step - loss: 0.1095 - accuracy: 0.1476\n",
            "Epoch 66/200\n",
            "185/185 [==============================] - 23s 126ms/step - loss: 0.1073 - accuracy: 0.1483\n",
            "Epoch 67/200\n",
            "185/185 [==============================] - 23s 126ms/step - loss: 0.1070 - accuracy: 0.1483\n",
            "Epoch 68/200\n",
            "185/185 [==============================] - 23s 126ms/step - loss: 0.1061 - accuracy: 0.1485\n",
            "Epoch 69/200\n",
            "185/185 [==============================] - 23s 126ms/step - loss: 0.1041 - accuracy: 0.1488\n",
            "Epoch 70/200\n",
            "185/185 [==============================] - 24s 128ms/step - loss: 0.1033 - accuracy: 0.1491\n",
            "Epoch 71/200\n",
            "185/185 [==============================] - 23s 127ms/step - loss: 0.1017 - accuracy: 0.1494\n",
            "Epoch 72/200\n",
            "185/185 [==============================] - 23s 126ms/step - loss: 0.1007 - accuracy: 0.1494\n",
            "Epoch 73/200\n",
            "185/185 [==============================] - 23s 125ms/step - loss: 0.0998 - accuracy: 0.1497\n",
            "Epoch 74/200\n",
            "185/185 [==============================] - 23s 126ms/step - loss: 0.0983 - accuracy: 0.1500\n",
            "Epoch 75/200\n",
            "185/185 [==============================] - 23s 126ms/step - loss: 0.0971 - accuracy: 0.1502\n",
            "Epoch 76/200\n",
            "185/185 [==============================] - 24s 127ms/step - loss: 0.0960 - accuracy: 0.1504\n",
            "Epoch 77/200\n",
            "185/185 [==============================] - 23s 126ms/step - loss: 0.0942 - accuracy: 0.1506\n",
            "Epoch 78/200\n",
            "185/185 [==============================] - 23s 125ms/step - loss: 0.0937 - accuracy: 0.1508\n",
            "Epoch 79/200\n",
            "185/185 [==============================] - 23s 125ms/step - loss: 0.0929 - accuracy: 0.1510\n",
            "Epoch 80/200\n",
            "185/185 [==============================] - 23s 124ms/step - loss: 0.0927 - accuracy: 0.1511\n",
            "Epoch 81/200\n",
            "185/185 [==============================] - 23s 125ms/step - loss: 0.0897 - accuracy: 0.1516\n",
            "Epoch 82/200\n",
            "185/185 [==============================] - 23s 125ms/step - loss: 0.0903 - accuracy: 0.1515\n",
            "Epoch 83/200\n",
            "185/185 [==============================] - 23s 125ms/step - loss: 0.0889 - accuracy: 0.1518\n",
            "Epoch 84/200\n",
            "185/185 [==============================] - 23s 125ms/step - loss: 0.0876 - accuracy: 0.1520\n",
            "Epoch 85/200\n",
            "185/185 [==============================] - 23s 125ms/step - loss: 0.0870 - accuracy: 0.1519\n",
            "Epoch 86/200\n",
            "185/185 [==============================] - 23s 125ms/step - loss: 0.0866 - accuracy: 0.1522\n",
            "Epoch 87/200\n",
            "185/185 [==============================] - 24s 127ms/step - loss: 0.0855 - accuracy: 0.1527\n",
            "Epoch 88/200\n",
            "185/185 [==============================] - 23s 126ms/step - loss: 0.0850 - accuracy: 0.1527\n",
            "Epoch 89/200\n",
            "185/185 [==============================] - 23s 125ms/step - loss: 0.0834 - accuracy: 0.1529\n",
            "Epoch 90/200\n",
            "185/185 [==============================] - 23s 126ms/step - loss: 0.0827 - accuracy: 0.1530\n",
            "Epoch 91/200\n",
            "185/185 [==============================] - 23s 125ms/step - loss: 0.0817 - accuracy: 0.1533\n",
            "Epoch 92/200\n",
            "185/185 [==============================] - 23s 125ms/step - loss: 0.0824 - accuracy: 0.1531\n",
            "Epoch 93/200\n",
            "185/185 [==============================] - 23s 125ms/step - loss: 0.0808 - accuracy: 0.1534\n",
            "Epoch 94/200\n",
            "185/185 [==============================] - 23s 125ms/step - loss: 0.0801 - accuracy: 0.1536\n",
            "Epoch 95/200\n",
            "185/185 [==============================] - 23s 124ms/step - loss: 0.0788 - accuracy: 0.1538\n",
            "Epoch 96/200\n",
            "185/185 [==============================] - 24s 127ms/step - loss: 0.0780 - accuracy: 0.1540\n",
            "Epoch 97/200\n",
            "185/185 [==============================] - 23s 125ms/step - loss: 0.0776 - accuracy: 0.1540\n",
            "Epoch 98/200\n",
            "185/185 [==============================] - 23s 125ms/step - loss: 0.0765 - accuracy: 0.1544\n",
            "Epoch 99/200\n",
            "185/185 [==============================] - 23s 125ms/step - loss: 0.0753 - accuracy: 0.1546\n",
            "Epoch 100/200\n",
            "185/185 [==============================] - 23s 125ms/step - loss: 0.0760 - accuracy: 0.1545\n",
            "Epoch 101/200\n",
            "185/185 [==============================] - 23s 123ms/step - loss: 0.0747 - accuracy: 0.1547\n",
            "Epoch 102/200\n",
            "185/185 [==============================] - 23s 124ms/step - loss: 0.0744 - accuracy: 0.1550\n",
            "Epoch 103/200\n",
            "185/185 [==============================] - 31s 170ms/step - loss: 0.0732 - accuracy: 0.1551\n",
            "Epoch 104/200\n",
            "185/185 [==============================] - 29s 156ms/step - loss: 0.0729 - accuracy: 0.1553\n",
            "Epoch 105/200\n",
            "185/185 [==============================] - 25s 134ms/step - loss: 0.0717 - accuracy: 0.1553\n",
            "Epoch 106/200\n",
            "185/185 [==============================] - 26s 139ms/step - loss: 0.0714 - accuracy: 0.1556\n",
            "Epoch 107/200\n",
            "185/185 [==============================] - 23s 126ms/step - loss: 0.0703 - accuracy: 0.1557\n",
            "Epoch 108/200\n",
            "185/185 [==============================] - 26s 142ms/step - loss: 0.0702 - accuracy: 0.1559\n",
            "Epoch 109/200\n",
            "185/185 [==============================] - 28s 150ms/step - loss: 0.0699 - accuracy: 0.1559\n",
            "Epoch 110/200\n",
            "185/185 [==============================] - 23s 125ms/step - loss: 0.0687 - accuracy: 0.1561\n",
            "Epoch 111/200\n",
            "185/185 [==============================] - 23s 126ms/step - loss: 0.0690 - accuracy: 0.1561\n",
            "Epoch 112/200\n",
            "185/185 [==============================] - 23s 125ms/step - loss: 0.0678 - accuracy: 0.1563\n",
            "Epoch 113/200\n",
            "185/185 [==============================] - 23s 126ms/step - loss: 0.0673 - accuracy: 0.1562\n",
            "Epoch 114/200\n",
            "185/185 [==============================] - 23s 124ms/step - loss: 0.0664 - accuracy: 0.1567\n",
            "Epoch 115/200\n",
            "185/185 [==============================] - 24s 129ms/step - loss: 0.0666 - accuracy: 0.1567\n",
            "Epoch 116/200\n",
            "185/185 [==============================] - 25s 136ms/step - loss: 0.0652 - accuracy: 0.1570\n",
            "Epoch 117/200\n",
            "185/185 [==============================] - 23s 125ms/step - loss: 0.0651 - accuracy: 0.1569\n",
            "Epoch 118/200\n",
            "185/185 [==============================] - 23s 125ms/step - loss: 0.0643 - accuracy: 0.1572\n",
            "Epoch 119/200\n",
            "185/185 [==============================] - 23s 124ms/step - loss: 0.0640 - accuracy: 0.1573\n",
            "Epoch 120/200\n",
            "185/185 [==============================] - 23s 124ms/step - loss: 0.0631 - accuracy: 0.1575\n",
            "Epoch 121/200\n",
            "185/185 [==============================] - 23s 125ms/step - loss: 0.0627 - accuracy: 0.1574\n",
            "Epoch 122/200\n",
            "185/185 [==============================] - 23s 124ms/step - loss: 0.0631 - accuracy: 0.1573\n",
            "Epoch 123/200\n",
            "185/185 [==============================] - 23s 124ms/step - loss: 0.0623 - accuracy: 0.1575\n",
            "Epoch 124/200\n",
            "185/185 [==============================] - 23s 125ms/step - loss: 0.0611 - accuracy: 0.1579\n",
            "Epoch 125/200\n",
            "185/185 [==============================] - 23s 125ms/step - loss: 0.0613 - accuracy: 0.1578\n",
            "Epoch 126/200\n",
            "185/185 [==============================] - 25s 133ms/step - loss: 0.0612 - accuracy: 0.1581\n",
            "Epoch 127/200\n",
            "185/185 [==============================] - 23s 126ms/step - loss: 0.0608 - accuracy: 0.1580\n",
            "Epoch 128/200\n",
            "185/185 [==============================] - 23s 126ms/step - loss: 0.0591 - accuracy: 0.1582\n",
            "Epoch 129/200\n",
            "185/185 [==============================] - 23s 125ms/step - loss: 0.0598 - accuracy: 0.1581\n",
            "Epoch 130/200\n",
            "185/185 [==============================] - 24s 127ms/step - loss: 0.0595 - accuracy: 0.1583\n",
            "Epoch 131/200\n",
            "185/185 [==============================] - 23s 125ms/step - loss: 0.0581 - accuracy: 0.1586\n",
            "Epoch 132/200\n",
            "185/185 [==============================] - 23s 124ms/step - loss: 0.0575 - accuracy: 0.1587\n",
            "Epoch 133/200\n",
            "185/185 [==============================] - 23s 124ms/step - loss: 0.0575 - accuracy: 0.1589\n",
            "Epoch 134/200\n",
            "185/185 [==============================] - 23s 124ms/step - loss: 0.0579 - accuracy: 0.1588\n",
            "Epoch 135/200\n",
            "185/185 [==============================] - 23s 124ms/step - loss: 0.0561 - accuracy: 0.1590\n",
            "Epoch 136/200\n",
            "185/185 [==============================] - 23s 125ms/step - loss: 0.0558 - accuracy: 0.1592\n",
            "Epoch 137/200\n",
            "185/185 [==============================] - 24s 127ms/step - loss: 0.0561 - accuracy: 0.1591\n",
            "Epoch 138/200\n",
            "185/185 [==============================] - 23s 125ms/step - loss: 0.0548 - accuracy: 0.1595\n",
            "Epoch 139/200\n",
            "185/185 [==============================] - 23s 124ms/step - loss: 0.0550 - accuracy: 0.1594\n",
            "Epoch 140/200\n",
            "185/185 [==============================] - 23s 125ms/step - loss: 0.0543 - accuracy: 0.1597\n",
            "Epoch 141/200\n",
            "185/185 [==============================] - 23s 124ms/step - loss: 0.0541 - accuracy: 0.1595\n",
            "Epoch 142/200\n",
            "185/185 [==============================] - 23s 124ms/step - loss: 0.0540 - accuracy: 0.1596\n",
            "Epoch 143/200\n",
            "185/185 [==============================] - 23s 124ms/step - loss: 0.0537 - accuracy: 0.1598\n",
            "Epoch 144/200\n",
            "185/185 [==============================] - 23s 124ms/step - loss: 0.0523 - accuracy: 0.1601\n",
            "Epoch 145/200\n",
            "185/185 [==============================] - 23s 124ms/step - loss: 0.0525 - accuracy: 0.1599\n",
            "Epoch 146/200\n",
            "185/185 [==============================] - 23s 124ms/step - loss: 0.0524 - accuracy: 0.1601\n",
            "Epoch 147/200\n",
            "185/185 [==============================] - 23s 124ms/step - loss: 0.0523 - accuracy: 0.1601\n",
            "Epoch 148/200\n",
            "185/185 [==============================] - 23s 124ms/step - loss: 0.0519 - accuracy: 0.1601\n",
            "Epoch 149/200\n",
            "185/185 [==============================] - 23s 124ms/step - loss: 0.0520 - accuracy: 0.1601\n",
            "Epoch 150/200\n",
            "185/185 [==============================] - 23s 124ms/step - loss: 0.0514 - accuracy: 0.1602\n",
            "Epoch 151/200\n",
            "185/185 [==============================] - 23s 124ms/step - loss: 0.0506 - accuracy: 0.1604\n",
            "Epoch 152/200\n",
            "185/185 [==============================] - 23s 125ms/step - loss: 0.0498 - accuracy: 0.1606\n",
            "Epoch 153/200\n",
            "185/185 [==============================] - 23s 125ms/step - loss: 0.0502 - accuracy: 0.1606\n",
            "Epoch 154/200\n",
            "185/185 [==============================] - 23s 127ms/step - loss: 0.0495 - accuracy: 0.1607\n",
            "Epoch 155/200\n",
            "185/185 [==============================] - 23s 124ms/step - loss: 0.0500 - accuracy: 0.1608\n",
            "Epoch 156/200\n",
            "185/185 [==============================] - 23s 124ms/step - loss: 0.0491 - accuracy: 0.1609\n",
            "Epoch 157/200\n",
            "185/185 [==============================] - 23s 123ms/step - loss: 0.0490 - accuracy: 0.1609\n",
            "Epoch 158/200\n",
            "185/185 [==============================] - 23s 124ms/step - loss: 0.0483 - accuracy: 0.1611\n",
            "Epoch 159/200\n",
            "185/185 [==============================] - 23s 125ms/step - loss: 0.0481 - accuracy: 0.1610\n",
            "Epoch 160/200\n",
            "185/185 [==============================] - 23s 125ms/step - loss: 0.0475 - accuracy: 0.1613\n",
            "Epoch 161/200\n",
            "185/185 [==============================] - 23s 125ms/step - loss: 0.0474 - accuracy: 0.1614\n",
            "Epoch 162/200\n",
            "185/185 [==============================] - 23s 124ms/step - loss: 0.0475 - accuracy: 0.1612\n",
            "Epoch 163/200\n",
            "185/185 [==============================] - 23s 124ms/step - loss: 0.0461 - accuracy: 0.1618\n",
            "Epoch 164/200\n",
            "185/185 [==============================] - 23s 123ms/step - loss: 0.0468 - accuracy: 0.1616\n",
            "Epoch 165/200\n",
            "185/185 [==============================] - 23s 123ms/step - loss: 0.0461 - accuracy: 0.1617\n",
            "Epoch 166/200\n",
            "185/185 [==============================] - 27s 148ms/step - loss: 0.0462 - accuracy: 0.1617\n",
            "Epoch 167/200\n",
            "185/185 [==============================] - 23s 124ms/step - loss: 0.0464 - accuracy: 0.1616\n",
            "Epoch 168/200\n",
            "185/185 [==============================] - 23s 125ms/step - loss: 0.0447 - accuracy: 0.1620\n",
            "Epoch 169/200\n",
            "185/185 [==============================] - 23s 126ms/step - loss: 0.0454 - accuracy: 0.1617\n",
            "Epoch 170/200\n",
            "185/185 [==============================] - 25s 136ms/step - loss: 0.0446 - accuracy: 0.1619\n",
            "Epoch 171/200\n",
            "185/185 [==============================] - 28s 153ms/step - loss: 0.0445 - accuracy: 0.1621\n",
            "Epoch 172/200\n",
            "185/185 [==============================] - 24s 128ms/step - loss: 0.0437 - accuracy: 0.1623\n",
            "Epoch 173/200\n",
            "185/185 [==============================] - 29s 154ms/step - loss: 0.0446 - accuracy: 0.1621\n",
            "Epoch 174/200\n",
            "185/185 [==============================] - 24s 128ms/step - loss: 0.0439 - accuracy: 0.1622\n",
            "Epoch 175/200\n",
            "185/185 [==============================] - 23s 126ms/step - loss: 0.0445 - accuracy: 0.1624\n",
            "Epoch 176/200\n",
            "185/185 [==============================] - 30s 163ms/step - loss: 0.0438 - accuracy: 0.1623\n",
            "Epoch 177/200\n",
            "185/185 [==============================] - 23s 124ms/step - loss: 0.0424 - accuracy: 0.1626\n",
            "Epoch 178/200\n",
            "185/185 [==============================] - 24s 129ms/step - loss: 0.0422 - accuracy: 0.1626\n",
            "Epoch 179/200\n",
            "185/185 [==============================] - 23s 124ms/step - loss: 0.0418 - accuracy: 0.1627\n",
            "Epoch 180/200\n",
            "185/185 [==============================] - 23s 123ms/step - loss: 0.0408 - accuracy: 0.1630\n",
            "Epoch 181/200\n",
            "185/185 [==============================] - 23s 121ms/step - loss: 0.0418 - accuracy: 0.1628\n",
            "Epoch 182/200\n",
            "185/185 [==============================] - 26s 140ms/step - loss: 0.0411 - accuracy: 0.1629\n",
            "Epoch 183/200\n",
            "185/185 [==============================] - 23s 121ms/step - loss: 0.0418 - accuracy: 0.1629\n",
            "Epoch 184/200\n",
            "185/185 [==============================] - 26s 139ms/step - loss: 0.0408 - accuracy: 0.1629\n",
            "Epoch 185/200\n",
            "185/185 [==============================] - 22s 122ms/step - loss: 0.0413 - accuracy: 0.1629\n",
            "Epoch 186/200\n",
            "185/185 [==============================] - 22s 121ms/step - loss: 0.0407 - accuracy: 0.1630\n",
            "Epoch 187/200\n",
            "185/185 [==============================] - 23s 122ms/step - loss: 0.0406 - accuracy: 0.1630\n",
            "Epoch 188/200\n",
            "185/185 [==============================] - 22s 121ms/step - loss: 0.0407 - accuracy: 0.1631\n",
            "Epoch 189/200\n",
            "185/185 [==============================] - 23s 122ms/step - loss: 0.0404 - accuracy: 0.1632\n",
            "Epoch 190/200\n",
            "185/185 [==============================] - 22s 121ms/step - loss: 0.0397 - accuracy: 0.1633\n",
            "Epoch 191/200\n",
            "185/185 [==============================] - 22s 120ms/step - loss: 0.0395 - accuracy: 0.1634\n",
            "Epoch 192/200\n",
            "185/185 [==============================] - 23s 122ms/step - loss: 0.0386 - accuracy: 0.1636\n",
            "Epoch 193/200\n",
            "185/185 [==============================] - 22s 121ms/step - loss: 0.0392 - accuracy: 0.1635\n",
            "Epoch 194/200\n",
            "185/185 [==============================] - 23s 122ms/step - loss: 0.0385 - accuracy: 0.1637\n",
            "Epoch 195/200\n",
            "185/185 [==============================] - 22s 121ms/step - loss: 0.0388 - accuracy: 0.1636\n",
            "Epoch 196/200\n",
            "185/185 [==============================] - 22s 121ms/step - loss: 0.0390 - accuracy: 0.1637\n",
            "Epoch 197/200\n",
            "185/185 [==============================] - 23s 122ms/step - loss: 0.0379 - accuracy: 0.1639\n",
            "Epoch 198/200\n",
            "185/185 [==============================] - 23s 122ms/step - loss: 0.0373 - accuracy: 0.1640\n",
            "Epoch 199/200\n",
            "185/185 [==============================] - 22s 121ms/step - loss: 0.0379 - accuracy: 0.1640\n",
            "Epoch 200/200\n",
            "185/185 [==============================] - 23s 123ms/step - loss: 0.0370 - accuracy: 0.1642\n"
          ]
        },
        {
          "output_type": "execute_result",
          "data": {
            "text/plain": [
              "<keras.callbacks.History at 0x7fad9ba5c8d0>"
            ]
          },
          "metadata": {},
          "execution_count": 44
        }
      ]
    },
    {
      "cell_type": "code",
      "source": [
        "!mkdir -p saved_model\n",
        "model.save('saved_model/transformer_001')"
      ],
      "metadata": {
        "colab": {
          "base_uri": "https://localhost:8080/",
          "height": 444
        },
        "id": "36Ke7z8ZsAkg",
        "outputId": "ba5c173a-5592-49be-f429-925d6505d7be"
      },
      "execution_count": 45,
      "outputs": [
        {
          "output_type": "stream",
          "name": "stderr",
          "text": [
            "WARNING:absl:Found untraced functions such as dense_layer_call_fn, dense_layer_call_and_return_conditional_losses, dense_1_layer_call_fn, dense_1_layer_call_and_return_conditional_losses, dense_2_layer_call_fn while saving (showing 5 of 144). These functions will not be directly callable after loading.\n"
          ]
        },
        {
          "output_type": "stream",
          "name": "stdout",
          "text": [
            "INFO:tensorflow:Assets written to: saved_model/transformer_001/assets\n"
          ]
        },
        {
          "output_type": "stream",
          "name": "stderr",
          "text": [
            "INFO:tensorflow:Assets written to: saved_model/transformer_001/assets\n"
          ]
        },
        {
          "output_type": "error",
          "ename": "NotImplementedError",
          "evalue": "ignored",
          "traceback": [
            "\u001b[0;31m---------------------------------------------------------------------------\u001b[0m",
            "\u001b[0;31mNotImplementedError\u001b[0m                       Traceback (most recent call last)",
            "\u001b[0;32m<ipython-input-45-1dcb375bafc1>\u001b[0m in \u001b[0;36m<module>\u001b[0;34m()\u001b[0m\n\u001b[1;32m      1\u001b[0m \u001b[0mget_ipython\u001b[0m\u001b[0;34m(\u001b[0m\u001b[0;34m)\u001b[0m\u001b[0;34m.\u001b[0m\u001b[0msystem\u001b[0m\u001b[0;34m(\u001b[0m\u001b[0;34m'mkdir -p saved_model'\u001b[0m\u001b[0;34m)\u001b[0m\u001b[0;34m\u001b[0m\u001b[0;34m\u001b[0m\u001b[0m\n\u001b[0;32m----> 2\u001b[0;31m \u001b[0mmodel\u001b[0m\u001b[0;34m.\u001b[0m\u001b[0msave\u001b[0m\u001b[0;34m(\u001b[0m\u001b[0;34m'saved_model/transformer_001'\u001b[0m\u001b[0;34m)\u001b[0m\u001b[0;34m\u001b[0m\u001b[0;34m\u001b[0m\u001b[0m\n\u001b[0m",
            "\u001b[0;32m/usr/local/lib/python3.7/dist-packages/keras/utils/traceback_utils.py\u001b[0m in \u001b[0;36merror_handler\u001b[0;34m(*args, **kwargs)\u001b[0m\n\u001b[1;32m     65\u001b[0m     \u001b[0;32mexcept\u001b[0m \u001b[0mException\u001b[0m \u001b[0;32mas\u001b[0m \u001b[0me\u001b[0m\u001b[0;34m:\u001b[0m  \u001b[0;31m# pylint: disable=broad-except\u001b[0m\u001b[0;34m\u001b[0m\u001b[0;34m\u001b[0m\u001b[0m\n\u001b[1;32m     66\u001b[0m       \u001b[0mfiltered_tb\u001b[0m \u001b[0;34m=\u001b[0m \u001b[0m_process_traceback_frames\u001b[0m\u001b[0;34m(\u001b[0m\u001b[0me\u001b[0m\u001b[0;34m.\u001b[0m\u001b[0m__traceback__\u001b[0m\u001b[0;34m)\u001b[0m\u001b[0;34m\u001b[0m\u001b[0;34m\u001b[0m\u001b[0m\n\u001b[0;32m---> 67\u001b[0;31m       \u001b[0;32mraise\u001b[0m \u001b[0me\u001b[0m\u001b[0;34m.\u001b[0m\u001b[0mwith_traceback\u001b[0m\u001b[0;34m(\u001b[0m\u001b[0mfiltered_tb\u001b[0m\u001b[0;34m)\u001b[0m \u001b[0;32mfrom\u001b[0m \u001b[0;32mNone\u001b[0m\u001b[0;34m\u001b[0m\u001b[0;34m\u001b[0m\u001b[0m\n\u001b[0m\u001b[1;32m     68\u001b[0m     \u001b[0;32mfinally\u001b[0m\u001b[0;34m:\u001b[0m\u001b[0;34m\u001b[0m\u001b[0;34m\u001b[0m\u001b[0m\n\u001b[1;32m     69\u001b[0m       \u001b[0;32mdel\u001b[0m \u001b[0mfiltered_tb\u001b[0m\u001b[0;34m\u001b[0m\u001b[0;34m\u001b[0m\u001b[0m\n",
            "\u001b[0;32m/usr/local/lib/python3.7/dist-packages/keras/optimizer_v2/learning_rate_schedule.py\u001b[0m in \u001b[0;36mget_config\u001b[0;34m(self)\u001b[0m\n\u001b[1;32m     74\u001b[0m   \u001b[0;34m@\u001b[0m\u001b[0mabc\u001b[0m\u001b[0;34m.\u001b[0m\u001b[0mabstractmethod\u001b[0m\u001b[0;34m\u001b[0m\u001b[0;34m\u001b[0m\u001b[0m\n\u001b[1;32m     75\u001b[0m   \u001b[0;32mdef\u001b[0m \u001b[0mget_config\u001b[0m\u001b[0;34m(\u001b[0m\u001b[0mself\u001b[0m\u001b[0;34m)\u001b[0m\u001b[0;34m:\u001b[0m\u001b[0;34m\u001b[0m\u001b[0;34m\u001b[0m\u001b[0m\n\u001b[0;32m---> 76\u001b[0;31m     \u001b[0;32mraise\u001b[0m \u001b[0mNotImplementedError\u001b[0m\u001b[0;34m(\u001b[0m\u001b[0;34m\"Learning rate schedule must override get_config\"\u001b[0m\u001b[0;34m)\u001b[0m\u001b[0;34m\u001b[0m\u001b[0;34m\u001b[0m\u001b[0m\n\u001b[0m\u001b[1;32m     77\u001b[0m \u001b[0;34m\u001b[0m\u001b[0m\n\u001b[1;32m     78\u001b[0m   \u001b[0;34m@\u001b[0m\u001b[0mclassmethod\u001b[0m\u001b[0;34m\u001b[0m\u001b[0;34m\u001b[0m\u001b[0m\n",
            "\u001b[0;31mNotImplementedError\u001b[0m: Learning rate schedule must override get_config"
          ]
        }
      ]
    },
    {
      "cell_type": "code",
      "source": [
        "import pandas as pd\n",
        "import numpy as np\n",
        "import matplotlib.pyplot as plt\n",
        "import re\n",
        "import urllib.request\n",
        "import time\n",
        "import tensorflow_datasets as tfds\n",
        "import tensorflow as tf\n",
        "\n",
        "# new_model = tf.keras.models.load_model('saved_model/transformer_001')"
      ],
      "metadata": {
        "id": "aRBxt1JEuFYF"
      },
      "execution_count": 6,
      "outputs": []
    },
    {
      "cell_type": "code",
      "source": [
        "def preprocess_sentence(sentence) :\n",
        "\n",
        "  sentence = re.sub(r\"([?.!,])\", r\" \\1 \", sentence)\n",
        "  sentence = sentence.strip()\n",
        "\n",
        "  return sentence\n",
        "\n",
        "\n",
        "def evaluate(sentence) :\n",
        "\n",
        "  sentence = preprocess_sentence(sentence)\n",
        "  sentence = tf.expand_dims(START_TOKEN + tokenizer.encode(sentence) + END_TOKEN, axis = 0)\n",
        "\n",
        "  output = tf.expand_dims(START_TOKEN, 0)\n",
        "\n",
        "  for i in range(MAX_LENGTH) :\n",
        "    predictions = model(inputs = [sentence, output], training = False)\n",
        "    predictions = predictions[ : , -1 : , : ]\n",
        "    predicted_id = tf.cast(tf.argmax(predictions, axis = -1), tf.int32)\n",
        "\n",
        "    if tf.equal(predicted_id, END_TOKEN[0]) :\n",
        "      break\n",
        "\n",
        "    output = tf.concat([output, predicted_id], axis = -1)\n",
        "\n",
        "  return tf.squeeze(output, axis = 0)\n",
        "\n",
        "\n",
        "def predict(sentence) :\n",
        "\n",
        "  prediction = evaluate(sentence)\n",
        "  predicted_sentence = tokenizer.decode([i for i in prediction if i < tokenizer.vocab_size])\n",
        "\n",
        "  print('입력 : {}'.format(sentence))\n",
        "  print('Transformer : {}'.format(predicted_sentence))\n",
        "\n",
        "  return predicted_sentence\n",
        "\n",
        "\n",
        "def ChatBot() :\n",
        "\n",
        "  print('마침표 입력 시 종료합니다.')\n",
        "  print()\n",
        "\n",
        "  while True :\n",
        "\n",
        "    chatbot_input = input()\n",
        "\n",
        "    if chatbot_input == '.' :\n",
        "      print('대화를 종료합니다.')\n",
        "      break\n",
        "\n",
        "    output = predict(chatbot_input)\n",
        "    print()"
      ],
      "metadata": {
        "id": "x2HkQXZUHU4I"
      },
      "execution_count": 7,
      "outputs": []
    },
    {
      "cell_type": "code",
      "source": [
        "ChatBot()"
      ],
      "metadata": {
        "colab": {
          "base_uri": "https://localhost:8080/"
        },
        "id": "pFeJZdoISYde",
        "outputId": "a24c5fa4-ce75-4a13-db03-6923ef9e85c7"
      },
      "execution_count": 64,
      "outputs": [
        {
          "output_type": "stream",
          "name": "stdout",
          "text": [
            "마침표 입력 시 종료합니다.\n",
            "\n",
            "안녕하세요\n",
            "입력 : 안녕하세요\n",
            "Transformer : 안녕하세요 .\n",
            "\n",
            "질문 하나만 해도 돼요?\n",
            "입력 : 질문 하나만 해도 돼요?\n",
            "Transformer : 직접 물어보세요 .\n",
            "\n",
            "썸의 기준이 뭐죠?\n",
            "입력 : 썸의 기준이 뭐죠?\n",
            "Transformer : 둘 중 누구든 고백하면 사귀게 되는 게 썸이죠 .\n",
            "\n",
            "오늘 헤어졌거든요\n",
            "입력 : 오늘 헤어졌거든요\n",
            "Transformer : 동감입니다 .\n",
            "\n",
            "헤어져 본 적 있어요?\n",
            "입력 : 헤어져 본 적 있어요?\n",
            "Transformer : 인연이 거기까지일 수도 있어요 .\n",
            "\n",
            ".\n",
            "대화를 종료합니다.\n"
          ]
        }
      ]
    }
  ]
}