{
  "nbformat": 4,
  "nbformat_minor": 0,
  "metadata": {
    "colab": {
      "name": "Project_002_NLP_2.ipynb",
      "provenance": [],
      "collapsed_sections": [],
      "authorship_tag": "ABX9TyM9eqPnjjVXkFi8j++9bNMt",
      "include_colab_link": true
    },
    "kernelspec": {
      "name": "python3",
      "display_name": "Python 3"
    },
    "language_info": {
      "name": "python"
    },
    "accelerator": "GPU",
    "gpuClass": "standard"
  },
  "cells": [
    {
      "cell_type": "markdown",
      "metadata": {
        "id": "view-in-github",
        "colab_type": "text"
      },
      "source": [
        "<a href=\"https://colab.research.google.com/github/yangchangnaihoby/AI_7th/blob/master/Project_002_NLP_2.ipynb\" target=\"_parent\"><img src=\"https://colab.research.google.com/assets/colab-badge.svg\" alt=\"Open In Colab\"/></a>"
      ]
    },
    {
      "cell_type": "code",
      "execution_count": null,
      "metadata": {
        "id": "46YQg2NMGJv5"
      },
      "outputs": [],
      "source": [
        "import pandas as pd\n",
        "import numpy as np\n",
        "import matplotlib.pyplot as plt\n",
        "import re\n",
        "import urllib.request\n",
        "import time\n",
        "import tensorflow_datasets as tfds\n",
        "import tensorflow as tf"
      ]
    },
    {
      "cell_type": "code",
      "source": [
        "class PositionalEncoding(tf.keras.layers.Layer) :\n",
        "  def __init__(self, position, d_model) :\n",
        "    super(PositionalEncoding, self).__init__()\n",
        "    self.pos_encoding = self.positional_encoding(position, d_model)\n",
        "\n",
        "  def get_angles(self, position, i, d_model) :\n",
        "    angles = 1 / tf.pow(10000, (2 * (i // 2)) / tf.cast(d_model, tf.float32))\n",
        "    return position * angles\n",
        "\n",
        "  def positional_encoding(self, position, d_model) :\n",
        "    angle_rads = self.get_angles(\n",
        "        position = tf.range(position, dtype = tf.float32)[ : , tf.newaxis],\n",
        "        i = tf.range(d_model, dtype = tf.float32)[tf.newaxis, : ],\n",
        "        d_model = d_model)\n",
        "\n",
        "    # 배열의 짝수 인덱스(2i)에는 사인 함수 적용\n",
        "    sines = tf.math.sin(angle_rads[ : , 0 : : 2])\n",
        "\n",
        "    # 배열의 홀수 인덱스(2i+1)에는 코사인 함수 적용\n",
        "    cosines = tf.math.cos(angle_rads[ : , 1 : : 2])\n",
        "\n",
        "    angle_rads = np.zeros(angle_rads.shape)\n",
        "    angle_rads[ : , 0 : : 2] = sines\n",
        "    angle_rads[ : , 1 : : 2] = cosines\n",
        "    pos_encoding = tf.constant(angle_rads)\n",
        "    pos_encoding = pos_encoding[tf.newaxis, ...]\n",
        "\n",
        "    print(pos_encoding.shape)\n",
        "    return tf.cast(pos_encoding, tf.float32)\n",
        "\n",
        "  def call(self, inputs) :\n",
        "    return inputs + self.pos_encoding[ : , : tf.shape(inputs)[1], : ]"
      ],
      "metadata": {
        "id": "VCyemMLYJwOd"
      },
      "execution_count": null,
      "outputs": []
    },
    {
      "cell_type": "code",
      "source": [
        "# 문장의 길이 50, 임베딩 벡터의 차원 128\n",
        "sample_pos_encoding = PositionalEncoding(50, 128)"
      ],
      "metadata": {
        "colab": {
          "base_uri": "https://localhost:8080/"
        },
        "id": "A6hWAq6QKJwD",
        "outputId": "e24db412-047d-4db2-d43b-57c08b3803f6"
      },
      "execution_count": null,
      "outputs": [
        {
          "output_type": "stream",
          "name": "stdout",
          "text": [
            "(1, 50, 128)\n"
          ]
        }
      ]
    },
    {
      "cell_type": "code",
      "source": [
        "def scaled_dot_product_attention(query, key, value, mask) :\n",
        "  # query 크기 : (batch_size, num_heads, query의 문장 길이, d_model / num_heads)\n",
        "  # key 크기 : (batch_size, num_heads, key의 문장 길이, d_model / num_heads)\n",
        "  # value 크기 : (batch_size, num_heads, value의 문장 길이, d_model / num_heads)\n",
        "  # padding_mask : (batch_size, 1, 1, key의 문장 길이)\n",
        "\n",
        "  # Q와 K의 곱. 어텐션 스코어 행렬.\n",
        "  matmul_qk = tf.matmul(query, key, transpose_b = True)\n",
        "\n",
        "  # 스케일링\n",
        "  # dk의 루트값으로 나눠준다.\n",
        "  depth = tf.cast(tf.shape(key)[-1], tf.float32)\n",
        "  logits = matmul_qk / tf.math.sqrt(depth)\n",
        "\n",
        "  # 마스킹. 어텐션 스코어 행렬의 마스킹 할 위치에 매우 작은 음수값을 넣는다.\n",
        "  # 매우 작은 값이므로 소프트맥스 함수를 지나면 행렬의 해당 위치의 값은 0이 된다.\n",
        "  if mask is not None :\n",
        "    logits += (mask * -1e9)\n",
        "\n",
        "  # 소프트맥스 함수는 마지막 차원인 key의 문장 길이 방향으로 수행된다.\n",
        "  # attention weight : (batch_size, num_heads, query의 문장 길이, key의 문장 길이)\n",
        "  attention_weights = tf.nn.softmax(logits, axis = -1)\n",
        "\n",
        "  # output : (batch_size, num_heads, query의 문장 길이, d_model/num_heads)\n",
        "  output = tf.matmul(attention_weights, value)\n",
        "\n",
        "  return output, attention_weights"
      ],
      "metadata": {
        "id": "eojV2FVPKLMB"
      },
      "execution_count": null,
      "outputs": []
    },
    {
      "cell_type": "code",
      "source": [
        "# 임의의 Query, Key, Value인 Q, K, V 행렬 생성\n",
        "np.set_printoptions(suppress = True)\n",
        "temp_k = tf.constant([[10, 0, 0],\n",
        "                      [0, 10, 0],\n",
        "                      [0, 0, 10],\n",
        "                      [0, 0, 10]], dtype = tf.float32)  # (4, 3)\n",
        "\n",
        "temp_v = tf.constant([[   1, 0],\n",
        "                      [  10, 0],\n",
        "                      [ 100, 5],\n",
        "                      [1000, 6]], dtype = tf.float32)  # (4, 2)\n",
        "temp_q = tf.constant([[0, 10, 0]], dtype = tf.float32)  # (1, 3)"
      ],
      "metadata": {
        "id": "Im79GKygKPja"
      },
      "execution_count": null,
      "outputs": []
    },
    {
      "cell_type": "code",
      "source": [
        "class MultiHeadAttention(tf.keras.layers.Layer) :\n",
        "\n",
        "  def __init__(self, d_model, num_heads, name = \"multi_head_attention\") :\n",
        "    super(MultiHeadAttention, self).__init__(name = name)\n",
        "    self.num_heads = num_heads\n",
        "    self.d_model = d_model\n",
        "\n",
        "    assert d_model % self.num_heads == 0\n",
        "\n",
        "    # d_model을 num_heads로 나눈 값.\n",
        "    # 논문 기준 : 64\n",
        "    self.depth = d_model // self.num_heads\n",
        "\n",
        "    # WQ, WK, WV에 해당하는 밀집층 정의\n",
        "    self.query_dense = tf.keras.layers.Dense(units = d_model)\n",
        "    self.key_dense = tf.keras.layers.Dense(units = d_model)\n",
        "    self.value_dense = tf.keras.layers.Dense(units = d_model)\n",
        "\n",
        "    # WO에 해당하는 밀집층 정의\n",
        "    self.dense = tf.keras.layers.Dense(units = d_model)\n",
        "\n",
        "  # num_heads 개수만큼 q, k, v를 split하는 함수\n",
        "  def split_heads(self, inputs, batch_size) :\n",
        "    inputs = tf.reshape(inputs, shape = (batch_size, -1, self.num_heads, self.depth))\n",
        "    return tf.transpose(inputs, perm = [0, 2, 1, 3])\n",
        "\n",
        "  def call(self, inputs) :\n",
        "    query, key, value, mask = inputs['query'], inputs['key'], inputs['value'], inputs['mask']\n",
        "    batch_size = tf.shape(query)[0]\n",
        "\n",
        "    # 1. WQ, WK, WV에 해당하는 밀집층 지나기\n",
        "    # q : (batch_size, query의 문장 길이, d_model)\n",
        "    # k : (batch_size, key의 문장 길이, d_model)\n",
        "    # v : (batch_size, value의 문장 길이, d_model)\n",
        "    # 참고) 인코더(k, v)-디코더(q) 어텐션에서는 query 길이와 key, value의 길이는 다를 수 있다.\n",
        "    query = self.query_dense(query)\n",
        "    key = self.key_dense(key)\n",
        "    value = self.value_dense(value)\n",
        "\n",
        "    # 2. 헤드 나누기\n",
        "    # q : (batch_size, num_heads, query의 문장 길이, d_model / num_heads)\n",
        "    # k : (batch_size, num_heads, key의 문장 길이, d_model / num_heads)\n",
        "    # v : (batch_size, num_heads, value의 문장 길이, d_model / num_heads)\n",
        "    query = self.split_heads(query, batch_size)\n",
        "    key = self.split_heads(key, batch_size)\n",
        "    value = self.split_heads(value, batch_size)\n",
        "\n",
        "    # 3. 스케일드 닷 프로덕트 어텐션. 앞서 구현한 함수 사용.\n",
        "    # (batch_size, num_heads, query의 문장 길이, d_model / num_heads)\n",
        "    scaled_attention, _ = scaled_dot_product_attention(query, key, value, mask)\n",
        "    # (batch_size, query의 문장 길이, num_heads, d_model / num_heads)\n",
        "    scaled_attention = tf.transpose(scaled_attention, perm = [0, 2, 1, 3])\n",
        "\n",
        "    # 4. 헤드 연결(concatenate)하기\n",
        "    # (batch_size, query의 문장 길이, d_model)\n",
        "    concat_attention = tf.reshape(scaled_attention, (batch_size, -1, self.d_model))\n",
        "\n",
        "    # 5. WO에 해당하는 밀집층 지나기\n",
        "    # (batch_size, query의 문장 길이, d_model)\n",
        "    outputs = self.dense(concat_attention)\n",
        "\n",
        "    return outputs"
      ],
      "metadata": {
        "id": "cskwRy4oKT1e"
      },
      "execution_count": null,
      "outputs": []
    },
    {
      "cell_type": "code",
      "source": [
        "def create_padding_mask(x) :\n",
        "  mask = tf.cast(tf.math.equal(x, 0), tf.float32)\n",
        "  # (batch_size, 1, 1, key의 문장 길이)\n",
        "  return mask[ : , tf.newaxis, tf.newaxis, : ]"
      ],
      "metadata": {
        "id": "t8f2FGb-KuR1"
      },
      "execution_count": null,
      "outputs": []
    },
    {
      "cell_type": "code",
      "source": [
        "def encoder_layer(dff, d_model, num_heads, dropout, name = \"encoder_layer\") :\n",
        "  inputs = tf.keras.Input(shape = (None, d_model), name = \"inputs\")\n",
        "\n",
        "  # 인코더는 패딩 마스크 사용\n",
        "  padding_mask = tf.keras.Input(shape = (1, 1, None), name = \"padding_mask\")\n",
        "\n",
        "  # 멀티-헤드 어텐션 (첫번째 서브층 / 셀프 어텐션)\n",
        "  attention = MultiHeadAttention(\n",
        "      d_model, num_heads, name = \"attention\")({\n",
        "          'query' : inputs, 'key' : inputs, 'value' : inputs, # Q = K = V\n",
        "          'mask' : padding_mask # 패딩 마스크 사용\n",
        "      })\n",
        "\n",
        "  # 드롭아웃 + 잔차 연결과 층 정규화\n",
        "  attention = tf.keras.layers.Dropout(rate = dropout)(attention)\n",
        "  attention = tf.keras.layers.LayerNormalization(epsilon = 1e-6)(inputs + attention)\n",
        "\n",
        "  # 포지션 와이즈 피드 포워드 신경망 (두번째 서브층)\n",
        "  outputs = tf.keras.layers.Dense(units = dff, activation = 'relu')(attention)\n",
        "  outputs = tf.keras.layers.Dense(units = d_model)(outputs)\n",
        "\n",
        "  # 드롭아웃 + 잔차 연결과 층 정규화\n",
        "  outputs = tf.keras.layers.Dropout(rate = dropout)(outputs)\n",
        "  outputs = tf.keras.layers.LayerNormalization(epsilon = 1e-6)(attention + outputs)\n",
        "\n",
        "  return tf.keras.Model(inputs = [inputs, padding_mask], outputs = outputs, name = name)"
      ],
      "metadata": {
        "id": "JRPT2EUQKyIq"
      },
      "execution_count": null,
      "outputs": []
    },
    {
      "cell_type": "code",
      "source": [
        "def encoder(vocab_size, num_layers, dff, d_model, num_heads, dropout, name = \"encoder\") :\n",
        "  inputs = tf.keras.Input(shape = (None, ), name = \"inputs\")\n",
        "\n",
        "  # 인코더는 패딩 마스크 사용\n",
        "  padding_mask = tf.keras.Input(shape = (1, 1, None), name = \"padding_mask\")\n",
        "\n",
        "  # 포지셔널 인코딩 + 드롭아웃\n",
        "  embeddings = tf.keras.layers.Embedding(vocab_size, d_model)(inputs)\n",
        "  embeddings *= tf.math.sqrt(tf.cast(d_model, tf.float32))\n",
        "  embeddings = PositionalEncoding(vocab_size, d_model)(embeddings)\n",
        "  outputs = tf.keras.layers.Dropout(rate = dropout)(embeddings)\n",
        "\n",
        "  # 인코더를 num_layers개 쌓기\n",
        "  for i in range(num_layers) :\n",
        "    outputs = encoder_layer(dff = dff, d_model = d_model, num_heads = num_heads,\n",
        "        dropout = dropout, name = \"encoder_layer_{}\".format(i),\n",
        "    )([outputs, padding_mask])\n",
        "\n",
        "  return tf.keras.Model(inputs = [inputs, padding_mask], outputs = outputs, name = name)"
      ],
      "metadata": {
        "id": "0q-yKuHpK0PM"
      },
      "execution_count": null,
      "outputs": []
    },
    {
      "cell_type": "code",
      "source": [
        "# 디코더의 첫번째 서브층(sublayer)에서 미래 토큰을 Mask하는 함수\n",
        "def create_look_ahead_mask(x) :\n",
        "  seq_len = tf.shape(x)[1]\n",
        "  look_ahead_mask = 1 - tf.linalg.band_part(tf.ones((seq_len, seq_len)), -1, 0)\n",
        "  padding_mask = create_padding_mask(x) # 패딩 마스크도 포함\n",
        "  return tf.maximum(look_ahead_mask, padding_mask)"
      ],
      "metadata": {
        "id": "yBlYZoHcK11u"
      },
      "execution_count": null,
      "outputs": []
    },
    {
      "cell_type": "code",
      "source": [
        "def decoder_layer(dff, d_model, num_heads, dropout, name = \"decoder_layer\") :\n",
        "  inputs = tf.keras.Input(shape = (None, d_model), name = \"inputs\")\n",
        "  enc_outputs = tf.keras.Input(shape = (None, d_model), name = \"encoder_outputs\")\n",
        "\n",
        "  # 룩어헤드 마스크(첫번째 서브층)\n",
        "  look_ahead_mask = tf.keras.Input(shape = (1, None, None), name = \"look_ahead_mask\")\n",
        "\n",
        "  # 패딩 마스크(두번째 서브층)\n",
        "  padding_mask = tf.keras.Input(shape = (1, 1, None), name = 'padding_mask')\n",
        "\n",
        "  # 멀티-헤드 어텐션 (첫번째 서브층 / 마스크드 셀프 어텐션)\n",
        "  attention1 = MultiHeadAttention(\n",
        "      d_model, num_heads, name = \"attention_1\")(inputs = {\n",
        "          'query' : inputs, 'key' : inputs, 'value' : inputs, # Q = K = V\n",
        "          'mask' : look_ahead_mask # 룩어헤드 마스크\n",
        "      })\n",
        "\n",
        "  # 잔차 연결과 층 정규화\n",
        "  attention1 = tf.keras.layers.LayerNormalization(epsilon = 1e-6)(attention1 + inputs)\n",
        "\n",
        "  # 멀티-헤드 어텐션 (두번째 서브층 / 디코더-인코더 어텐션)\n",
        "  attention2 = MultiHeadAttention(\n",
        "      d_model, num_heads, name = \"attention_2\")(inputs = {\n",
        "          'query' : attention1, 'key' : enc_outputs, 'value' : enc_outputs, # Q != K = V\n",
        "          'mask' : padding_mask # 패딩 마스크\n",
        "      })\n",
        "\n",
        "  # 드롭아웃 + 잔차 연결과 층 정규화\n",
        "  attention2 = tf.keras.layers.Dropout(rate = dropout)(attention2)\n",
        "  attention2 = tf.keras.layers.LayerNormalization(epsilon = 1e-6)(attention2 + attention1)\n",
        "\n",
        "  # 포지션 와이즈 피드 포워드 신경망 (세번째 서브층)\n",
        "  outputs = tf.keras.layers.Dense(units = dff, activation = 'relu')(attention2)\n",
        "  outputs = tf.keras.layers.Dense(units = d_model)(outputs)\n",
        "\n",
        "  # 드롭아웃 + 잔차 연결과 층 정규화\n",
        "  outputs = tf.keras.layers.Dropout(rate = dropout)(outputs)\n",
        "  outputs = tf.keras.layers.LayerNormalization(epsilon = 1e-6)(outputs + attention2)\n",
        "\n",
        "  return tf.keras.Model(\n",
        "      inputs = [inputs, enc_outputs, look_ahead_mask, padding_mask],\n",
        "      outputs = outputs,\n",
        "      name = name)"
      ],
      "metadata": {
        "id": "yO5m8YVDK3dk"
      },
      "execution_count": null,
      "outputs": []
    },
    {
      "cell_type": "code",
      "source": [
        "def decoder(vocab_size, num_layers, dff, d_model, num_heads, dropout, name = 'decoder') :\n",
        "  inputs = tf.keras.Input(shape = (None, ), name = 'inputs')\n",
        "  enc_outputs = tf.keras.Input(shape = (None, d_model), name = 'encoder_outputs')\n",
        "\n",
        "  # 디코더는 룩어헤드 마스크(첫번째 서브층)와 패딩 마스크(두번째 서브층) 둘 다 사용.\n",
        "  look_ahead_mask = tf.keras.Input(shape = (1, None, None), name = 'look_ahead_mask')\n",
        "  padding_mask = tf.keras.Input(shape = (1, 1, None), name = 'padding_mask')\n",
        "\n",
        "  # 포지셔널 인코딩 + 드롭아웃\n",
        "  embeddings = tf.keras.layers.Embedding(vocab_size, d_model)(inputs)\n",
        "  embeddings *= tf.math.sqrt(tf.cast(d_model, tf.float32))\n",
        "  embeddings = PositionalEncoding(vocab_size, d_model)(embeddings)\n",
        "  outputs = tf.keras.layers.Dropout(rate = dropout)(embeddings)\n",
        "\n",
        "  # 디코더를 num_layers개 쌓기\n",
        "  for i in range(num_layers):\n",
        "    outputs = decoder_layer(dff = dff, d_model = d_model, num_heads = num_heads,\n",
        "        dropout = dropout, name = 'decoder_layer_{}'.format(i),\n",
        "    )(inputs = [outputs, enc_outputs, look_ahead_mask, padding_mask])\n",
        "\n",
        "  return tf.keras.Model(\n",
        "      inputs = [inputs, enc_outputs, look_ahead_mask, padding_mask],\n",
        "      outputs = outputs,\n",
        "      name = name)"
      ],
      "metadata": {
        "id": "KFDP9OdzK7Sl"
      },
      "execution_count": null,
      "outputs": []
    },
    {
      "cell_type": "code",
      "source": [
        "def transformer(vocab_size, num_layers, dff, d_model, num_heads, dropout, name = \"transformer\") :\n",
        "\n",
        "  # 인코더의 입력\n",
        "  inputs = tf.keras.Input(shape = (None, ), name = \"inputs\")\n",
        "\n",
        "  # 디코더의 입력\n",
        "  dec_inputs = tf.keras.Input(shape = (None, ), name = \"dec_inputs\")\n",
        "\n",
        "  # 인코더의 패딩 마스크\n",
        "  enc_padding_mask = tf.keras.layers.Lambda(\n",
        "      create_padding_mask, output_shape = (1, 1, None),\n",
        "      name = 'enc_padding_mask')(inputs)\n",
        "\n",
        "  # 디코더의 룩어헤드 마스크(첫번째 서브층)\n",
        "  look_ahead_mask = tf.keras.layers.Lambda(\n",
        "      create_look_ahead_mask, output_shape = (1, None, None),\n",
        "      name = 'look_ahead_mask')(dec_inputs)\n",
        "\n",
        "  # 디코더의 패딩 마스크(두번째 서브층)\n",
        "  dec_padding_mask = tf.keras.layers.Lambda(\n",
        "      create_padding_mask, output_shape = (1, 1, None),\n",
        "      name = 'dec_padding_mask')(inputs)\n",
        "\n",
        "  # 인코더의 출력은 enc_outputs. 디코더로 전달된다.\n",
        "  enc_outputs = encoder(vocab_size = vocab_size, num_layers = num_layers, dff = dff,\n",
        "      d_model = d_model, num_heads = num_heads, dropout = dropout,\n",
        "  )(inputs = [inputs, enc_padding_mask]) # 인코더의 입력은 입력 문장과 패딩 마스크\n",
        "\n",
        "  # 디코더의 출력은 dec_outputs. 출력층으로 전달된다.\n",
        "  dec_outputs = decoder(vocab_size = vocab_size, num_layers = num_layers, dff = dff,\n",
        "      d_model = d_model, num_heads = num_heads, dropout = dropout,\n",
        "  )(inputs = [dec_inputs, enc_outputs, look_ahead_mask, dec_padding_mask])\n",
        "\n",
        "  # 다음 단어 예측을 위한 출력층\n",
        "  outputs = tf.keras.layers.Dense(units = vocab_size, name = \"outputs\")(dec_outputs)\n",
        "\n",
        "  return tf.keras.Model(inputs = [inputs, dec_inputs], outputs = outputs, name = name)"
      ],
      "metadata": {
        "id": "F8q4-PGgK8_t"
      },
      "execution_count": null,
      "outputs": []
    },
    {
      "cell_type": "code",
      "source": [
        "def loss_function(y_true, y_pred) :\n",
        "  y_true = tf.reshape(y_true, shape = (-1, MAX_LENGTH - 1))\n",
        "\n",
        "  loss = tf.keras.losses.SparseCategoricalCrossentropy(\n",
        "      from_logits = True, reduction = 'none')(y_true, y_pred)\n",
        "\n",
        "  mask = tf.cast(tf.not_equal(y_true, 0), tf.float32)\n",
        "  loss = tf.multiply(loss, mask)\n",
        "\n",
        "  return tf.reduce_mean(loss)"
      ],
      "metadata": {
        "id": "jIer821CLADs"
      },
      "execution_count": null,
      "outputs": []
    },
    {
      "cell_type": "code",
      "source": [
        "class CustomSchedule(tf.keras.optimizers.schedules.LearningRateSchedule) :\n",
        "\n",
        "  def __init__(self, d_model, warmup_steps = 4000) :\n",
        "    super(CustomSchedule, self).__init__()\n",
        "    self.d_model = d_model\n",
        "    self.d_model = tf.cast(self.d_model, tf.float32)\n",
        "    self.warmup_steps = warmup_steps\n",
        "\n",
        "  def __call__(self, step) :\n",
        "    arg1 = tf.math.rsqrt(step)\n",
        "    arg2 = step * (self.warmup_steps ** -1.5)\n",
        "\n",
        "    return tf.math.rsqrt(self.d_model) * tf.math.minimum(arg1, arg2)"
      ],
      "metadata": {
        "id": "R9RQqz5LLCYu"
      },
      "execution_count": null,
      "outputs": []
    },
    {
      "cell_type": "code",
      "source": [
        "sample_learning_rate = CustomSchedule(d_model = 128)"
      ],
      "metadata": {
        "id": "CX727SLqLEB1"
      },
      "execution_count": null,
      "outputs": []
    },
    {
      "cell_type": "code",
      "source": [
        "train_data = pd.read_csv('ChatbotData.csv')\n",
        "\n",
        "questions = []\n",
        "for sentence in train_data['Q'] :\n",
        "    sentence = re.sub(r\"([?.!,])\", r\" \\1 \", sentence)\n",
        "    sentence = sentence.strip()\n",
        "    questions.append(sentence)\n",
        "\n",
        "answers = []\n",
        "for sentence in train_data['A'] :\n",
        "    sentence = re.sub(r\"([?.!,])\", r\" \\1 \", sentence)\n",
        "    sentence = sentence.strip()\n",
        "    answers.append(sentence)\n",
        "\n",
        "tokenizer = tfds.deprecated.text.SubwordTextEncoder.build_from_corpus(\n",
        "    questions + answers, target_vocab_size = 2 ** 13)\n",
        "\n",
        "START_TOKEN, END_TOKEN = [tokenizer.vocab_size], [tokenizer.vocab_size + 1]\n",
        "VOCAB_SIZE = tokenizer.vocab_size + 2"
      ],
      "metadata": {
        "id": "YfMo7IOuLGK5"
      },
      "execution_count": null,
      "outputs": []
    },
    {
      "cell_type": "code",
      "source": [
        "MAX_LENGTH = 40\n",
        "\n",
        "def tokenize_and_filter(inputs, outputs) :\n",
        "\n",
        "  tokenized_inputs, tokenized_outputs = [], []\n",
        "\n",
        "  for (sentence1, sentence2) in zip(inputs, outputs) :\n",
        "\n",
        "    sentence1 = START_TOKEN + tokenizer.encode(sentence1) + END_TOKEN\n",
        "    sentence2 = START_TOKEN + tokenizer.encode(sentence2) + END_TOKEN\n",
        "\n",
        "    tokenized_inputs.append(sentence1)\n",
        "    tokenized_outputs.append(sentence2)\n",
        "\n",
        "  tokenized_inputs = tf.keras.preprocessing.sequence.pad_sequences(\n",
        "      tokenized_inputs, maxlen = MAX_LENGTH, padding = 'post')\n",
        "  tokenized_outputs = tf.keras.preprocessing.sequence.pad_sequences(\n",
        "      tokenized_outputs, maxlen = MAX_LENGTH, padding = 'post')\n",
        "\n",
        "  return tokenized_inputs, tokenized_outputs"
      ],
      "metadata": {
        "id": "ZYn8F8EzMYtj"
      },
      "execution_count": null,
      "outputs": []
    },
    {
      "cell_type": "code",
      "source": [
        "questions, answers = tokenize_and_filter(questions, answers)"
      ],
      "metadata": {
        "id": "EeYsySeEMeHB"
      },
      "execution_count": null,
      "outputs": []
    },
    {
      "cell_type": "code",
      "source": [
        "BATCH_SIZE = 64\n",
        "BUFFER_SIZE = 20000\n",
        "\n",
        "dataset = tf.data.Dataset.from_tensor_slices((\n",
        "    {\n",
        "        'inputs' : questions,\n",
        "        'dec_inputs' : answers[ : , : -1]\n",
        "    },\n",
        "    {\n",
        "        'outputs' : answers[ : , 1 : ]\n",
        "    },\n",
        "))\n",
        "\n",
        "dataset = dataset.cache()\n",
        "dataset = dataset.shuffle(BUFFER_SIZE)\n",
        "dataset = dataset.batch(BATCH_SIZE)\n",
        "dataset = dataset.prefetch(tf.data.experimental.AUTOTUNE)"
      ],
      "metadata": {
        "id": "Fav4Op-VMmnu"
      },
      "execution_count": null,
      "outputs": []
    },
    {
      "cell_type": "code",
      "source": [
        "tf.keras.backend.clear_session()\n",
        "\n",
        "# 하이퍼파라미터\n",
        "D_MODEL = 256\n",
        "NUM_LAYERS = 2\n",
        "NUM_HEADS = 8\n",
        "DFF = 512\n",
        "DROPOUT = 0.1\n",
        "\n",
        "model = transformer(\n",
        "    vocab_size = VOCAB_SIZE,\n",
        "    num_layers = NUM_LAYERS,\n",
        "    dff = DFF,\n",
        "    d_model = D_MODEL,\n",
        "    num_heads = NUM_HEADS,\n",
        "    dropout = DROPOUT)"
      ],
      "metadata": {
        "colab": {
          "base_uri": "https://localhost:8080/"
        },
        "id": "Vblyw5ZsMotO",
        "outputId": "acbf279a-fd83-4f9c-c51d-c40530dd55c9"
      },
      "execution_count": null,
      "outputs": [
        {
          "output_type": "stream",
          "name": "stdout",
          "text": [
            "(1, 8180, 256)\n",
            "(1, 8180, 256)\n"
          ]
        }
      ]
    },
    {
      "cell_type": "code",
      "source": [
        "learning_rate = CustomSchedule(D_MODEL)\n",
        "\n",
        "optimizer = tf.keras.optimizers.Adam(learning_rate, beta_1 = 0.9, beta_2 = 0.98, epsilon = 1e-9)\n",
        "\n",
        "def accuracy(y_true, y_pred) :\n",
        "  y_true = tf.reshape(y_true, shape = (-1, MAX_LENGTH - 1))\n",
        "  return tf.keras.metrics.sparse_categorical_accuracy(y_true, y_pred)\n",
        "\n",
        "model.compile(optimizer = optimizer, loss = loss_function, metrics = [accuracy])"
      ],
      "metadata": {
        "id": "hwSHdEzvMtZa"
      },
      "execution_count": null,
      "outputs": []
    },
    {
      "cell_type": "code",
      "source": [
        "from tensorflow.keras.callbacks import EarlyStopping\n",
        "\n",
        "es = EarlyStopping(monitor = 'loss', mode = 'min', verbose = 1, patience = 5)"
      ],
      "metadata": {
        "id": "6nqxC4oOMu17"
      },
      "execution_count": null,
      "outputs": []
    },
    {
      "cell_type": "code",
      "source": [
        "EPOCHS = 50\n",
        "model.fit(dataset, callbacks = es, epochs = EPOCHS)"
      ],
      "metadata": {
        "colab": {
          "base_uri": "https://localhost:8080/"
        },
        "id": "lEuvu68fMy7h",
        "outputId": "78968001-c0d1-4252-e93a-4b39903ac468"
      },
      "execution_count": null,
      "outputs": [
        {
          "output_type": "stream",
          "name": "stdout",
          "text": [
            "Epoch 1/50\n",
            "185/185 [==============================] - 20s 58ms/step - loss: 1.4518 - accuracy: 0.0261\n",
            "Epoch 2/50\n",
            "185/185 [==============================] - 11s 57ms/step - loss: 1.1819 - accuracy: 0.0494\n",
            "Epoch 3/50\n",
            "185/185 [==============================] - 11s 58ms/step - loss: 1.0083 - accuracy: 0.0506\n",
            "Epoch 4/50\n",
            "185/185 [==============================] - 11s 58ms/step - loss: 0.9297 - accuracy: 0.0543\n",
            "Epoch 5/50\n",
            "185/185 [==============================] - 11s 59ms/step - loss: 0.8698 - accuracy: 0.0576\n",
            "Epoch 6/50\n",
            "185/185 [==============================] - 12s 63ms/step - loss: 0.8096 - accuracy: 0.0617\n",
            "Epoch 7/50\n",
            "185/185 [==============================] - 11s 58ms/step - loss: 0.7439 - accuracy: 0.0677\n",
            "Epoch 8/50\n",
            "185/185 [==============================] - 11s 58ms/step - loss: 0.6706 - accuracy: 0.0756\n",
            "Epoch 9/50\n",
            "185/185 [==============================] - 11s 58ms/step - loss: 0.5924 - accuracy: 0.0841\n",
            "Epoch 10/50\n",
            "185/185 [==============================] - 11s 58ms/step - loss: 0.5103 - accuracy: 0.0934\n",
            "Epoch 11/50\n",
            "185/185 [==============================] - 11s 58ms/step - loss: 0.4271 - accuracy: 0.1039\n",
            "Epoch 12/50\n",
            "185/185 [==============================] - 11s 58ms/step - loss: 0.3467 - accuracy: 0.1148\n",
            "Epoch 13/50\n",
            "185/185 [==============================] - 11s 59ms/step - loss: 0.2719 - accuracy: 0.1257\n",
            "Epoch 14/50\n",
            "185/185 [==============================] - 11s 59ms/step - loss: 0.2065 - accuracy: 0.1357\n",
            "Epoch 15/50\n",
            "185/185 [==============================] - 11s 59ms/step - loss: 0.1535 - accuracy: 0.1449\n",
            "Epoch 16/50\n",
            "185/185 [==============================] - 11s 58ms/step - loss: 0.1106 - accuracy: 0.1528\n",
            "Epoch 17/50\n",
            "185/185 [==============================] - 11s 58ms/step - loss: 0.0807 - accuracy: 0.1583\n",
            "Epoch 18/50\n",
            "185/185 [==============================] - 11s 58ms/step - loss: 0.0622 - accuracy: 0.1615\n",
            "Epoch 19/50\n",
            "185/185 [==============================] - 11s 59ms/step - loss: 0.0520 - accuracy: 0.1633\n",
            "Epoch 20/50\n",
            "185/185 [==============================] - 11s 59ms/step - loss: 0.0460 - accuracy: 0.1642\n",
            "Epoch 21/50\n",
            "185/185 [==============================] - 11s 59ms/step - loss: 0.0438 - accuracy: 0.1645\n",
            "Epoch 22/50\n",
            "185/185 [==============================] - 11s 58ms/step - loss: 0.0408 - accuracy: 0.1651\n",
            "Epoch 23/50\n",
            "185/185 [==============================] - 11s 58ms/step - loss: 0.0367 - accuracy: 0.1660\n",
            "Epoch 24/50\n",
            "185/185 [==============================] - 11s 58ms/step - loss: 0.0318 - accuracy: 0.1671\n",
            "Epoch 25/50\n",
            "185/185 [==============================] - 11s 59ms/step - loss: 0.0288 - accuracy: 0.1680\n",
            "Epoch 26/50\n",
            "185/185 [==============================] - 11s 59ms/step - loss: 0.0248 - accuracy: 0.1689\n",
            "Epoch 27/50\n",
            "185/185 [==============================] - 11s 58ms/step - loss: 0.0230 - accuracy: 0.1693\n",
            "Epoch 28/50\n",
            "185/185 [==============================] - 11s 58ms/step - loss: 0.0199 - accuracy: 0.1702\n",
            "Epoch 29/50\n",
            "185/185 [==============================] - 11s 59ms/step - loss: 0.0183 - accuracy: 0.1705\n",
            "Epoch 30/50\n",
            "185/185 [==============================] - 11s 59ms/step - loss: 0.0174 - accuracy: 0.1708\n",
            "Epoch 31/50\n",
            "185/185 [==============================] - 11s 58ms/step - loss: 0.0155 - accuracy: 0.1713\n",
            "Epoch 32/50\n",
            "185/185 [==============================] - 11s 59ms/step - loss: 0.0146 - accuracy: 0.1715\n",
            "Epoch 33/50\n",
            "185/185 [==============================] - 11s 58ms/step - loss: 0.0134 - accuracy: 0.1718\n",
            "Epoch 34/50\n",
            "185/185 [==============================] - 11s 59ms/step - loss: 0.0129 - accuracy: 0.1719\n",
            "Epoch 35/50\n",
            "185/185 [==============================] - 11s 59ms/step - loss: 0.0120 - accuracy: 0.1722\n",
            "Epoch 36/50\n",
            "185/185 [==============================] - 11s 59ms/step - loss: 0.0109 - accuracy: 0.1724\n",
            "Epoch 37/50\n",
            "185/185 [==============================] - 11s 59ms/step - loss: 0.0100 - accuracy: 0.1726\n",
            "Epoch 38/50\n",
            "185/185 [==============================] - 12s 63ms/step - loss: 0.0098 - accuracy: 0.1727\n",
            "Epoch 39/50\n",
            "185/185 [==============================] - 13s 72ms/step - loss: 0.0093 - accuracy: 0.1728\n",
            "Epoch 40/50\n",
            "185/185 [==============================] - 12s 65ms/step - loss: 0.0089 - accuracy: 0.1729\n",
            "Epoch 41/50\n",
            "185/185 [==============================] - 11s 62ms/step - loss: 0.0081 - accuracy: 0.1731\n",
            "Epoch 42/50\n",
            "185/185 [==============================] - 11s 58ms/step - loss: 0.0079 - accuracy: 0.1732\n",
            "Epoch 43/50\n",
            "185/185 [==============================] - 11s 58ms/step - loss: 0.0078 - accuracy: 0.1731\n",
            "Epoch 44/50\n",
            "185/185 [==============================] - 11s 58ms/step - loss: 0.0075 - accuracy: 0.1732\n",
            "Epoch 45/50\n",
            "185/185 [==============================] - 11s 59ms/step - loss: 0.0068 - accuracy: 0.1734\n",
            "Epoch 46/50\n",
            "185/185 [==============================] - 11s 59ms/step - loss: 0.0068 - accuracy: 0.1735\n",
            "Epoch 47/50\n",
            "185/185 [==============================] - 11s 59ms/step - loss: 0.0064 - accuracy: 0.1734\n",
            "Epoch 48/50\n",
            "185/185 [==============================] - 11s 58ms/step - loss: 0.0064 - accuracy: 0.1735\n",
            "Epoch 49/50\n",
            "185/185 [==============================] - 12s 63ms/step - loss: 0.0059 - accuracy: 0.1736\n",
            "Epoch 50/50\n",
            "185/185 [==============================] - 11s 59ms/step - loss: 0.0056 - accuracy: 0.1738\n"
          ]
        },
        {
          "output_type": "execute_result",
          "data": {
            "text/plain": [
              "<keras.callbacks.History at 0x7fa4300a30d0>"
            ]
          },
          "metadata": {},
          "execution_count": 24
        }
      ]
    },
    {
      "cell_type": "code",
      "source": [
        "def preprocess_sentence(sentence) :\n",
        "\n",
        "  sentence = re.sub(r\"([?.!,])\", r\" \\1 \", sentence)\n",
        "  sentence = sentence.strip()\n",
        "\n",
        "  return sentence\n",
        "\n",
        "\n",
        "def evaluate(sentence) :\n",
        "\n",
        "  sentence = preprocess_sentence(sentence)\n",
        "  sentence = tf.expand_dims(START_TOKEN + tokenizer.encode(sentence) + END_TOKEN, axis = 0)\n",
        "\n",
        "  output = tf.expand_dims(START_TOKEN, 0)\n",
        "\n",
        "  for i in range(MAX_LENGTH) :\n",
        "    predictions = model(inputs = [sentence, output], training = False)\n",
        "    predictions = predictions[ : , -1 : , : ]\n",
        "    predicted_id = tf.cast(tf.argmax(predictions, axis = -1), tf.int32)\n",
        "\n",
        "    if tf.equal(predicted_id, END_TOKEN[0]) :\n",
        "      break\n",
        "\n",
        "    output = tf.concat([output, predicted_id], axis = -1)\n",
        "\n",
        "  return tf.squeeze(output, axis = 0)\n",
        "\n",
        "\n",
        "def predict(sentence) :\n",
        "\n",
        "  prediction = evaluate(sentence)\n",
        "  predicted_sentence = tokenizer.decode([i for i in prediction if i < tokenizer.vocab_size])\n",
        "\n",
        "  print('입력 : {}'.format(sentence))\n",
        "  print('Transformer : {}'.format(predicted_sentence))\n",
        "\n",
        "  return predicted_sentence\n",
        "\n",
        "\n",
        "def ChatBot() :\n",
        "\n",
        "  print('마침표 입력 시 종료합니다.')\n",
        "  print()\n",
        "\n",
        "  while True :\n",
        "\n",
        "    chatbot_input = input()\n",
        "\n",
        "    if chatbot_input == '.' :\n",
        "      print('대화를 종료합니다.')\n",
        "      break\n",
        "\n",
        "    output = predict(chatbot_input)\n",
        "    print()"
      ],
      "metadata": {
        "id": "WD5jlJrhM1Rp"
      },
      "execution_count": null,
      "outputs": []
    },
    {
      "cell_type": "code",
      "source": [
        "ChatBot()"
      ],
      "metadata": {
        "colab": {
          "base_uri": "https://localhost:8080/"
        },
        "id": "eTiLvZcLM-NK",
        "outputId": "2176d897-c38b-4b68-e910-f26f0f94d557"
      },
      "execution_count": null,
      "outputs": [
        {
          "output_type": "stream",
          "name": "stdout",
          "text": [
            "마침표 입력 시 종료합니다.\n",
            "\n",
            "안녕하세요\n",
            "입력 : 안녕하세요\n",
            "Transformer : 안녕하세요 .\n",
            "\n",
            "고마워요\n",
            "입력 : 고마워요\n",
            "Transformer : 감사합니다 .\n",
            "\n",
            "뭐하고 계세요\n",
            "입력 : 뭐하고 계세요\n",
            "Transformer : 저는 별로요 .\n",
            "\n",
            "뭐하고 계세요?\n",
            "입력 : 뭐하고 계세요?\n",
            "Transformer : 저는 돈이 없어요 .\n",
            "\n",
            "누구세요?\n",
            "입력 : 누구세요?\n",
            "Transformer : 저는 위로해드리는 로봇이에요 .\n",
            "\n",
            "무슨 로봇이라고요?\n",
            "입력 : 무슨 로봇이라고요?\n",
            "Transformer : 저는 사람으로 태어나고 싶어요 .\n",
            "\n",
            "왜 사람으로 태어나고 싶어요?\n",
            "입력 : 왜 사람으로 태어나고 싶어요?\n",
            "Transformer : 어렵네요 .\n",
            "\n",
            ".\n",
            "대화를 종료합니다.\n"
          ]
        }
      ]
    },
    {
      "cell_type": "code",
      "source": [
        "model.save_weights('transformer_weights_001')"
      ],
      "metadata": {
        "id": "jcE3dgQHcb4Y"
      },
      "execution_count": null,
      "outputs": []
    }
  ]
}