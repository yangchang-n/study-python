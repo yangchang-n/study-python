{
  "cells": [
    {
      "cell_type": "markdown",
      "metadata": {
        "id": "view-in-github",
        "colab_type": "text"
      },
      "source": [
        "<a href=\"https://colab.research.google.com/github/yangchangnaihoby/AI_7th/blob/master/Project_004_CV_4.ipynb\" target=\"_parent\"><img src=\"https://colab.research.google.com/assets/colab-badge.svg\" alt=\"Open In Colab\"/></a>"
      ]
    },
    {
      "cell_type": "code",
      "execution_count": null,
      "id": "83a8f42a",
      "metadata": {
        "id": "83a8f42a"
      },
      "outputs": [],
      "source": [
        "!pip install pytesseract\n",
        "!pip install imutils\n",
        "!pip install selenium"
      ]
    },
    {
      "cell_type": "code",
      "execution_count": null,
      "id": "2cd9cec8",
      "metadata": {
        "id": "2cd9cec8"
      },
      "outputs": [],
      "source": [
        "import pandas as pd\n",
        "import numpy as np\n",
        "import matplotlib.pyplot as plt\n",
        "\n",
        "import cv2\n",
        "import re\n",
        "import requests\n",
        "import pytesseract\n",
        "import imutils\n",
        "from imutils.perspective import four_point_transform\n",
        "from PIL import ImageFont, ImageDraw, Image\n",
        "from selenium import webdriver\n",
        "from selenium.webdriver.firefox.options import Options\n",
        "\n",
        "pytesseract.pytesseract.tesseract_cmd = r'C:\\Program Files\\Tesseract-OCR\\tesseract.exe'"
      ]
    },
    {
      "cell_type": "code",
      "execution_count": null,
      "id": "1ea38db0",
      "metadata": {
        "id": "1ea38db0"
      },
      "outputs": [],
      "source": [
        "img = cv2.imread('cvimage/sample_2.png')\n",
        "img = cv2.cvtColor(img, cv2.COLOR_BGR2RGB)\n",
        "\n",
        "font = ImageFont.truetype('fonts/gulim.ttc', 20)\n",
        "\n",
        "# img_h, img_w = img.shape[ : 2]\n",
        "# boxes = pytesseract.image_to_boxes(img)\n",
        "# for b in boxes.splitlines() :\n",
        "#     b = b.split(' ')\n",
        "#     x, y, w, h = int(b[1]), int(b[2]), int(b[3]), int(b[4])\n",
        "#     cv2.rectangle(img, (x, img_h - y), (w, img_h - h), (0, 0, 255), 1)\n",
        "#     cv2.putText(img, b[0], (x, img_h - y + 20), cv2.FONT_HERSHEY_COMPLEX, 1, (50, 50, 255), 1)\n",
        "\n",
        "img_h, img_w = img.shape[ : 2]\n",
        "boxes = pytesseract.image_to_data(img, lang = 'kor+eng')\n",
        "for count, b in enumerate(boxes.splitlines()) :\n",
        "    if count != 0 :\n",
        "        b = b.split()\n",
        "        if len(b) == 12 :\n",
        "            x, y, w, h = int(b[6]), int(b[7]), int(b[8]), int(b[9])\n",
        "            cv2.rectangle(img, (x, y), (x + w, y + h), (0, 0, 255), 1)\n",
        "#             cv2.putText(img, b[11], (x, y), cv2.FONT_HERSHEY_COMPLEX, 1, (50, 50, 255), 1)\n",
        "            img = Image.fromarray(img)\n",
        "            draw = ImageDraw.Draw(img)\n",
        "            draw.text((x, y - 20), b[11], font = font, fill = (50, 50, 255))\n",
        "            img = np.array(img)\n",
        "            print(b[11], end = ' ')\n",
        "\n",
        "cv2.imshow('img', img)\n",
        "cv2.waitKey(0)\n",
        "cv2.destroyAllWindows()"
      ]
    },
    {
      "cell_type": "code",
      "execution_count": null,
      "id": "c230bb22",
      "metadata": {
        "id": "c230bb22"
      },
      "outputs": [],
      "source": [
        "cap = cv2.VideoCapture(0)\n",
        "\n",
        "w = int(cap.get(cv2.CAP_PROP_FRAME_WIDTH))\n",
        "h = int(cap.get(cv2.CAP_PROP_FRAME_HEIGHT))\n",
        "fps = int(cap.get(cv2.CAP_PROP_FPS) * 0.8)\n",
        "fourcc = cv2.VideoWriter_fourcc(*'DIVX')\n",
        "\n",
        "out = cv2.VideoWriter('review.out', fourcc, fps, (w, h))\n",
        "\n",
        "while True :\n",
        "    \n",
        "    ret, frame = cap.read()\n",
        "    \n",
        "    if not ret :\n",
        "        print('No video alert!!')\n",
        "        break\n",
        "        \n",
        "    edge = cv2.Canny(frame, 50, 150)\n",
        "    \n",
        "    out.write(frame)\n",
        "    cv2.imshow('frame', frame)\n",
        "    cv2.imshow('edge', edge)\n",
        "    \n",
        "    if cv2.waitKey(30) == 27 :\n",
        "        break\n",
        "        \n",
        "out.release()\n",
        "cap.release()\n",
        "cv2.destroyAllWindows()"
      ]
    },
    {
      "cell_type": "code",
      "execution_count": null,
      "id": "4275cabc",
      "metadata": {
        "id": "4275cabc",
        "outputId": "b718ab1f-9ea1-4dd7-ecad-d18b87139bb0"
      },
      "outputs": [
        {
          "name": "stdout",
          "output_type": "stream",
          "text": [
            "Ag Home Test COVID 19 \n"
          ]
        },
        {
          "name": "stderr",
          "output_type": "stream",
          "text": [
            "C:\\Users\\USER\\AppData\\Local\\Temp\\ipykernel_7016\\714778888.py:78: DeprecationWarning: executable_path has been deprecated, please pass in a Service object\n",
            "  driver = webdriver.Firefox(executable_path = r'C:/Users/USER/Desktop/python_class/geckodriver.exe')\n"
          ]
        }
      ],
      "source": [
        "cap = cv2.VideoCapture(0)\n",
        "\n",
        "font = ImageFont.truetype('fonts/gulim.ttc', 20)\n",
        "\n",
        "cap_w = int(cap.get(cv2.CAP_PROP_FRAME_WIDTH))\n",
        "cap_h = int(cap.get(cv2.CAP_PROP_FRAME_HEIGHT))\n",
        "fps = int(cap.get(cv2.CAP_PROP_FPS) * 0.8)\n",
        "fourcc = cv2.VideoWriter_fourcc(*'DIVX')\n",
        "\n",
        "out = cv2.VideoWriter('review.out', fourcc, fps, (cap_w, cap_h))\n",
        "\n",
        "word_dict = {}\n",
        "\n",
        "while True :\n",
        "    \n",
        "    ret, frame = cap.read()\n",
        "    \n",
        "    if not ret :\n",
        "        print('No video alert!!')\n",
        "        break\n",
        "        \n",
        "    frame = cv2.medianBlur(frame, ksize = 3)\n",
        "    boxes = pytesseract.image_to_data(frame, lang = 'kor+eng')\n",
        "    \n",
        "    for count, b in enumerate(boxes.splitlines()) :\n",
        "        \n",
        "        if count != 0 :\n",
        "            b = b.split()\n",
        "            \n",
        "            if len(b) == 12 :\n",
        "                x, y, w, h = int(b[6]), int(b[7]), int(b[8]), int(b[9])\n",
        "                cv2.rectangle(frame, (x, y), (x + w, y + h), (0, 0, 255), 1)\n",
        "                frame = Image.fromarray(frame)\n",
        "                draw = ImageDraw.Draw(frame)\n",
        "                draw.text((x, y - 20), b[11], font = font, fill = (50, 50, 255))\n",
        "                frame = np.array(frame)\n",
        "                b_rmv = re.sub('[-=+,#/\\?:^.@*\\\"※~ㆍ!』‘|\\(\\)\\[\\]`\\'…》\\”\\“\\’·]', ' ', b[11])\n",
        "                b_rmv = b_rmv.strip()\n",
        "                \n",
        "                if b_rmv not in word_dict :\n",
        "                    word_dict[b_rmv] = 1\n",
        "                else :\n",
        "                    word_dict[b_rmv] += 1\n",
        "                                        \n",
        "    out.write(frame)\n",
        "    cv2.imshow('Recognizing', frame)\n",
        "    word_list = sorted(word_dict.items(), key = lambda x : x[1], reverse = True)\n",
        "    \n",
        "    if (cv2.waitKey(30) == 27) :\n",
        "        break\n",
        "\n",
        "    if word_list :\n",
        "        if word_list[0][0] != '' :\n",
        "            if word_list[1][1] >= 10 :\n",
        "                break\n",
        "        else :\n",
        "            if word_list[0][1] >= 10 :\n",
        "                break\n",
        "        \n",
        "out.release()\n",
        "cap.release()\n",
        "cv2.destroyAllWindows()\n",
        "\n",
        "sentence_to_search = ''            \n",
        "            \n",
        "for i in range(len(word_list)) :\n",
        "    if (word_list[i][1] >= 5) and (word_list[i][0] != '') :\n",
        "        sentence_to_search += word_list[i][0]\n",
        "        sentence_to_search += ' '\n",
        "\n",
        "sentence_to_search.rstrip()\n",
        "print(sentence_to_search)\n",
        "\n",
        "user_agent = 'Mozilla/5.0 (Linux; Android 9; SM-G975F) AppleWebKit/537.36 (KHTML, like Gecko) Chrome/71.0.3578.83 Mobile Safari/537.36'\n",
        "\n",
        "firefox_options = Options()\n",
        "firefox_options.add_argument('user-agent=' + user_agent)\n",
        "driver = webdriver.Firefox(executable_path = r'C:/Users/USER/Desktop/python_class/geckodriver.exe')\n",
        "\n",
        "path = 'https://www.google.com/search?q=' + sentence_to_search + '&client=firefox-b-d&sxsrf=ALiCzsbmzWVPASKAPg9YZDRIKYIAtoCkYg:1658816286149&source=lnms&tbm=isch&sa=X&ved=2ahUKEwj33e6b9JX5AhUYplYBHeIGBYQQ_AUoAXoECAEQAw&biw=852&bih=941&dpr=1.5'\n",
        "\n",
        "driver.get(path)\n",
        "\n",
        "# 교수님 comment : GaussianBlur, 3 frames 당 평균으로"
      ]
    }
  ],
  "metadata": {
    "kernelspec": {
      "display_name": "Python 3 (ipykernel)",
      "language": "python",
      "name": "python3"
    },
    "language_info": {
      "codemirror_mode": {
        "name": "ipython",
        "version": 3
      },
      "file_extension": ".py",
      "mimetype": "text/x-python",
      "name": "python",
      "nbconvert_exporter": "python",
      "pygments_lexer": "ipython3",
      "version": "3.9.12"
    },
    "colab": {
      "name": "Project_004_CV_4.ipynb",
      "provenance": [],
      "include_colab_link": true
    }
  },
  "nbformat": 4,
  "nbformat_minor": 5
}