{
  "cells": [
    {
      "cell_type": "markdown",
      "metadata": {
        "id": "view-in-github",
        "colab_type": "text"
      },
      "source": [
        "<a href=\"https://colab.research.google.com/github/yangchangnaihoby/AI_7th/blob/master/Project_004_CV_5.ipynb\" target=\"_parent\"><img src=\"https://colab.research.google.com/assets/colab-badge.svg\" alt=\"Open In Colab\"/></a>"
      ]
    },
    {
      "cell_type": "code",
      "execution_count": null,
      "id": "9437850c",
      "metadata": {
        "id": "9437850c"
      },
      "outputs": [],
      "source": [
        "import pandas as pd\n",
        "import numpy as np\n",
        "import matplotlib.pyplot as plt\n",
        "\n",
        "import sys\n",
        "import cv2\n",
        "import re\n",
        "import pytesseract\n",
        "from PIL import ImageFont, ImageDraw, Image\n",
        "from selenium import webdriver\n",
        "from selenium.webdriver.firefox.options import Options\n",
        "\n",
        "pytesseract.pytesseract.tesseract_cmd = r'C:\\Program Files\\Tesseract-OCR\\tesseract.exe'\n",
        "font = ImageFont.truetype('fonts/gulim.ttc', 20)\n",
        "special_characters = '[-=+,#/\\?:^.@*\\\"※~ㆍ!』‘|\\(\\)\\[\\]`\\'…》\\”\\“\\’·]'\n",
        "user_agent = 'Mozilla/5.0 (Linux; Android 9; SM-G975F) AppleWebKit/537.36 (KHTML, like Gecko) Chrome/71.0.3578.83 Mobile Safari/537.36'\n",
        "\n",
        "kernel_33 = np.array([[-1, -1, -1],\n",
        "                      [-1, 9, -1],\n",
        "                      [-1, -1, -1]])\n",
        "\n",
        "kernel_55 = np.array([[-1, -1, -1, -1, -1],\n",
        "                      [-1, -1, -1, -1, -1],\n",
        "                      [-1, -1, 25, -1, -1],\n",
        "                      [-1, -1, -1, -1, -1],\n",
        "                      [-1, -1, -1, -1, -1]])"
      ]
    },
    {
      "cell_type": "code",
      "execution_count": null,
      "id": "3b54db95",
      "metadata": {
        "id": "3b54db95",
        "outputId": "dd76d3a1-1a70-400f-e4ce-a05eeef99bb3"
      },
      "outputs": [
        {
          "name": "stdout",
          "output_type": "stream",
          "text": [
            "USB2 0 to Fast Ethernet Adapter Model No VK RTL8152B FEC FECE \n"
          ]
        },
        {
          "name": "stderr",
          "output_type": "stream",
          "text": [
            "C:\\Users\\USER\\AppData\\Local\\Temp\\ipykernel_3552\\1271146162.py:84: DeprecationWarning: executable_path has been deprecated, please pass in a Service object\n",
            "  driver = webdriver.Firefox(executable_path = r'C:/Users/USER/Desktop/python_class/geckodriver.exe')\n"
          ]
        }
      ],
      "source": [
        "cap = cv2.VideoCapture(0)\n",
        "\n",
        "cap_w = int(cap.get(cv2.CAP_PROP_FRAME_WIDTH))\n",
        "cap_h = int(cap.get(cv2.CAP_PROP_FRAME_HEIGHT))\n",
        "fps = int(cap.get(cv2.CAP_PROP_FPS) * 0.8)\n",
        "fourcc = cv2.VideoWriter_fourcc(*'DIVX')\n",
        "\n",
        "out = cv2.VideoWriter('review.out', fourcc, fps, (cap_w, cap_h))\n",
        "\n",
        "word_dict = {}\n",
        "\n",
        "while True :\n",
        "    \n",
        "    ret, frame = cap.read()\n",
        "    \n",
        "    if not ret :\n",
        "        print('No video alert!!')\n",
        "        sys.exit()\n",
        "        break\n",
        "        \n",
        "    frame_ori = frame.copy()\n",
        "    frame = cv2.GaussianBlur(frame, (0, 0), 1)\n",
        "    frame = cv2.filter2D(frame, -1, kernel_33)\n",
        "    boxes = pytesseract.image_to_data(frame, lang = 'kor+eng')\n",
        "    \n",
        "    for count, element in enumerate(boxes.splitlines()) :\n",
        "        \n",
        "        if count != 0 :\n",
        "            element = element.split()\n",
        "            \n",
        "            if len(element) == 12 :\n",
        "                x, y, w, h = int(element[6]), int(element[7]), int(element[8]), int(element[9])\n",
        "                cv2.rectangle(frame, (x, y), (x + w, y + h), (0, 0, 255), 1)\n",
        "                frame = Image.fromarray(frame)\n",
        "                draw = ImageDraw.Draw(frame)\n",
        "                draw.text((x, y - 20), element[11], font = font, fill = (50, 50, 255))\n",
        "                frame = np.array(frame)\n",
        "                element_rmv = re.sub(special_characters, ' ', element[11])\n",
        "                element_rmv = element_rmv.strip()\n",
        "                \n",
        "                if element_rmv not in word_dict :\n",
        "                    word_dict[element_rmv] = 1\n",
        "                else :\n",
        "                    word_dict[element_rmv] += 1\n",
        "                                        \n",
        "    out.write(frame)\n",
        "    cv2.imshow('Original', frame_ori)\n",
        "    cv2.imshow('Transformed', frame)\n",
        "    \n",
        "    word_list = sorted(word_dict.items(), key = lambda x : x[1], reverse = True)\n",
        "    \n",
        "    if cv2.waitKey(30) == 27 :\n",
        "        out.release()\n",
        "        cap.release()\n",
        "        cv2.destroyAllWindows()\n",
        "        sys.exit()\n",
        "        break\n",
        "\n",
        "    if word_list :\n",
        "        if word_list[0][0] != '' :\n",
        "            if word_list[1][1] >= 10 :\n",
        "                break\n",
        "        else :\n",
        "            if word_list[0][1] >= 10 :\n",
        "                break\n",
        "        \n",
        "out.release()\n",
        "cap.release()\n",
        "cv2.destroyAllWindows()\n",
        "\n",
        "sentence_to_search = ''            \n",
        "            \n",
        "for i in range(len(word_list)) :\n",
        "    if (word_list[i][1] >= 4) and (word_list[i][0] != '') :\n",
        "        sentence_to_search += word_list[i][0]\n",
        "        sentence_to_search += ' '\n",
        "\n",
        "sentence_to_search.rstrip()\n",
        "print(sentence_to_search)\n",
        "\n",
        "firefox_options = Options()\n",
        "firefox_options.add_argument('user-agent=' + user_agent)\n",
        "\n",
        "driver = webdriver.Firefox(executable_path = r'C:/Users/USER/Desktop/python_class/geckodriver.exe')\n",
        "path = 'https://www.google.com/search?q=' + sentence_to_search + '&client=firefox-b-d&sxsrf=ALiCzsbmzWVPASKAPg9YZDRIKYIAtoCkYg:1658816286149&source=lnms&tbm=isch&sa=X&ved=2ahUKEwj33e6b9JX5AhUYplYBHeIGBYQQ_AUoAXoECAEQAw&biw=852&bih=941&dpr=1.5'\n",
        "driver.get(path)"
      ]
    }
  ],
  "metadata": {
    "kernelspec": {
      "display_name": "Python 3 (ipykernel)",
      "language": "python",
      "name": "python3"
    },
    "language_info": {
      "codemirror_mode": {
        "name": "ipython",
        "version": 3
      },
      "file_extension": ".py",
      "mimetype": "text/x-python",
      "name": "python",
      "nbconvert_exporter": "python",
      "pygments_lexer": "ipython3",
      "version": "3.9.12"
    },
    "colab": {
      "name": "Project_004_CV_5.ipynb",
      "provenance": [],
      "include_colab_link": true
    }
  },
  "nbformat": 4,
  "nbformat_minor": 5
}