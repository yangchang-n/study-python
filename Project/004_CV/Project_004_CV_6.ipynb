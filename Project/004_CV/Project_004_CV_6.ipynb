{
  "cells": [
    {
      "cell_type": "markdown",
      "metadata": {
        "id": "view-in-github",
        "colab_type": "text"
      },
      "source": [
        "<a href=\"https://colab.research.google.com/github/yangchangnaihoby/AI_7th/blob/master/Project_004_CV_6.ipynb\" target=\"_parent\"><img src=\"https://colab.research.google.com/assets/colab-badge.svg\" alt=\"Open In Colab\"/></a>"
      ]
    },
    {
      "cell_type": "code",
      "execution_count": null,
      "id": "79889f4d",
      "metadata": {
        "id": "79889f4d"
      },
      "outputs": [],
      "source": [
        "import pandas as pd\n",
        "import numpy as np\n",
        "import matplotlib.pyplot as plt\n",
        "\n",
        "import sys\n",
        "import cv2\n",
        "import re\n",
        "import pytesseract\n",
        "from PIL import ImageFont, ImageDraw, Image\n",
        "from selenium import webdriver\n",
        "from selenium.webdriver.firefox.options import Options\n",
        "\n",
        "pytesseract.pytesseract.tesseract_cmd = r'C:\\Program Files\\Tesseract-OCR\\tesseract.exe'\n",
        "font = ImageFont.truetype('fonts/gulim.ttc', 20)\n",
        "special_characters = '[-=+,#/\\?:^.@*\\\"※~ㆍ!』‘|\\(\\)\\[\\]`\\'…》\\”\\“\\’·]'\n",
        "user_agent = 'Mozilla/5.0 (Linux; Android 9; SM-G975F) AppleWebKit/537.36 (KHTML, like Gecko) Chrome/71.0.3578.83 Mobile Safari/537.36'\n",
        "\n",
        "kernel_33 = np.array([[-1, -1, -1],\n",
        "                      [-1, 9, -1],\n",
        "                      [-1, -1, -1]])\n",
        "\n",
        "kernel_55 = np.array([[-1, -1, -1, -1, -1],\n",
        "                      [-1, -1, -1, -1, -1],\n",
        "                      [-1, -1, 25, -1, -1],\n",
        "                      [-1, -1, -1, -1, -1],\n",
        "                      [-1, -1, -1, -1, -1]])"
      ]
    },
    {
      "cell_type": "code",
      "execution_count": null,
      "id": "0575336f",
      "metadata": {
        "id": "0575336f",
        "outputId": "7cefb296-d464-4ae8-c8b4-64259c864f91"
      },
      "outputs": [
        {
          "name": "stdout",
          "output_type": "stream",
          "text": [
            "{'This': 2, 'is': 2, 'the': 3, 'first': 1, 'line': 2, 'of': 2, 'this': 1, 'text': 2, 'example': 1, 'second': 1, 'same': 1}\n",
            "[('the', 3), ('This', 2), ('is', 2), ('line', 2), ('of', 2), ('text', 2), ('first', 1), ('this', 1), ('example', 1), ('second', 1), ('same', 1)]\n"
          ]
        }
      ],
      "source": [
        "img = cv2.imread('cvimage/sample_2.png')\n",
        "\n",
        "data_matrix = pytesseract.image_to_data(img, lang = 'kor+eng')\n",
        "\n",
        "word_dict = {}\n",
        "\n",
        "for count, element in enumerate(data_matrix.splitlines()) :\n",
        "\n",
        "    if count != 0 :\n",
        "        element = element.split()\n",
        "\n",
        "        if len(element) == 12 :\n",
        "            x, y, w, h = int(element[6]), int(element[7]), int(element[8]), int(element[9])\n",
        "            cv2.rectangle(img, (x, y), (x + w, y + h), (0, 0, 255), 1)\n",
        "            img = Image.fromarray(img)\n",
        "            draw = ImageDraw.Draw(img)\n",
        "            draw.text((x, y - 20), element[11], font = font, fill = (50, 50, 255))\n",
        "            img = np.array(img)\n",
        "            element_rmv = re.sub(special_characters, ' ', element[11])\n",
        "            element_rmv = element_rmv.strip()\n",
        "\n",
        "            if element_rmv not in word_dict :\n",
        "                word_dict[element_rmv] = 1\n",
        "            else :\n",
        "                word_dict[element_rmv] += 1\n",
        "                \n",
        "word_list = sorted(word_dict.items(), key = lambda x : x[1], reverse = True)\n",
        "\n",
        "cv2.imshow('img', img)\n",
        "cv2.waitKey()\n",
        "cv2.destroyAllWindows()\n",
        "\n",
        "print(word_dict)\n",
        "print(word_list)"
      ]
    },
    {
      "cell_type": "code",
      "execution_count": null,
      "id": "32b75611",
      "metadata": {
        "id": "32b75611",
        "outputId": "561d892d-6203-462a-ddf2-ac4a2bbe1e8e"
      },
      "outputs": [
        {
          "name": "stdout",
          "output_type": "stream",
          "text": [
            "{'This': 2, 'is': 2, 'the': 3, 'first': 1, 'line': 2, 'of': 2, 'this': 1, 'text': 2, 'example': 1, 'second': 1, 'same': 1}\n"
          ]
        }
      ],
      "source": [
        "element_rmv = re.sub(special_characters, ' ', element[11])\n",
        "element_rmv = element_rmv.strip()\n",
        "\n",
        "if element_rmv not in word_dict :\n",
        "    word_dict[element_rmv] = 1\n",
        "else :\n",
        "    word_dict[element_rmv] += 1\n",
        "\n",
        "print(word_dict)"
      ]
    },
    {
      "cell_type": "code",
      "execution_count": null,
      "id": "477e298d",
      "metadata": {
        "id": "477e298d",
        "outputId": "608a102a-b750-461f-cb84-d0665289e7c7"
      },
      "outputs": [
        {
          "name": "stdout",
          "output_type": "stream",
          "text": [
            "[('the', 3), ('This', 2), ('is', 2), ('line', 2), ('of', 2), ('text', 2), ('first', 1), ('this', 1), ('example', 1), ('second', 1), ('same', 1)]\n"
          ]
        }
      ],
      "source": [
        "word_list = sorted(word_dict.items(), key = lambda x : x[1], reverse = True)\n",
        "print(word_list)"
      ]
    }
  ],
  "metadata": {
    "kernelspec": {
      "display_name": "Python 3 (ipykernel)",
      "language": "python",
      "name": "python3"
    },
    "language_info": {
      "codemirror_mode": {
        "name": "ipython",
        "version": 3
      },
      "file_extension": ".py",
      "mimetype": "text/x-python",
      "name": "python",
      "nbconvert_exporter": "python",
      "pygments_lexer": "ipython3",
      "version": "3.9.12"
    },
    "colab": {
      "name": "Project_004_CV_6.ipynb",
      "provenance": [],
      "include_colab_link": true
    }
  },
  "nbformat": 4,
  "nbformat_minor": 5
}