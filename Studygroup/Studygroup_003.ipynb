{
  "nbformat": 4,
  "nbformat_minor": 0,
  "metadata": {
    "colab": {
      "name": "Studygroup_003.ipynb",
      "provenance": [],
      "collapsed_sections": [],
      "authorship_tag": "ABX9TyOj29RmAbDRDSxHqOzZ/Gx5",
      "include_colab_link": true
    },
    "kernelspec": {
      "name": "python3",
      "display_name": "Python 3"
    },
    "language_info": {
      "name": "python"
    }
  },
  "cells": [
    {
      "cell_type": "markdown",
      "metadata": {
        "id": "view-in-github",
        "colab_type": "text"
      },
      "source": [
        "<a href=\"https://colab.research.google.com/github/yangchangnaihoby/python/blob/master/Studygroup_003.ipynb\" target=\"_parent\"><img src=\"https://colab.research.google.com/assets/colab-badge.svg\" alt=\"Open In Colab\"/></a>"
      ]
    },
    {
      "cell_type": "code",
      "execution_count": 1,
      "metadata": {
        "colab": {
          "base_uri": "https://localhost:8080/"
        },
        "id": "Y4wNosXkvRI2",
        "outputId": "eee8668d-9b33-4c35-9492-e73ae27cbce3"
      },
      "outputs": [
        {
          "output_type": "stream",
          "name": "stdout",
          "text": [
            "2 3\n",
            "110\n",
            "011\n",
            "2\n"
          ]
        }
      ],
      "source": [
        "n, m = map(int, input().split())\n",
        "\n",
        "graph = []\n",
        "for i in range(n) :\n",
        "  graph.append(list(map(int, input())))\n",
        "\n",
        "def dfs(x, y) :\n",
        "  if x <= -1 or x >= n or y <= -1 or y >= m :\n",
        "    return False\n",
        "  if graph[x][y] == 0 :\n",
        "    graph[x][y] = 1\n",
        "    dfs(x - 1, y)\n",
        "    dfs(x, y - 1)\n",
        "    dfs(x + 1, y)\n",
        "    dfs(x, y + 1)\n",
        "    return True\n",
        "  return False\n",
        "\n",
        "result = 0\n",
        "for i in range(n) :\n",
        "  for j in range(m) :\n",
        "    if dfs(i, j) == True :\n",
        "      result += 1\n",
        "\n",
        "print(result)"
      ]
    }
  ]
}