{
  "nbformat": 4,
  "nbformat_minor": 0,
  "metadata": {
    "colab": {
      "name": "Studygroup_003_2.ipynb",
      "provenance": [],
      "collapsed_sections": [],
      "authorship_tag": "ABX9TyN0AIclmqEjm+fuckg4Kwmi",
      "include_colab_link": true
    },
    "kernelspec": {
      "name": "python3",
      "display_name": "Python 3"
    },
    "language_info": {
      "name": "python"
    }
  },
  "cells": [
    {
      "cell_type": "markdown",
      "metadata": {
        "id": "view-in-github",
        "colab_type": "text"
      },
      "source": [
        "<a href=\"https://colab.research.google.com/github/yangchangnaihoby/python/blob/master/Studygroup_003_2.ipynb\" target=\"_parent\"><img src=\"https://colab.research.google.com/assets/colab-badge.svg\" alt=\"Open In Colab\"/></a>"
      ]
    },
    {
      "cell_type": "code",
      "execution_count": 5,
      "metadata": {
        "colab": {
          "base_uri": "https://localhost:8080/"
        },
        "id": "lF-clR_m50jZ",
        "outputId": "80429be7-90e1-49aa-9455-718c503a87ed"
      },
      "outputs": [
        {
          "output_type": "stream",
          "name": "stdout",
          "text": [
            "200\n",
            "19\n"
          ]
        }
      ],
      "source": [
        "S = int(input())\n",
        "N = int((S * 2) ** (1 / 2))\n",
        "number = 0\n",
        "\n",
        "for i in range(N + 10) :\n",
        "  if number < S :\n",
        "    number += i\n",
        "    if number == S :\n",
        "      print(i)\n",
        "      break\n",
        "    elif number > S :\n",
        "      print(i - 1)\n",
        "      break"
      ]
    }
  ]
}