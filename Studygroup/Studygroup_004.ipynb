{
  "nbformat": 4,
  "nbformat_minor": 0,
  "metadata": {
    "colab": {
      "name": "Studygroup_004.ipynb",
      "provenance": [],
      "collapsed_sections": [],
      "authorship_tag": "ABX9TyPqzBTMUdIEDEhzRGwbGadL",
      "include_colab_link": true
    },
    "kernelspec": {
      "name": "python3",
      "display_name": "Python 3"
    },
    "language_info": {
      "name": "python"
    }
  },
  "cells": [
    {
      "cell_type": "markdown",
      "metadata": {
        "id": "view-in-github",
        "colab_type": "text"
      },
      "source": [
        "<a href=\"https://colab.research.google.com/github/yangchangnaihoby/python/blob/master/Studygroup_004.ipynb\" target=\"_parent\"><img src=\"https://colab.research.google.com/assets/colab-badge.svg\" alt=\"Open In Colab\"/></a>"
      ]
    },
    {
      "cell_type": "code",
      "execution_count": 32,
      "metadata": {
        "colab": {
          "base_uri": "https://localhost:8080/"
        },
        "id": "7IWouG1AKUwO",
        "outputId": "9002f9fc-d814-4930-da6e-3e73b1f4277e"
      },
      "outputs": [
        {
          "output_type": "stream",
          "name": "stdout",
          "text": [
            "27\n",
            "***************************\n",
            "* ** ** ** ** ** ** ** ** *\n",
            "***************************\n",
            "***   ******   ******   ***\n",
            "* *   * ** *   * ** *   * *\n",
            "***   ******   ******   ***\n",
            "***************************\n",
            "* ** ** ** ** ** ** ** ** *\n",
            "***************************\n",
            "*********         *********\n",
            "* ** ** *         * ** ** *\n",
            "*********         *********\n",
            "***   ***         ***   ***\n",
            "* *   * *         * *   * *\n",
            "***   ***         ***   ***\n",
            "*********         *********\n",
            "* ** ** *         * ** ** *\n",
            "*********         *********\n",
            "***************************\n",
            "* ** ** ** ** ** ** ** ** *\n",
            "***************************\n",
            "***   ******   ******   ***\n",
            "* *   * ** *   * ** *   * *\n",
            "***   ******   ******   ***\n",
            "***************************\n",
            "* ** ** ** ** ** ** ** ** *\n",
            "***************************\n"
          ]
        }
      ],
      "source": [
        "def putting_star(n) :\n",
        "  if n == 1 :\n",
        "    return ['*']\n",
        "  \n",
        "  star_part = putting_star(n // 3)\n",
        "  star_list = []\n",
        "\n",
        "  for star in star_part :\n",
        "    star_list.append(star * 3)\n",
        "  for star in star_part :\n",
        "    star_list.append(star + ' ' * (n // 3) + star)\n",
        "  for star in star_part :\n",
        "    star_list.append(star * 3)\n",
        "  \n",
        "  return star_list\n",
        "\n",
        "N = int(input())\n",
        "\n",
        "for i in range(len(putting_star(N))) :\n",
        "  print(putting_star(N)[i])"
      ]
    },
    {
      "cell_type": "code",
      "source": [
        "asdf = ['*'] * 3\n",
        "fdsa = ''\n",
        "for i in range(len(asdf)) :\n",
        "  fdsa += asdf[i]\n",
        "print(fdsa)"
      ],
      "metadata": {
        "colab": {
          "base_uri": "https://localhost:8080/"
        },
        "id": "VzdggQr1UIeY",
        "outputId": "19bfd97d-bea6-4bb3-ca22-861f77f5fc8b"
      },
      "execution_count": 26,
      "outputs": [
        {
          "output_type": "stream",
          "name": "stdout",
          "text": [
            "***\n"
          ]
        }
      ]
    }
  ]
}