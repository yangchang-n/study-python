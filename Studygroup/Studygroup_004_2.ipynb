{
  "nbformat": 4,
  "nbformat_minor": 0,
  "metadata": {
    "colab": {
      "name": "Studygroup_004_2.ipynb",
      "provenance": [],
      "collapsed_sections": [],
      "authorship_tag": "ABX9TyNRw47yV9Fsz9tJrabuUPEC",
      "include_colab_link": true
    },
    "kernelspec": {
      "name": "python3",
      "display_name": "Python 3"
    },
    "language_info": {
      "name": "python"
    }
  },
  "cells": [
    {
      "cell_type": "markdown",
      "metadata": {
        "id": "view-in-github",
        "colab_type": "text"
      },
      "source": [
        "<a href=\"https://colab.research.google.com/github/yangchangnaihoby/python/blob/master/Studygroup_004_2.ipynb\" target=\"_parent\"><img src=\"https://colab.research.google.com/assets/colab-badge.svg\" alt=\"Open In Colab\"/></a>"
      ]
    },
    {
      "cell_type": "code",
      "execution_count": 17,
      "metadata": {
        "colab": {
          "base_uri": "https://localhost:8080/"
        },
        "id": "2aKCQW3brLq2",
        "outputId": "c1fde010-2b22-42c1-8eba-dbf2d300ff90"
      },
      "outputs": [
        {
          "output_type": "stream",
          "name": "stdout",
          "text": [
            "11 12\n",
            "BWWBWWBWWBWW\n",
            "BWWBWBBWWBWW\n",
            "WBWWBWBBWWBW\n",
            "BWWBWBBWWBWW\n",
            "WBWWBWBBWWBW\n",
            "BWWBWBBWWBWW\n",
            "WBWWBWBBWWBW\n",
            "BWWBWBWWWBWW\n",
            "WBWWBWBBWWBW\n",
            "BWWBWBBWWBWW\n",
            "WBWWBWBBWWBW\n",
            "15\n"
          ]
        }
      ],
      "source": [
        "size = list(map(int, input().split()))\n",
        "\n",
        "def count_change_color(list_a) :\n",
        "  counts = []\n",
        "  if list_a[0][0] == 'B' :\n",
        "    count = 0\n",
        "    for i in range(8) :\n",
        "      if i % 2 == 0 :\n",
        "        w = {1, 3, 5, 7}\n",
        "        w_list = [j for j in range(8) if list_a[i][j] == 'W']\n",
        "        w_set = set(w_list)\n",
        "        count += len(w_set - w)\n",
        "        b = {0, 2, 4, 6}\n",
        "        b_list = [k for k in range(8) if list_a[i][k] == 'B']\n",
        "        b_set = set(b_list)\n",
        "        count += len(b_set - b)  \n",
        "      else :\n",
        "        w = {0, 2, 4, 6}\n",
        "        w_list = [j for j in range(8) if list_a[i][j] == 'W']\n",
        "        w_set = set(w_list)\n",
        "        count += len(w_set - w)\n",
        "        b = {1, 3, 5, 7}\n",
        "        b_list = [k for k in range(8) if list_a[i][k] == 'B']\n",
        "        b_set = set(b_list)\n",
        "        count += len(b_set - b)   \n",
        "    counts.append(count)\n",
        "  elif list_a[0][0] == 'W' :\n",
        "    count = 0\n",
        "    for i in range(8) :\n",
        "      if i % 2 == 0 :\n",
        "        w = {0, 2, 4, 6}\n",
        "        w_list = [j for j in range(8) if list_a[i][j] == 'W']\n",
        "        w_set = set(w_list)\n",
        "        count += len(w_set - w)\n",
        "        b = {1, 3, 5, 7}\n",
        "        b_list = [k for k in range(8) if list_a[i][k] == 'B']\n",
        "        b_set = set(b_list)\n",
        "        count += len(b_set - b)  \n",
        "      else :\n",
        "        w = {1, 3, 5, 7}\n",
        "        w_list = [j for j in range(8) if list_a[i][j] == 'W']\n",
        "        w_set = set(w_list)\n",
        "        count += len(w_set - w)\n",
        "        b = {0, 2, 4, 6}\n",
        "        b_list = [k for k in range(8) if list_a[i][k] == 'B']\n",
        "        b_set = set(b_list)\n",
        "        count += len(b_set - b)   \n",
        "    counts.append(count)         \n",
        "  return min(counts)   \n",
        "\n",
        "total_counts = []\n",
        "board = []\n",
        "\n",
        "for n in range(size[0]) :\n",
        "  a = input()\n",
        "  board.append(list(a))\n",
        "\n",
        "for n in range(size[0] + 1 - 8) :\n",
        "  for m in range(size[1] + 1 - 8) :\n",
        "\n",
        "    chess = [[board[i][j] for j in range(m, m + 8)] for i in range(n, n + 8)]\n",
        "    total_counts.append(count_change_color(chess))\n",
        "\n",
        "print(min(total_counts))"
      ]
    },
    {
      "cell_type": "code",
      "source": [
        "list_a = ['W', 'B', 'W', 'W', 'W', 'B', 'B', 'B']\n",
        "w = {1, 3, 5, 7}\n",
        "w_list = [j for j in range(8) if list_a[j] == 'W']\n",
        "w_set = set(w_list)\n",
        "b = {0, 2, 4, 6}\n",
        "b_list = [k for k in range(8) if list_a[k] == 'B']\n",
        "b_set = set(b_list)\n",
        "print(w_set)\n",
        "print(w_set - w)\n",
        "print(len(w_set - w))\n",
        "print(b_set)\n",
        "print(b_set - b)\n",
        "print(len(b_set - b))"
      ],
      "metadata": {
        "colab": {
          "base_uri": "https://localhost:8080/"
        },
        "id": "eyoXlXcV6LL8",
        "outputId": "8dc1f979-588e-42c9-8131-3b21919101d1"
      },
      "execution_count": 13,
      "outputs": [
        {
          "output_type": "stream",
          "name": "stdout",
          "text": [
            "{0, 2, 3, 4}\n",
            "{0, 2, 4}\n",
            "3\n",
            "{1, 5, 6, 7}\n",
            "{1, 5, 7}\n",
            "3\n"
          ]
        }
      ]
    },
    {
      "cell_type": "code",
      "source": [
        "size = list(map(int, input().split()))\n",
        "\n",
        "def count_change(list_a) :\n",
        "  count = 0\n",
        "  b_start = [['B', 'W', 'B', 'W', 'B', 'W', 'B', 'W'],\n",
        "             ['W', 'B', 'W', 'B', 'W', 'B', 'W', 'B'],\n",
        "             ['B', 'W', 'B', 'W', 'B', 'W', 'B', 'W'],\n",
        "             ['W', 'B', 'W', 'B', 'W', 'B', 'W', 'B'],\n",
        "             ['B', 'W', 'B', 'W', 'B', 'W', 'B', 'W'],\n",
        "             ['W', 'B', 'W', 'B', 'W', 'B', 'W', 'B'],\n",
        "             ['B', 'W', 'B', 'W', 'B', 'W', 'B', 'W'],\n",
        "             ['W', 'B', 'W', 'B', 'W', 'B', 'W', 'B'],\n",
        "             ['B', 'W', 'B', 'W', 'B', 'W', 'B', 'W']\n",
        "             ]\n",
        "  for i in range(8) :\n",
        "    for j in range(8) :\n",
        "      if list_a[i][j] != b_start[i][j] :\n",
        "        count += 1\n",
        "  if count >= 32 :\n",
        "    count = 64 - count\n",
        "  return count\n",
        "\n",
        "total_counts = []\n",
        "board = []\n",
        "\n",
        "for n in range(size[0]) :\n",
        "  a = input()\n",
        "  board.append(list(a))\n",
        "\n",
        "for n in range(size[0] + 1 - 8) :\n",
        "  for m in range(size[1] + 1 - 8) :\n",
        "\n",
        "    chess = [[board[i][j] for j in range(m, m + 8)] for i in range(n, n + 8)]\n",
        "    total_counts.append(count_change(chess))\n",
        "\n",
        "print(min(total_counts))"
      ],
      "metadata": {
        "colab": {
          "base_uri": "https://localhost:8080/"
        },
        "id": "H-zL4W72A-59",
        "outputId": "d41ec028-af79-4b95-d968-5b6edf05906d"
      },
      "execution_count": 19,
      "outputs": [
        {
          "output_type": "stream",
          "name": "stdout",
          "text": [
            "8 8\n",
            "WBWBWBWB\n",
            "BWBWBWBW\n",
            "WBWBWBWB\n",
            "BWBBBWBW\n",
            "WBWBWBWB\n",
            "BWBWBWBW\n",
            "WBWBWBWB\n",
            "BWBWBWBW\n",
            "1\n"
          ]
        }
      ]
    }
  ]
}