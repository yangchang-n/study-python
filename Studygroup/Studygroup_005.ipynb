{
  "nbformat": 4,
  "nbformat_minor": 0,
  "metadata": {
    "colab": {
      "name": "Studygroup_005.ipynb",
      "provenance": [],
      "collapsed_sections": [],
      "authorship_tag": "ABX9TyPHA8wZzNAaUt2XwoPo3Gvv",
      "include_colab_link": true
    },
    "kernelspec": {
      "name": "python3",
      "display_name": "Python 3"
    },
    "language_info": {
      "name": "python"
    }
  },
  "cells": [
    {
      "cell_type": "markdown",
      "metadata": {
        "id": "view-in-github",
        "colab_type": "text"
      },
      "source": [
        "<a href=\"https://colab.research.google.com/github/yangchangnaihoby/AI_7th/blob/master/Studygroup_005.ipynb\" target=\"_parent\"><img src=\"https://colab.research.google.com/assets/colab-badge.svg\" alt=\"Open In Colab\"/></a>"
      ]
    },
    {
      "cell_type": "code",
      "execution_count": null,
      "metadata": {
        "id": "HA77RExEEp-H"
      },
      "outputs": [],
      "source": [
        "from sys import stdin\n",
        "\n",
        "def dfs(cow_num) :\n",
        "    \n",
        "    if visited[cow_num] :\n",
        "        return False\n",
        "    visited[cow_num] = True\n",
        "    \n",
        "    for i in cow[cow_num] :\n",
        "        if not house[i] or dfs(house[i]) :\n",
        "            house[i] = cow_num\n",
        "            return True\n",
        "            \n",
        "    return False\n",
        "            \n",
        "n, m = map(int, stdin.readline().split())\n",
        "cow = [[] for _ in range(n + 1)]\n",
        "house = [0 for _ in range(m + 1)]\n",
        "\n",
        "for i in range(1, n + 1) :\n",
        "    wanted = list(map(int, stdin.readline().split()))\n",
        "    for j in wanted[1 : ] :\n",
        "        cow[i].append(j)\n",
        "        \n",
        "for i in range(1, n + 1) :\n",
        "    visited = [False for _ in range(n + 1)]\n",
        "    dfs(i)\n",
        "    \n",
        "print(sum([1 for i in house if i > 0]))"
      ]
    },
    {
      "cell_type": "code",
      "source": [
        "cow = [[], [2, 5], [2, 3, 4], [1, 5], [1, 2, 5], [2]]\n",
        "house = [0, 0, 0, 0, 0, 0]\n",
        "visited = [False, False, False, False, False, False]\n",
        "\n",
        "def dfs(cow_num) :\n",
        "    \n",
        "    if visited[cow_num] :\n",
        "        return False\n",
        "    visited[cow_num] = True\n",
        "    \n",
        "    for i in cow[cow_num] :\n",
        "        if not house[i] or dfs(house[i]) :\n",
        "            house[i] = cow_num\n",
        "            return True\n",
        "            \n",
        "    return False\n",
        "\n",
        "dfs(1)\n",
        "print(house)\n",
        "print(visited)\n",
        "dfs(2)\n",
        "print(house)\n",
        "print(visited)\n",
        "dfs(3)\n",
        "print(house)\n",
        "print(visited)\n",
        "dfs(4)\n",
        "print(house)\n",
        "print(visited)\n",
        "dfs(5)\n",
        "print(house)\n",
        "print(visited)"
      ],
      "metadata": {
        "colab": {
          "base_uri": "https://localhost:8080/"
        },
        "id": "JpX_kwsSEtw6",
        "outputId": "38a1943c-4001-4fa9-f70a-b4d9e983ab5b"
      },
      "execution_count": 8,
      "outputs": [
        {
          "output_type": "stream",
          "name": "stdout",
          "text": [
            "[0, 0, 1, 0, 0, 0]\n",
            "[False, True, False, False, False, False]\n",
            "[0, 0, 1, 2, 0, 0]\n",
            "[False, True, True, False, False, False]\n",
            "[0, 3, 1, 2, 0, 0]\n",
            "[False, True, True, True, False, False]\n",
            "[0, 3, 1, 2, 0, 4]\n",
            "[False, True, True, True, True, False]\n",
            "[0, 3, 1, 2, 0, 4]\n",
            "[False, True, True, True, True, True]\n"
          ]
        }
      ]
    },
    {
      "cell_type": "code",
      "source": [
        "if not True or True :\n",
        "  print('a')"
      ],
      "metadata": {
        "colab": {
          "base_uri": "https://localhost:8080/"
        },
        "id": "OR-8aIVYMeGn",
        "outputId": "1b638fa8-ea64-4385-c9fc-af45f67bf5b3"
      },
      "execution_count": 3,
      "outputs": [
        {
          "output_type": "stream",
          "name": "stdout",
          "text": [
            "a\n"
          ]
        }
      ]
    },
    {
      "cell_type": "code",
      "source": [
        "from sys import stdin\n",
        "\n",
        "N = int(stdin.readline())\n",
        "schedules = [[0, 0] for i in range(N)]\n",
        "\n",
        "for i in range(N) :\n",
        "  start, end = map(int, stdin.readline().split())\n",
        "  schedules[i][0] = start\n",
        "  schedules[i][1] = end\n",
        "\n",
        "schedules.sort(key = lambda x : (x[1], x[0]))\n",
        "\n",
        "count = 1\n",
        "final_sche = schedules[0][1]\n",
        "\n",
        "for i in range(1, N) :\n",
        "  if schedules[i][0] >= final_sche :\n",
        "    count += 1\n",
        "    final_sche = schedules[i][1]\n",
        "\n",
        "print(count)"
      ],
      "metadata": {
        "colab": {
          "base_uri": "https://localhost:8080/",
          "height": 251
        },
        "id": "1TMxnGR6SMfZ",
        "outputId": "2e57531f-f447-4f71-be9e-0585cbdf9937"
      },
      "execution_count": 10,
      "outputs": [
        {
          "output_type": "error",
          "ename": "ValueError",
          "evalue": "ignored",
          "traceback": [
            "\u001b[0;31m---------------------------------------------------------------------------\u001b[0m",
            "\u001b[0;31mValueError\u001b[0m                                Traceback (most recent call last)",
            "\u001b[0;32m<ipython-input-10-0ac780426c9b>\u001b[0m in \u001b[0;36m<module>\u001b[0;34m()\u001b[0m\n\u001b[1;32m      1\u001b[0m \u001b[0;32mimport\u001b[0m \u001b[0msys\u001b[0m\u001b[0;34m\u001b[0m\u001b[0;34m\u001b[0m\u001b[0m\n\u001b[1;32m      2\u001b[0m \u001b[0;34m\u001b[0m\u001b[0m\n\u001b[0;32m----> 3\u001b[0;31m \u001b[0mN\u001b[0m \u001b[0;34m=\u001b[0m \u001b[0mint\u001b[0m\u001b[0;34m(\u001b[0m\u001b[0msys\u001b[0m\u001b[0;34m.\u001b[0m\u001b[0mstdin\u001b[0m\u001b[0;34m.\u001b[0m\u001b[0mreadline\u001b[0m\u001b[0;34m(\u001b[0m\u001b[0;34m)\u001b[0m\u001b[0;34m)\u001b[0m\u001b[0;34m\u001b[0m\u001b[0;34m\u001b[0m\u001b[0m\n\u001b[0m\u001b[1;32m      4\u001b[0m \u001b[0mschedules\u001b[0m \u001b[0;34m=\u001b[0m \u001b[0;34m[\u001b[0m\u001b[0;34m[\u001b[0m\u001b[0;36m0\u001b[0m\u001b[0;34m,\u001b[0m \u001b[0;36m0\u001b[0m\u001b[0;34m]\u001b[0m \u001b[0;32mfor\u001b[0m \u001b[0mi\u001b[0m \u001b[0;32min\u001b[0m \u001b[0mrange\u001b[0m\u001b[0;34m(\u001b[0m\u001b[0mN\u001b[0m\u001b[0;34m)\u001b[0m\u001b[0;34m]\u001b[0m\u001b[0;34m\u001b[0m\u001b[0;34m\u001b[0m\u001b[0m\n\u001b[1;32m      5\u001b[0m \u001b[0;34m\u001b[0m\u001b[0m\n",
            "\u001b[0;31mValueError\u001b[0m: invalid literal for int() with base 10: ''"
          ]
        }
      ]
    },
    {
      "cell_type": "code",
      "source": [
        "from sys import stdin\n",
        "from collections import deque\n",
        "\n",
        "N, L = map(int, stdin.readline().split())\n",
        "\n",
        "numbers = list(map(int, stdin.readline().split()))\n",
        "\n",
        "queue = deque()\n",
        "\n",
        "for i in range(N) :\n",
        "    \n",
        "    while queue and queue[0][0] <= i - L :\n",
        "        queue.popleft()\n",
        "\n",
        "    while queue and queue[-1][1] >= numbers[i] :\n",
        "        queue.pop()\n",
        "\n",
        "    queue.append((i, numbers[i]))\n",
        "    print(queue[0][1], end=' ')"
      ],
      "metadata": {
        "id": "bod2ixT6cgKU"
      },
      "execution_count": null,
      "outputs": []
    },
    {
      "cell_type": "code",
      "source": [
        "from sys import stdin\n",
        "\n",
        "n, m = map(int, stdin.readline().split())\n",
        "input_square = []\n",
        "for i in range(n) :\n",
        "  input_square.append(list(map(int, list(stdin.readline().rstrip()))))\n",
        "\n",
        "count_square = [[0] * m for i in range(n)]\n",
        "\n",
        "max_side = 0\n",
        "for i in range(n) :\n",
        "  for j in range(m) :\n",
        "    if i == 0 or j == 0 :\n",
        "      count_square[i][j] = input_square[i][j]\n",
        "    elif input_square[i][j] == 0 :\n",
        "      count_square[i][j] = 0\n",
        "    else :\n",
        "      count_square[i][j] = min(count_square[i - 1][j], count_square[i - 1][j - 1], count_square[i][j - 1]) + 1\n",
        "    max_side = max(max_side, count_square[i][j])\n",
        "\n",
        "print(max_side * max_side)"
      ],
      "metadata": {
        "id": "8uFYHiC0dlkU"
      },
      "execution_count": null,
      "outputs": []
    },
    {
      "cell_type": "code",
      "source": [
        "from sys import stdin\n",
        "from functools import cmp_to_key\n",
        "\n",
        "input = stdin.readline\n",
        "\n",
        "N = int(input())\n",
        "numbers = list(map(int, input().split()))\n",
        "\n",
        "def compare(x, y) :\n",
        "  if str(x) + str(y) > str(y) + str(x) :\n",
        "    return -1\n",
        "  if str(x) + str(y) < str(y) + str(x) :\n",
        "    return 1\n",
        "  if str(x) + str(y) == str(y) + str(x) :\n",
        "    return 0\n",
        "\n",
        "numbers.sort(key = cmp_to_key(compare))\n",
        "\n",
        "count = 0\n",
        "for i in numbers :\n",
        "  if i == 0 :\n",
        "    count += 1\n",
        "\n",
        "if count == len(numbers) :\n",
        "  print(0)\n",
        "else :\n",
        "  for i in numbers :\n",
        "    print(i, end = '')"
      ],
      "metadata": {
        "id": "OnVk9d_qtE6w"
      },
      "execution_count": null,
      "outputs": []
    },
    {
      "cell_type": "code",
      "source": [
        "from sys import stdin\n",
        "\n",
        "N, K = map(int, stdin.readline().split())\n",
        "jewels = [list(map(int, stdin.readline().split())) for i in range(N)]\n",
        "max_weight = int(stdin.readline())\n",
        "\n",
        "can_get = []\n",
        "for i in range(N) :\n",
        "  if jewels[i][0] <= max_weight :\n",
        "    can_get.append(jewels[i][1])\n",
        "\n",
        "can_get.sort(reverse = True)\n",
        "if N > K :\n",
        "  can_get = can_get[ : K]\n",
        "print(sum(can_get))"
      ],
      "metadata": {
        "id": "3HNVgEPWyBnT"
      },
      "execution_count": null,
      "outputs": []
    },
    {
      "cell_type": "code",
      "source": [
        "from sys import stdin\n",
        "\n",
        "N, K = map(int, input().split())\n",
        "jewels = [list(map(int, input().split())) for i in range(N)]\n",
        "max_weight = int(input())\n",
        "\n",
        "can_get = []\n",
        "for i in range(N) :\n",
        "  if jewels[i][0] <= max_weight :\n",
        "    can_get.append(jewels[i][1])\n",
        "\n",
        "can_get.sort(reverse = True)\n",
        "if N > K :\n",
        "  can_get = can_get[ : K]\n",
        "print(sum(can_get))"
      ],
      "metadata": {
        "colab": {
          "base_uri": "https://localhost:8080/"
        },
        "id": "hCOwFg6jzdLx",
        "outputId": "957278ed-583e-4211-edfb-7aff60c73ce2"
      },
      "execution_count": 12,
      "outputs": [
        {
          "output_type": "stream",
          "name": "stdout",
          "text": [
            "3 2\n",
            "1 65\n",
            "5 23\n",
            "2 99\n",
            "10\n",
            "164\n"
          ]
        }
      ]
    }
  ]
}