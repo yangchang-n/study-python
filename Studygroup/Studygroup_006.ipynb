{
  "nbformat": 4,
  "nbformat_minor": 0,
  "metadata": {
    "colab": {
      "name": "Studygroup_006.ipynb",
      "provenance": [],
      "collapsed_sections": [],
      "authorship_tag": "ABX9TyP/+DqFqS2f2sy9TkrVUOiX",
      "include_colab_link": true
    },
    "kernelspec": {
      "name": "python3",
      "display_name": "Python 3"
    },
    "language_info": {
      "name": "python"
    }
  },
  "cells": [
    {
      "cell_type": "markdown",
      "metadata": {
        "id": "view-in-github",
        "colab_type": "text"
      },
      "source": [
        "<a href=\"https://colab.research.google.com/github/yangchangnaihoby/AI_7th/blob/master/Studygroup_006.ipynb\" target=\"_parent\"><img src=\"https://colab.research.google.com/assets/colab-badge.svg\" alt=\"Open In Colab\"/></a>"
      ]
    },
    {
      "cell_type": "code",
      "execution_count": null,
      "metadata": {
        "colab": {
          "base_uri": "https://localhost:8080/"
        },
        "id": "XaH1NlbqckKu",
        "outputId": "e049c522-d5eb-4be9-9c3c-1b6ccc7ca3b6"
      },
      "outputs": [
        {
          "output_type": "stream",
          "name": "stdout",
          "text": [
            "4\n"
          ]
        }
      ],
      "source": [
        "can_get = []\n",
        "can_get.append(1)\n",
        "can_get.append(2)\n",
        "can_get.append(1)\n",
        "can_get.sort(reverse = True)\n",
        "if len(can_get) == 0 :\n",
        "  print(0)\n",
        "  \n",
        "print(sum(can_get))"
      ]
    },
    {
      "cell_type": "code",
      "source": [
        "from sys import stdin\n",
        "\n",
        "N, K = map(int, stdin.readline().split())\n",
        "jewels = [list(map(int, stdin.readline().split())) for i in range(N)]\n",
        "max_weight = int(stdin.readline())\n",
        "\n",
        "can_get = []\n",
        "for i in range(N) :\n",
        "  if jewels[i][0] <= max_weight :\n",
        "    can_get.append(jewels[i][1])\n",
        "\n",
        "can_get.sort(reverse = True)\n",
        "if N > K :\n",
        "  can_get = can_get[ : K]\n",
        "print(sum(can_get))"
      ],
      "metadata": {
        "id": "M9U0gyFxc9HO"
      },
      "execution_count": null,
      "outputs": []
    },
    {
      "cell_type": "code",
      "source": [
        "from sys import stdin\n",
        "\n",
        "def dfs(emp_num) :\n",
        "    \n",
        "    if assigned[emp_num] :\n",
        "        return False\n",
        "    assigned[emp_num] = True\n",
        "    \n",
        "    for i in emp[emp_num] :\n",
        "        if not work[i] or dfs(work[i]) :\n",
        "            work[i] = emp_num\n",
        "            return True\n",
        "            \n",
        "    return False\n",
        "            \n",
        "n, m = map(int, stdin.readline().split())\n",
        "emp = [[] for _ in range(n + 1)]\n",
        "work = [0 for _ in range(m + 1)]\n",
        "\n",
        "for i in range(1, n + 1) :\n",
        "    can_do = list(map(int, stdin.readline().split()))\n",
        "    for j in can_do[1 : ] :\n",
        "        emp[i].append(j)\n",
        "        \n",
        "for i in range(1, n + 1) :\n",
        "    assigned = [False for _ in range(n + 1)]\n",
        "    dfs(i)\n",
        "    \n",
        "print(sum([1 for i in work if i > 0]))"
      ],
      "metadata": {
        "id": "2bH3dzeZgcQZ"
      },
      "execution_count": null,
      "outputs": []
    },
    {
      "cell_type": "code",
      "source": [
        "from sys import stdin\n",
        "\n",
        "def dfs(emp_num) :\n",
        "    \n",
        "    if assigned[emp_num] :\n",
        "        return False\n",
        "    assigned[emp_num] = True\n",
        "    \n",
        "    for i in emp[emp_num] :\n",
        "        if not work[i] or dfs(work[i]) :\n",
        "            work[i] = emp_num\n",
        "            return True\n",
        "            \n",
        "    return False\n",
        "            \n",
        "n, m = map(int, stdin.readline().split())\n",
        "emp = [[]]\n",
        "work = [0 for _ in range(m + 1)]\n",
        "\n",
        "for i in range(1, n + 1) :\n",
        "    emp.append(list(map(int, stdin.readline().split()))[1 : ])\n",
        "        \n",
        "for i in range(1, n + 1) :\n",
        "    assigned = [False for _ in range(n + 1)]\n",
        "    dfs(i)\n",
        "    \n",
        "print(sum([1 for i in work if i > 0]))"
      ],
      "metadata": {
        "id": "qTnr-4x6leru"
      },
      "execution_count": null,
      "outputs": []
    },
    {
      "cell_type": "code",
      "source": [
        "from sys import stdin\n",
        "from sys import setrecursionlimit\n",
        "\n",
        "setrecursionlimit(100000)\n",
        "\n",
        "def dfs(emp_num) :\n",
        "\n",
        "  for i in emp[emp_num] :\n",
        "    if not assigned[i] :\n",
        "      assigned[i] = True\n",
        "      if work[i] == -1 or dfs(work[i]) :\n",
        "        work[i] = emp_num\n",
        "        return True\n",
        "\n",
        "  return False\n",
        "\n",
        "max_assigned = 0\n",
        "\n",
        "input = stdin.readline\n",
        "n, m = map(int, input().split())\n",
        "emp = [list(map(int, input().split()))[1 : ] for i in range(n)]\n",
        "work = [-1] * (m + 1)\n",
        "\n",
        "for i in range(n) :\n",
        "  assigned = [False] * (m + 1)\n",
        "  if dfs(i) :\n",
        "    max_assigned += 1\n",
        "\n",
        "print(max_assigned)"
      ],
      "metadata": {
        "colab": {
          "base_uri": "https://localhost:8080/"
        },
        "id": "uvxefRZjjOZl",
        "outputId": "83e7b87e-ee8a-41ce-f872-70d33d891e05"
      },
      "execution_count": 7,
      "outputs": [
        {
          "output_type": "stream",
          "name": "stdout",
          "text": [
            "5 5\n",
            "2 1 2\n",
            "1 1\n",
            "2 2 3\n",
            "3 3 4 5\n",
            "1 1\n",
            "4\n"
          ]
        }
      ]
    },
    {
      "cell_type": "code",
      "source": [
        "from sys import stdin\n",
        "import heapq\n",
        "\n",
        "input = stdin.readline\n",
        "\n",
        "N, K = map(int, input().split())\n",
        "jewels = [list(map(int, input().split())) for i in range(N)]\n",
        "bags_weights = [int(input()) for i in range(K)]\n",
        "\n",
        "jewels.sort(key = lambda x : x[0])\n",
        "bags_weights.sort()\n",
        "\n",
        "can_get = []\n",
        "max_value = 0\n",
        "\n",
        "for bag_weight in bags_weights :\n",
        "  while jewels and jewels[0][0] <= bag_weight :\n",
        "    heapq.heappush(can_get, -jewels[0][1])\n",
        "    heapq.heappop(jewels)\n",
        "  if can_get :\n",
        "    max_value += heapq.heappop(can_get)\n",
        "\n",
        "print(-max_value)"
      ],
      "metadata": {
        "id": "qyQLdcGd0Loh"
      },
      "execution_count": null,
      "outputs": []
    },
    {
      "cell_type": "code",
      "source": [
        "a = list(map(int, input().split()))\n",
        "print((a[0] + a[1]) % a[2])\n",
        "print(((a[0] % a[2]) + (a[1] % a[2])) % a[2])\n",
        "print((a[0] * a[1]) % a[2])\n",
        "print(((a[0] % a[2]) * (a[1] % a[2])) % a[2])"
      ],
      "metadata": {
        "id": "gqmbYipd67Qb"
      },
      "execution_count": null,
      "outputs": []
    },
    {
      "cell_type": "code",
      "source": [
        "a = 0\n",
        "for i in range(2) :\n",
        "  a += int(input())\n",
        "print(a)"
      ],
      "metadata": {
        "id": "q12TtviI78Zt"
      },
      "execution_count": null,
      "outputs": []
    },
    {
      "cell_type": "code",
      "source": [
        "a = []\n",
        "for i in range(2) :\n",
        "  a.append(input())\n",
        "for i in range(3) :\n",
        "  print(int(a[0]) * int(a[1][2 - i]))\n",
        "print(int(a[0]) * int(a[1]))"
      ],
      "metadata": {
        "id": "eyZhvmfC8hsk"
      },
      "execution_count": null,
      "outputs": []
    },
    {
      "cell_type": "code",
      "source": [
        "a = '123'\n",
        "print(a[1])\n",
        "print(int(a[1]))"
      ],
      "metadata": {
        "colab": {
          "base_uri": "https://localhost:8080/"
        },
        "id": "oLlPSi879IUW",
        "outputId": "82ba0039-39ce-477c-f0b7-d5eb4c5e3f3a"
      },
      "execution_count": 9,
      "outputs": [
        {
          "output_type": "stream",
          "name": "stdout",
          "text": [
            "2\n",
            "2\n"
          ]
        }
      ]
    },
    {
      "cell_type": "code",
      "source": [
        "a = list(map(int, input().split()))\n",
        "print(a[1] * 2 - a[0])"
      ],
      "metadata": {
        "id": "NcTTAcIs9gYE"
      },
      "execution_count": null,
      "outputs": []
    },
    {
      "cell_type": "code",
      "source": [
        "a = list(map(int, input().split()))\n",
        "print(a[0] - 1 + a[0] * (a[1] - 1))"
      ],
      "metadata": {
        "id": "OO0qXgeZ-M7c"
      },
      "execution_count": null,
      "outputs": []
    },
    {
      "cell_type": "code",
      "source": [
        "n = int(input())\n",
        "for i in range(n) :\n",
        "  a = list(map(int, input().split()))\n",
        "  print(\"Case #{}: {} + {} =\".format(i + 1, a[0], a[1]), a[0] + a[1])"
      ],
      "metadata": {
        "colab": {
          "base_uri": "https://localhost:8080/"
        },
        "id": "8nHh2BR0-fyi",
        "outputId": "c3925be6-d42b-406d-9cee-c07daf772439"
      },
      "execution_count": 10,
      "outputs": [
        {
          "output_type": "stream",
          "name": "stdout",
          "text": [
            "5\n",
            "1 1\n",
            "Case #6:  2\n",
            "1 1\n",
            "Case #6:  2\n",
            "1 1\n",
            "Case #6:  2\n",
            "1 1\n",
            "1 1\n",
            "Case #6:  2\n",
            "Case #6:  2\n"
          ]
        }
      ]
    },
    {
      "cell_type": "code",
      "source": [
        "import datetime\n",
        "print(str(datetime.datetime.now())[ : 10])"
      ],
      "metadata": {
        "colab": {
          "base_uri": "https://localhost:8080/"
        },
        "id": "Jj7XLpce__-Y",
        "outputId": "6547ff2f-5f5d-443d-8f56-c14d47c36ba2"
      },
      "execution_count": 11,
      "outputs": [
        {
          "output_type": "stream",
          "name": "stdout",
          "text": [
            "2022-06-20 02:45:25.330221\n"
          ]
        }
      ]
    },
    {
      "cell_type": "code",
      "source": [
        "a = list(map(int, input().split()))\n",
        "b = int(input())\n",
        "a[1] += b\n",
        "a[0] += a[1] // 60\n",
        "a[1] = a[1] % 60\n",
        "if a[0] >= 24 :\n",
        "  a[0] -= 24\n",
        "for i in range(2) :\n",
        "  print(a[i], end = ' ')"
      ],
      "metadata": {
        "id": "2eIk49aSA9CE"
      },
      "execution_count": null,
      "outputs": []
    },
    {
      "cell_type": "code",
      "source": [
        "a = list(map(int, input().split()))\n",
        "b = int(input())\n",
        "\n",
        "a[2] += b\n",
        "a[1] += a[2] // 60\n",
        "a[0] += a[1] // 60\n",
        "a[2] = a[2] % 60\n",
        "a[1] = a[1] % 60\n",
        "a[0] = a[0] % 24\n",
        "\n",
        "for i in range(3) :\n",
        "  print(a[i], end = ' ')"
      ],
      "metadata": {
        "id": "eam_32lLCuwL"
      },
      "execution_count": null,
      "outputs": []
    },
    {
      "cell_type": "code",
      "source": [
        "a, b = map(int, input().split())\n",
        "print(a * (b - 1) + 1)"
      ],
      "metadata": {
        "id": "3gDChi18FXT8"
      },
      "execution_count": null,
      "outputs": []
    },
    {
      "cell_type": "code",
      "source": [
        "n = int(input())\n",
        "for i in range(n) :\n",
        "  a = input().split()\n",
        "  b = float(a[0])\n",
        "  for j in range(1, len(a)) :\n",
        "    if a[j] == '@' :\n",
        "      b *= 3\n",
        "    elif a[j] == '%' :\n",
        "      b += 5\n",
        "    elif a[j] == '#' :\n",
        "      b -= 7\n",
        "  print('{:.2f}'.format(b))"
      ],
      "metadata": {
        "colab": {
          "base_uri": "https://localhost:8080/"
        },
        "id": "qiNUav8_F-F_",
        "outputId": "f875db90-6379-436c-9297-25f4f695a7e7"
      },
      "execution_count": 14,
      "outputs": [
        {
          "output_type": "stream",
          "name": "stdout",
          "text": [
            "3\n",
            "10.4 # % @\n",
            "25.20\n",
            "10.4 # % @\n",
            "25.20\n",
            "10.4 # % @\n",
            "25.20\n"
          ]
        }
      ]
    },
    {
      "cell_type": "code",
      "source": [
        "a = []\n",
        "for i in range(3) :\n",
        "  a.append(input())\n",
        "if a[1] == '+' :\n",
        "  print(int(a[0]) + int(a[2]))\n",
        "elif a[1] == '*' :\n",
        "  print(int(a[0]) * int(a[2]))"
      ],
      "metadata": {
        "id": "MwSOybe-IUTX"
      },
      "execution_count": null,
      "outputs": []
    },
    {
      "cell_type": "code",
      "source": [
        "t = int(input())\n",
        "for i in range(t) :\n",
        "  c, w = input().split()\n",
        "  for j in w :\n",
        "    print(j * int(c), end = '')\n",
        "  print()"
      ],
      "metadata": {
        "id": "H6-EYArzXYs_"
      },
      "execution_count": null,
      "outputs": []
    },
    {
      "cell_type": "code",
      "source": [
        "score = int(input())\n",
        "if score >= 90 :\n",
        "  print('A')\n",
        "elif score >= 80 :\n",
        "  print('B')\n",
        "elif score >= 70 :\n",
        "  print('C')\n",
        "elif score >= 60 :\n",
        "  print('D')\n",
        "else :\n",
        "  print('F')"
      ],
      "metadata": {
        "id": "XKWLoJx2X-wk"
      },
      "execution_count": null,
      "outputs": []
    },
    {
      "cell_type": "code",
      "source": [
        "integers = list(map(int, input().split()))\n",
        "integers.sort()\n",
        "print(integers[1])"
      ],
      "metadata": {
        "id": "wqNwjfJwYaYM"
      },
      "execution_count": null,
      "outputs": []
    },
    {
      "cell_type": "code",
      "source": [
        "a = int(input())\n",
        "\n",
        "if a == 1 :\n",
        "  print(1)\n",
        "\n",
        "for i in range(2, a + 1) :\n",
        "  if a % i == 0 :\n",
        "    while a % i == 0 :\n",
        "      a = a / i\n",
        "      print(i)"
      ],
      "metadata": {
        "colab": {
          "base_uri": "https://localhost:8080/"
        },
        "id": "WnHy1oHjY2h2",
        "outputId": "225804dd-1240-46af-cd3b-b3a84d87204e"
      },
      "execution_count": 33,
      "outputs": [
        {
          "output_type": "stream",
          "name": "stdout",
          "text": [
            "1\n",
            "1\n"
          ]
        }
      ]
    },
    {
      "cell_type": "code",
      "source": [
        "year = int(input())\n",
        "if year % 400 == 0 :\n",
        "  print(1)\n",
        "elif year % 100 == 0 :\n",
        "  print(0)\n",
        "elif year % 4 == 0:\n",
        "  print(1)\n",
        "else :\n",
        "  print(0)"
      ],
      "metadata": {
        "id": "pKnwlNoGeqjD"
      },
      "execution_count": null,
      "outputs": []
    },
    {
      "cell_type": "code",
      "source": [
        "a = []\n",
        "for i in range(5) :\n",
        "  b = int(input())\n",
        "  if b < 40 :\n",
        "    b = 40\n",
        "  a.append(b)\n",
        "print(int(sum(a) / 5))"
      ],
      "metadata": {
        "colab": {
          "base_uri": "https://localhost:8080/"
        },
        "id": "oQ5_ZrxIfsIz",
        "outputId": "da8202bb-471b-4e96-b405-f1b5e1b9b0cc"
      },
      "execution_count": 34,
      "outputs": [
        {
          "output_type": "stream",
          "name": "stdout",
          "text": [
            "10\n",
            "65\n",
            "100\n",
            "30\n",
            "95\n",
            "68.0\n"
          ]
        }
      ]
    },
    {
      "cell_type": "code",
      "source": [
        "a = int(input())\n",
        "\n",
        "if a == 1 :\n",
        "  print(1)\n",
        "\n",
        "for i in range(2, a + 1) :\n",
        "  if a % i == 0 :\n",
        "    while a % i == 0 :\n",
        "      a = a / i\n",
        "      print(i)"
      ],
      "metadata": {
        "id": "w2O_5tt5hGAP"
      },
      "execution_count": null,
      "outputs": []
    },
    {
      "cell_type": "code",
      "source": [
        "T = int(input())\n",
        "for i in range(T) :\n",
        "  a, b = map(int, input().split())\n",
        "  num = []\n",
        "  if a == 1 :\n",
        "    num.append(a)\n",
        "  else :\n",
        "    for j in range(2, a + 1) :\n",
        "      while a % j == 0 :\n",
        "        a = a / j\n",
        "        num.append(j)\n",
        "  if b == 1 :\n",
        "    num.append(b)\n",
        "  else :\n",
        "    for k in range(2, b + 1) :\n",
        "      while b % k == 0 :\n",
        "        b = b / k\n",
        "        num.append(k)\n",
        "  total = 1\n",
        "  num = list(set(num))\n",
        "  for l in range(len(num)) :\n",
        "    total *= num[l]\n",
        "  print(total)"
      ],
      "metadata": {
        "colab": {
          "base_uri": "https://localhost:8080/"
        },
        "id": "fgEf97XJhI99",
        "outputId": "a1d15212-99fe-4a5a-de33-3eec0041fd4d"
      },
      "execution_count": 36,
      "outputs": [
        {
          "output_type": "stream",
          "name": "stdout",
          "text": [
            "3\n",
            "1 45000\n",
            "30\n",
            "1 45000\n",
            "30\n",
            "1 45000\n",
            "30\n"
          ]
        }
      ]
    },
    {
      "cell_type": "code",
      "source": [
        "N = int(input())\n",
        "a = 2\n",
        "while N != 1 :\n",
        "  if N % a == 0 :\n",
        "    print(a)\n",
        "    N = N / a\n",
        "  else :\n",
        "    a += 1"
      ],
      "metadata": {
        "colab": {
          "base_uri": "https://localhost:8080/"
        },
        "id": "1NkUiX1Pk-ee",
        "outputId": "fb69232c-c5e8-4921-8a92-7e99d6b9092c"
      },
      "execution_count": 37,
      "outputs": [
        {
          "name": "stdout",
          "output_type": "stream",
          "text": [
            "1\n"
          ]
        }
      ]
    },
    {
      "cell_type": "code",
      "source": [
        "nums = list(map(int, input().split()))\n",
        "dicts = {\n",
        "    1 : 0,\n",
        "    2 : 0,\n",
        "    3 : 0,\n",
        "    4 : 0,\n",
        "    5 : 0,\n",
        "    6 : 0\n",
        "}\n",
        "for i in nums :\n",
        "  dicts[i] += 1\n",
        "\n",
        "lists = [[a, b] for a, b in dicts.items()]\n",
        "lists.sort(key = lambda x : (x[1], x[0]), reverse = True)\n",
        "\n",
        "if lists[0][1] == 3 :\n",
        "  print(10000 + lists[0][0] * 1000)\n",
        "elif lists[0][1] == 2 :\n",
        "  print(1000 + lists[0][0] * 100)\n",
        "else :\n",
        "  print(lists[0][0] * 100)"
      ],
      "metadata": {
        "colab": {
          "base_uri": "https://localhost:8080/"
        },
        "id": "VCAU6B4hmKGw",
        "outputId": "8778984f-a545-4ce9-aea8-39ede15481b0"
      },
      "execution_count": 42,
      "outputs": [
        {
          "output_type": "stream",
          "name": "stdout",
          "text": [
            "3 3 6\n",
            "[[3, 2], [6, 1], [5, 0], [4, 0], [2, 0], [1, 0]]\n"
          ]
        }
      ]
    },
    {
      "cell_type": "code",
      "source": [
        "while True :\n",
        "  a, b = map(int, input().split())\n",
        "  if (a == 0) and (b == 0) :\n",
        "    break\n",
        "  elif a > b :\n",
        "    print('Yes')\n",
        "  else :\n",
        "    print('No')"
      ],
      "metadata": {
        "id": "gDpwuHGWodZ6"
      },
      "execution_count": null,
      "outputs": []
    },
    {
      "cell_type": "code",
      "source": [
        "K, N, M = map(int, input().split())\n",
        "if (K * N) > M :\n",
        "  print(K * N - M)\n",
        "else :\n",
        "  print(0)"
      ],
      "metadata": {
        "id": "MD075Q54pRsc"
      },
      "execution_count": null,
      "outputs": []
    },
    {
      "cell_type": "code",
      "source": [
        "d = {}\n",
        "d[10] = 1\n",
        "print(d)"
      ],
      "metadata": {
        "colab": {
          "base_uri": "https://localhost:8080/"
        },
        "id": "ewITT3qOqV_U",
        "outputId": "f199b8cf-0b08-4e33-fb8f-387f8443b5a1"
      },
      "execution_count": 44,
      "outputs": [
        {
          "output_type": "stream",
          "name": "stdout",
          "text": [
            "{10: 1}\n"
          ]
        }
      ]
    },
    {
      "cell_type": "code",
      "source": [
        "x_list = []\n",
        "y_list = []\n",
        "for i in range(3) :\n",
        "  x, y = map(int, input().split())\n",
        "  x_list.append(x)\n",
        "  y_list.append(y)\n",
        "for i in x_list :\n",
        "  if x_list.count(i) == 1 :\n",
        "    print(i, end = ' ')\n",
        "for i in y_list :\n",
        "  if y_list.count(i) == 1 :\n",
        "    print(i)"
      ],
      "metadata": {
        "colab": {
          "base_uri": "https://localhost:8080/"
        },
        "id": "GNhqMqLtrZ0g",
        "outputId": "f8c4f338-1273-437b-dcfb-ebc36718e95c"
      },
      "execution_count": 47,
      "outputs": [
        {
          "output_type": "stream",
          "name": "stdout",
          "text": [
            "30 20\n",
            "10 10\n",
            "10 20\n",
            "30 10\n"
          ]
        }
      ]
    },
    {
      "cell_type": "code",
      "source": [
        "N = int(input())\n",
        "award = []\n",
        "for j in range(N) :\n",
        "  nums = list(map(int, input().split()))\n",
        "  dicts = {\n",
        "      1 : 0,\n",
        "      2 : 0,\n",
        "      3 : 0,\n",
        "      4 : 0,\n",
        "      5 : 0,\n",
        "      6 : 0\n",
        "  }\n",
        "  for i in nums :\n",
        "    dicts[i] += 1\n",
        "\n",
        "  lists = [[a, b] for a, b in dicts.items()]\n",
        "  lists.sort(key = lambda x : (x[1], x[0]), reverse = True)\n",
        "\n",
        "  if lists[0][1] == 3 :\n",
        "    award.append(10000 + lists[0][0] * 1000)\n",
        "  elif lists[0][1] == 2 :\n",
        "    award.append(1000 + lists[0][0] * 100)\n",
        "  else :\n",
        "    award.append(lists[0][0] * 100)\n",
        "award.sort(reverse = True)\n",
        "print(award[0])"
      ],
      "metadata": {
        "id": "qEDXlH8Qu4Ql"
      },
      "execution_count": null,
      "outputs": []
    },
    {
      "cell_type": "code",
      "source": [
        "dict_score = {\n",
        "    'A+' : 4.3, 'A0' : 4.0, 'A-' : 3.7, \n",
        "    'B+' : 3.3, 'B0' : 3.0, 'B-' : 2.7, \n",
        "    'C+' : 2.3, 'C0' : 2.0, 'C-' : 1.7, \n",
        "    'D+' : 1.3, 'D0' : 1.0, 'D-' : 0.7, \n",
        "    'F' : 0.0\n",
        "}\n",
        "score = input()\n",
        "print(dict_score[score])"
      ],
      "metadata": {
        "colab": {
          "base_uri": "https://localhost:8080/"
        },
        "id": "pxJ-kk0ZvilZ",
        "outputId": "a2979e34-01d3-4a46-bba8-57cb1cdc581f"
      },
      "execution_count": 49,
      "outputs": [
        {
          "output_type": "stream",
          "name": "stdout",
          "text": [
            "A+\n",
            "4.3\n"
          ]
        }
      ]
    },
    {
      "cell_type": "code",
      "source": [
        "h, m = map(int, input().split())\n",
        "m = m - 45\n",
        "if m < 0 :\n",
        "  m += 60\n",
        "  h -= 1\n",
        "  if h < 0 :\n",
        "    h += 24\n",
        "print(h, m)"
      ],
      "metadata": {
        "id": "c7YGTnmtwNmz"
      },
      "execution_count": null,
      "outputs": []
    },
    {
      "cell_type": "code",
      "source": [
        "dishes = input()\n",
        "height = 10\n",
        "for i in range(1, len(dishes)) :\n",
        "  if dishes[i] == dishes[i - 1] :\n",
        "    height += 5\n",
        "  else :\n",
        "    height += 10\n",
        "print(height)"
      ],
      "metadata": {
        "id": "a8LH6sLDxCZr"
      },
      "execution_count": null,
      "outputs": []
    },
    {
      "cell_type": "code",
      "source": [
        "N = int(input())\n",
        "for i in range(N) :\n",
        "  r, e, c = map(int, input().split())\n",
        "  if e - c > r :\n",
        "    print('advertise')\n",
        "  elif e - c == r :\n",
        "    print('does not matter')\n",
        "  else :\n",
        "    print('do not advertise')"
      ],
      "metadata": {
        "id": "6bUxsriCyoKC"
      },
      "execution_count": null,
      "outputs": []
    },
    {
      "cell_type": "code",
      "source": [
        "V = int(input())\n",
        "votes = input()\n",
        "dict_a = {'A' : 0, 'B' : 0}\n",
        "for i in range(V) :\n",
        "  if votes[i] == 'A' :\n",
        "    dict_a['A'] += 1\n",
        "  else :\n",
        "    dict_a['B'] += 1\n",
        "if dict_a['A'] > dict_a['B'] :\n",
        "  print('A')\n",
        "elif dict_a['A'] == dict_a['B'] :\n",
        "  print('Tie')\n",
        "else :\n",
        "  print('B')"
      ],
      "metadata": {
        "colab": {
          "base_uri": "https://localhost:8080/"
        },
        "id": "ud5WixPdzI80",
        "outputId": "04ab4f7b-af52-4a4b-fbb9-cbf7ac14f958"
      },
      "execution_count": 50,
      "outputs": [
        {
          "output_type": "stream",
          "name": "stdout",
          "text": [
            "6\n",
            "ABBABB\n",
            "B\n"
          ]
        }
      ]
    },
    {
      "cell_type": "code",
      "source": [
        "N = int(input())\n",
        "dict_b = {1 : 0, 0 : 0}\n",
        "for i in range(N) :\n",
        "  vote = int(input())\n",
        "  dict_b[vote] += 1\n",
        "if dict_b[1] > dict_b[0] :\n",
        "  print('Junhee is cute!')\n",
        "else :\n",
        "  print('Junhee is not cute!')"
      ],
      "metadata": {
        "id": "LqHuJrkAz4DX"
      },
      "execution_count": null,
      "outputs": []
    },
    {
      "cell_type": "code",
      "source": [
        "a = input()\n",
        "r = a[ : : -1]\n",
        "if a == r :\n",
        "  print(1)\n",
        "else :\n",
        "  print(0)"
      ],
      "metadata": {
        "id": "ISFAG-KO0sDY"
      },
      "execution_count": null,
      "outputs": []
    },
    {
      "cell_type": "code",
      "source": [
        "while True :\n",
        "  a, b = map(int, input().split())\n",
        "  if (a == 0) and (b == 0) :\n",
        "    break\n",
        "  elif a % b == 0 :\n",
        "    print('multiple')\n",
        "  elif b % a == 0 :\n",
        "    print('factor')\n",
        "  else :\n",
        "    print('neither')"
      ],
      "metadata": {
        "id": "6i0GD7ft1RhX"
      },
      "execution_count": null,
      "outputs": []
    },
    {
      "cell_type": "code",
      "source": [
        "while True :\n",
        "  a, b = map(int, input().split())\n",
        "  if (a == 0) and (b == 0) :\n",
        "    break\n",
        "  print(a + b)"
      ],
      "metadata": {
        "id": "EOtmlodm1zD5"
      },
      "execution_count": null,
      "outputs": []
    },
    {
      "cell_type": "code",
      "source": [
        "n = int(input())\n",
        "dict_c = {0 : 0, 1 : 0, 2 : 0, 3 : 0, 4 : 0}\n",
        "for i in range(n) :\n",
        "  x, y = map(int, input().split())\n",
        "  if x == 0 or y == 0 :\n",
        "    dict_c[0] += 1\n",
        "  elif x > 0 and y > 0 :\n",
        "    dict_c[1] += 1\n",
        "  elif x < 0 and y > 0 :\n",
        "    dict_c[2] += 1\n",
        "  elif x < 0 and y < 0 :\n",
        "    dict_c[3] += 1\n",
        "  else :\n",
        "    dict_c[4] += 1\n",
        "print('Q1:', dict_c[1])\n",
        "print('Q2:', dict_c[2])\n",
        "print('Q3:', dict_c[3])\n",
        "print('Q4:', dict_c[4])\n",
        "print('AXIS:', dict_c[0])"
      ],
      "metadata": {
        "id": "xJGX7BHh2F9g"
      },
      "execution_count": null,
      "outputs": []
    },
    {
      "cell_type": "code",
      "source": [
        "def score(a, b) :\n",
        "  global count\n",
        "  if a == 'O' :\n",
        "    if a == b :\n",
        "      count += 1\n",
        "    else :\n",
        "      count = 0\n",
        "  else :\n",
        "    if a == b :\n",
        "      count = 0\n",
        "    else :\n",
        "      count += 1\n",
        "\n",
        "N = int(input())\n",
        "for i in range(N) :\n",
        "  answer = input()\n",
        "  s = 0\n",
        "  count = 0\n",
        "  if answer[0] == 'O' :\n",
        "    s += 1\n",
        "    count += 1\n",
        "    for j in range(1, len(answer)) :\n",
        "      score(answer[j - 1], answer[j])\n",
        "      s += count\n",
        "  else :\n",
        "    for j in range(1, len(answer)) :\n",
        "      score(answer[j - 1], answer[j])\n",
        "      s += count\n",
        "  print(s)"
      ],
      "metadata": {
        "colab": {
          "base_uri": "https://localhost:8080/"
        },
        "id": "L5fYek7m3NQi",
        "outputId": "2308dd79-0f63-4b83-95c1-50e78aecb219"
      },
      "execution_count": 63,
      "outputs": [
        {
          "output_type": "stream",
          "name": "stdout",
          "text": [
            "1\n",
            "OOXXOOXXOO\n",
            "9\n"
          ]
        }
      ]
    },
    {
      "cell_type": "code",
      "source": [
        "while True :\n",
        "  a = int(input())\n",
        "  if a == -1 :\n",
        "    break\n",
        "  b = []\n",
        "  for i in range(1, a // 2 + 1) :\n",
        "    if a % i == 0 :\n",
        "      b.append(i)\n",
        "  if a == sum(b) :\n",
        "    print(a, '= ', end = '')\n",
        "    print(' + '.join(str(x) for x in b))\n",
        "  else :\n",
        "    print('{} is NOT perfect.'.format(a))"
      ],
      "metadata": {
        "colab": {
          "base_uri": "https://localhost:8080/"
        },
        "id": "V8Ike8At-b2B",
        "outputId": "313f7802-958f-48c5-d92a-8fa3c8100006"
      },
      "execution_count": 68,
      "outputs": [
        {
          "name": "stdout",
          "output_type": "stream",
          "text": [
            "28\n",
            "28 = 1 + 2 + 4 + 7 + 14\n",
            "6\n",
            "6 = 1 + 2 + 3\n",
            "5\n",
            "5 is NOT perfect.\n",
            "12\n",
            "12 is NOT perfect.\n",
            "-1\n"
          ]
        }
      ]
    },
    {
      "cell_type": "code",
      "source": [
        "T = int(input())\n",
        "dict_d = {'A' : 0, 'B' : 0, 'C' : 0}\n",
        "if T % 10 != 0 :\n",
        "  print(-1)\n",
        "else :\n",
        "  dict_d['A'] = T // 300\n",
        "  T = T % 300\n",
        "  dict_d['B'] = T // 60\n",
        "  T = T % 60\n",
        "  dict_d['C'] = T // 10\n",
        "  print(' '.join(str(dict_d[x]) for x in dict_d))"
      ],
      "metadata": {
        "colab": {
          "base_uri": "https://localhost:8080/"
        },
        "id": "orBRDLUpCAv6",
        "outputId": "f21a604b-d377-491e-ddce-ebbced7ed9e6"
      },
      "execution_count": 70,
      "outputs": [
        {
          "output_type": "stream",
          "name": "stdout",
          "text": [
            "100\n",
            "0 1 4\n"
          ]
        }
      ]
    },
    {
      "cell_type": "code",
      "source": [
        "n = int(input())\n",
        "p = 100\n",
        "q = 100\n",
        "for i in range(n) :\n",
        "  a, b = map(int, input().split())\n",
        "  if a > b :\n",
        "    q = q - a\n",
        "  elif a < b :\n",
        "    p = p - b\n",
        "print(p)\n",
        "print(q)"
      ],
      "metadata": {
        "colab": {
          "base_uri": "https://localhost:8080/"
        },
        "id": "VsIh-nkqDtlA",
        "outputId": "eba7647b-16dc-4f6e-bfa2-d29b4a87a297"
      },
      "execution_count": 71,
      "outputs": [
        {
          "output_type": "stream",
          "name": "stdout",
          "text": [
            "4\n",
            "5 6\n",
            "6 6\n",
            "4 3\n",
            "5 2\n",
            "94\n",
            "91\n"
          ]
        }
      ]
    },
    {
      "cell_type": "code",
      "source": [
        "T = int(input())\n",
        "for i in range(T) :\n",
        "  yonsei = 0\n",
        "  korea = 0\n",
        "  for j in range(9) :\n",
        "    y, k = map(int, input().split())\n",
        "    yonsei += y\n",
        "    korea += k\n",
        "  if yonsei > korea :\n",
        "    print('Yonsei')\n",
        "  elif yonsei < korea :\n",
        "    print('Korea')\n",
        "  else :\n",
        "    print('Draw')"
      ],
      "metadata": {
        "colab": {
          "base_uri": "https://localhost:8080/"
        },
        "id": "Lhi-DLq6E5dW",
        "outputId": "1fbfc50e-cc86-41f7-a0d1-6935cb8aee56"
      },
      "execution_count": 73,
      "outputs": [
        {
          "name": "stdout",
          "output_type": "stream",
          "text": [
            "1\n",
            "1 0\n",
            "Yonsei\n",
            "0 0\n",
            "0 0\n",
            "0 0\n",
            "0 0\n",
            "0 0\n",
            "0 0\n",
            "0 0\n",
            "0 0\n"
          ]
        }
      ]
    },
    {
      "cell_type": "code",
      "source": [
        "T = int(input())\n",
        "for i in range(T) :\n",
        "  N = int(input())\n",
        "  d = {}\n",
        "  for j in range(N) :\n",
        "    name, drinks = input().split()\n",
        "    d[name] = int(drinks)\n",
        "  best = max(d, key = d.get)\n",
        "  print(best)"
      ],
      "metadata": {
        "colab": {
          "base_uri": "https://localhost:8080/"
        },
        "id": "IuQ5UdolFs-F",
        "outputId": "ee4beb05-2f62-417a-bd0f-c537d3db27ae"
      },
      "execution_count": 75,
      "outputs": [
        {
          "output_type": "stream",
          "name": "stdout",
          "text": [
            "1\n",
            "1\n",
            "yonsei 100\n",
            "yonsei\n"
          ]
        }
      ]
    },
    {
      "cell_type": "code",
      "source": [
        "a, b = map(int, input().split())\n",
        "print(a + b)"
      ],
      "metadata": {
        "id": "P6s73BEUNSPr"
      },
      "execution_count": null,
      "outputs": []
    },
    {
      "cell_type": "code",
      "source": [
        "def func(p, q) :\n",
        "  while q :\n",
        "    p, q = q, p % q\n",
        "  return p\n",
        "\n",
        "T = int(input())\n",
        "for i in range(T) :\n",
        "  a, b = map(int, input().split())\n",
        "  print(int(a * b / func(a, b)))"
      ],
      "metadata": {
        "colab": {
          "base_uri": "https://localhost:8080/"
        },
        "id": "WXGwy-AkOypp",
        "outputId": "c3d6b702-7eeb-4b05-e4a5-ca049fad8d80"
      },
      "execution_count": 76,
      "outputs": [
        {
          "output_type": "stream",
          "name": "stdout",
          "text": [
            "3\n",
            "6 10\n",
            "30.0\n",
            "13 17\n",
            "221.0\n",
            "1 45000\n",
            "45000.0\n"
          ]
        }
      ]
    }
  ]
}