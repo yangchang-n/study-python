{
  "nbformat": 4,
  "nbformat_minor": 0,
  "metadata": {
    "colab": {
      "name": "Studygroup_007.ipynb",
      "provenance": [],
      "collapsed_sections": [],
      "authorship_tag": "ABX9TyOxsnHAHqY+HVW7zIf1vlZ9",
      "include_colab_link": true
    },
    "kernelspec": {
      "name": "python3",
      "display_name": "Python 3"
    },
    "language_info": {
      "name": "python"
    }
  },
  "cells": [
    {
      "cell_type": "markdown",
      "metadata": {
        "id": "view-in-github",
        "colab_type": "text"
      },
      "source": [
        "<a href=\"https://colab.research.google.com/github/yangchangnaihoby/AI_7th/blob/master/Studygroup_007.ipynb\" target=\"_parent\"><img src=\"https://colab.research.google.com/assets/colab-badge.svg\" alt=\"Open In Colab\"/></a>"
      ]
    },
    {
      "cell_type": "code",
      "execution_count": 1,
      "metadata": {
        "colab": {
          "base_uri": "https://localhost:8080/"
        },
        "id": "DqLQONg6mZWJ",
        "outputId": "2a4d831d-1769-4daa-e8c5-4d4a8a6b2b9e"
      },
      "outputs": [
        {
          "output_type": "stream",
          "name": "stdout",
          "text": [
            "[0, 0, 1, 2, 0, 1, 2]\n"
          ]
        }
      ],
      "source": [
        "pattern = 'ababbab'\n",
        "\n",
        "table = [0 for i in range(len(pattern))]\n",
        "a = 0\n",
        "for j in range(1, len(pattern)) :\n",
        "  while a > 0 and pattern[a] != pattern[j] :\n",
        "    a = table[a - 1]\n",
        "  if pattern[a] == pattern[j] :\n",
        "    a += 1\n",
        "    table[j] = a\n",
        "\n",
        "print(table)"
      ]
    },
    {
      "cell_type": "code",
      "source": [
        "from sys import stdin\n",
        "# input = stdin.readline\n",
        "\n",
        "def kmp_pi(part) :\n",
        "  pi_table = [0 for k in range(len(part))]\n",
        "  i = 0\n",
        "  for j in range(1, len(part)) :\n",
        "    while i > 0 and part[i] != part[j] :\n",
        "      i = pi_table[i - 1]\n",
        "    if part[i] == part[j] :\n",
        "      i += 1\n",
        "      pi_table[j] = i\n",
        "  return pi_table\n",
        "\n",
        "def kmp(all, part) :\n",
        "  pi_table = kmp_pi(part)\n",
        "  index_list = []\n",
        "  i = 0\n",
        "  for j in range(len(all)) :\n",
        "    while i > 0 and part[i] != all[j] :\n",
        "      i = pi_table[i - 1]\n",
        "    if part[i] == all[j] :\n",
        "      if i == len(part) - 1 :\n",
        "        index_list.append(j - len(part) + 1)\n",
        "        i = pi_table[i]\n",
        "      else :\n",
        "        i += 1\n",
        "  return index_list\n",
        "\n",
        "while True :\n",
        "  s = input()\n",
        "  if s == '.' :\n",
        "    break\n",
        "  n_list = []\n",
        "  for p in range(1, len(s) + 1) :\n",
        "    a = s[ : p]\n",
        "    result_list = kmp(s, a)\n",
        "    check_list = [q for q in range(0, len(s), len(a))]\n",
        "    if result_list == check_list :\n",
        "      n_list.append(len(s) / len(a))\n",
        "      break\n",
        "  print(int(max(n_list)))"
      ],
      "metadata": {
        "colab": {
          "base_uri": "https://localhost:8080/"
        },
        "id": "INY9eu-tsLgC",
        "outputId": "cdcb1041-96aa-4af2-8782-b3f5e514f3ee"
      },
      "execution_count": 1,
      "outputs": [
        {
          "name": "stdout",
          "output_type": "stream",
          "text": [
            "aaaa\n",
            "4\n",
            "abcd\n",
            "1\n",
            "ababab\n",
            "3\n",
            ".\n"
          ]
        }
      ]
    },
    {
      "cell_type": "code",
      "source": [
        "s = 'abababab'\n",
        "a = 'ab'\n",
        "check_list = [q for q in range(0, len(s), len(a))]\n",
        "print(check_list)"
      ],
      "metadata": {
        "colab": {
          "base_uri": "https://localhost:8080/"
        },
        "id": "JDG8saFLvfzs",
        "outputId": "ae7d964b-6d36-47a3-e7fc-403317545996"
      },
      "execution_count": 3,
      "outputs": [
        {
          "output_type": "stream",
          "name": "stdout",
          "text": [
            "[0, 2, 4, 6]\n"
          ]
        }
      ]
    },
    {
      "cell_type": "code",
      "source": [
        "a_list = [0]\n",
        "print(max(a_list))"
      ],
      "metadata": {
        "colab": {
          "base_uri": "https://localhost:8080/"
        },
        "id": "9L8SwIWEwgm5",
        "outputId": "12fea1f2-449d-4bf8-e822-cae5aceb33df"
      },
      "execution_count": 11,
      "outputs": [
        {
          "output_type": "stream",
          "name": "stdout",
          "text": [
            "0\n"
          ]
        }
      ]
    },
    {
      "cell_type": "code",
      "source": [
        "s = 'ababababab'\n",
        "for p in range(1, len(s) + 1) :\n",
        "  a = s[:p]\n",
        "  print(kmp(s, a))"
      ],
      "metadata": {
        "colab": {
          "base_uri": "https://localhost:8080/"
        },
        "id": "uVSf9yLk1nJm",
        "outputId": "6c923741-5c13-4245-9009-65a4b71cc756"
      },
      "execution_count": 8,
      "outputs": [
        {
          "output_type": "stream",
          "name": "stdout",
          "text": [
            "None\n",
            "None\n",
            "None\n",
            "None\n",
            "None\n",
            "None\n",
            "None\n",
            "None\n",
            "None\n",
            "None\n"
          ]
        }
      ]
    },
    {
      "cell_type": "code",
      "source": [
        "def kmp_pi(part) :\n",
        "  pi_table = [0 for k in range(len(part))]\n",
        "  i = 0\n",
        "  for j in range(1, len(part)) :\n",
        "    while i > 0 and part[i] != part[j] :\n",
        "      i = pi_table[i - 1]\n",
        "    if part[i] == part[j] :\n",
        "      i += 1\n",
        "      pi_table[j] = i\n",
        "  return pi_table\n",
        "\n",
        "def kmp(all, part) :\n",
        "  pi_table = kmp_pi(part)\n",
        "  index_list = []\n",
        "  i = 0\n",
        "  for j in range(len(all)) :\n",
        "    while i > 0 and part[i] != all[j] :\n",
        "      i = pi_table[i - 1]\n",
        "    if part[i] == all[j] :\n",
        "      if i == len(part) - 1 :\n",
        "        index_list.append(j - len(part) + 1)\n",
        "        i = pi_table[i]\n",
        "      else :\n",
        "        i += 1\n",
        "  return index_list"
      ],
      "metadata": {
        "id": "KCQfX7eg2H9V"
      },
      "execution_count": 18,
      "outputs": []
    },
    {
      "cell_type": "code",
      "source": [
        "print(kmp('ababababab', 'ab'))"
      ],
      "metadata": {
        "colab": {
          "base_uri": "https://localhost:8080/"
        },
        "id": "5ozx72du3L55",
        "outputId": "795aaff3-0c38-4e05-849e-36dd932b1bc4"
      },
      "execution_count": 19,
      "outputs": [
        {
          "output_type": "stream",
          "name": "stdout",
          "text": [
            "[0, 2, 4, 6, 8]\n"
          ]
        }
      ]
    },
    {
      "cell_type": "code",
      "source": [
        "from sys import stdin\n",
        "# input = stdin.readline\n",
        "\n",
        "def kmp_pi(part) :\n",
        "  pi_table = [0] * len(part)\n",
        "  i = 0\n",
        "  for j in range(1, len(part)) :\n",
        "    while i > 0 and part[i] != part[j] :\n",
        "      i = pi_table[i - 1]\n",
        "    if part[i] == part[j] :\n",
        "      i += 1\n",
        "      pi_table[j] = i\n",
        "  return pi_table\n",
        "\n",
        "def kmp(all, part) :\n",
        "  pi_table = kmp_pi(part)\n",
        "  index_list = []\n",
        "  i = 0\n",
        "  for j in range(len(all)) :\n",
        "    while i > 0 and part[i] != all[j] :\n",
        "      i = pi_table[i - 1]\n",
        "    if part[i] == all[j] :\n",
        "      if i == len(part) - 1 :\n",
        "        index_list.append(j - len(part) + 1)\n",
        "        i = pi_table[i]\n",
        "      else :\n",
        "        i += 1\n",
        "  return index_list\n",
        "\n",
        "while True :\n",
        "  s = input()\n",
        "  if s == '.' :\n",
        "    break\n",
        "  n_list = []\n",
        "  for p in range(1, len(s) + 1) :\n",
        "    a = s[ : p]\n",
        "    result_list = kmp(s, a)\n",
        "    if len(result_list) == len(s) / len(a) :\n",
        "      n_list.append(len(s) / len(a))\n",
        "      break\n",
        "  print(int(max(n_list)))"
      ],
      "metadata": {
        "colab": {
          "base_uri": "https://localhost:8080/"
        },
        "id": "uAA6z2a66Ual",
        "outputId": "4f8fe681-c3bf-48ef-a9ff-8c40a466891e"
      },
      "execution_count": 2,
      "outputs": [
        {
          "name": "stdout",
          "output_type": "stream",
          "text": [
            "aaaa\n",
            "4\n",
            "abcd\n",
            "1\n",
            "ababab\n",
            "3\n",
            ".\n"
          ]
        }
      ]
    },
    {
      "cell_type": "code",
      "source": [
        "def kmp_pi(part) :\n",
        "  pi_table = [0] * len(part)\n",
        "  i = 0\n",
        "  for j in range(1, len(part)) :\n",
        "    while i > 0 and part[i] != part[j] :\n",
        "      i = pi_table[i - 1]\n",
        "    if part[i] == part[j] :\n",
        "      i += 1\n",
        "      pi_table[j] = i\n",
        "  return pi_table\n",
        "\n",
        "while True :\n",
        "  s = input()\n",
        "  if s == '.' :\n",
        "    break\n",
        "  table = kmp_pi(s)\n",
        "  if len(s) % (len(s) - table[-1]) != 0 :\n",
        "    print(1)\n",
        "  else :\n",
        "    print(len(s) // (len(s) - table[-1]))"
      ],
      "metadata": {
        "colab": {
          "base_uri": "https://localhost:8080/"
        },
        "id": "Omx2u5bb9fhC",
        "outputId": "ea8dd5db-9678-4c14-df6f-11de581db782"
      },
      "execution_count": 2,
      "outputs": [
        {
          "name": "stdout",
          "output_type": "stream",
          "text": [
            "a\n",
            "1\n",
            "aaaaaaaaaaa\n",
            "11\n",
            "ababab\n",
            "3\n",
            "ababababa\n",
            "1\n",
            "abcdddddd\n",
            "1\n",
            "asdlkfjhasdlkfjhsaldfkjh\n",
            "1\n",
            "asdflkjhasdflkjhasdflkjh\n",
            "3\n",
            ".\n"
          ]
        }
      ]
    },
    {
      "cell_type": "code",
      "source": [
        "from sys import stdin\n",
        "input = stdin.readline\n",
        "\n",
        "N = int(input())\n",
        "a = []\n",
        "for i in range(N) :\n",
        "  x, y = map(int, input().split())\n",
        "  a.append([x, y])\n",
        "a.sort(key = lambda x : (x[0], x[1]))\n",
        "for i in range(N) :\n",
        "  print(a[i][0], a[i][1])"
      ],
      "metadata": {
        "id": "xuFneM5JGCw-"
      },
      "execution_count": null,
      "outputs": []
    },
    {
      "cell_type": "code",
      "source": [
        "N = int(input())\n",
        "n = N\n",
        "a = {}\n",
        "d = 2\n",
        "\n",
        "while n != 1 :\n",
        "  if n % d != 0 :\n",
        "    d += 1\n",
        "  else :\n",
        "    n //= d\n",
        "    if not d in a :\n",
        "      a[d] = 1\n",
        "    else :\n",
        "      a[d] += 1\n",
        "print(a)\n",
        "\n",
        "total = 1\n",
        "for i in a.keys() :\n",
        "  total *= (a[i] + 1)\n",
        "print(total)\n",
        "print(N - total)"
      ],
      "metadata": {
        "colab": {
          "base_uri": "https://localhost:8080/"
        },
        "id": "G6oZHddfqsDz",
        "outputId": "37909845-1513-4cce-84e1-ad2ba20509f5"
      },
      "execution_count": 11,
      "outputs": [
        {
          "output_type": "stream",
          "name": "stdout",
          "text": [
            "10\n",
            "{2: 1, 5: 1}\n",
            "4\n",
            "6\n"
          ]
        }
      ]
    },
    {
      "cell_type": "code",
      "source": [
        "a = {}\n",
        "if 2 in a :\n",
        "  print(1)\n",
        "else :\n",
        "  print(2)"
      ],
      "metadata": {
        "colab": {
          "base_uri": "https://localhost:8080/"
        },
        "id": "aYQFcZN8rd_4",
        "outputId": "a0677bce-b8ea-45ff-b2fe-43d5108cb343"
      },
      "execution_count": 4,
      "outputs": [
        {
          "output_type": "stream",
          "name": "stdout",
          "text": [
            "2\n"
          ]
        }
      ]
    },
    {
      "cell_type": "code",
      "source": [
        "from sys import stdin\n",
        "\n",
        "N = int(input())\n",
        "answer = N\n",
        "\n",
        "for i in range(2, int(N ** 0.5) + 1) :\n",
        "  if N % i == 0 :\n",
        "    while N % i == 0 :\n",
        "      N //= i\n",
        "    answer -= answer / i\n",
        "\n",
        "if N > 1 :\n",
        "  answer -= answer / N\n",
        "\n",
        "print(int(answer))"
      ],
      "metadata": {
        "colab": {
          "base_uri": "https://localhost:8080/"
        },
        "id": "J_y0qM3DuHhF",
        "outputId": "ef9fb863-3900-4f55-e1fd-a0d15c01c03a"
      },
      "execution_count": 13,
      "outputs": [
        {
          "output_type": "stream",
          "name": "stdout",
          "text": [
            "1\n",
            "1\n"
          ]
        }
      ]
    },
    {
      "cell_type": "code",
      "source": [
        "min, max = map(int, input().split())\n",
        "\n",
        "answer = max - min + 1\n",
        "check = [False] * (max - min + 1)\n",
        "\n",
        "for i in range(2, int(max ** 0.5 + 1)) :\n",
        "  square = i ** 2\n",
        "  for j in range((((min - 1) // square) + 1) * square, max + 1, square) :\n",
        "    if not check[j - min] :\n",
        "      check[j - min] = True\n",
        "      answer -= 1\n",
        "\n",
        "print(answer)"
      ],
      "metadata": {
        "colab": {
          "base_uri": "https://localhost:8080/"
        },
        "id": "xn5vwRWz0JwN",
        "outputId": "817fe874-313a-415d-b221-3b87c5dca4e3"
      },
      "execution_count": 2,
      "outputs": [
        {
          "output_type": "stream",
          "name": "stdout",
          "text": [
            "1 10\n",
            "7\n"
          ]
        }
      ]
    },
    {
      "cell_type": "code",
      "source": [
        "# This code is contributed by\n",
        "# Manish Shaw(manishshaw1)\n",
        "\n",
        "def isPrime(n) :\n",
        "    if (n < 2) :\n",
        "        return False\n",
        "    for i in range(2, n + 1) :\n",
        "        if (i * i <= n and n % i == 0) :\n",
        "            return False\n",
        "    return True\n",
        " \n",
        "def mobius(N) :\n",
        "    if (N == 1) :\n",
        "        return 1\n",
        "    p = 0\n",
        "    for i in range(1, N + 1) :\n",
        "        if (N % i == 0 and isPrime(i)) :\n",
        "            if (N % (i * i) == 0) :\n",
        "                return 0\n",
        "            else :\n",
        "                p = p + 1\n",
        "    if(p % 2 != 0) :\n",
        "        return -1\n",
        "    else :\n",
        "        return 1"
      ],
      "metadata": {
        "colab": {
          "base_uri": "https://localhost:8080/"
        },
        "id": "SEZwbLwiXGWl",
        "outputId": "22bedb76-69ef-4d11-ea62-d62e3e26bf7c"
      },
      "execution_count": 3,
      "outputs": [
        {
          "output_type": "stream",
          "name": "stdout",
          "text": [
            "Mobius defs M(N) at N = 17 is: -1\n",
            "Mobius defs M(N) at N = 25 is: 0\n",
            "Mobius defs M(N) at N = 6 is: 1\n"
          ]
        }
      ]
    },
    {
      "cell_type": "code",
      "source": [
        "mobius = [0] * 1000\n",
        "mobius[1] = 1\n",
        "for i in range(1, 20):\n",
        "    if mobius[i]:\n",
        "        for j in range(i * 2, 36, i):\n",
        "            mobius[j] -= mobius[i]\n",
        "    print(mobius[:36])"
      ],
      "metadata": {
        "colab": {
          "base_uri": "https://localhost:8080/"
        },
        "id": "6vXikqaSjNxh",
        "outputId": "eb87261e-c98f-4d2b-86ce-8c1bc7107351"
      },
      "execution_count": 6,
      "outputs": [
        {
          "output_type": "stream",
          "name": "stdout",
          "text": [
            "[0, 1, -1, -1, -1, -1, -1, -1, -1, -1, -1, -1, -1, -1, -1, -1, -1, -1, -1, -1, -1, -1, -1, -1, -1, -1, -1, -1, -1, -1, -1, -1, -1, -1, -1, -1]\n",
            "[0, 1, -1, -1, 0, -1, 0, -1, 0, -1, 0, -1, 0, -1, 0, -1, 0, -1, 0, -1, 0, -1, 0, -1, 0, -1, 0, -1, 0, -1, 0, -1, 0, -1, 0, -1]\n",
            "[0, 1, -1, -1, 0, -1, 1, -1, 0, 0, 0, -1, 1, -1, 0, 0, 0, -1, 1, -1, 0, 0, 0, -1, 1, -1, 0, 0, 0, -1, 1, -1, 0, 0, 0, -1]\n",
            "[0, 1, -1, -1, 0, -1, 1, -1, 0, 0, 0, -1, 1, -1, 0, 0, 0, -1, 1, -1, 0, 0, 0, -1, 1, -1, 0, 0, 0, -1, 1, -1, 0, 0, 0, -1]\n",
            "[0, 1, -1, -1, 0, -1, 1, -1, 0, 0, 1, -1, 1, -1, 0, 1, 0, -1, 1, -1, 1, 0, 0, -1, 1, 0, 0, 0, 0, -1, 2, -1, 0, 0, 0, 0]\n",
            "[0, 1, -1, -1, 0, -1, 1, -1, 0, 0, 1, -1, 0, -1, 0, 1, 0, -1, 0, -1, 1, 0, 0, -1, 0, 0, 0, 0, 0, -1, 1, -1, 0, 0, 0, 0]\n",
            "[0, 1, -1, -1, 0, -1, 1, -1, 0, 0, 1, -1, 0, -1, 1, 1, 0, -1, 0, -1, 1, 1, 0, -1, 0, 0, 0, 0, 1, -1, 1, -1, 0, 0, 0, 1]\n",
            "[0, 1, -1, -1, 0, -1, 1, -1, 0, 0, 1, -1, 0, -1, 1, 1, 0, -1, 0, -1, 1, 1, 0, -1, 0, 0, 0, 0, 1, -1, 1, -1, 0, 0, 0, 1]\n",
            "[0, 1, -1, -1, 0, -1, 1, -1, 0, 0, 1, -1, 0, -1, 1, 1, 0, -1, 0, -1, 1, 1, 0, -1, 0, 0, 0, 0, 1, -1, 1, -1, 0, 0, 0, 1]\n",
            "[0, 1, -1, -1, 0, -1, 1, -1, 0, 0, 1, -1, 0, -1, 1, 1, 0, -1, 0, -1, 0, 1, 0, -1, 0, 0, 0, 0, 1, -1, 0, -1, 0, 0, 0, 1]\n",
            "[0, 1, -1, -1, 0, -1, 1, -1, 0, 0, 1, -1, 0, -1, 1, 1, 0, -1, 0, -1, 0, 1, 1, -1, 0, 0, 0, 0, 1, -1, 0, -1, 0, 1, 0, 1]\n",
            "[0, 1, -1, -1, 0, -1, 1, -1, 0, 0, 1, -1, 0, -1, 1, 1, 0, -1, 0, -1, 0, 1, 1, -1, 0, 0, 0, 0, 1, -1, 0, -1, 0, 1, 0, 1]\n",
            "[0, 1, -1, -1, 0, -1, 1, -1, 0, 0, 1, -1, 0, -1, 1, 1, 0, -1, 0, -1, 0, 1, 1, -1, 0, 0, 1, 0, 1, -1, 0, -1, 0, 1, 0, 1]\n",
            "[0, 1, -1, -1, 0, -1, 1, -1, 0, 0, 1, -1, 0, -1, 1, 1, 0, -1, 0, -1, 0, 1, 1, -1, 0, 0, 1, 0, 0, -1, 0, -1, 0, 1, 0, 1]\n",
            "[0, 1, -1, -1, 0, -1, 1, -1, 0, 0, 1, -1, 0, -1, 1, 1, 0, -1, 0, -1, 0, 1, 1, -1, 0, 0, 1, 0, 0, -1, -1, -1, 0, 1, 0, 1]\n",
            "[0, 1, -1, -1, 0, -1, 1, -1, 0, 0, 1, -1, 0, -1, 1, 1, 0, -1, 0, -1, 0, 1, 1, -1, 0, 0, 1, 0, 0, -1, -1, -1, 0, 1, 0, 1]\n",
            "[0, 1, -1, -1, 0, -1, 1, -1, 0, 0, 1, -1, 0, -1, 1, 1, 0, -1, 0, -1, 0, 1, 1, -1, 0, 0, 1, 0, 0, -1, -1, -1, 0, 1, 1, 1]\n",
            "[0, 1, -1, -1, 0, -1, 1, -1, 0, 0, 1, -1, 0, -1, 1, 1, 0, -1, 0, -1, 0, 1, 1, -1, 0, 0, 1, 0, 0, -1, -1, -1, 0, 1, 1, 1]\n",
            "[0, 1, -1, -1, 0, -1, 1, -1, 0, 0, 1, -1, 0, -1, 1, 1, 0, -1, 0, -1, 0, 1, 1, -1, 0, 0, 1, 0, 0, -1, -1, -1, 0, 1, 1, 1]\n"
          ]
        }
      ]
    },
    {
      "cell_type": "code",
      "source": [
        "K = int(input())\n",
        "start = 0\n",
        "end = 2 * 10 ** 18\n",
        "mobius_list = [0] * (10 ** 9 + 1)\n",
        "\n",
        "def mobius(list_a) :\n",
        "  for i in range(1, len(list_a)) :\n",
        "    if list_a[i] :\n",
        "      for j in range(i * 2, len(list_a), i) :\n",
        "        list_a[j] -= list_a[i]\n",
        "\n",
        "def find(n) :\n",
        "  a = 0\n",
        "  for i in range(1, int(n ** 0.5) + 1) :\n",
        "    a += mobius_list[i] * (n // (i ** 2))\n",
        "  return a\n",
        "\n",
        "mobius_list[1] = 1\n",
        "mobius(mobius_list)\n",
        "\n",
        "while start < end - 1 :\n",
        "  middle = (start + end) // 2\n",
        "  if find(middle) < K :\n",
        "    start = middle\n",
        "  else :\n",
        "    end = middle\n",
        "\n",
        "print(end)"
      ],
      "metadata": {
        "colab": {
          "base_uri": "https://localhost:8080/"
        },
        "id": "gklC7Cf_ndJ-",
        "outputId": "45daa731-3958-4ecb-b730-ad1e4b2bd22e"
      },
      "execution_count": 16,
      "outputs": [
        {
          "output_type": "stream",
          "name": "stdout",
          "text": [
            "10\n",
            "14\n"
          ]
        }
      ]
    }
  ]
}