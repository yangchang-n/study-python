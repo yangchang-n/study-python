{
  "nbformat": 4,
  "nbformat_minor": 0,
  "metadata": {
    "colab": {
      "name": "Studygroup_008.ipynb",
      "provenance": [],
      "collapsed_sections": [],
      "authorship_tag": "ABX9TyMTBRBLY/CHXBTOy6BHLL/p",
      "include_colab_link": true
    },
    "kernelspec": {
      "name": "python3",
      "display_name": "Python 3"
    },
    "language_info": {
      "name": "python"
    }
  },
  "cells": [
    {
      "cell_type": "markdown",
      "metadata": {
        "id": "view-in-github",
        "colab_type": "text"
      },
      "source": [
        "<a href=\"https://colab.research.google.com/github/yangchangnaihoby/AI_7th/blob/master/Studygroup_008.ipynb\" target=\"_parent\"><img src=\"https://colab.research.google.com/assets/colab-badge.svg\" alt=\"Open In Colab\"/></a>"
      ]
    },
    {
      "cell_type": "code",
      "execution_count": 4,
      "metadata": {
        "colab": {
          "base_uri": "https://localhost:8080/"
        },
        "id": "9AUefk2NYBi9",
        "outputId": "0c9467c6-7c29-4d2c-992e-ee0235ec99ef"
      },
      "outputs": [
        {
          "output_type": "stream",
          "name": "stdout",
          "text": [
            "ABC ABCDAB ABCDABCDABDE\n",
            "ABCDABD\n",
            "1\n",
            "16\n"
          ]
        }
      ],
      "source": [
        "def kmp_pi(part) :\n",
        "  pi_table = [0 for k in range(len(part))]\n",
        "  i = 0\n",
        "  for j in range(1, len(part)) :\n",
        "    while i > 0 and part[i] != part[j] :\n",
        "      i = pi_table[i - 1]\n",
        "    if part[i] == part[j] :\n",
        "      i += 1\n",
        "      pi_table[j] = i\n",
        "  return pi_table\n",
        "\n",
        "def kmp(all, part) :\n",
        "  pi_table = kmp_pi(part)\n",
        "  index_list = []\n",
        "  i = 0\n",
        "  for j in range(len(all)) :\n",
        "    while i > 0 and part[i] != all[j] :\n",
        "      i = pi_table[i - 1]\n",
        "    if part[i] == all[j] :\n",
        "      if i == len(part) - 1 :\n",
        "        index_list.append(j - len(part) + 1)\n",
        "        i = pi_table[i]\n",
        "      else :\n",
        "        i += 1\n",
        "  return index_list\n",
        "\n",
        "T = input()\n",
        "P = input()\n",
        "\n",
        "list_a = kmp(T, P)\n",
        "print(len(list_a))\n",
        "print(' '.join(str(i + 1) for i in list_a))"
      ]
    },
    {
      "cell_type": "code",
      "source": [
        "N = int(input())\n",
        "a = []\n",
        "for i in range(N) :\n",
        "  p = int(input())\n",
        "  a.append(p)\n",
        "a.sort()\n",
        "for j in range(N) :\n",
        "  print(a[j])"
      ],
      "metadata": {
        "id": "ZS8wW-Xrd_-S"
      },
      "execution_count": null,
      "outputs": []
    },
    {
      "cell_type": "code",
      "source": [
        "n = int(input())\n",
        "print(\"어느 한 컴퓨터공학과 학생이 유명한 교수님을 찾아가 물었다.\")\n",
        "a = 0\n",
        "\n",
        "def func(n) :\n",
        "  global a\n",
        "  if n > 1 :\n",
        "    for i in range(a) :\n",
        "      print('____', end = '')\n",
        "    print('\"재귀함수가 뭔가요?\"')\n",
        "    for i in range(a) :\n",
        "      print('____', end = '')\n",
        "    print('\\\"잘 들어보게. 옛날옛날 한 산 꼭대기에 이세상 모든 지식을 통달한 선인이 있었어.')\n",
        "    for i in range(a) :\n",
        "      print('____', end = '')\n",
        "    print('마을 사람들은 모두 그 선인에게 수많은 질문을 했고, 모두 지혜롭게 대답해 주었지.')\n",
        "    for i in range(a) :\n",
        "      print('____', end = '')\n",
        "    print('그의 답은 대부분 옳았다고 하네. 그런데 어느 날, 그 선인에게 한 선비가 찾아와서 물었어.\\\"')\n",
        "    a += 1\n",
        "    func(n - 1)\n",
        "\n",
        "  if n == 1 :\n",
        "    for i in range(a) :\n",
        "      print('____', end = '')\n",
        "    print('\"재귀함수가 뭔가요?\"')\n",
        "    for i in range(a) :\n",
        "      print('____', end = '')\n",
        "    print('\"재귀함수는 자기 자신을 호출하는 함수라네\"')\n",
        "\n",
        "def func_2(n) :\n",
        "  if n >= 0 :\n",
        "    for i in range(n) :\n",
        "      print('____', end = '')\n",
        "    print('라고 답변하였지.')\n",
        "    func_2(n - 1)\n",
        "  \n",
        "func(n + 1)\n",
        "func_2(n)"
      ],
      "metadata": {
        "colab": {
          "base_uri": "https://localhost:8080/"
        },
        "id": "Fb8bSgdYfYhk",
        "outputId": "9ef5748e-3620-4a17-d576-e3a85eab27fa"
      },
      "execution_count": 23,
      "outputs": [
        {
          "output_type": "stream",
          "name": "stdout",
          "text": [
            "2\n",
            "어느 한 컴퓨터공학과 학생이 유명한 교수님을 찾아가 물었다.\n",
            "\"재귀함수가 뭔가요?\"\n",
            "\"잘 들어보게. 옛날옛날 한 산 꼭대기에 이세상 모든 지식을 통달한 선인이 있었어.\n",
            "마을 사람들은 모두 그 선인에게 수많은 질문을 했고, 모두 지혜롭게 대답해 주었지.\n",
            "의 답은 대부분 옳았다고 하네. 그런데 어느 날, 그 선인에게 한 선비가 찾아와서 물었어.\"\n",
            "____\"재귀함수가 뭔가요?\"\n",
            "____\"잘 들어보게. 옛날옛날 한 산 꼭대기에 이세상 모든 지식을 통달한 선인이 있었어.\n",
            "____마을 사람들은 모두 그 선인에게 수많은 질문을 했고, 모두 지혜롭게 대답해 주었지.\n",
            "____의 답은 대부분 옳았다고 하네. 그런데 어느 날, 그 선인에게 한 선비가 찾아와서 물었어.\"\n",
            "________\"재귀함수가 뭔가요?\"\n",
            "________\"재귀함수는 자기 자신을 호출하는 함수라네\"\n",
            "________라고 답변하였지.\n",
            "____라고 답변하였지.\n",
            "라고 답변하였지.\n"
          ]
        }
      ]
    },
    {
      "cell_type": "code",
      "source": [
        "x = int(input())\n",
        "y = int(input())\n",
        "\n",
        "if (x > 0) and (y > 0) :\n",
        "  print(1)\n",
        "elif (x < 0) and (y > 0) :\n",
        "  print(2)\n",
        "elif (x < 0) and (y < 0) :\n",
        "  print(3)\n",
        "else :\n",
        "  print(4)"
      ],
      "metadata": {
        "id": "9JTNGlvH_sgi"
      },
      "execution_count": null,
      "outputs": []
    },
    {
      "cell_type": "code",
      "source": [
        "print('\\\\    /\\\\')\n",
        "print(' )  ( \\')')\n",
        "print('(  /  )')\n",
        "print(' \\\\(__)|')"
      ],
      "metadata": {
        "id": "wqOqsHX8A0LF"
      },
      "execution_count": null,
      "outputs": []
    },
    {
      "cell_type": "code",
      "source": [
        "print('|\\\\_/|')\n",
        "print('|q p|   /}')\n",
        "print('( 0 )\\\"\\\"\\\"\\\\')\n",
        "print('|\\\"^\\\"`    |')\n",
        "print('||_/=\\\\\\\\__|')"
      ],
      "metadata": {
        "id": "wwAMrz4WBDOc"
      },
      "execution_count": null,
      "outputs": []
    },
    {
      "cell_type": "code",
      "source": [
        "a = input()\n",
        "print(a, end = '')\n",
        "print('??!')"
      ],
      "metadata": {
        "id": "dBW1u1DtBV4N"
      },
      "execution_count": null,
      "outputs": []
    },
    {
      "cell_type": "code",
      "source": [
        "a = int(input())\n",
        "print(a - 543)"
      ],
      "metadata": {
        "colab": {
          "base_uri": "https://localhost:8080/"
        },
        "id": "7aabb0rHBksY",
        "outputId": "5262f51c-eb4a-4ed0-c33a-fa3498fbe7db"
      },
      "execution_count": 1,
      "outputs": [
        {
          "output_type": "stream",
          "name": "stdout",
          "text": [
            "2541\n",
            "1998\n"
          ]
        }
      ]
    },
    {
      "cell_type": "code",
      "source": [
        "print('         ,r\\'\\\"7')\n",
        "print('r`-_   ,\\'  ,/')\n",
        "print(' \\\\. \\\". L_r\\'')\n",
        "print('   `~\\\\/')\n",
        "print('      |')\n",
        "print('      |')"
      ],
      "metadata": {
        "id": "__RXwRmvB-cv"
      },
      "execution_count": null,
      "outputs": []
    },
    {
      "cell_type": "code",
      "source": [
        "def fib_2(n) :\n",
        "  n_list = [0] * n\n",
        "  n_list[0], n_list[1] = 1, 1\n",
        "  for i in range(2, n) :\n",
        "    n_list[i] = n_list[i - 1] + n_list[i - 2]\n",
        "  return n_list[n - 1]\n",
        "\n",
        "n = int(input())\n",
        "print(fib_2(n), n - 2)"
      ],
      "metadata": {
        "id": "gPDEJ1-aEC08"
      },
      "execution_count": null,
      "outputs": []
    },
    {
      "cell_type": "code",
      "source": [
        "N, K = map(int, input().split())\n",
        "coin = []\n",
        "count = 0\n",
        "for i in range(N) :\n",
        "  coin.append(int(input()))\n",
        "for j in range(N) :\n",
        "  count += (K // coin[N - j - 1])\n",
        "  K = (K % coin[N - j - 1])\n",
        "  if K == 0 :\n",
        "    break\n",
        "print(count)"
      ],
      "metadata": {
        "colab": {
          "base_uri": "https://localhost:8080/"
        },
        "id": "OoRqzpWIHudO",
        "outputId": "13bd11ce-ab2b-4788-c605-555fb4f1c602"
      },
      "execution_count": 3,
      "outputs": [
        {
          "name": "stdout",
          "output_type": "stream",
          "text": [
            "10 4200\n",
            "1\n",
            "5\n",
            "10\n",
            "50\n",
            "100\n",
            "500\n",
            "1000\n",
            "5000\n",
            "10000\n",
            "50000\n"
          ]
        }
      ]
    },
    {
      "cell_type": "code",
      "source": [
        "N = int(input())\n",
        "p_list = list(map(int, input().split()))\n",
        "p_list.sort()\n",
        "result = 0\n",
        "for i in range(N) :\n",
        "  result += (N - i) * p_list[i]\n",
        "print(result)"
      ],
      "metadata": {
        "colab": {
          "base_uri": "https://localhost:8080/"
        },
        "id": "CL7no4f4JPj5",
        "outputId": "402c197b-956c-4f35-b0ad-0edd470e5aa1"
      },
      "execution_count": 4,
      "outputs": [
        {
          "output_type": "stream",
          "name": "stdout",
          "text": [
            "5\n",
            "3 1 4 3 2\n",
            "32\n"
          ]
        }
      ]
    },
    {
      "cell_type": "code",
      "source": [
        "equation = input().split('-')\n",
        "result = 0\n",
        "sub_eq = equation[0].split('+')\n",
        "for j in range(len(sub_eq)) :\n",
        "  result += int(sub_eq[j])\n",
        "for i in range(1, len(equation)) :\n",
        "  sub_eq = equation[i].split('+')\n",
        "  for j in range(len(sub_eq)) :\n",
        "    result -= int(sub_eq[j])\n",
        "print(result)"
      ],
      "metadata": {
        "colab": {
          "base_uri": "https://localhost:8080/"
        },
        "id": "y_WJ_d7vLSc6",
        "outputId": "6b2484ca-b0ae-49e1-d3ac-df6246cd581e"
      },
      "execution_count": 10,
      "outputs": [
        {
          "output_type": "stream",
          "name": "stdout",
          "text": [
            "55-50+40\n",
            "-35\n"
          ]
        }
      ]
    },
    {
      "cell_type": "code",
      "source": [
        "N = int(input())\n",
        "road = list(map(int, input().split()))\n",
        "city = list(map(int, input().split()))\n",
        "pay = 0\n",
        "for i in range(1, N) :\n",
        "  if city[i] > city[i - 1] :\n",
        "    city[i] = city[i - 1]\n",
        "for j in range(N - 1) :\n",
        "  pay += road[j] * city[j]\n",
        "print(pay)"
      ],
      "metadata": {
        "colab": {
          "base_uri": "https://localhost:8080/"
        },
        "id": "7wAPxtbhPH6f",
        "outputId": "501ac632-8f9c-4a9d-e60e-798ac1b6dc0a"
      },
      "execution_count": 13,
      "outputs": [
        {
          "output_type": "stream",
          "name": "stdout",
          "text": [
            "4\n",
            "2 3 1\n",
            "5 2 4 1\n",
            "18\n"
          ]
        }
      ]
    }
  ]
}